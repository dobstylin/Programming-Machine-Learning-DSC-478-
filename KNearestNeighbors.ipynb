{
 "cells": [
  {
   "cell_type": "markdown",
   "metadata": {},
   "source": [
    "<b><center>K Nearest Neighbors Classification"
   ]
  },
  {
   "cell_type": "markdown",
   "metadata": {},
   "source": [
    "This notebook performs classification based on the K Nearest Neighbors Algorithm."
   ]
  },
  {
   "cell_type": "code",
   "execution_count": 1,
   "metadata": {},
   "outputs": [
    {
     "name": "stderr",
     "output_type": "stream",
     "text": [
      "C:\\Users\\steff\\Anaconda3\\lib\\site-packages\\statsmodels\\tools\\_testing.py:19: FutureWarning: pandas.util.testing is deprecated. Use the functions in the public API at pandas.testing instead.\n",
      "  import pandas.util.testing as tm\n"
     ]
    }
   ],
   "source": [
    "### Imports\n",
    "import numpy as np\n",
    "import pandas as pd\n",
    "import seaborn as sb\n",
    "import matplotlib.pyplot as plt\n",
    "\n",
    "from sklearn import neighbors\n",
    "from sklearn.model_selection import GridSearchCV\n",
    "from sklearn.metrics import plot_confusion_matrix, classification_report\n",
    "\n",
    "#ignore warnings\n",
    "import warnings\n",
    "warnings.filterwarnings('ignore')"
   ]
  },
  {
   "cell_type": "markdown",
   "metadata": {},
   "source": [
    "<b><center>Understanding the Data"
   ]
  },
  {
   "cell_type": "code",
   "execution_count": 2,
   "metadata": {},
   "outputs": [],
   "source": [
    "### Load the Data\n",
    "trainX = pd.read_csv('train_data_z.csv', header = 0)\n",
    "testX = pd.read_csv('test_data_z.csv', header = 0)\n",
    "trainY = pd.read_csv('train_target.csv', header = 0)\n",
    "testY = pd.read_csv('test_target.csv', header = 0)"
   ]
  },
  {
   "cell_type": "code",
   "execution_count": 3,
   "metadata": {},
   "outputs": [],
   "source": [
    "#Remove the Row Number Column from Y datasets\n",
    "trainX = trainX.drop('Unnamed: 0', axis = 1)\n",
    "testX = testX.drop('Unnamed: 0', axis = 1)\n",
    "trainY = trainY.drop('Unnamed: 0', axis = 1)\n",
    "testY = testY.drop('Unnamed: 0', axis = 1)"
   ]
  },
  {
   "cell_type": "code",
   "execution_count": 4,
   "metadata": {},
   "outputs": [
    {
     "name": "stdout",
     "output_type": "stream",
     "text": [
      "TrainX is:  (1600, 15)\n",
      "TrainY is:  (1600, 1)\n",
      "TestX is:  (400, 15)\n",
      "TestY is:  (400, 1)\n"
     ]
    }
   ],
   "source": [
    "#Look at the shapes of each dataset\n",
    "print('TrainX is: ', trainX.shape)\n",
    "print('TrainY is: ', trainY.shape)\n",
    "print('TestX is: ', testX.shape)\n",
    "print('TestY is: ', testY.shape)"
   ]
  },
  {
   "cell_type": "code",
   "execution_count": 5,
   "metadata": {},
   "outputs": [],
   "source": [
    "### Change the Data into Numpy Arrays\n",
    "trainX_np = np.array(trainX)\n",
    "trainY_np = np.array(trainY)\n",
    "testX_np = np.array(testX)\n",
    "testY_np = np.array(testY)"
   ]
  },
  {
   "cell_type": "markdown",
   "metadata": {},
   "source": [
    "<b><center>K Nearest Neighbors with Normalized Data"
   ]
  },
  {
   "cell_type": "code",
   "execution_count": 6,
   "metadata": {},
   "outputs": [
    {
     "data": {
      "text/plain": [
       "{'n_neighbors': 7, 'weights': 'uniform'}"
      ]
     },
     "execution_count": 6,
     "metadata": {},
     "output_type": "execute_result"
    }
   ],
   "source": [
    "### Running KNN with Grid Search Method\n",
    "\n",
    "# Set Options for KNN\n",
    "grid_params = {\"n_neighbors\": [3, 5, 7, 9], \"weights\": ['uniform', 'distance']}\n",
    "\n",
    "# Run Iterations for KNN\n",
    "gsKNN = GridSearchCV(neighbors.KNeighborsClassifier(), grid_params, cv = 10)\n",
    "gsKNN_results = gsKNN.fit(trainX_np, trainY_np)\n",
    "\n",
    "# Best Parameters\n",
    "gsKNN_results.best_params_"
   ]
  },
  {
   "cell_type": "markdown",
   "metadata": {},
   "source": [
    "The best parameters based on the grid search above are 7 neighbors and a uniform weight. "
   ]
  },
  {
   "cell_type": "code",
   "execution_count": 7,
   "metadata": {},
   "outputs": [
    {
     "data": {
      "text/plain": [
       "KNeighborsClassifier(n_neighbors=7)"
      ]
     },
     "execution_count": 7,
     "metadata": {},
     "output_type": "execute_result"
    }
   ],
   "source": [
    "### Evaluate Model with Best Parameters and Fit to Training Data\n",
    "knn = neighbors.KNeighborsClassifier(n_neighbors = 7, weights = 'uniform')\n",
    "knn.fit(trainX_np, trainY_np)"
   ]
  },
  {
   "cell_type": "code",
   "execution_count": 8,
   "metadata": {},
   "outputs": [
    {
     "name": "stdout",
     "output_type": "stream",
     "text": [
      "Accuracy Score for Training:  0.704375\n",
      "Accuracy Score for Testing  0.64\n"
     ]
    }
   ],
   "source": [
    "## Average Accuracy Scores For both Test and Training Data\n",
    "print('Accuracy Score for Training: ', knn.score(trainX_np, trainY_np))\n",
    "print('Accuracy Score for Testing ', knn.score(testX_np, testY_np))"
   ]
  },
  {
   "cell_type": "code",
   "execution_count": 9,
   "metadata": {},
   "outputs": [],
   "source": [
    "## Prediction on Testing Data\n",
    "knn_pred = knn.predict(testX_np)"
   ]
  },
  {
   "cell_type": "code",
   "execution_count": 10,
   "metadata": {},
   "outputs": [
    {
     "name": "stdout",
     "output_type": "stream",
     "text": [
      "              precision    recall  f1-score   support\n",
      "\n",
      "           0       0.86      0.79      0.82        94\n",
      "           1       0.55      0.47      0.51       106\n",
      "           2       0.47      0.56      0.51        93\n",
      "           3       0.71      0.75      0.73       107\n",
      "\n",
      "    accuracy                           0.64       400\n",
      "   macro avg       0.65      0.64      0.64       400\n",
      "weighted avg       0.65      0.64      0.64       400\n",
      "\n"
     ]
    }
   ],
   "source": [
    "## Classification Report\n",
    "print(classification_report(testY_np, knn_pred))"
   ]
  },
  {
   "cell_type": "code",
   "execution_count": 11,
   "metadata": {},
   "outputs": [
    {
     "data": {
      "image/png": "[encoded data removed]",
      "text/plain": [
       "<Figure size 432x288 with 2 Axes>"
      ]
     },
     "metadata": {
      "needs_background": "light"
     },
     "output_type": "display_data"
    }
   ],
   "source": [
    "## Confusion Matrix with MatPlotLib\n",
    "np.set_printoptions(precision=2)\n",
    "\n",
    "## Non-normalized Confusion Matrix\n",
    "plot_confusion_matrix(knn, testX_np, testY_np, cmap = plt.cm.Blues)\n",
    "plt.title(\"Confusion Matrix for KNN - Normalized Data\")\n",
    "plt.show()"
   ]
  },
  {
   "cell_type": "code",
   "execution_count": 12,
   "metadata": {},
   "outputs": [
    {
     "data": {
      "image/png": "[encoded data removed]",
      "text/plain": [
       "<Figure size 432x288 with 2 Axes>"
      ]
     },
     "metadata": {
      "needs_background": "light"
     },
     "output_type": "display_data"
    }
   ],
   "source": [
    "## Confusion Matrix with MatPlotLib\n",
    "np.set_printoptions(precision=2)\n",
    "\n",
    "## Non-normalized Confusion Matrix\n",
    "plot_confusion_matrix(knn, testX_np, testY_np, cmap = plt.cm.Blues, normalize = 'true')\n",
    "plt.title(\"Confusion Matrix for KNN - Normalized Data\")\n",
    "plt.show()"
   ]
  },
  {
   "cell_type": "markdown",
   "metadata": {},
   "source": [
    "KNN with normalized data performed okay. The accuracy for the training set is at 0.70 and even lower for the testing set at 0.64. The confusion matrix shows the misclassifications for each label. Looking at the confusion matrix and the classification table, group 3 was predicted the best. "
   ]
  },
  {
   "cell_type": "markdown",
   "metadata": {},
   "source": [
    "<b><center>K Nearest Neighbors with One Principal Component"
   ]
  },
  {
   "cell_type": "markdown",
   "metadata": {},
   "source": [
    "Before performing KNN, we need to prepare the data with one principal component. "
   ]
  },
  {
   "cell_type": "code",
   "execution_count": 13,
   "metadata": {},
   "outputs": [],
   "source": [
    "### Load the Data\n",
    "trainX_pca1 = pd.read_csv('train_pca1.csv', header = None)\n",
    "testX_pca1 = pd.read_csv('test_pca1.csv', header = None)"
   ]
  },
  {
   "cell_type": "code",
   "execution_count": 14,
   "metadata": {},
   "outputs": [],
   "source": [
    "#Rename the columns for the X datasets\n",
    "trainX_pca1.columns = ['PC1']\n",
    "testX_pca1.columns = ['PC1']"
   ]
  },
  {
   "cell_type": "code",
   "execution_count": 15,
   "metadata": {},
   "outputs": [
    {
     "name": "stdout",
     "output_type": "stream",
     "text": [
      "TrainX PCA is:  (1600, 1)\n",
      "TestX PCA is:  (400, 1)\n"
     ]
    }
   ],
   "source": [
    "#Look at the shapes of each dataset\n",
    "print('TrainX PCA is: ', trainX_pca1.shape)\n",
    "print('TestX PCA is: ', testX_pca1.shape)"
   ]
  },
  {
   "cell_type": "code",
   "execution_count": 16,
   "metadata": {},
   "outputs": [],
   "source": [
    "### Change the Data into Numpy Arrays\n",
    "trainX_pca1_np = np.array(trainX_pca1)\n",
    "testX_pca1_np = np.array(testX_pca1)"
   ]
  },
  {
   "cell_type": "markdown",
   "metadata": {},
   "source": [
    "We will run the K Nearest Neighbors Classification on the transformed PCA data with one principal component. KNN will be run using varous numbers of neighbors and weight types to determine which gives the best predictions. This was done using the gridsearch method. "
   ]
  },
  {
   "cell_type": "code",
   "execution_count": 17,
   "metadata": {},
   "outputs": [
    {
     "data": {
      "text/plain": [
       "{'n_neighbors': 9, 'weights': 'uniform'}"
      ]
     },
     "execution_count": 17,
     "metadata": {},
     "output_type": "execute_result"
    }
   ],
   "source": [
    "### Running KNN with Grid Search Method\n",
    "\n",
    "# Set Options for KNN\n",
    "grid_params = {\"n_neighbors\": [3, 5, 7, 9], \"weights\": ['uniform', 'distance']}\n",
    "\n",
    "# Run Iterations for KNN\n",
    "gsKNN = GridSearchCV(neighbors.KNeighborsClassifier(), grid_params, cv = 10)\n",
    "gsKNN_results = gsKNN.fit(trainX_pca1_np, trainY_np)\n",
    "\n",
    "# Best Parameters\n",
    "gsKNN_results.best_params_"
   ]
  },
  {
   "cell_type": "markdown",
   "metadata": {},
   "source": [
    "Based on the grid search above, the best parameters for KNN are 9 nearest neigbors and a uniform weight. "
   ]
  },
  {
   "cell_type": "code",
   "execution_count": 18,
   "metadata": {},
   "outputs": [
    {
     "data": {
      "text/plain": [
       "KNeighborsClassifier(n_neighbors=9)"
      ]
     },
     "execution_count": 18,
     "metadata": {},
     "output_type": "execute_result"
    }
   ],
   "source": [
    "### Evaluate Model with Best Parameters and Fit to Training Data\n",
    "knn = neighbors.KNeighborsClassifier(n_neighbors = 9, weights = 'uniform')\n",
    "knn.fit(trainX_pca1_np, trainY_np)"
   ]
  },
  {
   "cell_type": "code",
   "execution_count": 19,
   "metadata": {},
   "outputs": [
    {
     "name": "stdout",
     "output_type": "stream",
     "text": [
      "Accuracy Score for Training:  0.571875\n",
      "Accuracy Score for Testing  0.46\n"
     ]
    }
   ],
   "source": [
    "## Average Accuracy Scores For both Test and Training Data\n",
    "print('Accuracy Score for Training: ', knn.score(trainX_pca1_np, trainY_np))\n",
    "print('Accuracy Score for Testing ', knn.score(testX_pca1_np, testY_np))"
   ]
  },
  {
   "cell_type": "code",
   "execution_count": 20,
   "metadata": {},
   "outputs": [],
   "source": [
    "## Prediction on Testing Data\n",
    "knn_pred = knn.predict(testX_pca1_np)"
   ]
  },
  {
   "cell_type": "code",
   "execution_count": 21,
   "metadata": {},
   "outputs": [
    {
     "name": "stdout",
     "output_type": "stream",
     "text": [
      "              precision    recall  f1-score   support\n",
      "\n",
      "           0       0.61      0.73      0.67        94\n",
      "           1       0.38      0.36      0.37       106\n",
      "           2       0.39      0.38      0.38        93\n",
      "           3       0.43      0.39      0.41       107\n",
      "\n",
      "    accuracy                           0.46       400\n",
      "   macro avg       0.45      0.47      0.46       400\n",
      "weighted avg       0.45      0.46      0.45       400\n",
      "\n"
     ]
    }
   ],
   "source": [
    "## Classification Report\n",
    "print(classification_report(testY_np, knn_pred))"
   ]
  },
  {
   "cell_type": "code",
   "execution_count": 22,
   "metadata": {},
   "outputs": [
    {
     "data": {
      "image/png": "[encoded data removed]",
      "text/plain": [
       "<Figure size 432x288 with 2 Axes>"
      ]
     },
     "metadata": {
      "needs_background": "light"
     },
     "output_type": "display_data"
    }
   ],
   "source": [
    "## Confusion Matrix with MatPlotLib\n",
    "np.set_printoptions(precision=2)\n",
    "\n",
    "## Non-normalized Confusion Matrix\n",
    "plot_confusion_matrix(knn, testX_pca1_np, testY_np, cmap = plt.cm.Blues)\n",
    "plt.title(\"Confusion Matrix for KNN - One Principal Component\")\n",
    "plt.show()"
   ]
  },
  {
   "cell_type": "code",
   "execution_count": 23,
   "metadata": {},
   "outputs": [
    {
     "data": {
      "image/png": "[encoded data removed]",
      "text/plain": [
       "<Figure size 432x288 with 2 Axes>"
      ]
     },
     "metadata": {
      "needs_background": "light"
     },
     "output_type": "display_data"
    }
   ],
   "source": [
    "## Confusion Matrix with MatPlotLib - Normalize\n",
    "np.set_printoptions(precision=2)\n",
    "\n",
    "## Non-normalized Confusion Matrix\n",
    "plot_confusion_matrix(knn, testX_pca1_np, testY_np, cmap = plt.cm.Blues, normalize = 'true')\n",
    "plt.title(\"Confusion Matrix for KNN - One Principal Component\")\n",
    "plt.show()"
   ]
  },
  {
   "cell_type": "markdown",
   "metadata": {},
   "source": [
    "KNN with one principal component performs worse than just the normalized data. The accuracy for the training set is pretty low at 0.57 and even lower for the testing set at 0.46. The confusion matrix above also shows a lot of misclassifications among all groups with group 0 still performing the best. "
   ]
  },
  {
   "cell_type": "markdown",
   "metadata": {},
   "source": [
    "<b><center>K Nearest Neighbors with Two Principal Components"
   ]
  },
  {
   "cell_type": "markdown",
   "metadata": {},
   "source": [
    "Before performing KNN, we need to prepare the data wth two principal components. "
   ]
  },
  {
   "cell_type": "code",
   "execution_count": 24,
   "metadata": {},
   "outputs": [],
   "source": [
    "### Load the Data\n",
    "trainX_pca2 = pd.read_csv('train_pca2.csv', delimiter = ' ', header = None)\n",
    "testX_pca2 = pd.read_csv('test_pca2.csv', delimiter = ' ', header = None)"
   ]
  },
  {
   "cell_type": "code",
   "execution_count": 25,
   "metadata": {},
   "outputs": [],
   "source": [
    "#Rename the columns for the X datasets\n",
    "trainX_pca2.columns = ['PC1', 'PC2']\n",
    "testX_pca2.columns = ['PC1', 'PC2']"
   ]
  },
  {
   "cell_type": "code",
   "execution_count": 26,
   "metadata": {},
   "outputs": [
    {
     "name": "stdout",
     "output_type": "stream",
     "text": [
      "TrainX PCA is:  (1600, 2)\n",
      "TestX PCA is:  (400, 2)\n"
     ]
    }
   ],
   "source": [
    "#Look at the shapes of each dataset\n",
    "print('TrainX PCA is: ', trainX_pca2.shape)\n",
    "print('TestX PCA is: ', testX_pca2.shape)"
   ]
  },
  {
   "cell_type": "code",
   "execution_count": 27,
   "metadata": {},
   "outputs": [],
   "source": [
    "### Change the Data into Numpy Arrays\n",
    "trainX_pca2_np = np.array(trainX_pca2)\n",
    "testX_pca2_np = np.array(testX_pca2)"
   ]
  },
  {
   "cell_type": "markdown",
   "metadata": {},
   "source": [
    "We will run the K Nearest Neighbors Classification on the transformed PCA data with two principal components. Again, KNN will be run using varous numbers of neighbors and weight types to determine which gives the best predictions. This was done using the gridsearch method. "
   ]
  },
  {
   "cell_type": "code",
   "execution_count": 28,
   "metadata": {},
   "outputs": [
    {
     "data": {
      "text/plain": [
       "{'n_neighbors': 5, 'weights': 'uniform'}"
      ]
     },
     "execution_count": 28,
     "metadata": {},
     "output_type": "execute_result"
    }
   ],
   "source": [
    "### Running KNN with Grid Search Method\n",
    "\n",
    "# Set Options for KNN\n",
    "grid_params = {\"n_neighbors\": [3, 5, 7, 9], \"weights\": ['uniform', 'distance']}\n",
    "\n",
    "# Run Iterations for KNN\n",
    "gsKNN = GridSearchCV(neighbors.KNeighborsClassifier(), grid_params, cv = 10)\n",
    "gsKNN_results = gsKNN.fit(trainX_pca2_np, trainY_np)\n",
    "\n",
    "# Best Parameters\n",
    "gsKNN_results.best_params_"
   ]
  },
  {
   "cell_type": "code",
   "execution_count": 29,
   "metadata": {},
   "outputs": [
    {
     "data": {
      "text/plain": [
       "KNeighborsClassifier()"
      ]
     },
     "execution_count": 29,
     "metadata": {},
     "output_type": "execute_result"
    }
   ],
   "source": [
    "### Evaluate Model with Best Parameters and Fit to Training Data\n",
    "knn = neighbors.KNeighborsClassifier(n_neighbors = 5, weights = 'uniform')\n",
    "knn.fit(trainX_pca2_np, trainY_np)"
   ]
  },
  {
   "cell_type": "code",
   "execution_count": 30,
   "metadata": {},
   "outputs": [
    {
     "name": "stdout",
     "output_type": "stream",
     "text": [
      "Accuracy Score for Training:  0.685\n",
      "Accuracy Score for Testing  0.565\n"
     ]
    }
   ],
   "source": [
    "## Average Accuracy Scores For both Test and Training Data\n",
    "print('Accuracy Score for Training: ', knn.score(trainX_pca2_np, trainY_np))\n",
    "print('Accuracy Score for Testing ', knn.score(testX_pca2_np, testY_np))"
   ]
  },
  {
   "cell_type": "code",
   "execution_count": 31,
   "metadata": {},
   "outputs": [],
   "source": [
    "## Prediction on Testing Data\n",
    "knn_pred = knn.predict(testX_pca2_np)"
   ]
  },
  {
   "cell_type": "code",
   "execution_count": 32,
   "metadata": {},
   "outputs": [
    {
     "name": "stdout",
     "output_type": "stream",
     "text": [
      "              precision    recall  f1-score   support\n",
      "\n",
      "           0       0.70      0.78      0.73        94\n",
      "           1       0.47      0.37      0.41       106\n",
      "           2       0.48      0.43      0.45        93\n",
      "           3       0.58      0.69      0.63       107\n",
      "\n",
      "    accuracy                           0.56       400\n",
      "   macro avg       0.55      0.57      0.56       400\n",
      "weighted avg       0.55      0.56      0.56       400\n",
      "\n"
     ]
    }
   ],
   "source": [
    "## Classification Report\n",
    "print(classification_report(testY_np, knn_pred))"
   ]
  },
  {
   "cell_type": "code",
   "execution_count": 33,
   "metadata": {},
   "outputs": [
    {
     "data": {
      "image/png": "[encoded data removed]",
      "text/plain": [
       "<Figure size 432x288 with 2 Axes>"
      ]
     },
     "metadata": {
      "needs_background": "light"
     },
     "output_type": "display_data"
    }
   ],
   "source": [
    "## Confusion Matrix with MatPlotLib\n",
    "np.set_printoptions(precision=2)\n",
    "\n",
    "## Non-normalized Confusion Matrix\n",
    "plot_confusion_matrix(knn, testX_pca2_np, testY_np, cmap = plt.cm.Blues)\n",
    "plt.title(\"Confusion Matrix for KNN - Two Principal Components\")\n",
    "plt.show()"
   ]
  },
  {
   "cell_type": "code",
   "execution_count": 34,
   "metadata": {},
   "outputs": [
    {
     "data": {
      "image/png": "[encoded data removed]",
      "text/plain": [
       "<Figure size 432x288 with 2 Axes>"
      ]
     },
     "metadata": {
      "needs_background": "light"
     },
     "output_type": "display_data"
    }
   ],
   "source": [
    "## Confusion Matrix with MatPlotLib - Normalized\n",
    "np.set_printoptions(precision=2)\n",
    "\n",
    "## Non-normalized Confusion Matrix\n",
    "plot_confusion_matrix(knn, testX_pca2_np, testY_np, cmap = plt.cm.Blues, normalize = 'true')\n",
    "plt.title(\"Confusion Matrix for KNN - Two Principal Components\")\n",
    "plt.show()"
   ]
  },
  {
   "cell_type": "markdown",
   "metadata": {},
   "source": [
    "KNN with two principal components performs slightly better than the KNN with one principal component but not as well as the normalized data. The accuracy for the training set is at 0.68 and for the testing set it is 0.56. The confusion matrix above also shows a lot of misclassifications among all groups with group 0 still performing the best. \n",
    "\n",
    "In all, the KNN with all features and normalized values performed the best with a training accuracy of 0.7 and a testing accuracy of 0.64. This was the best KNN model with this data. "
   ]
  }
 ],
 "metadata": {
  "kernelspec": {
   "display_name": "Python 3",
   "language": "python",
   "name": "python3"
  },
  "language_info": {
   "codemirror_mode": {
    "name": "ipython",
    "version": 3
   },
   "file_extension": ".py",
   "mimetype": "text/x-python",
   "name": "python",
   "nbconvert_exporter": "python",
   "pygments_lexer": "ipython3",
   "version": "3.8.3"
  }
 },
 "nbformat": 4,
 "nbformat_minor": 2
}
