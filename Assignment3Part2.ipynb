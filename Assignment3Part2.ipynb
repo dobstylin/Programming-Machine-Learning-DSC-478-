{
 "cells": [
  {
   "cell_type": "markdown",
   "metadata": {},
   "source": [
    "# DSC 478\n",
    "## Daniel O'Brien"
   ]
  },
  {
   "cell_type": "markdown",
   "metadata": {},
   "source": [
    "## Homework 3 Part 2\n",
    "#### Part a"
   ]
  },
  {
   "cell_type": "code",
   "execution_count": 2,
   "metadata": {},
   "outputs": [],
   "source": [
    "import numpy as np\n",
    "import pandas as pd"
   ]
  },
  {
   "cell_type": "code",
   "execution_count": 5,
   "metadata": {},
   "outputs": [],
   "source": [
    "# TermDocument is how it is arranged\n",
    "TD = np.loadtxt('matrix.txt', delimiter=',')\n",
    "#matrix"
   ]
  },
  {
   "cell_type": "code",
   "execution_count": 6,
   "metadata": {},
   "outputs": [
    {
     "data": {
      "text/plain": [
       "(9328, 2500)"
      ]
     },
     "execution_count": 6,
     "metadata": {},
     "output_type": "execute_result"
    }
   ],
   "source": [
    "TD.shape"
   ]
  },
  {
   "cell_type": "code",
   "execution_count": 7,
   "metadata": {},
   "outputs": [],
   "source": [
    "# We transpose it to get document by term and now we will work with DT\n",
    "DT = TD.T"
   ]
  },
  {
   "cell_type": "code",
   "execution_count": 8,
   "metadata": {
    "scrolled": true
   },
   "outputs": [],
   "source": [
    "classes = pd.read_table('/Users/danielobrien/cluster/classes.txt', index_col=0, sep = ' ', skiprows=1, header=None)\n",
    "#classes"
   ]
  },
  {
   "cell_type": "code",
   "execution_count": 80,
   "metadata": {},
   "outputs": [
    {
     "data": {
      "text/html": [
       "<div>\n",
       "<style scoped>\n",
       "    .dataframe tbody tr th:only-of-type {\n",
       "        vertical-align: middle;\n",
       "    }\n",
       "\n",
       "    .dataframe tbody tr th {\n",
       "        vertical-align: top;\n",
       "    }\n",
       "\n",
       "    .dataframe thead th {\n",
       "        text-align: right;\n",
       "    }\n",
       "</style>\n",
       "<table border=\"1\" class=\"dataframe\">\n",
       "  <thead>\n",
       "    <tr style=\"text-align: right;\">\n",
       "      <th></th>\n",
       "      <th>0</th>\n",
       "    </tr>\n",
       "  </thead>\n",
       "  <tbody>\n",
       "    <tr>\n",
       "      <th>0</th>\n",
       "      <td>aa</td>\n",
       "    </tr>\n",
       "    <tr>\n",
       "      <th>1</th>\n",
       "      <td>aargh</td>\n",
       "    </tr>\n",
       "    <tr>\n",
       "      <th>2</th>\n",
       "      <td>aaron</td>\n",
       "    </tr>\n",
       "    <tr>\n",
       "      <th>3</th>\n",
       "      <td>aaronc</td>\n",
       "    </tr>\n",
       "    <tr>\n",
       "      <th>4</th>\n",
       "      <td>ab</td>\n",
       "    </tr>\n",
       "    <tr>\n",
       "      <th>...</th>\n",
       "      <td>...</td>\n",
       "    </tr>\n",
       "    <tr>\n",
       "      <th>9323</th>\n",
       "      <td>zubov</td>\n",
       "    </tr>\n",
       "    <tr>\n",
       "      <th>9324</th>\n",
       "      <td>zv</td>\n",
       "    </tr>\n",
       "    <tr>\n",
       "      <th>9325</th>\n",
       "      <td>zw</td>\n",
       "    </tr>\n",
       "    <tr>\n",
       "      <th>9326</th>\n",
       "      <td>zx</td>\n",
       "    </tr>\n",
       "    <tr>\n",
       "      <th>9327</th>\n",
       "      <td>zz</td>\n",
       "    </tr>\n",
       "  </tbody>\n",
       "</table>\n",
       "<p>9328 rows × 1 columns</p>\n",
       "</div>"
      ],
      "text/plain": [
       "           0\n",
       "0         aa\n",
       "1      aargh\n",
       "2      aaron\n",
       "3     aaronc\n",
       "4         ab\n",
       "...      ...\n",
       "9323   zubov\n",
       "9324      zv\n",
       "9325      zw\n",
       "9326      zx\n",
       "9327      zz\n",
       "\n",
       "[9328 rows x 1 columns]"
      ]
     },
     "execution_count": 80,
     "metadata": {},
     "output_type": "execute_result"
    }
   ],
   "source": [
    "terms = pd.read_table('/Users/danielobrien/cluster/terms.txt', header =None)\n",
    "terms"
   ]
  },
  {
   "cell_type": "code",
   "execution_count": 10,
   "metadata": {},
   "outputs": [
    {
     "name": "stdout",
     "output_type": "stream",
     "text": [
      "(9328, 1)\n"
     ]
    }
   ],
   "source": [
    "print(terms.shape)"
   ]
  },
  {
   "cell_type": "code",
   "execution_count": 11,
   "metadata": {},
   "outputs": [
    {
     "name": "stdout",
     "output_type": "stream",
     "text": [
      "(2500, 1)\n"
     ]
    }
   ],
   "source": [
    "print(classes.shape)"
   ]
  },
  {
   "cell_type": "code",
   "execution_count": 12,
   "metadata": {},
   "outputs": [
    {
     "data": {
      "text/plain": [
       "(2500, 1)"
      ]
     },
     "execution_count": 12,
     "metadata": {},
     "output_type": "execute_result"
    }
   ],
   "source": [
    "classes.shape"
   ]
  },
  {
   "cell_type": "code",
   "execution_count": 13,
   "metadata": {},
   "outputs": [
    {
     "name": "stdout",
     "output_type": "stream",
     "text": [
      "(2500, 9328)\n",
      "9328\n"
     ]
    }
   ],
   "source": [
    "###number of terms - train data set\n",
    "print(DT.shape)\n",
    "numTerms = DT.shape[1]\n",
    "print (numTerms)"
   ]
  },
  {
   "cell_type": "code",
   "execution_count": 14,
   "metadata": {},
   "outputs": [
    {
     "name": "stdout",
     "output_type": "stream",
     "text": [
      "2500\n"
     ]
    }
   ],
   "source": [
    "###number of documents - train data set\n",
    "NDocs = DT.shape[0]\n",
    "print (NDocs)"
   ]
  },
  {
   "cell_type": "code",
   "execution_count": 15,
   "metadata": {},
   "outputs": [],
   "source": [
    "# I had missed this earlier - I could not spot an error but you want to do array manipulation \n",
    "# in numpy and not with frames. Frames are good for printing, cleaning etc.\n",
    "#DT = pd.DataFrame(matrixT, columns=terms)\n",
    "#matrixDT"
   ]
  },
  {
   "cell_type": "code",
   "execution_count": 16,
   "metadata": {},
   "outputs": [
    {
     "name": "stdout",
     "output_type": "stream",
     "text": [
      "[[10  6 22 ...  3  3  4]]\n",
      "(1, 9328)\n",
      "[False]\n"
     ]
    }
   ],
   "source": [
    "#DT.shape\n",
    "###document freqs for each term\n",
    "DF = np.array([(DT!=0).sum(0)])\n",
    "print (DF[:10])\n",
    "print (DF.shape)\n",
    "#check for null DFs - There are no nulls it seems like\n",
    "print (np.unique([DF==0]))"
   ]
  },
  {
   "cell_type": "code",
   "execution_count": null,
   "metadata": {},
   "outputs": [],
   "source": []
  },
  {
   "cell_type": "markdown",
   "metadata": {},
   "source": [
    "#### Part b"
   ]
  },
  {
   "cell_type": "code",
   "execution_count": 18,
   "metadata": {},
   "outputs": [],
   "source": [
    "from sklearn.model_selection import train_test_split\n",
    "#matrix2, x_test, y_train, y_test = train_test_split(matrix1, classes, test_size=0.2, random_state=35)\n",
    "\n",
    "#from sklearn.model_selection import train_test_split\n",
    "DT_train, DT_test, y_train, y_test = train_test_split(DT, classes, test_size=0.2, random_state=35)\n",
    "\n",
    "\n",
    "#DT = matrix2\n",
    "#print (DT_train[:10])"
   ]
  },
  {
   "cell_type": "code",
   "execution_count": 19,
   "metadata": {},
   "outputs": [],
   "source": [
    "numTerms=DT_train.shape[1]"
   ]
  },
  {
   "cell_type": "code",
   "execution_count": 20,
   "metadata": {},
   "outputs": [],
   "source": [
    "NDocs = DT_train.shape[0]"
   ]
  },
  {
   "cell_type": "code",
   "execution_count": 21,
   "metadata": {},
   "outputs": [
    {
     "data": {
      "text/plain": [
       "9328"
      ]
     },
     "execution_count": 21,
     "metadata": {},
     "output_type": "execute_result"
    }
   ],
   "source": [
    "numTerms"
   ]
  },
  {
   "cell_type": "code",
   "execution_count": 22,
   "metadata": {},
   "outputs": [
    {
     "data": {
      "text/plain": [
       "2000"
      ]
     },
     "execution_count": 22,
     "metadata": {},
     "output_type": "execute_result"
    }
   ],
   "source": [
    "NDocs"
   ]
  },
  {
   "cell_type": "code",
   "execution_count": 23,
   "metadata": {},
   "outputs": [],
   "source": [
    "#termFreqs = DT.sum(axis=0)\n",
    "#termFreqs.shape"
   ]
  },
  {
   "cell_type": "code",
   "execution_count": 24,
   "metadata": {},
   "outputs": [],
   "source": [
    "###document freqs for each term\n",
    "#DF = np.array([(DT_train!=0).sum(0)])\n"
   ]
  },
  {
   "cell_type": "code",
   "execution_count": 25,
   "metadata": {},
   "outputs": [],
   "source": [
    "#DF\n",
    "#NDocs"
   ]
  },
  {
   "cell_type": "code",
   "execution_count": 26,
   "metadata": {},
   "outputs": [
    {
     "name": "stdout",
     "output_type": "stream",
     "text": [
      "(2000, 9328)\n",
      "[[2000. 2000. 2000. 2000.]\n",
      " [2000. 2000. 2000. 2000.]\n",
      " [2000. 2000. 2000. 2000.]\n",
      " [2000. 2000. 2000. 2000.]]\n"
     ]
    }
   ],
   "source": [
    "# Create a matrix with all entries = NDocs\n",
    "###matrix with all entries = NDocs\n",
    "NMatrix = np.ones(np.shape(DT_train),dtype=float)*NDocs\n",
    "print (NMatrix.shape)\n",
    "print (NMatrix[1:5,1:5])\n",
    "#NMatrix=np.ones(np.shape(DT_train), dtype=float)*NDocs\n",
    "#np.set_printoptions(precision=2,suppress=True,linewidth=120)\n",
    "#print(NMatrix)"
   ]
  },
  {
   "cell_type": "code",
   "execution_count": 27,
   "metadata": {},
   "outputs": [],
   "source": [
    "# Convert each entry into IDF values\n",
    "# IDF is the log of the inverse of document frequency\n",
    "# Note that IDF is only a function of the term, so all columns will be identical.\n",
    "\n",
    "IDF = np.log2(np.divide(NMatrix,DF))\n",
    "#IDF = np.log2(np.divide(NMatrix, np.array(DF)))\n",
    "#IDF = np.log2(np.divide(NMatrix, np.array(DF)))\n"
   ]
  },
  {
   "cell_type": "code",
   "execution_count": 28,
   "metadata": {},
   "outputs": [
    {
     "name": "stdout",
     "output_type": "stream",
     "text": [
      "[[7.64 8.38 6.51 ... 9.38 9.38 8.97]\n",
      " [7.64 8.38 6.51 ... 9.38 9.38 8.97]\n",
      " [7.64 8.38 6.51 ... 9.38 9.38 8.97]\n",
      " ...\n",
      " [7.64 8.38 6.51 ... 9.38 9.38 8.97]\n",
      " [7.64 8.38 6.51 ... 9.38 9.38 8.97]\n",
      " [7.64 8.38 6.51 ... 9.38 9.38 8.97]]\n"
     ]
    }
   ],
   "source": [
    "np.set_printoptions(precision=2,suppress=True)\n",
    "print(IDF)"
   ]
  },
  {
   "cell_type": "code",
   "execution_count": 29,
   "metadata": {},
   "outputs": [
    {
     "name": "stdout",
     "output_type": "stream",
     "text": [
      "(2000, 9328)\n",
      "(500, 9328)\n"
     ]
    }
   ],
   "source": [
    "# Finally compute the TFxIDF values for each document-term entry\n",
    "#TD_tfidf = DT * IDF\n",
    "DT_train_tfidf = DT_train*IDF\n",
    "DT_test_tfidf = DT_test*IDF[:len(DT_test),:]\n",
    "#DT_test_tfidf = np.multiply(IDF[:500,:],DT_test,tfidfTest) #apply IDF on test set\n",
    "print (DT_train_tfidf.shape)\n",
    "print (DT_test_tfidf.shape)\n"
   ]
  },
  {
   "cell_type": "code",
   "execution_count": 30,
   "metadata": {},
   "outputs": [],
   "source": [
    "#pd.set_option(\"display.precision\", 2)\n",
    "\n",
    "DT_train_tfidf\n",
    "DT_train_tfidf_np = np.array(DT_train_tfidf)"
   ]
  },
  {
   "cell_type": "code",
   "execution_count": 31,
   "metadata": {},
   "outputs": [],
   "source": [
    "#DT_test_tfidf"
   ]
  },
  {
   "cell_type": "code",
   "execution_count": null,
   "metadata": {},
   "outputs": [],
   "source": [
    "\n",
    "\n"
   ]
  },
  {
   "cell_type": "code",
   "execution_count": 32,
   "metadata": {},
   "outputs": [],
   "source": [
    "\n",
    "import kMeans\n",
    "import importlib"
   ]
  },
  {
   "cell_type": "code",
   "execution_count": 33,
   "metadata": {},
   "outputs": [
    {
     "data": {
      "text/plain": [
       "<module 'kMeans' from '/Users/danielobrien/cluster/kMeans.py'>"
      ]
     },
     "execution_count": 33,
     "metadata": {},
     "output_type": "execute_result"
    }
   ],
   "source": [
    "importlib.reload(kMeans)"
   ]
  },
  {
   "cell_type": "markdown",
   "metadata": {},
   "source": [
    "### Part c"
   ]
  },
  {
   "cell_type": "code",
   "execution_count": 34,
   "metadata": {},
   "outputs": [],
   "source": [
    "#kMeans.randCent(TD_tfidf, 5)\n",
    "centroids,clustersErr=kMeans.kMeans(DT_train_tfidf_np,distMeas=kMeans.distCosine,k=5)"
   ]
  },
  {
   "cell_type": "code",
   "execution_count": 35,
   "metadata": {},
   "outputs": [],
   "source": [
    "def cluster_sizes(data):\n",
    "    #clusters is an array of cluster labels for each instance in the data\n",
    "    \n",
    "    size = {}\n",
    "    cluster_labels = np.unique(clusters)\n",
    "    n_clusters = cluster_labels.shape[0]\n",
    "\n",
    "    for c in cluster_labels:\n",
    "        size[c] = len(data[clusters == c])\n",
    "    return size"
   ]
  },
  {
   "cell_type": "code",
   "execution_count": 36,
   "metadata": {},
   "outputs": [
    {
     "name": "stdout",
     "output_type": "stream",
     "text": [
      "{0.0: 2, 1.0: 769, 2.0: 392, 3.0: 828, 4.0: 9}\n"
     ]
    }
   ],
   "source": [
    "clusters=clustersErr[:,0]\n",
    "size = cluster_sizes(clusters)\n",
    "print(size)\n",
    "#myCentroids, clustAssing = kMeans.kMeans(TD_tfidf, 5, distan)"
   ]
  },
  {
   "cell_type": "code",
   "execution_count": 37,
   "metadata": {},
   "outputs": [
    {
     "name": "stdout",
     "output_type": "stream",
     "text": [
      "[[0.   0.   0.   ... 0.   0.   0.  ]\n",
      " [0.02 0.   0.03 ... 0.   0.   0.  ]\n",
      " [0.02 0.   1.13 ... 0.   0.   0.  ]\n",
      " [0.07 0.05 0.01 ... 0.11 0.07 0.14]\n",
      " [0.   0.   0.   ... 1.04 0.   0.  ]]\n"
     ]
    }
   ],
   "source": [
    "print (centroids)"
   ]
  },
  {
   "cell_type": "code",
   "execution_count": 49,
   "metadata": {},
   "outputs": [
    {
     "name": "stdout",
     "output_type": "stream",
     "text": [
      "[[3.   0.76]\n",
      " [2.   0.81]\n",
      " [3.   0.84]\n",
      " ...\n",
      " [3.   0.64]\n",
      " [3.   0.86]\n",
      " [3.   0.78]]\n"
     ]
    }
   ],
   "source": [
    "print(clustersErr)"
   ]
  },
  {
   "cell_type": "code",
   "execution_count": null,
   "metadata": {},
   "outputs": [],
   "source": []
  },
  {
   "cell_type": "code",
   "execution_count": 42,
   "metadata": {},
   "outputs": [
    {
     "data": {
      "text/html": [
       "<div>\n",
       "<style scoped>\n",
       "    .dataframe tbody tr th:only-of-type {\n",
       "        vertical-align: middle;\n",
       "    }\n",
       "\n",
       "    .dataframe tbody tr th {\n",
       "        vertical-align: top;\n",
       "    }\n",
       "\n",
       "    .dataframe thead th {\n",
       "        text-align: right;\n",
       "    }\n",
       "</style>\n",
       "<table border=\"1\" class=\"dataframe\">\n",
       "  <thead>\n",
       "    <tr style=\"text-align: right;\">\n",
       "      <th></th>\n",
       "      <th>Cluster</th>\n",
       "      <th>Dist</th>\n",
       "    </tr>\n",
       "  </thead>\n",
       "  <tbody>\n",
       "    <tr>\n",
       "      <th>0</th>\n",
       "      <td>3.0</td>\n",
       "      <td>0.755463</td>\n",
       "    </tr>\n",
       "    <tr>\n",
       "      <th>1</th>\n",
       "      <td>2.0</td>\n",
       "      <td>0.812010</td>\n",
       "    </tr>\n",
       "    <tr>\n",
       "      <th>2</th>\n",
       "      <td>3.0</td>\n",
       "      <td>0.837127</td>\n",
       "    </tr>\n",
       "    <tr>\n",
       "      <th>3</th>\n",
       "      <td>2.0</td>\n",
       "      <td>0.614018</td>\n",
       "    </tr>\n",
       "    <tr>\n",
       "      <th>4</th>\n",
       "      <td>2.0</td>\n",
       "      <td>0.588215</td>\n",
       "    </tr>\n",
       "    <tr>\n",
       "      <th>...</th>\n",
       "      <td>...</td>\n",
       "      <td>...</td>\n",
       "    </tr>\n",
       "    <tr>\n",
       "      <th>1995</th>\n",
       "      <td>1.0</td>\n",
       "      <td>0.858090</td>\n",
       "    </tr>\n",
       "    <tr>\n",
       "      <th>1996</th>\n",
       "      <td>1.0</td>\n",
       "      <td>0.906112</td>\n",
       "    </tr>\n",
       "    <tr>\n",
       "      <th>1997</th>\n",
       "      <td>3.0</td>\n",
       "      <td>0.640850</td>\n",
       "    </tr>\n",
       "    <tr>\n",
       "      <th>1998</th>\n",
       "      <td>3.0</td>\n",
       "      <td>0.863315</td>\n",
       "    </tr>\n",
       "    <tr>\n",
       "      <th>1999</th>\n",
       "      <td>3.0</td>\n",
       "      <td>0.778836</td>\n",
       "    </tr>\n",
       "  </tbody>\n",
       "</table>\n",
       "<p>2000 rows × 2 columns</p>\n",
       "</div>"
      ],
      "text/plain": [
       "      Cluster      Dist\n",
       "0         3.0  0.755463\n",
       "1         2.0  0.812010\n",
       "2         3.0  0.837127\n",
       "3         2.0  0.614018\n",
       "4         2.0  0.588215\n",
       "...       ...       ...\n",
       "1995      1.0  0.858090\n",
       "1996      1.0  0.906112\n",
       "1997      3.0  0.640850\n",
       "1998      3.0  0.863315\n",
       "1999      3.0  0.778836\n",
       "\n",
       "[2000 rows x 2 columns]"
      ]
     },
     "execution_count": 42,
     "metadata": {},
     "output_type": "execute_result"
    }
   ],
   "source": [
    "clusters = pd.DataFrame(clustersErr, columns = ['Cluster','Dist'])\n",
    "clusters"
   ]
  },
  {
   "cell_type": "code",
   "execution_count": 43,
   "metadata": {},
   "outputs": [
    {
     "data": {
      "text/plain": [
       "0       3.0\n",
       "1       2.0\n",
       "2       3.0\n",
       "3       2.0\n",
       "4       2.0\n",
       "       ... \n",
       "1995    1.0\n",
       "1996    1.0\n",
       "1997    3.0\n",
       "1998    3.0\n",
       "1999    3.0\n",
       "Name: Cluster, Length: 2000, dtype: float64"
      ]
     },
     "execution_count": 43,
     "metadata": {},
     "output_type": "execute_result"
    }
   ],
   "source": [
    "column1 = clusters.iloc[:, 0]\n",
    "column1"
   ]
  },
  {
   "cell_type": "code",
   "execution_count": 44,
   "metadata": {},
   "outputs": [],
   "source": [
    "column1 = np.array(column1)"
   ]
  },
  {
   "cell_type": "code",
   "execution_count": 45,
   "metadata": {},
   "outputs": [
    {
     "data": {
      "text/plain": [
       "array([3., 2., 1., 4., 0.])"
      ]
     },
     "execution_count": 45,
     "metadata": {},
     "output_type": "execute_result"
    }
   ],
   "source": [
    "unique = clusters['Cluster'].unique()\n",
    "unique"
   ]
  },
  {
   "cell_type": "code",
   "execution_count": 50,
   "metadata": {},
   "outputs": [
    {
     "name": "stdout",
     "output_type": "stream",
     "text": [
      "{3.0: 828, 2.0: 392, 1.0: 769, 4.0: 9, 0.0: 2}\n"
     ]
    }
   ],
   "source": [
    "size = {}\n",
    "for c in unique:\n",
    "    size[c] = len(DT_train_tfidf_np[column1 == c])\n",
    "print(size)"
   ]
  },
  {
   "cell_type": "code",
   "execution_count": 52,
   "metadata": {},
   "outputs": [
    {
     "data": {
      "text/html": [
       "<div>\n",
       "<style scoped>\n",
       "    .dataframe tbody tr th:only-of-type {\n",
       "        vertical-align: middle;\n",
       "    }\n",
       "\n",
       "    .dataframe tbody tr th {\n",
       "        vertical-align: top;\n",
       "    }\n",
       "\n",
       "    .dataframe thead th {\n",
       "        text-align: right;\n",
       "    }\n",
       "</style>\n",
       "<table border=\"1\" class=\"dataframe\">\n",
       "  <thead>\n",
       "    <tr style=\"text-align: right;\">\n",
       "      <th></th>\n",
       "      <th>(aa,)</th>\n",
       "      <th>(aargh,)</th>\n",
       "      <th>(aaron,)</th>\n",
       "      <th>(aaronc,)</th>\n",
       "      <th>(ab,)</th>\n",
       "      <th>(abandon,)</th>\n",
       "      <th>(abc,)</th>\n",
       "      <th>(abid,)</th>\n",
       "      <th>(abil,)</th>\n",
       "      <th>(abl,)</th>\n",
       "      <th>...</th>\n",
       "      <th>(zq,)</th>\n",
       "      <th>(zr,)</th>\n",
       "      <th>(zrb,)</th>\n",
       "      <th>(zs,)</th>\n",
       "      <th>(zu,)</th>\n",
       "      <th>(zubov,)</th>\n",
       "      <th>(zv,)</th>\n",
       "      <th>(zw,)</th>\n",
       "      <th>(zx,)</th>\n",
       "      <th>(zz,)</th>\n",
       "    </tr>\n",
       "  </thead>\n",
       "  <tbody>\n",
       "    <tr>\n",
       "      <th>0</th>\n",
       "      <td>0.000000</td>\n",
       "      <td>0.000000</td>\n",
       "      <td>0.000000</td>\n",
       "      <td>0.000000</td>\n",
       "      <td>0.000000</td>\n",
       "      <td>0.000000</td>\n",
       "      <td>0.000000</td>\n",
       "      <td>0.000000</td>\n",
       "      <td>0.000000</td>\n",
       "      <td>0.000000</td>\n",
       "      <td>...</td>\n",
       "      <td>0.000000</td>\n",
       "      <td>0.000000</td>\n",
       "      <td>0.000000</td>\n",
       "      <td>0.000000</td>\n",
       "      <td>0.000000</td>\n",
       "      <td>0.000000</td>\n",
       "      <td>0.000000</td>\n",
       "      <td>0.000000</td>\n",
       "      <td>0.000000</td>\n",
       "      <td>0.000000</td>\n",
       "    </tr>\n",
       "    <tr>\n",
       "      <th>1</th>\n",
       "      <td>0.019880</td>\n",
       "      <td>0.000000</td>\n",
       "      <td>0.033843</td>\n",
       "      <td>0.000000</td>\n",
       "      <td>0.047239</td>\n",
       "      <td>0.020275</td>\n",
       "      <td>0.015758</td>\n",
       "      <td>0.000000</td>\n",
       "      <td>0.107328</td>\n",
       "      <td>0.248549</td>\n",
       "      <td>...</td>\n",
       "      <td>0.000000</td>\n",
       "      <td>0.000000</td>\n",
       "      <td>0.000000</td>\n",
       "      <td>0.000000</td>\n",
       "      <td>0.000000</td>\n",
       "      <td>0.000000</td>\n",
       "      <td>0.000000</td>\n",
       "      <td>0.000000</td>\n",
       "      <td>0.000000</td>\n",
       "      <td>0.000000</td>\n",
       "    </tr>\n",
       "    <tr>\n",
       "      <th>2</th>\n",
       "      <td>0.019500</td>\n",
       "      <td>0.000000</td>\n",
       "      <td>1.128653</td>\n",
       "      <td>0.119324</td>\n",
       "      <td>0.037068</td>\n",
       "      <td>0.099437</td>\n",
       "      <td>0.000000</td>\n",
       "      <td>0.023931</td>\n",
       "      <td>0.223707</td>\n",
       "      <td>0.361175</td>\n",
       "      <td>...</td>\n",
       "      <td>0.000000</td>\n",
       "      <td>0.000000</td>\n",
       "      <td>0.000000</td>\n",
       "      <td>0.000000</td>\n",
       "      <td>0.000000</td>\n",
       "      <td>0.000000</td>\n",
       "      <td>0.000000</td>\n",
       "      <td>0.000000</td>\n",
       "      <td>0.000000</td>\n",
       "      <td>0.000000</td>\n",
       "    </tr>\n",
       "    <tr>\n",
       "      <th>3</th>\n",
       "      <td>0.073854</td>\n",
       "      <td>0.050609</td>\n",
       "      <td>0.007858</td>\n",
       "      <td>0.000000</td>\n",
       "      <td>0.140393</td>\n",
       "      <td>0.000000</td>\n",
       "      <td>0.314653</td>\n",
       "      <td>0.033988</td>\n",
       "      <td>0.193130</td>\n",
       "      <td>0.307784</td>\n",
       "      <td>...</td>\n",
       "      <td>0.088679</td>\n",
       "      <td>0.156592</td>\n",
       "      <td>0.022659</td>\n",
       "      <td>0.070852</td>\n",
       "      <td>0.079306</td>\n",
       "      <td>0.060731</td>\n",
       "      <td>0.407138</td>\n",
       "      <td>0.113295</td>\n",
       "      <td>0.067977</td>\n",
       "      <td>0.140767</td>\n",
       "    </tr>\n",
       "    <tr>\n",
       "      <th>4</th>\n",
       "      <td>0.000000</td>\n",
       "      <td>0.000000</td>\n",
       "      <td>0.000000</td>\n",
       "      <td>0.000000</td>\n",
       "      <td>0.807261</td>\n",
       "      <td>0.000000</td>\n",
       "      <td>0.000000</td>\n",
       "      <td>0.000000</td>\n",
       "      <td>0.000000</td>\n",
       "      <td>0.000000</td>\n",
       "      <td>...</td>\n",
       "      <td>0.000000</td>\n",
       "      <td>0.960428</td>\n",
       "      <td>0.000000</td>\n",
       "      <td>11.174429</td>\n",
       "      <td>0.000000</td>\n",
       "      <td>0.000000</td>\n",
       "      <td>0.000000</td>\n",
       "      <td>1.042314</td>\n",
       "      <td>0.000000</td>\n",
       "      <td>0.000000</td>\n",
       "    </tr>\n",
       "  </tbody>\n",
       "</table>\n",
       "<p>5 rows × 9328 columns</p>\n",
       "</div>"
      ],
      "text/plain": [
       "      (aa,)  (aargh,)  (aaron,)  (aaronc,)     (ab,)  (abandon,)    (abc,)  \\\n",
       "0  0.000000  0.000000  0.000000   0.000000  0.000000    0.000000  0.000000   \n",
       "1  0.019880  0.000000  0.033843   0.000000  0.047239    0.020275  0.015758   \n",
       "2  0.019500  0.000000  1.128653   0.119324  0.037068    0.099437  0.000000   \n",
       "3  0.073854  0.050609  0.007858   0.000000  0.140393    0.000000  0.314653   \n",
       "4  0.000000  0.000000  0.000000   0.000000  0.807261    0.000000  0.000000   \n",
       "\n",
       "    (abid,)   (abil,)    (abl,)  ...     (zq,)     (zr,)    (zrb,)      (zs,)  \\\n",
       "0  0.000000  0.000000  0.000000  ...  0.000000  0.000000  0.000000   0.000000   \n",
       "1  0.000000  0.107328  0.248549  ...  0.000000  0.000000  0.000000   0.000000   \n",
       "2  0.023931  0.223707  0.361175  ...  0.000000  0.000000  0.000000   0.000000   \n",
       "3  0.033988  0.193130  0.307784  ...  0.088679  0.156592  0.022659   0.070852   \n",
       "4  0.000000  0.000000  0.000000  ...  0.000000  0.960428  0.000000  11.174429   \n",
       "\n",
       "      (zu,)  (zubov,)     (zv,)     (zw,)     (zx,)     (zz,)  \n",
       "0  0.000000  0.000000  0.000000  0.000000  0.000000  0.000000  \n",
       "1  0.000000  0.000000  0.000000  0.000000  0.000000  0.000000  \n",
       "2  0.000000  0.000000  0.000000  0.000000  0.000000  0.000000  \n",
       "3  0.079306  0.060731  0.407138  0.113295  0.067977  0.140767  \n",
       "4  0.000000  0.000000  0.000000  1.042314  0.000000  0.000000  \n",
       "\n",
       "[5 rows x 9328 columns]"
      ]
     },
     "execution_count": 52,
     "metadata": {},
     "output_type": "execute_result"
    }
   ],
   "source": [
    "centroidsdf = pd.DataFrame(centroids, columns = terms)\n",
    "\n",
    "centroidsdf"
   ]
  },
  {
   "cell_type": "code",
   "execution_count": 64,
   "metadata": {},
   "outputs": [],
   "source": [
    "clustergroups = clusters.groupby(clusters.Cluster)\n"
   ]
  },
  {
   "cell_type": "code",
   "execution_count": 58,
   "metadata": {},
   "outputs": [
    {
     "data": {
      "text/html": [
       "<div>\n",
       "<style scoped>\n",
       "    .dataframe tbody tr th:only-of-type {\n",
       "        vertical-align: middle;\n",
       "    }\n",
       "\n",
       "    .dataframe tbody tr th {\n",
       "        vertical-align: top;\n",
       "    }\n",
       "\n",
       "    .dataframe thead th {\n",
       "        text-align: right;\n",
       "    }\n",
       "</style>\n",
       "<table border=\"1\" class=\"dataframe\">\n",
       "  <thead>\n",
       "    <tr style=\"text-align: right;\">\n",
       "      <th></th>\n",
       "      <th>Cluster</th>\n",
       "      <th>Dist</th>\n",
       "    </tr>\n",
       "  </thead>\n",
       "  <tbody>\n",
       "    <tr>\n",
       "      <th>0</th>\n",
       "      <td>3.0</td>\n",
       "      <td>0.755463</td>\n",
       "    </tr>\n",
       "    <tr>\n",
       "      <th>2</th>\n",
       "      <td>3.0</td>\n",
       "      <td>0.837127</td>\n",
       "    </tr>\n",
       "    <tr>\n",
       "      <th>9</th>\n",
       "      <td>3.0</td>\n",
       "      <td>0.726497</td>\n",
       "    </tr>\n",
       "    <tr>\n",
       "      <th>11</th>\n",
       "      <td>3.0</td>\n",
       "      <td>0.528637</td>\n",
       "    </tr>\n",
       "    <tr>\n",
       "      <th>12</th>\n",
       "      <td>3.0</td>\n",
       "      <td>0.717767</td>\n",
       "    </tr>\n",
       "    <tr>\n",
       "      <th>...</th>\n",
       "      <td>...</td>\n",
       "      <td>...</td>\n",
       "    </tr>\n",
       "    <tr>\n",
       "      <th>1993</th>\n",
       "      <td>3.0</td>\n",
       "      <td>0.899472</td>\n",
       "    </tr>\n",
       "    <tr>\n",
       "      <th>1994</th>\n",
       "      <td>3.0</td>\n",
       "      <td>0.743319</td>\n",
       "    </tr>\n",
       "    <tr>\n",
       "      <th>1997</th>\n",
       "      <td>3.0</td>\n",
       "      <td>0.640850</td>\n",
       "    </tr>\n",
       "    <tr>\n",
       "      <th>1998</th>\n",
       "      <td>3.0</td>\n",
       "      <td>0.863315</td>\n",
       "    </tr>\n",
       "    <tr>\n",
       "      <th>1999</th>\n",
       "      <td>3.0</td>\n",
       "      <td>0.778836</td>\n",
       "    </tr>\n",
       "  </tbody>\n",
       "</table>\n",
       "<p>828 rows × 2 columns</p>\n",
       "</div>"
      ],
      "text/plain": [
       "      Cluster      Dist\n",
       "0         3.0  0.755463\n",
       "2         3.0  0.837127\n",
       "9         3.0  0.726497\n",
       "11        3.0  0.528637\n",
       "12        3.0  0.717767\n",
       "...       ...       ...\n",
       "1993      3.0  0.899472\n",
       "1994      3.0  0.743319\n",
       "1997      3.0  0.640850\n",
       "1998      3.0  0.863315\n",
       "1999      3.0  0.778836\n",
       "\n",
       "[828 rows x 2 columns]"
      ]
     },
     "execution_count": 58,
     "metadata": {},
     "output_type": "execute_result"
    }
   ],
   "source": [
    "cluster3 = clustergroups.get_group(3)\n",
    "cluster3"
   ]
  },
  {
   "cell_type": "code",
   "execution_count": 59,
   "metadata": {},
   "outputs": [
    {
     "data": {
      "text/html": [
       "<div>\n",
       "<style scoped>\n",
       "    .dataframe tbody tr th:only-of-type {\n",
       "        vertical-align: middle;\n",
       "    }\n",
       "\n",
       "    .dataframe tbody tr th {\n",
       "        vertical-align: top;\n",
       "    }\n",
       "\n",
       "    .dataframe thead th {\n",
       "        text-align: right;\n",
       "    }\n",
       "</style>\n",
       "<table border=\"1\" class=\"dataframe\">\n",
       "  <thead>\n",
       "    <tr style=\"text-align: right;\">\n",
       "      <th></th>\n",
       "      <th>Cluster</th>\n",
       "      <th>Dist</th>\n",
       "    </tr>\n",
       "  </thead>\n",
       "  <tbody>\n",
       "    <tr>\n",
       "      <th>1</th>\n",
       "      <td>2.0</td>\n",
       "      <td>0.812010</td>\n",
       "    </tr>\n",
       "    <tr>\n",
       "      <th>3</th>\n",
       "      <td>2.0</td>\n",
       "      <td>0.614018</td>\n",
       "    </tr>\n",
       "    <tr>\n",
       "      <th>4</th>\n",
       "      <td>2.0</td>\n",
       "      <td>0.588215</td>\n",
       "    </tr>\n",
       "    <tr>\n",
       "      <th>5</th>\n",
       "      <td>2.0</td>\n",
       "      <td>0.681968</td>\n",
       "    </tr>\n",
       "    <tr>\n",
       "      <th>6</th>\n",
       "      <td>2.0</td>\n",
       "      <td>0.665114</td>\n",
       "    </tr>\n",
       "    <tr>\n",
       "      <th>...</th>\n",
       "      <td>...</td>\n",
       "      <td>...</td>\n",
       "    </tr>\n",
       "    <tr>\n",
       "      <th>1950</th>\n",
       "      <td>2.0</td>\n",
       "      <td>0.490555</td>\n",
       "    </tr>\n",
       "    <tr>\n",
       "      <th>1955</th>\n",
       "      <td>2.0</td>\n",
       "      <td>0.734878</td>\n",
       "    </tr>\n",
       "    <tr>\n",
       "      <th>1958</th>\n",
       "      <td>2.0</td>\n",
       "      <td>0.773009</td>\n",
       "    </tr>\n",
       "    <tr>\n",
       "      <th>1969</th>\n",
       "      <td>2.0</td>\n",
       "      <td>0.630835</td>\n",
       "    </tr>\n",
       "    <tr>\n",
       "      <th>1981</th>\n",
       "      <td>2.0</td>\n",
       "      <td>0.598840</td>\n",
       "    </tr>\n",
       "  </tbody>\n",
       "</table>\n",
       "<p>392 rows × 2 columns</p>\n",
       "</div>"
      ],
      "text/plain": [
       "      Cluster      Dist\n",
       "1         2.0  0.812010\n",
       "3         2.0  0.614018\n",
       "4         2.0  0.588215\n",
       "5         2.0  0.681968\n",
       "6         2.0  0.665114\n",
       "...       ...       ...\n",
       "1950      2.0  0.490555\n",
       "1955      2.0  0.734878\n",
       "1958      2.0  0.773009\n",
       "1969      2.0  0.630835\n",
       "1981      2.0  0.598840\n",
       "\n",
       "[392 rows x 2 columns]"
      ]
     },
     "execution_count": 59,
     "metadata": {},
     "output_type": "execute_result"
    }
   ],
   "source": [
    "cluster2 = clustergroups.get_group(2)\n",
    "cluster2"
   ]
  },
  {
   "cell_type": "code",
   "execution_count": 60,
   "metadata": {},
   "outputs": [
    {
     "data": {
      "text/html": [
       "<div>\n",
       "<style scoped>\n",
       "    .dataframe tbody tr th:only-of-type {\n",
       "        vertical-align: middle;\n",
       "    }\n",
       "\n",
       "    .dataframe tbody tr th {\n",
       "        vertical-align: top;\n",
       "    }\n",
       "\n",
       "    .dataframe thead th {\n",
       "        text-align: right;\n",
       "    }\n",
       "</style>\n",
       "<table border=\"1\" class=\"dataframe\">\n",
       "  <thead>\n",
       "    <tr style=\"text-align: right;\">\n",
       "      <th></th>\n",
       "      <th>Cluster</th>\n",
       "      <th>Dist</th>\n",
       "    </tr>\n",
       "  </thead>\n",
       "  <tbody>\n",
       "    <tr>\n",
       "      <th>7</th>\n",
       "      <td>1.0</td>\n",
       "      <td>0.606834</td>\n",
       "    </tr>\n",
       "    <tr>\n",
       "      <th>10</th>\n",
       "      <td>1.0</td>\n",
       "      <td>0.757923</td>\n",
       "    </tr>\n",
       "    <tr>\n",
       "      <th>13</th>\n",
       "      <td>1.0</td>\n",
       "      <td>0.857475</td>\n",
       "    </tr>\n",
       "    <tr>\n",
       "      <th>14</th>\n",
       "      <td>1.0</td>\n",
       "      <td>0.500462</td>\n",
       "    </tr>\n",
       "    <tr>\n",
       "      <th>17</th>\n",
       "      <td>1.0</td>\n",
       "      <td>0.649982</td>\n",
       "    </tr>\n",
       "    <tr>\n",
       "      <th>...</th>\n",
       "      <td>...</td>\n",
       "      <td>...</td>\n",
       "    </tr>\n",
       "    <tr>\n",
       "      <th>1980</th>\n",
       "      <td>1.0</td>\n",
       "      <td>0.580057</td>\n",
       "    </tr>\n",
       "    <tr>\n",
       "      <th>1987</th>\n",
       "      <td>1.0</td>\n",
       "      <td>0.851442</td>\n",
       "    </tr>\n",
       "    <tr>\n",
       "      <th>1988</th>\n",
       "      <td>1.0</td>\n",
       "      <td>0.670622</td>\n",
       "    </tr>\n",
       "    <tr>\n",
       "      <th>1995</th>\n",
       "      <td>1.0</td>\n",
       "      <td>0.858090</td>\n",
       "    </tr>\n",
       "    <tr>\n",
       "      <th>1996</th>\n",
       "      <td>1.0</td>\n",
       "      <td>0.906112</td>\n",
       "    </tr>\n",
       "  </tbody>\n",
       "</table>\n",
       "<p>769 rows × 2 columns</p>\n",
       "</div>"
      ],
      "text/plain": [
       "      Cluster      Dist\n",
       "7         1.0  0.606834\n",
       "10        1.0  0.757923\n",
       "13        1.0  0.857475\n",
       "14        1.0  0.500462\n",
       "17        1.0  0.649982\n",
       "...       ...       ...\n",
       "1980      1.0  0.580057\n",
       "1987      1.0  0.851442\n",
       "1988      1.0  0.670622\n",
       "1995      1.0  0.858090\n",
       "1996      1.0  0.906112\n",
       "\n",
       "[769 rows x 2 columns]"
      ]
     },
     "execution_count": 60,
     "metadata": {},
     "output_type": "execute_result"
    }
   ],
   "source": [
    "cluster1 = clustergroups.get_group(1)\n",
    "cluster1"
   ]
  },
  {
   "cell_type": "code",
   "execution_count": 61,
   "metadata": {},
   "outputs": [
    {
     "data": {
      "text/html": [
       "<div>\n",
       "<style scoped>\n",
       "    .dataframe tbody tr th:only-of-type {\n",
       "        vertical-align: middle;\n",
       "    }\n",
       "\n",
       "    .dataframe tbody tr th {\n",
       "        vertical-align: top;\n",
       "    }\n",
       "\n",
       "    .dataframe thead th {\n",
       "        text-align: right;\n",
       "    }\n",
       "</style>\n",
       "<table border=\"1\" class=\"dataframe\">\n",
       "  <thead>\n",
       "    <tr style=\"text-align: right;\">\n",
       "      <th></th>\n",
       "      <th>Cluster</th>\n",
       "      <th>Dist</th>\n",
       "    </tr>\n",
       "  </thead>\n",
       "  <tbody>\n",
       "    <tr>\n",
       "      <th>325</th>\n",
       "      <td>4.0</td>\n",
       "      <td>6.630234e-10</td>\n",
       "    </tr>\n",
       "    <tr>\n",
       "      <th>851</th>\n",
       "      <td>4.0</td>\n",
       "      <td>2.540824e-08</td>\n",
       "    </tr>\n",
       "    <tr>\n",
       "      <th>985</th>\n",
       "      <td>4.0</td>\n",
       "      <td>2.635512e-08</td>\n",
       "    </tr>\n",
       "    <tr>\n",
       "      <th>1123</th>\n",
       "      <td>4.0</td>\n",
       "      <td>4.450203e-10</td>\n",
       "    </tr>\n",
       "    <tr>\n",
       "      <th>1635</th>\n",
       "      <td>4.0</td>\n",
       "      <td>1.196080e-09</td>\n",
       "    </tr>\n",
       "    <tr>\n",
       "      <th>1649</th>\n",
       "      <td>4.0</td>\n",
       "      <td>8.989245e-01</td>\n",
       "    </tr>\n",
       "    <tr>\n",
       "      <th>1676</th>\n",
       "      <td>4.0</td>\n",
       "      <td>1.153019e-07</td>\n",
       "    </tr>\n",
       "    <tr>\n",
       "      <th>1694</th>\n",
       "      <td>4.0</td>\n",
       "      <td>6.343301e-01</td>\n",
       "    </tr>\n",
       "    <tr>\n",
       "      <th>1985</th>\n",
       "      <td>4.0</td>\n",
       "      <td>2.471013e-10</td>\n",
       "    </tr>\n",
       "  </tbody>\n",
       "</table>\n",
       "</div>"
      ],
      "text/plain": [
       "      Cluster          Dist\n",
       "325       4.0  6.630234e-10\n",
       "851       4.0  2.540824e-08\n",
       "985       4.0  2.635512e-08\n",
       "1123      4.0  4.450203e-10\n",
       "1635      4.0  1.196080e-09\n",
       "1649      4.0  8.989245e-01\n",
       "1676      4.0  1.153019e-07\n",
       "1694      4.0  6.343301e-01\n",
       "1985      4.0  2.471013e-10"
      ]
     },
     "execution_count": 61,
     "metadata": {},
     "output_type": "execute_result"
    }
   ],
   "source": [
    "cluster4 = clustergroups.get_group(4)\n",
    "cluster4"
   ]
  },
  {
   "cell_type": "code",
   "execution_count": 63,
   "metadata": {},
   "outputs": [
    {
     "data": {
      "text/html": [
       "<div>\n",
       "<style scoped>\n",
       "    .dataframe tbody tr th:only-of-type {\n",
       "        vertical-align: middle;\n",
       "    }\n",
       "\n",
       "    .dataframe tbody tr th {\n",
       "        vertical-align: top;\n",
       "    }\n",
       "\n",
       "    .dataframe thead th {\n",
       "        text-align: right;\n",
       "    }\n",
       "</style>\n",
       "<table border=\"1\" class=\"dataframe\">\n",
       "  <thead>\n",
       "    <tr style=\"text-align: right;\">\n",
       "      <th></th>\n",
       "      <th>Cluster</th>\n",
       "      <th>Dist</th>\n",
       "    </tr>\n",
       "  </thead>\n",
       "  <tbody>\n",
       "    <tr>\n",
       "      <th>1376</th>\n",
       "      <td>0.0</td>\n",
       "      <td>1.027516e-09</td>\n",
       "    </tr>\n",
       "    <tr>\n",
       "      <th>1572</th>\n",
       "      <td>0.0</td>\n",
       "      <td>6.329931e-01</td>\n",
       "    </tr>\n",
       "  </tbody>\n",
       "</table>\n",
       "</div>"
      ],
      "text/plain": [
       "      Cluster          Dist\n",
       "1376      0.0  1.027516e-09\n",
       "1572      0.0  6.329931e-01"
      ]
     },
     "execution_count": 63,
     "metadata": {},
     "output_type": "execute_result"
    }
   ],
   "source": [
    "cluster0 = clustergroups.get_group(0)\n",
    "cluster0"
   ]
  },
  {
   "cell_type": "code",
   "execution_count": 74,
   "metadata": {},
   "outputs": [
    {
     "data": {
      "text/html": [
       "<div>\n",
       "<style scoped>\n",
       "    .dataframe tbody tr th:only-of-type {\n",
       "        vertical-align: middle;\n",
       "    }\n",
       "\n",
       "    .dataframe tbody tr th {\n",
       "        vertical-align: top;\n",
       "    }\n",
       "\n",
       "    .dataframe thead th {\n",
       "        text-align: right;\n",
       "    }\n",
       "</style>\n",
       "<table border=\"1\" class=\"dataframe\">\n",
       "  <thead>\n",
       "    <tr style=\"text-align: right;\">\n",
       "      <th></th>\n",
       "      <th>Cluster</th>\n",
       "      <th>Dist</th>\n",
       "    </tr>\n",
       "  </thead>\n",
       "  <tbody>\n",
       "    <tr>\n",
       "      <th>1985</th>\n",
       "      <td>4.0</td>\n",
       "      <td>2.471013e-10</td>\n",
       "    </tr>\n",
       "    <tr>\n",
       "      <th>1123</th>\n",
       "      <td>4.0</td>\n",
       "      <td>4.450203e-10</td>\n",
       "    </tr>\n",
       "    <tr>\n",
       "      <th>325</th>\n",
       "      <td>4.0</td>\n",
       "      <td>6.630234e-10</td>\n",
       "    </tr>\n",
       "    <tr>\n",
       "      <th>1635</th>\n",
       "      <td>4.0</td>\n",
       "      <td>1.196080e-09</td>\n",
       "    </tr>\n",
       "    <tr>\n",
       "      <th>851</th>\n",
       "      <td>4.0</td>\n",
       "      <td>2.540824e-08</td>\n",
       "    </tr>\n",
       "    <tr>\n",
       "      <th>985</th>\n",
       "      <td>4.0</td>\n",
       "      <td>2.635512e-08</td>\n",
       "    </tr>\n",
       "    <tr>\n",
       "      <th>1676</th>\n",
       "      <td>4.0</td>\n",
       "      <td>1.153019e-07</td>\n",
       "    </tr>\n",
       "    <tr>\n",
       "      <th>1694</th>\n",
       "      <td>4.0</td>\n",
       "      <td>6.343301e-01</td>\n",
       "    </tr>\n",
       "    <tr>\n",
       "      <th>1649</th>\n",
       "      <td>4.0</td>\n",
       "      <td>8.989245e-01</td>\n",
       "    </tr>\n",
       "  </tbody>\n",
       "</table>\n",
       "</div>"
      ],
      "text/plain": [
       "      Cluster          Dist\n",
       "1985      4.0  2.471013e-10\n",
       "1123      4.0  4.450203e-10\n",
       "325       4.0  6.630234e-10\n",
       "1635      4.0  1.196080e-09\n",
       "851       4.0  2.540824e-08\n",
       "985       4.0  2.635512e-08\n",
       "1676      4.0  1.153019e-07\n",
       "1694      4.0  6.343301e-01\n",
       "1649      4.0  8.989245e-01"
      ]
     },
     "execution_count": 74,
     "metadata": {},
     "output_type": "execute_result"
    }
   ],
   "source": [
    "cluster4Sort = cluster4.sort_values(by=['Dist'])\n",
    "cluster4Sort.head(10)\n"
   ]
  },
  {
   "cell_type": "code",
   "execution_count": 84,
   "metadata": {},
   "outputs": [
    {
     "name": "stdout",
     "output_type": "stream",
     "text": [
      "\n",
      "Cluster  0 size = 2\n",
      "----------------------------------------------\n",
      "1.0275156454747396e-09\n",
      "0.6329931133010451\n",
      "1.0275156454747396e-09\n",
      "0.6329931133010451\n"
     ]
    }
   ],
   "source": [
    "print(\"\\nCluster \", 0, \"size =\", size[0])\n",
    "print(\"----------------------------------------------\")\n",
    "for row in cluster0:\n",
    "    cluster0sort = cluster0.sort_values(by=['Dist'])\n",
    "    cluster0sort = cluster0sort.head(5)\n",
    "    for index, row in cluster0sort.iterrows():\n",
    "        #term = terms[index]\n",
    "        print(row[1])\n",
    "\n",
    "#print(cluster_rep.sort_values(by=\"DF\", ascending=False).head(numTerms))\n"
   ]
  },
  {
   "cell_type": "code",
   "execution_count": 87,
   "metadata": {},
   "outputs": [
    {
     "name": "stdout",
     "output_type": "stream",
     "text": [
      "\n",
      "Cluster  1 size = 769\n",
      "----------------------------------------------\n",
      "0.3822462232805065\n",
      "0.3912994395418948\n",
      "0.41628464163880824\n",
      "0.42010746423816664\n",
      "0.42227023103131417\n",
      "0.3822462232805065\n",
      "0.3912994395418948\n",
      "0.41628464163880824\n",
      "0.42010746423816664\n",
      "0.42227023103131417\n"
     ]
    }
   ],
   "source": [
    "print(\"\\nCluster \", 1, \"size =\", size[1])\n",
    "print(\"----------------------------------------------\")\n",
    "for row in cluster1:\n",
    "    cluster1sort = cluster1.sort_values(by=['Dist'])\n",
    "    cluster1sort = cluster1sort.head(5)\n",
    "    for index, row in cluster1sort.iterrows():\n",
    "        #term = terms[index]\n",
    "        print(row[1])"
   ]
  },
  {
   "cell_type": "code",
   "execution_count": 88,
   "metadata": {},
   "outputs": [
    {
     "name": "stdout",
     "output_type": "stream",
     "text": [
      "\n",
      "Cluster  2 size = 392\n",
      "----------------------------------------------\n",
      "0.3822462232805065\n",
      "0.3912994395418948\n",
      "0.41628464163880824\n",
      "0.42010746423816664\n",
      "0.42227023103131417\n",
      "0.3822462232805065\n",
      "0.3912994395418948\n",
      "0.41628464163880824\n",
      "0.42010746423816664\n",
      "0.42227023103131417\n"
     ]
    }
   ],
   "source": [
    "print(\"\\nCluster \", 2, \"size =\", size[2])\n",
    "print(\"----------------------------------------------\")\n",
    "for row in cluster2:\n",
    "    cluster2sort = cluster2.sort_values(by=['Dist'])\n",
    "    cluster2sort = cluster2sort.head(5)\n",
    "    for index, row in cluster1sort.iterrows():\n",
    "        #term = terms[index]\n",
    "        print(row[1])"
   ]
  },
  {
   "cell_type": "code",
   "execution_count": 89,
   "metadata": {},
   "outputs": [
    {
     "name": "stdout",
     "output_type": "stream",
     "text": [
      "\n",
      "Cluster  3 size = 828\n",
      "----------------------------------------------\n",
      "0.3822462232805065\n",
      "0.3912994395418948\n",
      "0.41628464163880824\n",
      "0.42010746423816664\n",
      "0.42227023103131417\n",
      "0.3822462232805065\n",
      "0.3912994395418948\n",
      "0.41628464163880824\n",
      "0.42010746423816664\n",
      "0.42227023103131417\n"
     ]
    }
   ],
   "source": [
    "print(\"\\nCluster \", 3, \"size =\", size[3])\n",
    "print(\"----------------------------------------------\")\n",
    "for row in cluster3:\n",
    "    cluster3sort = cluster3.sort_values(by=['Dist'])\n",
    "    cluster3sort = cluster3sort.head(5)\n",
    "    for index, row in cluster1sort.iterrows():\n",
    "        #term = terms[index]\n",
    "        print(row[1])"
   ]
  },
  {
   "cell_type": "code",
   "execution_count": 90,
   "metadata": {},
   "outputs": [
    {
     "name": "stdout",
     "output_type": "stream",
     "text": [
      "\n",
      "Cluster  4 size = 9\n",
      "----------------------------------------------\n",
      "0.3822462232805065\n",
      "0.3912994395418948\n",
      "0.41628464163880824\n",
      "0.42010746423816664\n",
      "0.42227023103131417\n",
      "0.3822462232805065\n",
      "0.3912994395418948\n",
      "0.41628464163880824\n",
      "0.42010746423816664\n",
      "0.42227023103131417\n"
     ]
    }
   ],
   "source": [
    "print(\"\\nCluster \", 4, \"size =\", size[4])\n",
    "print(\"----------------------------------------------\")\n",
    "for row in cluster4:\n",
    "    cluster4sort = cluster4.sort_values(by=['Dist'])\n",
    "    cluster4sort = cluster4sort.head(5)\n",
    "    for index, row in cluster1sort.iterrows():\n",
    "        #term = terms[index]\n",
    "        print(row[1])"
   ]
  },
  {
   "cell_type": "code",
   "execution_count": 72,
   "metadata": {},
   "outputs": [],
   "source": [
    "# for each cluster we need top n words, df(how many documents they appear in), and percentage of total documents in the cluster"
   ]
  },
  {
   "cell_type": "markdown",
   "metadata": {},
   "source": [
    "## Part d\n",
    "#### Completeness score measures whethers data points that are clustered together belong to the same class or not, a measure 1 indicates that all points that are clustered together are in the same class\n",
    "\n",
    "#### Homogeneity measures whether clusters contain only members of a single class.  A homegeneity score of 1 indicates that clusters all contain members of single classes\n"
   ]
  },
  {
   "cell_type": "code",
   "execution_count": 91,
   "metadata": {},
   "outputs": [],
   "source": [
    "from sklearn.metrics import completeness_score, homogeneity_score"
   ]
  },
  {
   "cell_type": "code",
   "execution_count": 92,
   "metadata": {},
   "outputs": [],
   "source": [
    "newC = clusters[\"Cluster\"].astype(int)\n"
   ]
  },
  {
   "cell_type": "code",
   "execution_count": 93,
   "metadata": {},
   "outputs": [],
   "source": [
    "y_train = np.array(y_train).flatten()"
   ]
  },
  {
   "cell_type": "code",
   "execution_count": 94,
   "metadata": {},
   "outputs": [
    {
     "name": "stdout",
     "output_type": "stream",
     "text": [
      "0.7815094786147689\n"
     ]
    }
   ],
   "source": [
    "print(completeness_score(y_train,newC))"
   ]
  },
  {
   "cell_type": "code",
   "execution_count": 95,
   "metadata": {},
   "outputs": [
    {
     "name": "stdout",
     "output_type": "stream",
     "text": [
      "0.5260339273169974\n"
     ]
    }
   ],
   "source": [
    "print(homogeneity_score(y_train,newC))"
   ]
  },
  {
   "cell_type": "markdown",
   "metadata": {},
   "source": [
    "## My completeness score is 0.78, which indicates that many of the some points that are clustered together do not belong to the same class, but overall many points of the same class are clusted together. And my homogeneity score of 0.53 shows that my clusters do not contain documents from a single class"
   ]
  },
  {
   "cell_type": "markdown",
   "metadata": {},
   "source": [
    "### Part e\n",
    "\n",
    "### Testing with my test set and producing the distance measures. I also ran the test set for homogeneity and completeness. The scores were both pretty low as well, which was not surprising to me based on the trouble I had with the training set."
   ]
  },
  {
   "cell_type": "code",
   "execution_count": 100,
   "metadata": {},
   "outputs": [],
   "source": [
    "myCentroids, clustAssing = kMeans.kMeans(DT_test, 5)"
   ]
  },
  {
   "cell_type": "code",
   "execution_count": 101,
   "metadata": {},
   "outputs": [
    {
     "data": {
      "text/plain": [
       "(array([[0., 0., 0., ..., 0., 0., 0.],\n",
       "        [0., 0., 0., ..., 0., 0., 0.],\n",
       "        [0., 0., 0., ..., 0., 0., 0.],\n",
       "        ...,\n",
       "        [0., 0., 0., ..., 0., 0., 0.],\n",
       "        [0., 0., 0., ..., 0., 0., 0.],\n",
       "        [0., 0., 0., ..., 0., 0., 0.]]),\n",
       " array([[0., 0., 0., ..., 0., 0., 0.],\n",
       "        [0., 0., 0., ..., 0., 0., 0.],\n",
       "        [0., 0., 0., ..., 0., 0., 0.],\n",
       "        ...,\n",
       "        [0., 0., 0., ..., 0., 0., 0.],\n",
       "        [0., 0., 0., ..., 0., 0., 0.],\n",
       "        [0., 0., 0., ..., 0., 0., 0.]]),\n",
       " array([1, 2, 3, ..., 3, 2, 3]),\n",
       " array([0, 2, 0, 1, 4, 1, 2, 0, 3, 1, 1, 3, 4, 2, 4, 1, 0, 2, 0, 2, 0, 0,\n",
       "        0, 2, 4, 1, 3, 1, 2, 3, 3, 0, 1, 2, 0, 1, 4, 1, 2, 3, 1, 4, 0, 2,\n",
       "        3, 1, 2, 2, 2, 3, 0, 2, 1, 3, 3, 1, 4, 3, 2, 1, 2, 4, 0, 1, 4, 3,\n",
       "        0, 2, 1, 0, 4, 4, 3, 1, 3, 2, 4, 4, 4, 0, 4, 0, 2, 4, 0, 3, 4, 1,\n",
       "        4, 4, 3, 3, 4, 1, 4, 1, 3, 1, 3, 2, 0, 4, 4, 1, 2, 2, 4, 1, 4, 4,\n",
       "        1, 3, 3, 1, 0, 1, 3, 1, 2, 0, 2, 1, 1, 1, 3, 2, 3, 2, 0, 2, 4, 1,\n",
       "        1, 2, 0, 2, 3, 4, 2, 3, 4, 2, 3, 2, 3, 2, 2, 3, 0, 4, 2, 4, 1, 0,\n",
       "        0, 2, 1, 0, 2, 3, 3, 3, 4, 0, 0, 1, 2, 4, 2, 3, 4, 1, 2, 3, 0, 0,\n",
       "        4, 4, 2, 3, 3, 4, 2, 3, 4, 0, 1, 3, 3, 2, 3, 2, 3, 2, 3, 3, 4, 0,\n",
       "        4, 1, 2, 1, 1, 2, 3, 3, 2, 0, 2, 2, 2, 4, 4, 3, 4, 0, 0, 1, 4, 3,\n",
       "        2, 0, 0, 3, 4, 1, 1, 4, 1, 2, 1, 3, 2, 1, 3, 0, 2, 4, 0, 0, 4, 0,\n",
       "        2, 1, 3, 2, 1, 0, 2, 0, 3, 3, 1, 4, 0, 1, 2, 4, 3, 2, 0, 1, 0, 1,\n",
       "        4, 4, 3, 3, 4, 4, 4, 4, 2, 3, 4, 0, 4, 1, 0, 3, 1, 4, 2, 0, 1, 2,\n",
       "        2, 4, 0, 2, 0, 0, 4, 0, 0, 3, 2, 0, 2, 0, 1, 1, 1, 2, 3, 2, 3, 0,\n",
       "        2, 3, 2, 3, 2, 1, 0, 2, 3, 1, 4, 4, 2, 2, 1, 0, 0, 3, 4, 2, 1, 3,\n",
       "        3, 3, 2, 4, 2, 2, 1, 1, 1, 1, 1, 4, 4, 0, 4, 4, 0, 2, 2, 3, 4, 4,\n",
       "        2, 2, 3, 3, 3, 1, 1, 4, 1, 0, 0, 4, 3, 1, 1, 0, 2, 3, 0, 1, 1, 4,\n",
       "        1, 1, 2, 3, 4, 0, 3, 0, 1, 2, 4, 1, 1, 4, 2, 1, 1, 1, 2, 1, 0, 0,\n",
       "        0, 3, 2, 3, 3, 4, 2, 4, 3, 4, 0, 2, 2, 4, 4, 2, 0, 4, 1, 4, 0, 0,\n",
       "        3, 1, 0, 0, 0, 3, 4, 0, 0, 4, 2, 0, 2, 2, 0, 1, 0, 3, 4, 4, 0, 3,\n",
       "        0, 0, 2, 3, 2, 4, 0, 4, 0, 1, 1, 0, 2, 1, 4, 0, 1, 1, 3, 0, 0, 2,\n",
       "        3, 4, 2, 1, 4, 0, 2, 2, 2, 1, 4, 3, 0, 1, 3, 2, 1, 4, 2, 2, 4, 3,\n",
       "        0, 1, 3, 3, 3, 3, 0, 2, 2, 3, 0, 2, 4, 2, 1, 4]))"
      ]
     },
     "execution_count": 101,
     "metadata": {},
     "output_type": "execute_result"
    }
   ],
   "source": [
    "DT_train, DT_test, y_train, y_test"
   ]
  },
  {
   "cell_type": "code",
   "execution_count": 102,
   "metadata": {},
   "outputs": [
    {
     "name": "stdout",
     "output_type": "stream",
     "text": [
      "[[0.   0.   0.   ... 0.   0.   0.  ]\n",
      " [0.01 0.   0.02 ... 0.   0.   0.  ]\n",
      " [0.   0.   0.   ... 0.   0.   0.  ]\n",
      " [0.83 0.02 0.68 ... 0.   0.   0.34]\n",
      " [0.54 0.84 1.1  ... 0.   0.   1.99]] [[    1.      69.9 ]\n",
      " [    1.      78.92]\n",
      " [    1.     198.17]\n",
      " [    1.      49.79]\n",
      " [    1.      80.98]\n",
      " [    1.     474.69]\n",
      " [    1.      21.63]\n",
      " [    1.      26.65]\n",
      " [    1.      67.87]\n",
      " [    1.     178.36]\n",
      " [    1.      73.98]\n",
      " [    1.     237.5 ]\n",
      " [    1.      64.55]\n",
      " [    1.     779.4 ]\n",
      " [    1.      25.58]\n",
      " [    1.     142.44]\n",
      " [    1.      46.73]\n",
      " [    1.      94.44]\n",
      " [    1.     161.74]\n",
      " [    1.     217.42]\n",
      " [    1.      55.3 ]\n",
      " [    1.     187.7 ]\n",
      " [    1.      72.21]\n",
      " [    1.    1184.11]\n",
      " [    1.      23.85]\n",
      " [    1.      59.23]\n",
      " [    1.      51.14]\n",
      " [    1.     182.82]\n",
      " [    1.      80.62]\n",
      " [    1.      39.09]\n",
      " [    1.     162.01]\n",
      " [    1.     279.27]\n",
      " [    1.      70.01]\n",
      " [    1.     170.3 ]\n",
      " [    1.      26.96]\n",
      " [    1.      67.  ]\n",
      " [    1.     231.59]\n",
      " [    1.      98.48]\n",
      " [    1.     578.93]\n",
      " [    0.    6310.  ]\n",
      " [    1.      67.13]\n",
      " [    1.     564.99]\n",
      " [    1.     150.62]\n",
      " [    1.     597.38]\n",
      " [    1.     151.86]\n",
      " [    1.      99.14]\n",
      " [    1.    5560.69]\n",
      " [    1.     236.81]\n",
      " [    1.    4008.53]\n",
      " [    1.      32.81]\n",
      " [    1.     129.36]\n",
      " [    1.     257.7 ]\n",
      " [    1.     137.34]\n",
      " [    1.     124.07]\n",
      " [    1.     166.41]\n",
      " [    1.     169.65]\n",
      " [    1.      26.51]\n",
      " [    1.      98.78]\n",
      " [    1.     847.62]\n",
      " [    1.      46.96]\n",
      " [    1.     269.46]\n",
      " [    1.      30.84]\n",
      " [    1.      47.75]\n",
      " [    1.      72.03]\n",
      " [    1.      35.55]\n",
      " [    1.      53.87]\n",
      " [    1.     122.32]\n",
      " [    1.     725.96]\n",
      " [    1.     139.03]\n",
      " [    1.      52.22]\n",
      " [    1.      37.34]\n",
      " [    1.      32.85]\n",
      " [    1.      49.49]\n",
      " [    1.     146.03]\n",
      " [    1.      54.8 ]\n",
      " [    1.     222.43]\n",
      " [    1.      35.46]\n",
      " [    1.     150.22]\n",
      " [    1.      59.7 ]\n",
      " [    1.      38.8 ]\n",
      " [    1.      54.14]\n",
      " [    1.     245.31]\n",
      " [    1.     343.63]\n",
      " [    1.      17.49]\n",
      " [    1.      23.74]\n",
      " [    1.      89.76]\n",
      " [    1.      78.13]\n",
      " [    1.      57.06]\n",
      " [    1.     178.59]\n",
      " [    1.      59.29]\n",
      " [    1.    1044.8 ]\n",
      " [    1.     155.99]\n",
      " [    1.      62.25]\n",
      " [    1.      87.13]\n",
      " [    1.     103.6 ]\n",
      " [    1.     395.01]\n",
      " [    1.      16.32]\n",
      " [    1.      68.71]\n",
      " [    1.     150.03]\n",
      " [    1.      81.8 ]\n",
      " [    1.    1097.76]\n",
      " [    1.      48.18]\n",
      " [    1.     211.54]\n",
      " [    1.      33.96]\n",
      " [    1.     137.11]\n",
      " [    1.     423.58]\n",
      " [    1.      59.13]\n",
      " [    1.      83.34]\n",
      " [    1.      45.1 ]\n",
      " [    1.      54.74]\n",
      " [    1.     128.09]\n",
      " [    1.      67.22]\n",
      " [    1.      69.37]\n",
      " [    1.     191.91]\n",
      " [    1.     372.66]\n",
      " [    1.     122.43]\n",
      " [    1.      47.67]\n",
      " [    1.     175.08]\n",
      " [    1.     203.94]\n",
      " [    1.      25.76]\n",
      " [    1.      81.16]\n",
      " [    1.      76.42]\n",
      " [    1.      30.68]\n",
      " [    1.     236.69]\n",
      " [    1.      58.94]\n",
      " [    1.      40.59]\n",
      " [    1.     110.44]\n",
      " [    1.     417.76]\n",
      " [    1.     288.34]\n",
      " [    1.     107.3 ]\n",
      " [    1.      48.5 ]\n",
      " [    1.     197.46]\n",
      " [    1.     366.77]\n",
      " [    1.     691.5 ]\n",
      " [    1.     105.79]\n",
      " [    1.     417.39]\n",
      " [    1.     203.9 ]\n",
      " [    1.     291.58]\n",
      " [    1.     103.79]\n",
      " [    1.      67.59]\n",
      " [    1.      46.83]\n",
      " [    1.     202.27]\n",
      " [    1.      71.53]\n",
      " [    1.     122.2 ]\n",
      " [    1.      84.01]\n",
      " [    1.     296.44]\n",
      " [    1.      79.86]\n",
      " [    1.    1154.3 ]\n",
      " [    1.     520.9 ]\n",
      " [    1.      37.75]\n",
      " [    1.     235.29]\n",
      " [    1.      90.14]\n",
      " [    1.     119.06]\n",
      " [    1.      87.01]\n",
      " [    1.     112.8 ]\n",
      " [    1.     508.79]\n",
      " [    1.     121.51]\n",
      " [    1.     531.44]\n",
      " [    1.     263.64]\n",
      " [    1.      67.66]\n",
      " [    1.    1017.86]\n",
      " [    1.      39.08]\n",
      " [    1.      59.27]\n",
      " [    1.     238.85]\n",
      " [    1.     165.43]\n",
      " [    1.     133.14]\n",
      " [    1.     250.17]\n",
      " [    1.      58.09]\n",
      " [    1.     130.6 ]\n",
      " [    1.     590.03]\n",
      " [    1.      21.08]\n",
      " [    1.     162.89]\n",
      " [    1.     368.62]\n",
      " [    1.     459.37]\n",
      " [    1.      59.98]\n",
      " [    1.      21.11]\n",
      " [    1.      56.77]\n",
      " [    1.      20.9 ]\n",
      " [    1.      94.64]\n",
      " [    1.      56.44]\n",
      " [    1.    1794.8 ]\n",
      " [    1.      28.83]\n",
      " [    1.     556.89]\n",
      " [    1.      68.07]\n",
      " [    1.     239.6 ]\n",
      " [    1.      36.49]\n",
      " [    1.      76.48]\n",
      " [    1.     193.24]\n",
      " [    1.     210.57]\n",
      " [    1.      74.79]\n",
      " [    1.     293.02]\n",
      " [    1.      73.23]\n",
      " [    1.     365.79]\n",
      " [    1.     248.44]\n",
      " [    1.      26.64]\n",
      " [    1.     203.12]\n",
      " [    1.     233.35]\n",
      " [    1.     320.87]\n",
      " [    1.      42.05]\n",
      " [    1.     122.98]\n",
      " [    1.    1448.79]\n",
      " [    1.     573.91]\n",
      " [    1.      94.05]\n",
      " [    1.     188.15]\n",
      " [    1.      87.38]\n",
      " [    1.     372.3 ]\n",
      " [    1.      54.88]\n",
      " [    1.      20.54]\n",
      " [    1.     532.94]\n",
      " [    1.     221.63]\n",
      " [    1.      90.94]\n",
      " [    1.      32.79]\n",
      " [    1.      48.28]\n",
      " [    1.      72.39]\n",
      " [    1.      65.2 ]\n",
      " [    1.      97.07]\n",
      " [    1.      95.79]\n",
      " [    1.      72.15]\n",
      " [    1.     270.58]\n",
      " [    1.     408.75]\n",
      " [    1.      60.16]\n",
      " [    1.      70.03]\n",
      " [    1.      71.28]\n",
      " [    1.     119.45]\n",
      " [    1.      30.53]\n",
      " [    1.     254.73]\n",
      " [    1.      96.98]\n",
      " [    1.      29.26]\n",
      " [    1.     131.66]\n",
      " [    1.      53.7 ]\n",
      " [    1.      86.24]\n",
      " [    1.     978.76]\n",
      " [    1.     107.45]\n",
      " [    1.     126.52]\n",
      " [    1.     135.79]\n",
      " [    1.     138.4 ]\n",
      " [    1.     665.02]\n",
      " [    1.      52.45]\n",
      " [    1.      87.33]\n",
      " [    1.     225.4 ]\n",
      " [    1.     261.87]\n",
      " [    1.      97.6 ]\n",
      " [    1.      81.59]\n",
      " [    1.      29.48]\n",
      " [    1.     263.34]\n",
      " [    1.     162.2 ]\n",
      " [    1.     127.56]\n",
      " [    1.     154.9 ]\n",
      " [    1.     298.63]\n",
      " [    1.     432.52]\n",
      " [    1.     233.13]\n",
      " [    1.      12.79]\n",
      " [    1.     145.2 ]\n",
      " [    1.      41.18]\n",
      " [    1.     142.54]\n",
      " [    1.      92.29]\n",
      " [    1.    2492.7 ]\n",
      " [    1.      21.61]\n",
      " [    1.      28.96]\n",
      " [    1.      96.74]\n",
      " [    1.     229.43]\n",
      " [    1.     226.76]\n",
      " [    1.     165.63]\n",
      " [    1.    1026.65]\n",
      " [    1.      86.91]\n",
      " [    1.      94.63]\n",
      " [    1.     460.97]\n",
      " [    1.     117.24]\n",
      " [    1.      68.48]\n",
      " [    1.      20.63]\n",
      " [    1.     130.55]\n",
      " [    1.      22.14]\n",
      " [    1.    1177.8 ]\n",
      " [    0.    3907.33]\n",
      " [    1.      81.22]\n",
      " [    1.      57.38]\n",
      " [    1.     114.03]\n",
      " [    1.      87.62]\n",
      " [    1.      44.4 ]\n",
      " [    1.     117.85]\n",
      " [    1.     121.78]\n",
      " [    1.      80.2 ]\n",
      " [    1.     475.53]\n",
      " [    1.     349.24]\n",
      " [    1.     306.58]\n",
      " [    1.     428.51]\n",
      " [    1.     482.09]\n",
      " [    1.     145.39]\n",
      " [    1.      62.89]\n",
      " [    1.     688.92]\n",
      " [    1.      41.77]\n",
      " [    1.      63.94]\n",
      " [    1.      41.03]\n",
      " [    1.     106.88]\n",
      " [    1.      92.42]\n",
      " [    1.     124.54]\n",
      " [    1.     446.3 ]\n",
      " [    1.     111.41]\n",
      " [    1.     811.79]\n",
      " [    1.     309.9 ]\n",
      " [    1.     141.62]\n",
      " [    1.      62.19]\n",
      " [    1.     118.78]\n",
      " [    1.     422.1 ]\n",
      " [    1.     112.39]\n",
      " [    1.     117.2 ]\n",
      " [    1.      55.21]\n",
      " [    1.      63.9 ]\n",
      " [    1.     107.46]\n",
      " [    1.      61.41]\n",
      " [    1.     414.52]\n",
      " [    1.     212.42]\n",
      " [    1.      80.22]\n",
      " [    1.     342.83]\n",
      " [    1.      21.57]\n",
      " [    1.     132.37]\n",
      " [    1.     237.7 ]\n",
      " [    1.      92.8 ]\n",
      " [    1.     121.6 ]\n",
      " [    1.      61.52]\n",
      " [    1.      75.38]\n",
      " [    1.      50.78]\n",
      " [    1.     129.21]\n",
      " [    1.      81.71]\n",
      " [    1.      64.1 ]\n",
      " [    1.     122.83]\n",
      " [    1.     507.06]\n",
      " [    1.     738.62]\n",
      " [    1.     111.94]\n",
      " [    1.      74.94]\n",
      " [    1.      41.11]\n",
      " [    1.      75.46]\n",
      " [    1.     303.6 ]\n",
      " [    1.      88.63]\n",
      " [    1.      97.85]\n",
      " [    1.     399.88]\n",
      " [    1.     167.25]\n",
      " [    1.      40.67]\n",
      " [    1.     142.4 ]\n",
      " [    1.      76.58]\n",
      " [    1.      82.18]\n",
      " [    1.      65.63]\n",
      " [    1.      57.48]\n",
      " [    1.     124.1 ]\n",
      " [    1.      93.78]\n",
      " [    1.      46.5 ]\n",
      " [    1.     283.7 ]\n",
      " [    0.    6746.67]\n",
      " [    1.     127.95]\n",
      " [    1.      76.28]\n",
      " [    1.      42.7 ]\n",
      " [    1.     197.91]\n",
      " [    1.     171.7 ]\n",
      " [    1.      49.41]\n",
      " [    1.     193.62]\n",
      " [    0.    2142.67]\n",
      " [    1.      96.82]\n",
      " [    1.     478.02]\n",
      " [    1.     482.51]\n",
      " [    1.      36.14]\n",
      " [    1.     338.76]\n",
      " [    1.      35.76]\n",
      " [    1.     305.38]\n",
      " [    1.     150.25]\n",
      " [    1.     350.31]\n",
      " [    1.      98.27]\n",
      " [    1.      82.86]\n",
      " [    1.      96.93]\n",
      " [    1.      45.53]\n",
      " [    1.     127.56]\n",
      " [    1.     187.96]\n",
      " [    1.     299.31]\n",
      " [    1.     202.9 ]\n",
      " [    1.      18.11]\n",
      " [    1.      93.99]\n",
      " [    1.     201.61]\n",
      " [    1.      41.04]\n",
      " [    1.      51.1 ]\n",
      " [    1.      72.2 ]\n",
      " [    1.    1649.74]\n",
      " [    1.      45.48]\n",
      " [    1.     262.86]\n",
      " [    1.     210.56]\n",
      " [    1.     147.58]\n",
      " [    1.     151.74]\n",
      " [    1.      53.2 ]\n",
      " [    1.      46.58]\n",
      " [    1.     158.23]\n",
      " [    1.     590.4 ]\n",
      " [    1.      76.05]\n",
      " [    1.     943.22]\n",
      " [    1.     116.39]\n",
      " [    1.     140.39]\n",
      " [    1.     169.53]\n",
      " [    1.      46.53]\n",
      " [    1.      51.66]\n",
      " [    1.      65.49]\n",
      " [    1.     292.98]\n",
      " [    1.     190.12]\n",
      " [    1.     254.06]\n",
      " [    1.      80.21]\n",
      " [    1.     103.4 ]\n",
      " [    1.      51.28]\n",
      " [    1.      17.09]\n",
      " [    1.     612.43]\n",
      " [    1.      45.  ]\n",
      " [    1.      49.94]\n",
      " [    1.     302.8 ]\n",
      " [    1.     240.1 ]\n",
      " [    1.     187.78]\n",
      " [    1.      74.68]\n",
      " [    1.     860.42]\n",
      " [    1.      40.24]\n",
      " [    1.     513.71]\n",
      " [    1.     288.63]\n",
      " [    1.      77.93]\n",
      " [    1.      30.22]\n",
      " [    1.      63.22]\n",
      " [    1.      55.71]\n",
      " [    1.    1161.47]\n",
      " [    1.      88.19]\n",
      " [    1.      41.92]\n",
      " [    1.     165.29]\n",
      " [    1.      74.67]\n",
      " [    1.      30.79]\n",
      " [    1.      66.83]\n",
      " [    1.     682.06]\n",
      " [    1.      31.02]\n",
      " [    1.     112.65]\n",
      " [    1.      75.86]\n",
      " [    1.     227.53]\n",
      " [    1.      88.23]\n",
      " [    1.      84.5 ]\n",
      " [    1.     118.13]\n",
      " [    1.      50.73]\n",
      " [    1.      69.92]\n",
      " [    1.      73.09]\n",
      " [    1.      60.54]\n",
      " [    1.      52.53]\n",
      " [    1.     123.27]\n",
      " [    1.     424.37]\n",
      " [    1.    2140.82]\n",
      " [    1.     112.24]\n",
      " [    1.     144.74]\n",
      " [    1.     279.27]\n",
      " [    1.      45.38]\n",
      " [    1.      72.26]\n",
      " [    1.     112.64]\n",
      " [    2.       0.  ]\n",
      " [    1.     305.08]\n",
      " [    1.      65.3 ]\n",
      " [    1.      97.37]\n",
      " [    1.      57.63]\n",
      " [    1.     122.66]\n",
      " [    1.      91.06]\n",
      " [    1.     156.39]\n",
      " [    1.     117.96]\n",
      " [    1.     842.58]\n",
      " [    1.      57.13]\n",
      " [    0.   10258.33]\n",
      " [    1.      28.8 ]\n",
      " [    1.     540.55]\n",
      " [    0.    2015.  ]\n",
      " [    1.      40.31]\n",
      " [    1.      33.79]\n",
      " [    1.     268.46]\n",
      " [    1.     329.4 ]\n",
      " [    1.    5728.79]\n",
      " [    1.     206.38]\n",
      " [    1.     266.07]\n",
      " [    1.     151.32]\n",
      " [    1.     194.47]\n",
      " [    1.      74.22]\n",
      " [    1.      74.01]\n",
      " [    1.     134.82]\n",
      " [    1.     258.59]\n",
      " [    1.      94.81]\n",
      " [    1.     111.15]\n",
      " [    1.     134.23]\n",
      " [    1.     257.1 ]\n",
      " [    1.     229.66]\n",
      " [    1.     140.63]\n",
      " [    1.     318.16]\n",
      " [    1.     133.57]\n",
      " [    1.      40.07]\n",
      " [    1.     128.51]\n",
      " [    1.     237.64]\n",
      " [    1.      69.13]\n",
      " [    1.     458.44]\n",
      " [    1.      63.97]\n",
      " [    1.      37.24]\n",
      " [    1.     164.87]\n",
      " [    1.      33.44]\n",
      " [    1.     242.4 ]\n",
      " [    1.      69.34]\n",
      " [    1.     334.  ]\n",
      " [    1.      19.54]\n",
      " [    1.     109.87]\n",
      " [    1.      69.94]\n",
      " [    1.      32.3 ]]\n"
     ]
    }
   ],
   "source": [
    "print(myCentroids, clustAssing)"
   ]
  },
  {
   "cell_type": "code",
   "execution_count": 103,
   "metadata": {},
   "outputs": [],
   "source": [
    "y_test = np.array(y_test).flatten()"
   ]
  },
  {
   "cell_type": "code",
   "execution_count": 104,
   "metadata": {},
   "outputs": [
    {
     "data": {
      "text/plain": [
       "(500,)"
      ]
     },
     "execution_count": 104,
     "metadata": {},
     "output_type": "execute_result"
    }
   ],
   "source": [
    "y_test.shape"
   ]
  },
  {
   "cell_type": "code",
   "execution_count": 105,
   "metadata": {},
   "outputs": [],
   "source": [
    "clusters = pd.DataFrame(clustAssing, columns = ['Cluster','Dist'])\n"
   ]
  },
  {
   "cell_type": "code",
   "execution_count": 106,
   "metadata": {},
   "outputs": [],
   "source": [
    "newC = clusters[\"Cluster\"].astype(int)\n"
   ]
  },
  {
   "cell_type": "code",
   "execution_count": 107,
   "metadata": {},
   "outputs": [
    {
     "name": "stdout",
     "output_type": "stream",
     "text": [
      "0.15775237296548544\n"
     ]
    }
   ],
   "source": [
    "print(completeness_score(y_test,newC))"
   ]
  },
  {
   "cell_type": "code",
   "execution_count": 108,
   "metadata": {},
   "outputs": [
    {
     "name": "stdout",
     "output_type": "stream",
     "text": [
      "0.007790507655794082\n"
     ]
    }
   ],
   "source": [
    "print(homogeneity_score(y_test,newC))"
   ]
  },
  {
   "cell_type": "markdown",
   "metadata": {},
   "source": [
    "# As can be seen above, the testing dataset had a much lower completeness and homogenity score, indicating that overall many points are not the in the same clusters and that the clusters do not all contain points of the same class."
   ]
  },
  {
   "cell_type": "code",
   "execution_count": null,
   "metadata": {},
   "outputs": [],
   "source": []
  }
 ],
 "metadata": {
  "kernelspec": {
   "display_name": "Python 3",
   "language": "python",
   "name": "python3"
  },
  "language_info": {
   "codemirror_mode": {
    "name": "ipython",
    "version": 3
   },
   "file_extension": ".py",
   "mimetype": "text/x-python",
   "name": "python",
   "nbconvert_exporter": "python",
   "pygments_lexer": "ipython3",
   "version": "3.8.3"
  }
 },
 "nbformat": 4,
 "nbformat_minor": 4
}
