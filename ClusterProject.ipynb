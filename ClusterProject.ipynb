{
 "cells": [
  {
   "cell_type": "markdown",
   "metadata": {},
   "source": [
    "# KMeans Clustering"
   ]
  },
  {
   "cell_type": "markdown",
   "metadata": {},
   "source": [
    "### Importing necessary packages and preprocessing of data"
   ]
  },
  {
   "cell_type": "code",
   "execution_count": 1,
   "metadata": {
    "scrolled": true
   },
   "outputs": [],
   "source": [
    "import numpy as np\n",
    "import pandas as pd\n",
    "import matplotlib.pyplot as plt\n",
    "from sklearn.cluster import KMeans \n",
    "from sklearn.metrics import completeness_score, homogeneity_score\n"
   ]
  },
  {
   "cell_type": "code",
   "execution_count": 2,
   "metadata": {},
   "outputs": [],
   "source": [
    "train = pd.read_csv('train_data_z.csv')\n",
    "test = pd.read_csv('test_data_z.csv')\n",
    "train_target = pd.read_csv('train_target.csv')\n",
    "test_target = pd.read_csv('test_target.csv')"
   ]
  },
  {
   "cell_type": "code",
   "execution_count": 3,
   "metadata": {},
   "outputs": [],
   "source": [
    "train_names = list(train.columns)\n",
    "del train_names[0]\n"
   ]
  },
  {
   "cell_type": "code",
   "execution_count": 4,
   "metadata": {},
   "outputs": [
    {
     "data": {
      "text/plain": [
       "['battery_power',\n",
       " 'blue',\n",
       " 'clock_speed',\n",
       " 'dual_sim',\n",
       " 'fc',\n",
       " 'four_g',\n",
       " 'int_memory',\n",
       " 'm_dep',\n",
       " 'mobile_wt',\n",
       " 'n_cores',\n",
       " 'pc',\n",
       " 'ram',\n",
       " 'talk_time',\n",
       " 'touch_screen',\n",
       " 'wifi']"
      ]
     },
     "execution_count": 4,
     "metadata": {},
     "output_type": "execute_result"
    }
   ],
   "source": [
    "train_names"
   ]
  },
  {
   "cell_type": "code",
   "execution_count": 5,
   "metadata": {},
   "outputs": [
    {
     "data": {
      "text/plain": [
       "<bound method NDFrame.head of      Unnamed: 0  battery_power      blue  clock_speed  dual_sim        fc  \\\n",
       "0             0       1.169260 -0.387546    -0.385878 -0.385693 -0.376426   \n",
       "1             1       3.124485 -0.439235    -0.429522 -0.435886 -0.435886   \n",
       "2             2       0.894237 -0.354732    -0.353609 -0.354732 -0.347589   \n",
       "3             3       3.274871 -0.430102    -0.431795 -0.433489 -0.419942   \n",
       "4             4       2.044517 -0.430668    -0.431485 -0.430668 -0.414312   \n",
       "..          ...            ...       ...          ...       ...       ...   \n",
       "395         395       0.670650 -0.351342    -0.352171 -0.351342 -0.349686   \n",
       "396         396       1.417180 -0.408184    -0.404450 -0.405988 -0.392808   \n",
       "397         397       2.336974 -0.409827    -0.410263 -0.411279 -0.404017   \n",
       "398         398       1.975063 -0.404009    -0.400199 -0.404009 -0.404009   \n",
       "399         399       3.451721 -0.379681    -0.380839 -0.379681 -0.368099   \n",
       "\n",
       "       four_g  int_memory     m_dep  mobile_wt   n_cores        pc       ram  \\\n",
       "0   -0.387546   -0.326386 -0.386249  -0.109545 -0.376426 -0.374573  3.452576   \n",
       "1   -0.435886   -0.325357 -0.438565   0.177047 -0.419139 -0.395693  1.751247   \n",
       "2   -0.355752   -0.342487 -0.355242  -0.237386 -0.351670 -0.343507  3.558500   \n",
       "3   -0.433489   -0.281090 -0.431795   0.233677 -0.430102 -0.416555  1.463024   \n",
       "4   -0.433393   -0.305273 -0.433121  -0.035401 -0.425216 -0.408860  2.957718   \n",
       "..        ...         ...       ...        ...       ...       ...       ...   \n",
       "395 -0.351342   -0.258585 -0.352667  -0.207236 -0.348030 -0.341404  3.620680   \n",
       "396 -0.405988   -0.351073 -0.406647  -0.019389 -0.397202 -0.384022  3.334800   \n",
       "397 -0.411279   -0.343009 -0.410698  -0.251497 -0.405469 -0.396754  2.743693   \n",
       "398 -0.404009   -0.360657 -0.403746  -0.230603 -0.393499 -0.401381  3.024692   \n",
       "399 -0.379681   -0.372732 -0.381766  -0.138771 -0.375048 -0.354200  1.176971   \n",
       "\n",
       "     talk_time  touch_screen      wifi  \n",
       "0    -0.352332     -0.385693 -0.387546  \n",
       "1    -0.419139     -0.439235 -0.439235  \n",
       "2    -0.344528     -0.355752 -0.355752  \n",
       "3    -0.399622     -0.430102 -0.433489  \n",
       "4    -0.389778     -0.430668 -0.433393  \n",
       "..         ...           ...       ...  \n",
       "395  -0.324840     -0.351342 -0.351342  \n",
       "396  -0.364253     -0.405988 -0.405988  \n",
       "397  -0.406922     -0.409827 -0.409827  \n",
       "398  -0.386931     -0.402695 -0.404009  \n",
       "399  -0.354200     -0.381997 -0.381997  \n",
       "\n",
       "[400 rows x 16 columns]>"
      ]
     },
     "execution_count": 5,
     "metadata": {},
     "output_type": "execute_result"
    }
   ],
   "source": [
    "test.head"
   ]
  },
  {
   "cell_type": "code",
   "execution_count": 6,
   "metadata": {},
   "outputs": [
    {
     "data": {
      "text/html": [
       "<div>\n",
       "<style scoped>\n",
       "    .dataframe tbody tr th:only-of-type {\n",
       "        vertical-align: middle;\n",
       "    }\n",
       "\n",
       "    .dataframe tbody tr th {\n",
       "        vertical-align: top;\n",
       "    }\n",
       "\n",
       "    .dataframe thead th {\n",
       "        text-align: right;\n",
       "    }\n",
       "</style>\n",
       "<table border=\"1\" class=\"dataframe\">\n",
       "  <thead>\n",
       "    <tr style=\"text-align: right;\">\n",
       "      <th></th>\n",
       "      <th>battery_power</th>\n",
       "      <th>blue</th>\n",
       "      <th>clock_speed</th>\n",
       "      <th>dual_sim</th>\n",
       "      <th>fc</th>\n",
       "      <th>four_g</th>\n",
       "      <th>int_memory</th>\n",
       "      <th>m_dep</th>\n",
       "      <th>mobile_wt</th>\n",
       "      <th>n_cores</th>\n",
       "      <th>pc</th>\n",
       "      <th>ram</th>\n",
       "      <th>talk_time</th>\n",
       "      <th>touch_screen</th>\n",
       "      <th>wifi</th>\n",
       "    </tr>\n",
       "  </thead>\n",
       "  <tbody>\n",
       "    <tr>\n",
       "      <th>0</th>\n",
       "      <td>1.169260</td>\n",
       "      <td>-0.387546</td>\n",
       "      <td>-0.385878</td>\n",
       "      <td>-0.385693</td>\n",
       "      <td>-0.376426</td>\n",
       "      <td>-0.387546</td>\n",
       "      <td>-0.326386</td>\n",
       "      <td>-0.386249</td>\n",
       "      <td>-0.109545</td>\n",
       "      <td>-0.376426</td>\n",
       "      <td>-0.374573</td>\n",
       "      <td>3.452576</td>\n",
       "      <td>-0.352332</td>\n",
       "      <td>-0.385693</td>\n",
       "      <td>-0.387546</td>\n",
       "    </tr>\n",
       "    <tr>\n",
       "      <th>1</th>\n",
       "      <td>3.124485</td>\n",
       "      <td>-0.439235</td>\n",
       "      <td>-0.429522</td>\n",
       "      <td>-0.435886</td>\n",
       "      <td>-0.435886</td>\n",
       "      <td>-0.435886</td>\n",
       "      <td>-0.325357</td>\n",
       "      <td>-0.438565</td>\n",
       "      <td>0.177047</td>\n",
       "      <td>-0.419139</td>\n",
       "      <td>-0.395693</td>\n",
       "      <td>1.751247</td>\n",
       "      <td>-0.419139</td>\n",
       "      <td>-0.439235</td>\n",
       "      <td>-0.439235</td>\n",
       "    </tr>\n",
       "    <tr>\n",
       "      <th>2</th>\n",
       "      <td>0.894237</td>\n",
       "      <td>-0.354732</td>\n",
       "      <td>-0.353609</td>\n",
       "      <td>-0.354732</td>\n",
       "      <td>-0.347589</td>\n",
       "      <td>-0.355752</td>\n",
       "      <td>-0.342487</td>\n",
       "      <td>-0.355242</td>\n",
       "      <td>-0.237386</td>\n",
       "      <td>-0.351670</td>\n",
       "      <td>-0.343507</td>\n",
       "      <td>3.558500</td>\n",
       "      <td>-0.344528</td>\n",
       "      <td>-0.355752</td>\n",
       "      <td>-0.355752</td>\n",
       "    </tr>\n",
       "    <tr>\n",
       "      <th>3</th>\n",
       "      <td>3.274871</td>\n",
       "      <td>-0.430102</td>\n",
       "      <td>-0.431795</td>\n",
       "      <td>-0.433489</td>\n",
       "      <td>-0.419942</td>\n",
       "      <td>-0.433489</td>\n",
       "      <td>-0.281090</td>\n",
       "      <td>-0.431795</td>\n",
       "      <td>0.233677</td>\n",
       "      <td>-0.430102</td>\n",
       "      <td>-0.416555</td>\n",
       "      <td>1.463024</td>\n",
       "      <td>-0.399622</td>\n",
       "      <td>-0.430102</td>\n",
       "      <td>-0.433489</td>\n",
       "    </tr>\n",
       "    <tr>\n",
       "      <th>4</th>\n",
       "      <td>2.044517</td>\n",
       "      <td>-0.430668</td>\n",
       "      <td>-0.431485</td>\n",
       "      <td>-0.430668</td>\n",
       "      <td>-0.414312</td>\n",
       "      <td>-0.433393</td>\n",
       "      <td>-0.305273</td>\n",
       "      <td>-0.433121</td>\n",
       "      <td>-0.035401</td>\n",
       "      <td>-0.425216</td>\n",
       "      <td>-0.408860</td>\n",
       "      <td>2.957718</td>\n",
       "      <td>-0.389778</td>\n",
       "      <td>-0.430668</td>\n",
       "      <td>-0.433393</td>\n",
       "    </tr>\n",
       "    <tr>\n",
       "      <th>...</th>\n",
       "      <td>...</td>\n",
       "      <td>...</td>\n",
       "      <td>...</td>\n",
       "      <td>...</td>\n",
       "      <td>...</td>\n",
       "      <td>...</td>\n",
       "      <td>...</td>\n",
       "      <td>...</td>\n",
       "      <td>...</td>\n",
       "      <td>...</td>\n",
       "      <td>...</td>\n",
       "      <td>...</td>\n",
       "      <td>...</td>\n",
       "      <td>...</td>\n",
       "      <td>...</td>\n",
       "    </tr>\n",
       "    <tr>\n",
       "      <th>395</th>\n",
       "      <td>0.670650</td>\n",
       "      <td>-0.351342</td>\n",
       "      <td>-0.352171</td>\n",
       "      <td>-0.351342</td>\n",
       "      <td>-0.349686</td>\n",
       "      <td>-0.351342</td>\n",
       "      <td>-0.258585</td>\n",
       "      <td>-0.352667</td>\n",
       "      <td>-0.207236</td>\n",
       "      <td>-0.348030</td>\n",
       "      <td>-0.341404</td>\n",
       "      <td>3.620680</td>\n",
       "      <td>-0.324840</td>\n",
       "      <td>-0.351342</td>\n",
       "      <td>-0.351342</td>\n",
       "    </tr>\n",
       "    <tr>\n",
       "      <th>396</th>\n",
       "      <td>1.417180</td>\n",
       "      <td>-0.408184</td>\n",
       "      <td>-0.404450</td>\n",
       "      <td>-0.405988</td>\n",
       "      <td>-0.392808</td>\n",
       "      <td>-0.405988</td>\n",
       "      <td>-0.351073</td>\n",
       "      <td>-0.406647</td>\n",
       "      <td>-0.019389</td>\n",
       "      <td>-0.397202</td>\n",
       "      <td>-0.384022</td>\n",
       "      <td>3.334800</td>\n",
       "      <td>-0.364253</td>\n",
       "      <td>-0.405988</td>\n",
       "      <td>-0.405988</td>\n",
       "    </tr>\n",
       "    <tr>\n",
       "      <th>397</th>\n",
       "      <td>2.336974</td>\n",
       "      <td>-0.409827</td>\n",
       "      <td>-0.410263</td>\n",
       "      <td>-0.411279</td>\n",
       "      <td>-0.404017</td>\n",
       "      <td>-0.411279</td>\n",
       "      <td>-0.343009</td>\n",
       "      <td>-0.410698</td>\n",
       "      <td>-0.251497</td>\n",
       "      <td>-0.405469</td>\n",
       "      <td>-0.396754</td>\n",
       "      <td>2.743693</td>\n",
       "      <td>-0.406922</td>\n",
       "      <td>-0.409827</td>\n",
       "      <td>-0.409827</td>\n",
       "    </tr>\n",
       "    <tr>\n",
       "      <th>398</th>\n",
       "      <td>1.975063</td>\n",
       "      <td>-0.404009</td>\n",
       "      <td>-0.400199</td>\n",
       "      <td>-0.404009</td>\n",
       "      <td>-0.404009</td>\n",
       "      <td>-0.404009</td>\n",
       "      <td>-0.360657</td>\n",
       "      <td>-0.403746</td>\n",
       "      <td>-0.230603</td>\n",
       "      <td>-0.393499</td>\n",
       "      <td>-0.401381</td>\n",
       "      <td>3.024692</td>\n",
       "      <td>-0.386931</td>\n",
       "      <td>-0.402695</td>\n",
       "      <td>-0.404009</td>\n",
       "    </tr>\n",
       "    <tr>\n",
       "      <th>399</th>\n",
       "      <td>3.451721</td>\n",
       "      <td>-0.379681</td>\n",
       "      <td>-0.380839</td>\n",
       "      <td>-0.379681</td>\n",
       "      <td>-0.368099</td>\n",
       "      <td>-0.379681</td>\n",
       "      <td>-0.372732</td>\n",
       "      <td>-0.381766</td>\n",
       "      <td>-0.138771</td>\n",
       "      <td>-0.375048</td>\n",
       "      <td>-0.354200</td>\n",
       "      <td>1.176971</td>\n",
       "      <td>-0.354200</td>\n",
       "      <td>-0.381997</td>\n",
       "      <td>-0.381997</td>\n",
       "    </tr>\n",
       "  </tbody>\n",
       "</table>\n",
       "<p>400 rows × 15 columns</p>\n",
       "</div>"
      ],
      "text/plain": [
       "     battery_power      blue  clock_speed  dual_sim        fc    four_g  \\\n",
       "0         1.169260 -0.387546    -0.385878 -0.385693 -0.376426 -0.387546   \n",
       "1         3.124485 -0.439235    -0.429522 -0.435886 -0.435886 -0.435886   \n",
       "2         0.894237 -0.354732    -0.353609 -0.354732 -0.347589 -0.355752   \n",
       "3         3.274871 -0.430102    -0.431795 -0.433489 -0.419942 -0.433489   \n",
       "4         2.044517 -0.430668    -0.431485 -0.430668 -0.414312 -0.433393   \n",
       "..             ...       ...          ...       ...       ...       ...   \n",
       "395       0.670650 -0.351342    -0.352171 -0.351342 -0.349686 -0.351342   \n",
       "396       1.417180 -0.408184    -0.404450 -0.405988 -0.392808 -0.405988   \n",
       "397       2.336974 -0.409827    -0.410263 -0.411279 -0.404017 -0.411279   \n",
       "398       1.975063 -0.404009    -0.400199 -0.404009 -0.404009 -0.404009   \n",
       "399       3.451721 -0.379681    -0.380839 -0.379681 -0.368099 -0.379681   \n",
       "\n",
       "     int_memory     m_dep  mobile_wt   n_cores        pc       ram  talk_time  \\\n",
       "0     -0.326386 -0.386249  -0.109545 -0.376426 -0.374573  3.452576  -0.352332   \n",
       "1     -0.325357 -0.438565   0.177047 -0.419139 -0.395693  1.751247  -0.419139   \n",
       "2     -0.342487 -0.355242  -0.237386 -0.351670 -0.343507  3.558500  -0.344528   \n",
       "3     -0.281090 -0.431795   0.233677 -0.430102 -0.416555  1.463024  -0.399622   \n",
       "4     -0.305273 -0.433121  -0.035401 -0.425216 -0.408860  2.957718  -0.389778   \n",
       "..          ...       ...        ...       ...       ...       ...        ...   \n",
       "395   -0.258585 -0.352667  -0.207236 -0.348030 -0.341404  3.620680  -0.324840   \n",
       "396   -0.351073 -0.406647  -0.019389 -0.397202 -0.384022  3.334800  -0.364253   \n",
       "397   -0.343009 -0.410698  -0.251497 -0.405469 -0.396754  2.743693  -0.406922   \n",
       "398   -0.360657 -0.403746  -0.230603 -0.393499 -0.401381  3.024692  -0.386931   \n",
       "399   -0.372732 -0.381766  -0.138771 -0.375048 -0.354200  1.176971  -0.354200   \n",
       "\n",
       "     touch_screen      wifi  \n",
       "0       -0.385693 -0.387546  \n",
       "1       -0.439235 -0.439235  \n",
       "2       -0.355752 -0.355752  \n",
       "3       -0.430102 -0.433489  \n",
       "4       -0.430668 -0.433393  \n",
       "..            ...       ...  \n",
       "395     -0.351342 -0.351342  \n",
       "396     -0.405988 -0.405988  \n",
       "397     -0.409827 -0.409827  \n",
       "398     -0.402695 -0.404009  \n",
       "399     -0.381997 -0.381997  \n",
       "\n",
       "[400 rows x 15 columns]"
      ]
     },
     "execution_count": 6,
     "metadata": {},
     "output_type": "execute_result"
    }
   ],
   "source": [
    "test = test.drop(columns=['Unnamed: 0'])\n",
    "test"
   ]
  },
  {
   "cell_type": "code",
   "execution_count": 7,
   "metadata": {},
   "outputs": [
    {
     "data": {
      "text/html": [
       "<div>\n",
       "<style scoped>\n",
       "    .dataframe tbody tr th:only-of-type {\n",
       "        vertical-align: middle;\n",
       "    }\n",
       "\n",
       "    .dataframe tbody tr th {\n",
       "        vertical-align: top;\n",
       "    }\n",
       "\n",
       "    .dataframe thead th {\n",
       "        text-align: right;\n",
       "    }\n",
       "</style>\n",
       "<table border=\"1\" class=\"dataframe\">\n",
       "  <thead>\n",
       "    <tr style=\"text-align: right;\">\n",
       "      <th></th>\n",
       "      <th>battery_power</th>\n",
       "      <th>blue</th>\n",
       "      <th>clock_speed</th>\n",
       "      <th>dual_sim</th>\n",
       "      <th>fc</th>\n",
       "      <th>four_g</th>\n",
       "      <th>int_memory</th>\n",
       "      <th>m_dep</th>\n",
       "      <th>mobile_wt</th>\n",
       "      <th>n_cores</th>\n",
       "      <th>pc</th>\n",
       "      <th>ram</th>\n",
       "      <th>talk_time</th>\n",
       "      <th>touch_screen</th>\n",
       "      <th>wifi</th>\n",
       "    </tr>\n",
       "  </thead>\n",
       "  <tbody>\n",
       "    <tr>\n",
       "      <th>0</th>\n",
       "      <td>3.518773</td>\n",
       "      <td>-0.389060</td>\n",
       "      <td>-0.390599</td>\n",
       "      <td>-0.392137</td>\n",
       "      <td>-0.355213</td>\n",
       "      <td>-0.392137</td>\n",
       "      <td>-0.293672</td>\n",
       "      <td>-0.391829</td>\n",
       "      <td>-0.044432</td>\n",
       "      <td>-0.370598</td>\n",
       "      <td>-0.345982</td>\n",
       "      <td>0.977143</td>\n",
       "      <td>-0.349059</td>\n",
       "      <td>-0.392137</td>\n",
       "      <td>-0.389060</td>\n",
       "    </tr>\n",
       "    <tr>\n",
       "      <th>1</th>\n",
       "      <td>3.478740</td>\n",
       "      <td>-0.374512</td>\n",
       "      <td>-0.373483</td>\n",
       "      <td>-0.372454</td>\n",
       "      <td>-0.368337</td>\n",
       "      <td>-0.374512</td>\n",
       "      <td>-0.339520</td>\n",
       "      <td>-0.373071</td>\n",
       "      <td>-0.191318</td>\n",
       "      <td>-0.362162</td>\n",
       "      <td>-0.362162</td>\n",
       "      <td>1.115741</td>\n",
       "      <td>-0.355987</td>\n",
       "      <td>-0.374512</td>\n",
       "      <td>-0.372454</td>\n",
       "    </tr>\n",
       "    <tr>\n",
       "      <th>2</th>\n",
       "      <td>0.238224</td>\n",
       "      <td>-0.323850</td>\n",
       "      <td>-0.322328</td>\n",
       "      <td>-0.322763</td>\n",
       "      <td>-0.320589</td>\n",
       "      <td>-0.322763</td>\n",
       "      <td>-0.287973</td>\n",
       "      <td>-0.322980</td>\n",
       "      <td>-0.124896</td>\n",
       "      <td>-0.319501</td>\n",
       "      <td>-0.315153</td>\n",
       "      <td>3.703076</td>\n",
       "      <td>-0.311891</td>\n",
       "      <td>-0.323850</td>\n",
       "      <td>-0.322763</td>\n",
       "    </tr>\n",
       "    <tr>\n",
       "      <th>3</th>\n",
       "      <td>0.724021</td>\n",
       "      <td>-0.358123</td>\n",
       "      <td>-0.357073</td>\n",
       "      <td>-0.358123</td>\n",
       "      <td>-0.344115</td>\n",
       "      <td>-0.358123</td>\n",
       "      <td>-0.330107</td>\n",
       "      <td>-0.357773</td>\n",
       "      <td>-0.107724</td>\n",
       "      <td>-0.356372</td>\n",
       "      <td>-0.333609</td>\n",
       "      <td>3.602736</td>\n",
       "      <td>-0.351119</td>\n",
       "      <td>-0.356372</td>\n",
       "      <td>-0.358123</td>\n",
       "    </tr>\n",
       "    <tr>\n",
       "      <th>4</th>\n",
       "      <td>2.483225</td>\n",
       "      <td>-0.420429</td>\n",
       "      <td>-0.420769</td>\n",
       "      <td>-0.422129</td>\n",
       "      <td>-0.408529</td>\n",
       "      <td>-0.420429</td>\n",
       "      <td>-0.323527</td>\n",
       "      <td>-0.420769</td>\n",
       "      <td>-0.190925</td>\n",
       "      <td>-0.418729</td>\n",
       "      <td>-0.405129</td>\n",
       "      <td>2.605627</td>\n",
       "      <td>-0.393229</td>\n",
       "      <td>-0.422129</td>\n",
       "      <td>-0.422129</td>\n",
       "    </tr>\n",
       "    <tr>\n",
       "      <th>...</th>\n",
       "      <td>...</td>\n",
       "      <td>...</td>\n",
       "      <td>...</td>\n",
       "      <td>...</td>\n",
       "      <td>...</td>\n",
       "      <td>...</td>\n",
       "      <td>...</td>\n",
       "      <td>...</td>\n",
       "      <td>...</td>\n",
       "      <td>...</td>\n",
       "      <td>...</td>\n",
       "      <td>...</td>\n",
       "      <td>...</td>\n",
       "      <td>...</td>\n",
       "      <td>...</td>\n",
       "    </tr>\n",
       "    <tr>\n",
       "      <th>1595</th>\n",
       "      <td>1.007380</td>\n",
       "      <td>-0.368659</td>\n",
       "      <td>-0.366474</td>\n",
       "      <td>-0.368659</td>\n",
       "      <td>-0.358951</td>\n",
       "      <td>-0.369872</td>\n",
       "      <td>-0.317694</td>\n",
       "      <td>-0.369387</td>\n",
       "      <td>-0.178149</td>\n",
       "      <td>-0.368659</td>\n",
       "      <td>-0.356524</td>\n",
       "      <td>3.517982</td>\n",
       "      <td>-0.362591</td>\n",
       "      <td>-0.369872</td>\n",
       "      <td>-0.369872</td>\n",
       "    </tr>\n",
       "    <tr>\n",
       "      <th>1596</th>\n",
       "      <td>2.025564</td>\n",
       "      <td>-0.412625</td>\n",
       "      <td>-0.410175</td>\n",
       "      <td>-0.410992</td>\n",
       "      <td>-0.391395</td>\n",
       "      <td>-0.412625</td>\n",
       "      <td>-0.326072</td>\n",
       "      <td>-0.411808</td>\n",
       "      <td>-0.246051</td>\n",
       "      <td>-0.404460</td>\n",
       "      <td>-0.386496</td>\n",
       "      <td>2.989081</td>\n",
       "      <td>-0.379963</td>\n",
       "      <td>-0.410992</td>\n",
       "      <td>-0.410992</td>\n",
       "    </tr>\n",
       "    <tr>\n",
       "      <th>1597</th>\n",
       "      <td>1.811740</td>\n",
       "      <td>-0.406298</td>\n",
       "      <td>-0.400533</td>\n",
       "      <td>-0.403791</td>\n",
       "      <td>-0.406298</td>\n",
       "      <td>-0.403791</td>\n",
       "      <td>-0.368704</td>\n",
       "      <td>-0.405295</td>\n",
       "      <td>-0.148153</td>\n",
       "      <td>-0.388754</td>\n",
       "      <td>-0.406298</td>\n",
       "      <td>3.127525</td>\n",
       "      <td>-0.393766</td>\n",
       "      <td>-0.403791</td>\n",
       "      <td>-0.403791</td>\n",
       "    </tr>\n",
       "    <tr>\n",
       "      <th>1598</th>\n",
       "      <td>1.604449</td>\n",
       "      <td>-0.418832</td>\n",
       "      <td>-0.409670</td>\n",
       "      <td>-0.418832</td>\n",
       "      <td>-0.415014</td>\n",
       "      <td>-0.418832</td>\n",
       "      <td>-0.296671</td>\n",
       "      <td>-0.417687</td>\n",
       "      <td>-0.082891</td>\n",
       "      <td>-0.395927</td>\n",
       "      <td>-0.342482</td>\n",
       "      <td>3.242161</td>\n",
       "      <td>-0.395927</td>\n",
       "      <td>-0.415014</td>\n",
       "      <td>-0.418832</td>\n",
       "    </tr>\n",
       "    <tr>\n",
       "      <th>1599</th>\n",
       "      <td>3.645405</td>\n",
       "      <td>-0.340440</td>\n",
       "      <td>-0.340840</td>\n",
       "      <td>-0.340440</td>\n",
       "      <td>-0.338440</td>\n",
       "      <td>-0.340440</td>\n",
       "      <td>-0.328441</td>\n",
       "      <td>-0.341240</td>\n",
       "      <td>-0.166447</td>\n",
       "      <td>-0.326441</td>\n",
       "      <td>-0.334440</td>\n",
       "      <td>0.565525</td>\n",
       "      <td>-0.330440</td>\n",
       "      <td>-0.340440</td>\n",
       "      <td>-0.342440</td>\n",
       "    </tr>\n",
       "  </tbody>\n",
       "</table>\n",
       "<p>1600 rows × 15 columns</p>\n",
       "</div>"
      ],
      "text/plain": [
       "      battery_power      blue  clock_speed  dual_sim        fc    four_g  \\\n",
       "0          3.518773 -0.389060    -0.390599 -0.392137 -0.355213 -0.392137   \n",
       "1          3.478740 -0.374512    -0.373483 -0.372454 -0.368337 -0.374512   \n",
       "2          0.238224 -0.323850    -0.322328 -0.322763 -0.320589 -0.322763   \n",
       "3          0.724021 -0.358123    -0.357073 -0.358123 -0.344115 -0.358123   \n",
       "4          2.483225 -0.420429    -0.420769 -0.422129 -0.408529 -0.420429   \n",
       "...             ...       ...          ...       ...       ...       ...   \n",
       "1595       1.007380 -0.368659    -0.366474 -0.368659 -0.358951 -0.369872   \n",
       "1596       2.025564 -0.412625    -0.410175 -0.410992 -0.391395 -0.412625   \n",
       "1597       1.811740 -0.406298    -0.400533 -0.403791 -0.406298 -0.403791   \n",
       "1598       1.604449 -0.418832    -0.409670 -0.418832 -0.415014 -0.418832   \n",
       "1599       3.645405 -0.340440    -0.340840 -0.340440 -0.338440 -0.340440   \n",
       "\n",
       "      int_memory     m_dep  mobile_wt   n_cores        pc       ram  \\\n",
       "0      -0.293672 -0.391829  -0.044432 -0.370598 -0.345982  0.977143   \n",
       "1      -0.339520 -0.373071  -0.191318 -0.362162 -0.362162  1.115741   \n",
       "2      -0.287973 -0.322980  -0.124896 -0.319501 -0.315153  3.703076   \n",
       "3      -0.330107 -0.357773  -0.107724 -0.356372 -0.333609  3.602736   \n",
       "4      -0.323527 -0.420769  -0.190925 -0.418729 -0.405129  2.605627   \n",
       "...          ...       ...        ...       ...       ...       ...   \n",
       "1595   -0.317694 -0.369387  -0.178149 -0.368659 -0.356524  3.517982   \n",
       "1596   -0.326072 -0.411808  -0.246051 -0.404460 -0.386496  2.989081   \n",
       "1597   -0.368704 -0.405295  -0.148153 -0.388754 -0.406298  3.127525   \n",
       "1598   -0.296671 -0.417687  -0.082891 -0.395927 -0.342482  3.242161   \n",
       "1599   -0.328441 -0.341240  -0.166447 -0.326441 -0.334440  0.565525   \n",
       "\n",
       "      talk_time  touch_screen      wifi  \n",
       "0     -0.349059     -0.392137 -0.389060  \n",
       "1     -0.355987     -0.374512 -0.372454  \n",
       "2     -0.311891     -0.323850 -0.322763  \n",
       "3     -0.351119     -0.356372 -0.358123  \n",
       "4     -0.393229     -0.422129 -0.422129  \n",
       "...         ...           ...       ...  \n",
       "1595  -0.362591     -0.369872 -0.369872  \n",
       "1596  -0.379963     -0.410992 -0.410992  \n",
       "1597  -0.393766     -0.403791 -0.403791  \n",
       "1598  -0.395927     -0.415014 -0.418832  \n",
       "1599  -0.330440     -0.340440 -0.342440  \n",
       "\n",
       "[1600 rows x 15 columns]"
      ]
     },
     "execution_count": 7,
     "metadata": {},
     "output_type": "execute_result"
    }
   ],
   "source": [
    "train = train.drop(columns=['Unnamed: 0'])\n",
    "train"
   ]
  },
  {
   "cell_type": "code",
   "execution_count": 8,
   "metadata": {},
   "outputs": [
    {
     "data": {
      "text/html": [
       "<div>\n",
       "<style scoped>\n",
       "    .dataframe tbody tr th:only-of-type {\n",
       "        vertical-align: middle;\n",
       "    }\n",
       "\n",
       "    .dataframe tbody tr th {\n",
       "        vertical-align: top;\n",
       "    }\n",
       "\n",
       "    .dataframe thead th {\n",
       "        text-align: right;\n",
       "    }\n",
       "</style>\n",
       "<table border=\"1\" class=\"dataframe\">\n",
       "  <thead>\n",
       "    <tr style=\"text-align: right;\">\n",
       "      <th></th>\n",
       "      <th>price_range</th>\n",
       "    </tr>\n",
       "  </thead>\n",
       "  <tbody>\n",
       "    <tr>\n",
       "      <th>0</th>\n",
       "      <td>0</td>\n",
       "    </tr>\n",
       "    <tr>\n",
       "      <th>1</th>\n",
       "      <td>1</td>\n",
       "    </tr>\n",
       "    <tr>\n",
       "      <th>2</th>\n",
       "      <td>3</td>\n",
       "    </tr>\n",
       "    <tr>\n",
       "      <th>3</th>\n",
       "      <td>2</td>\n",
       "    </tr>\n",
       "    <tr>\n",
       "      <th>4</th>\n",
       "      <td>2</td>\n",
       "    </tr>\n",
       "    <tr>\n",
       "      <th>...</th>\n",
       "      <td>...</td>\n",
       "    </tr>\n",
       "    <tr>\n",
       "      <th>1595</th>\n",
       "      <td>3</td>\n",
       "    </tr>\n",
       "    <tr>\n",
       "      <th>1596</th>\n",
       "      <td>2</td>\n",
       "    </tr>\n",
       "    <tr>\n",
       "      <th>1597</th>\n",
       "      <td>0</td>\n",
       "    </tr>\n",
       "    <tr>\n",
       "      <th>1598</th>\n",
       "      <td>0</td>\n",
       "    </tr>\n",
       "    <tr>\n",
       "      <th>1599</th>\n",
       "      <td>0</td>\n",
       "    </tr>\n",
       "  </tbody>\n",
       "</table>\n",
       "<p>1600 rows × 1 columns</p>\n",
       "</div>"
      ],
      "text/plain": [
       "      price_range\n",
       "0               0\n",
       "1               1\n",
       "2               3\n",
       "3               2\n",
       "4               2\n",
       "...           ...\n",
       "1595            3\n",
       "1596            2\n",
       "1597            0\n",
       "1598            0\n",
       "1599            0\n",
       "\n",
       "[1600 rows x 1 columns]"
      ]
     },
     "execution_count": 8,
     "metadata": {},
     "output_type": "execute_result"
    }
   ],
   "source": [
    "train_target = train_target.drop(columns=['Unnamed: 0'])\n",
    "train_target"
   ]
  },
  {
   "cell_type": "code",
   "execution_count": 9,
   "metadata": {},
   "outputs": [
    {
     "data": {
      "text/html": [
       "<div>\n",
       "<style scoped>\n",
       "    .dataframe tbody tr th:only-of-type {\n",
       "        vertical-align: middle;\n",
       "    }\n",
       "\n",
       "    .dataframe tbody tr th {\n",
       "        vertical-align: top;\n",
       "    }\n",
       "\n",
       "    .dataframe thead th {\n",
       "        text-align: right;\n",
       "    }\n",
       "</style>\n",
       "<table border=\"1\" class=\"dataframe\">\n",
       "  <thead>\n",
       "    <tr style=\"text-align: right;\">\n",
       "      <th></th>\n",
       "      <th>price_range</th>\n",
       "    </tr>\n",
       "  </thead>\n",
       "  <tbody>\n",
       "    <tr>\n",
       "      <th>0</th>\n",
       "      <td>0</td>\n",
       "    </tr>\n",
       "    <tr>\n",
       "      <th>1</th>\n",
       "      <td>1</td>\n",
       "    </tr>\n",
       "    <tr>\n",
       "      <th>2</th>\n",
       "      <td>3</td>\n",
       "    </tr>\n",
       "    <tr>\n",
       "      <th>3</th>\n",
       "      <td>2</td>\n",
       "    </tr>\n",
       "    <tr>\n",
       "      <th>4</th>\n",
       "      <td>2</td>\n",
       "    </tr>\n",
       "    <tr>\n",
       "      <th>...</th>\n",
       "      <td>...</td>\n",
       "    </tr>\n",
       "    <tr>\n",
       "      <th>1595</th>\n",
       "      <td>3</td>\n",
       "    </tr>\n",
       "    <tr>\n",
       "      <th>1596</th>\n",
       "      <td>2</td>\n",
       "    </tr>\n",
       "    <tr>\n",
       "      <th>1597</th>\n",
       "      <td>0</td>\n",
       "    </tr>\n",
       "    <tr>\n",
       "      <th>1598</th>\n",
       "      <td>0</td>\n",
       "    </tr>\n",
       "    <tr>\n",
       "      <th>1599</th>\n",
       "      <td>0</td>\n",
       "    </tr>\n",
       "  </tbody>\n",
       "</table>\n",
       "<p>1600 rows × 1 columns</p>\n",
       "</div>"
      ],
      "text/plain": [
       "      price_range\n",
       "0               0\n",
       "1               1\n",
       "2               3\n",
       "3               2\n",
       "4               2\n",
       "...           ...\n",
       "1595            3\n",
       "1596            2\n",
       "1597            0\n",
       "1598            0\n",
       "1599            0\n",
       "\n",
       "[1600 rows x 1 columns]"
      ]
     },
     "execution_count": 9,
     "metadata": {},
     "output_type": "execute_result"
    }
   ],
   "source": [
    "test_target = test_target.drop(columns=['Unnamed: 0'])\n",
    "train_target"
   ]
  },
  {
   "cell_type": "code",
   "execution_count": 10,
   "metadata": {},
   "outputs": [
    {
     "data": {
      "text/html": [
       "<div>\n",
       "<style scoped>\n",
       "    .dataframe tbody tr th:only-of-type {\n",
       "        vertical-align: middle;\n",
       "    }\n",
       "\n",
       "    .dataframe tbody tr th {\n",
       "        vertical-align: top;\n",
       "    }\n",
       "\n",
       "    .dataframe thead th {\n",
       "        text-align: right;\n",
       "    }\n",
       "</style>\n",
       "<table border=\"1\" class=\"dataframe\">\n",
       "  <thead>\n",
       "    <tr style=\"text-align: right;\">\n",
       "      <th></th>\n",
       "      <th>price_range</th>\n",
       "    </tr>\n",
       "  </thead>\n",
       "  <tbody>\n",
       "    <tr>\n",
       "      <th>0</th>\n",
       "      <td>2</td>\n",
       "    </tr>\n",
       "    <tr>\n",
       "      <th>1</th>\n",
       "      <td>0</td>\n",
       "    </tr>\n",
       "    <tr>\n",
       "      <th>2</th>\n",
       "      <td>3</td>\n",
       "    </tr>\n",
       "    <tr>\n",
       "      <th>3</th>\n",
       "      <td>0</td>\n",
       "    </tr>\n",
       "    <tr>\n",
       "      <th>4</th>\n",
       "      <td>0</td>\n",
       "    </tr>\n",
       "    <tr>\n",
       "      <th>...</th>\n",
       "      <td>...</td>\n",
       "    </tr>\n",
       "    <tr>\n",
       "      <th>395</th>\n",
       "      <td>1</td>\n",
       "    </tr>\n",
       "    <tr>\n",
       "      <th>396</th>\n",
       "      <td>0</td>\n",
       "    </tr>\n",
       "    <tr>\n",
       "      <th>397</th>\n",
       "      <td>2</td>\n",
       "    </tr>\n",
       "    <tr>\n",
       "      <th>398</th>\n",
       "      <td>3</td>\n",
       "    </tr>\n",
       "    <tr>\n",
       "      <th>399</th>\n",
       "      <td>0</td>\n",
       "    </tr>\n",
       "  </tbody>\n",
       "</table>\n",
       "<p>400 rows × 1 columns</p>\n",
       "</div>"
      ],
      "text/plain": [
       "     price_range\n",
       "0              2\n",
       "1              0\n",
       "2              3\n",
       "3              0\n",
       "4              0\n",
       "..           ...\n",
       "395            1\n",
       "396            0\n",
       "397            2\n",
       "398            3\n",
       "399            0\n",
       "\n",
       "[400 rows x 1 columns]"
      ]
     },
     "execution_count": 10,
     "metadata": {},
     "output_type": "execute_result"
    }
   ],
   "source": [
    "test_target"
   ]
  },
  {
   "cell_type": "code",
   "execution_count": 11,
   "metadata": {
    "scrolled": true
   },
   "outputs": [
    {
     "data": {
      "text/plain": [
       "(1600, 15)"
      ]
     },
     "execution_count": 11,
     "metadata": {},
     "output_type": "execute_result"
    }
   ],
   "source": [
    "train.shape"
   ]
  },
  {
   "cell_type": "code",
   "execution_count": 12,
   "metadata": {},
   "outputs": [
    {
     "data": {
      "text/plain": [
       "(400, 15)"
      ]
     },
     "execution_count": 12,
     "metadata": {},
     "output_type": "execute_result"
    }
   ],
   "source": [
    "test.shape"
   ]
  },
  {
   "cell_type": "code",
   "execution_count": 13,
   "metadata": {},
   "outputs": [
    {
     "data": {
      "text/plain": [
       "(1600, 1)"
      ]
     },
     "execution_count": 13,
     "metadata": {},
     "output_type": "execute_result"
    }
   ],
   "source": [
    "train_target.shape"
   ]
  },
  {
   "cell_type": "code",
   "execution_count": 14,
   "metadata": {},
   "outputs": [
    {
     "data": {
      "text/plain": [
       "(400, 1)"
      ]
     },
     "execution_count": 14,
     "metadata": {},
     "output_type": "execute_result"
    }
   ],
   "source": [
    "test_target.shape"
   ]
  },
  {
   "cell_type": "markdown",
   "metadata": {},
   "source": [
    "### Determining the number of clusters"
   ]
  },
  {
   "cell_type": "code",
   "execution_count": 15,
   "metadata": {},
   "outputs": [],
   "source": [
    "from scipy.spatial.distance import cdist\n",
    "distortions = []\n",
    "inertias = []\n",
    "mapping1 = {}\n",
    "mapping2 = {}\n",
    "K = range(1, 10)\n",
    " \n",
    "for k in K:\n",
    "    # Building and fitting the model\n",
    "    kmeanModel = KMeans(n_clusters=k).fit(train)\n",
    "    kmeanModel.fit(train)\n",
    " \n",
    "    distortions.append(sum(np.min(cdist(train, kmeanModel.cluster_centers_,\n",
    "                                        'euclidean'), axis=1)) / train.shape[0])\n",
    "    inertias.append(kmeanModel.inertia_)\n",
    " \n",
    "    mapping1[k] = sum(np.min(cdist(train, kmeanModel.cluster_centers_,\n",
    "                                   'euclidean'), axis=1)) / train.shape[0]\n",
    "    mapping2[k] = kmeanModel.inertia_"
   ]
  },
  {
   "cell_type": "code",
   "execution_count": 16,
   "metadata": {},
   "outputs": [
    {
     "name": "stdout",
     "output_type": "stream",
     "text": [
      "1 : 1.0864767552840469\n",
      "2 : 0.5960822640888189\n",
      "3 : 0.4254310465834063\n",
      "4 : 0.3337851823045416\n",
      "5 : 0.2693712934888013\n",
      "6 : 0.23827227995000044\n",
      "7 : 0.2102857329219824\n",
      "8 : 0.1954536956837905\n",
      "9 : 0.1802208896873646\n"
     ]
    }
   ],
   "source": [
    "for key, val in mapping1.items():\n",
    "    print(f'{key} : {val}')"
   ]
  },
  {
   "cell_type": "code",
   "execution_count": 17,
   "metadata": {},
   "outputs": [
    {
     "data": {
      "image/png": "[encoded data removed]",
      "text/plain": [
       "<Figure size 432x288 with 1 Axes>"
      ]
     },
     "metadata": {
      "needs_background": "light"
     },
     "output_type": "display_data"
    }
   ],
   "source": [
    "plt.plot(K, distortions, 'bx-')\n",
    "plt.xlabel('Values of K')\n",
    "plt.ylabel('Distortion')\n",
    "plt.title('The Elbow Method using Distortion')\n",
    "plt.show()"
   ]
  },
  {
   "cell_type": "code",
   "execution_count": 18,
   "metadata": {},
   "outputs": [
    {
     "name": "stdout",
     "output_type": "stream",
     "text": [
      "1 : 2629.617991743854\n",
      "2 : 763.1539809416294\n",
      "3 : 382.9118254043942\n",
      "4 : 230.23057256340618\n",
      "5 : 154.41686598389873\n",
      "6 : 115.41464472368314\n",
      "7 : 92.50924512110542\n",
      "8 : 78.81847594507197\n",
      "9 : 67.20780442030359\n"
     ]
    }
   ],
   "source": [
    "for key, val in mapping2.items():\n",
    "    print(f'{key} : {val}')"
   ]
  },
  {
   "cell_type": "code",
   "execution_count": 19,
   "metadata": {},
   "outputs": [
    {
     "data": {
      "image/png": "[encoded data removed]",
      "text/plain": [
       "<Figure size 432x288 with 1 Axes>"
      ]
     },
     "metadata": {
      "needs_background": "light"
     },
     "output_type": "display_data"
    }
   ],
   "source": [
    "plt.plot(K, inertias, 'bx-')\n",
    "plt.xlabel('Values of K')\n",
    "plt.ylabel('Inertia')\n",
    "plt.title('The Elbow Method using Inertia')\n",
    "plt.show()"
   ]
  },
  {
   "cell_type": "markdown",
   "metadata": {},
   "source": [
    "## Elbow method to determine number of clusters\n",
    "### The first plot shows the distortion of the data, or the average of the squared distances from the cluster centers to the points of the cluster. The second plot shows the inertia, or the sum of the squared distances from each point to their cluster center. This seems to indicate that 3 to 5 clusters would be the ideal number of clusters to have for this dataset. I will test our data with 3, 4 and 5 clusters to determine the best fit for our dataset"
   ]
  },
  {
   "cell_type": "markdown",
   "metadata": {},
   "source": [
    "## 3 Clusters\n",
    "\n",
    "#### Training Data"
   ]
  },
  {
   "cell_type": "code",
   "execution_count": 20,
   "metadata": {},
   "outputs": [
    {
     "data": {
      "text/plain": [
       "KMeans(max_iter=500, n_clusters=3, n_init=5)"
      ]
     },
     "execution_count": 20,
     "metadata": {},
     "output_type": "execute_result"
    }
   ],
   "source": [
    "train_kmeans = KMeans(n_clusters=3, max_iter=500, verbose=0, n_init=5) # initialization\n",
    "train_kmeans.fit(train)"
   ]
  },
  {
   "cell_type": "code",
   "execution_count": 21,
   "metadata": {},
   "outputs": [],
   "source": [
    "cluster = train_kmeans.predict(train)"
   ]
  },
  {
   "cell_type": "code",
   "execution_count": 22,
   "metadata": {},
   "outputs": [
    {
     "data": {
      "text/plain": [
       "array([0, 0, 1, ..., 2, 2, 0], dtype=int32)"
      ]
     },
     "execution_count": 22,
     "metadata": {},
     "output_type": "execute_result"
    }
   ],
   "source": [
    "cluster"
   ]
  },
  {
   "cell_type": "code",
   "execution_count": 23,
   "metadata": {},
   "outputs": [
    {
     "data": {
      "text/html": [
       "<div>\n",
       "<style scoped>\n",
       "    .dataframe tbody tr th:only-of-type {\n",
       "        vertical-align: middle;\n",
       "    }\n",
       "\n",
       "    .dataframe tbody tr th {\n",
       "        vertical-align: top;\n",
       "    }\n",
       "\n",
       "    .dataframe thead th {\n",
       "        text-align: right;\n",
       "    }\n",
       "</style>\n",
       "<table border=\"1\" class=\"dataframe\">\n",
       "  <thead>\n",
       "    <tr style=\"text-align: right;\">\n",
       "      <th></th>\n",
       "      <th>Cluster</th>\n",
       "    </tr>\n",
       "  </thead>\n",
       "  <tbody>\n",
       "    <tr>\n",
       "      <th>0</th>\n",
       "      <td>0</td>\n",
       "    </tr>\n",
       "    <tr>\n",
       "      <th>1</th>\n",
       "      <td>0</td>\n",
       "    </tr>\n",
       "    <tr>\n",
       "      <th>2</th>\n",
       "      <td>1</td>\n",
       "    </tr>\n",
       "    <tr>\n",
       "      <th>3</th>\n",
       "      <td>1</td>\n",
       "    </tr>\n",
       "    <tr>\n",
       "      <th>4</th>\n",
       "      <td>2</td>\n",
       "    </tr>\n",
       "    <tr>\n",
       "      <th>...</th>\n",
       "      <td>...</td>\n",
       "    </tr>\n",
       "    <tr>\n",
       "      <th>1595</th>\n",
       "      <td>1</td>\n",
       "    </tr>\n",
       "    <tr>\n",
       "      <th>1596</th>\n",
       "      <td>2</td>\n",
       "    </tr>\n",
       "    <tr>\n",
       "      <th>1597</th>\n",
       "      <td>2</td>\n",
       "    </tr>\n",
       "    <tr>\n",
       "      <th>1598</th>\n",
       "      <td>2</td>\n",
       "    </tr>\n",
       "    <tr>\n",
       "      <th>1599</th>\n",
       "      <td>0</td>\n",
       "    </tr>\n",
       "  </tbody>\n",
       "</table>\n",
       "<p>1600 rows × 1 columns</p>\n",
       "</div>"
      ],
      "text/plain": [
       "      Cluster\n",
       "0           0\n",
       "1           0\n",
       "2           1\n",
       "3           1\n",
       "4           2\n",
       "...       ...\n",
       "1595        1\n",
       "1596        2\n",
       "1597        2\n",
       "1598        2\n",
       "1599        0\n",
       "\n",
       "[1600 rows x 1 columns]"
      ]
     },
     "execution_count": 23,
     "metadata": {},
     "output_type": "execute_result"
    }
   ],
   "source": [
    "clusters = pd.DataFrame(cluster, columns=['Cluster'])\n",
    "clusters"
   ]
  },
  {
   "cell_type": "code",
   "execution_count": 24,
   "metadata": {},
   "outputs": [
    {
     "data": {
      "text/html": [
       "<div>\n",
       "<style scoped>\n",
       "    .dataframe tbody tr th:only-of-type {\n",
       "        vertical-align: middle;\n",
       "    }\n",
       "\n",
       "    .dataframe tbody tr th {\n",
       "        vertical-align: top;\n",
       "    }\n",
       "\n",
       "    .dataframe thead th {\n",
       "        text-align: right;\n",
       "    }\n",
       "</style>\n",
       "<table border=\"1\" class=\"dataframe\">\n",
       "  <thead>\n",
       "    <tr style=\"text-align: right;\">\n",
       "      <th></th>\n",
       "      <th>battery_power</th>\n",
       "      <th>blue</th>\n",
       "      <th>clock_speed</th>\n",
       "      <th>dual_sim</th>\n",
       "      <th>fc</th>\n",
       "      <th>four_g</th>\n",
       "      <th>int_memory</th>\n",
       "      <th>m_dep</th>\n",
       "      <th>mobile_wt</th>\n",
       "      <th>n_cores</th>\n",
       "      <th>pc</th>\n",
       "      <th>ram</th>\n",
       "      <th>talk_time</th>\n",
       "      <th>touch_screen</th>\n",
       "      <th>wifi</th>\n",
       "    </tr>\n",
       "  </thead>\n",
       "  <tbody>\n",
       "    <tr>\n",
       "      <th>0</th>\n",
       "      <td>3.27</td>\n",
       "      <td>-0.40</td>\n",
       "      <td>-0.40</td>\n",
       "      <td>-0.40</td>\n",
       "      <td>-0.39</td>\n",
       "      <td>-0.40</td>\n",
       "      <td>-0.32</td>\n",
       "      <td>-0.40</td>\n",
       "      <td>-0.00</td>\n",
       "      <td>-0.39</td>\n",
       "      <td>-0.38</td>\n",
       "      <td>1.42</td>\n",
       "      <td>-0.38</td>\n",
       "      <td>-0.40</td>\n",
       "      <td>-0.40</td>\n",
       "    </tr>\n",
       "    <tr>\n",
       "      <th>1</th>\n",
       "      <td>0.99</td>\n",
       "      <td>-0.37</td>\n",
       "      <td>-0.37</td>\n",
       "      <td>-0.37</td>\n",
       "      <td>-0.36</td>\n",
       "      <td>-0.37</td>\n",
       "      <td>-0.32</td>\n",
       "      <td>-0.37</td>\n",
       "      <td>-0.17</td>\n",
       "      <td>-0.36</td>\n",
       "      <td>-0.35</td>\n",
       "      <td>3.50</td>\n",
       "      <td>-0.35</td>\n",
       "      <td>-0.37</td>\n",
       "      <td>-0.37</td>\n",
       "    </tr>\n",
       "    <tr>\n",
       "      <th>2</th>\n",
       "      <td>2.12</td>\n",
       "      <td>-0.42</td>\n",
       "      <td>-0.41</td>\n",
       "      <td>-0.42</td>\n",
       "      <td>-0.41</td>\n",
       "      <td>-0.42</td>\n",
       "      <td>-0.35</td>\n",
       "      <td>-0.42</td>\n",
       "      <td>-0.13</td>\n",
       "      <td>-0.41</td>\n",
       "      <td>-0.40</td>\n",
       "      <td>2.87</td>\n",
       "      <td>-0.39</td>\n",
       "      <td>-0.42</td>\n",
       "      <td>-0.42</td>\n",
       "    </tr>\n",
       "  </tbody>\n",
       "</table>\n",
       "</div>"
      ],
      "text/plain": [
       "   battery_power  blue  clock_speed  dual_sim    fc  four_g  int_memory  \\\n",
       "0           3.27 -0.40        -0.40     -0.40 -0.39   -0.40       -0.32   \n",
       "1           0.99 -0.37        -0.37     -0.37 -0.36   -0.37       -0.32   \n",
       "2           2.12 -0.42        -0.41     -0.42 -0.41   -0.42       -0.35   \n",
       "\n",
       "   m_dep  mobile_wt  n_cores    pc  ram  talk_time  touch_screen  wifi  \n",
       "0  -0.40      -0.00    -0.39 -0.38 1.42      -0.38         -0.40 -0.40  \n",
       "1  -0.37      -0.17    -0.36 -0.35 3.50      -0.35         -0.37 -0.37  \n",
       "2  -0.42      -0.13    -0.41 -0.40 2.87      -0.39         -0.42 -0.42  "
      ]
     },
     "execution_count": 24,
     "metadata": {},
     "output_type": "execute_result"
    }
   ],
   "source": [
    "pd.options.display.float_format='{:,.2f}'.format\n",
    "\n",
    "centroids = pd.DataFrame(train_kmeans.cluster_centers_, columns=train_names)\n",
    "centroids"
   ]
  },
  {
   "cell_type": "code",
   "execution_count": 25,
   "metadata": {},
   "outputs": [],
   "source": [
    "def cluster_sizes(clusters):\n",
    "    #clusters is an array of cluster labels for each instance in the data\n",
    "    \n",
    "    size = {}\n",
    "    cluster_labels = np.unique(clusters)\n",
    "    n_clusters = cluster_labels.shape[0]\n",
    "\n",
    "    for c in cluster_labels:\n",
    "        size[c] = len(train[clusters == c])\n",
    "    return size"
   ]
  },
  {
   "cell_type": "code",
   "execution_count": 26,
   "metadata": {},
   "outputs": [
    {
     "name": "stdout",
     "output_type": "stream",
     "text": [
      "Size of Cluster 0 =  332\n",
      "Size of Cluster 1 =  720\n",
      "Size of Cluster 2 =  548\n"
     ]
    }
   ],
   "source": [
    "size = cluster_sizes(cluster)\n",
    "\n",
    "for c in size.keys():\n",
    "    print(\"Size of Cluster\", c, \"= \", size[c])"
   ]
  },
  {
   "cell_type": "code",
   "execution_count": 27,
   "metadata": {},
   "outputs": [],
   "source": [
    "trainNP = train_target.values.flatten()\n"
   ]
  },
  {
   "cell_type": "code",
   "execution_count": 28,
   "metadata": {},
   "outputs": [
    {
     "name": "stdout",
     "output_type": "stream",
     "text": [
      "0.2532469152259576\n"
     ]
    }
   ],
   "source": [
    "print(completeness_score(trainNP,cluster))"
   ]
  },
  {
   "cell_type": "code",
   "execution_count": 29,
   "metadata": {},
   "outputs": [
    {
     "name": "stdout",
     "output_type": "stream",
     "text": [
      "0.19231205267728013\n"
     ]
    }
   ],
   "source": [
    "print(homogeneity_score(trainNP,cluster))"
   ]
  },
  {
   "cell_type": "code",
   "execution_count": 30,
   "metadata": {},
   "outputs": [],
   "source": [
    "from sklearn import metrics"
   ]
  },
  {
   "cell_type": "code",
   "execution_count": 31,
   "metadata": {},
   "outputs": [
    {
     "name": "stdout",
     "output_type": "stream",
     "text": [
      "[0.69668044 0.68947571 0.61766864 0.7298689  0.5963806  0.66372722\n",
      " 0.70983079 0.65115594 0.738807   0.40994549 0.68396471 0.51554447\n",
      " 0.68487344 0.63609258 0.02066163 0.13036501 0.66053911 0.03477571\n",
      " 0.5137223  0.62653069]\n",
      "\n",
      " Mean Silhouette Value:  0.542964082987697\n"
     ]
    }
   ],
   "source": [
    "phone_silhouettes = metrics.silhouette_samples(train, cluster)\n",
    "print(phone_silhouettes[:20])\n",
    "print(\"\\n Mean Silhouette Value: \", phone_silhouettes.mean())"
   ]
  },
  {
   "cell_type": "code",
   "execution_count": 32,
   "metadata": {},
   "outputs": [],
   "source": [
    "def plot_silhouettes(data, clusters, metric='euclidean'):\n",
    "    \n",
    "    from matplotlib import cm\n",
    "    from sklearn.metrics import silhouette_samples\n",
    "\n",
    "    cluster_labels = np.unique(clusters)\n",
    "    n_clusters = cluster_labels.shape[0]\n",
    "    silhouette_vals = metrics.silhouette_samples(data, clusters, metric='euclidean')\n",
    "    c_ax_lower, c_ax_upper = 0, 0\n",
    "    cticks = []\n",
    "    for i, k in enumerate(cluster_labels):\n",
    "        c_silhouette_vals = silhouette_vals[clusters == k]\n",
    "        c_silhouette_vals.sort()\n",
    "        c_ax_upper += len(c_silhouette_vals)\n",
    "        color = cm.jet(float(i) / n_clusters)\n",
    "        plt.barh(range(c_ax_lower, c_ax_upper), c_silhouette_vals, height=1.0, \n",
    "                      edgecolor='none', color=color)\n",
    "\n",
    "        cticks.append((c_ax_lower + c_ax_upper) / 2)\n",
    "        c_ax_lower += len(c_silhouette_vals)\n",
    "    \n",
    "    silhouette_avg = np.mean(silhouette_vals)\n",
    "    plt.axvline(silhouette_avg, color=\"red\", linestyle=\"--\") \n",
    "\n",
    "    plt.yticks(cticks, cluster_labels)\n",
    "    plt.ylabel('Cluster')\n",
    "    plt.xlabel('Silhouette coefficient')\n",
    "\n",
    "    plt.tight_layout()\n",
    "    #pl.savefig('images/11_04.png', dpi=300)\n",
    "    plt.show()\n",
    "    \n",
    "    return"
   ]
  },
  {
   "cell_type": "code",
   "execution_count": 33,
   "metadata": {},
   "outputs": [
    {
     "data": {
      "image/png": "[encoded data removed]",
      "text/plain": [
       "<Figure size 432x288 with 1 Axes>"
      ]
     },
     "metadata": {
      "needs_background": "light"
     },
     "output_type": "display_data"
    }
   ],
   "source": [
    "plot_silhouettes(train, cluster)"
   ]
  },
  {
   "cell_type": "code",
   "execution_count": 34,
   "metadata": {},
   "outputs": [
    {
     "data": {
      "text/plain": [
       "<matplotlib.collections.PathCollection at 0x7fa35a2fc5b0>"
      ]
     },
     "execution_count": 34,
     "metadata": {},
     "output_type": "execute_result"
    },
    {
     "data": {
      "image/png": "[encoded data removed]",
      "text/plain": [
       "<Figure size 432x288 with 1 Axes>"
      ]
     },
     "metadata": {
      "needs_background": "light"
     },
     "output_type": "display_data"
    }
   ],
   "source": [
    "plt.scatter(train.iloc[:, 0], train.iloc[:, 1], c=cluster, s=50, cmap='viridis')\n",
    "\n",
    "centers = train_kmeans.cluster_centers_\n",
    "plt.scatter(centers[:, 0], centers[:, 1], c='black', s=200, alpha=0.5)"
   ]
  },
  {
   "cell_type": "markdown",
   "metadata": {},
   "source": [
    "### 3 cluster training set summary\n",
    "\n",
    "#### The completeness score for the training set with 3 clusters is 0.25, meaning many points with the same class were placed in different clusters. The homogeneity score is 0.19  meaning that there are many terms from different classes placed in the same clusters. \n",
    "\n",
    "#### The Mean Silhouette Value is 0.54. Silhouette values show how similar points are to other points in their clusters and how dissimilar they are to points in different clusters. A mean value of 0.54 may indicate that the different clusters are close together."
   ]
  },
  {
   "cell_type": "markdown",
   "metadata": {},
   "source": [
    "## 3 Clusters\n",
    "\n",
    "#### Testing Data"
   ]
  },
  {
   "cell_type": "code",
   "execution_count": 35,
   "metadata": {},
   "outputs": [],
   "source": [
    "cluster = train_kmeans.predict(test)"
   ]
  },
  {
   "cell_type": "code",
   "execution_count": 36,
   "metadata": {},
   "outputs": [
    {
     "data": {
      "text/plain": [
       "array([1, 0, 1, 0, 2, 2, 1, 0, 2, 1, 1, 1, 1, 2, 2, 1, 0, 2, 2, 1, 1, 0,\n",
       "       0, 1, 1, 1, 2, 2, 0, 1, 1, 1, 1, 0, 1, 2, 0, 0, 1, 0, 1, 1, 1, 2,\n",
       "       0, 2, 0, 1, 2, 2, 0, 0, 2, 1, 2, 2, 1, 2, 2, 1, 1, 1, 0, 1, 1, 1,\n",
       "       1, 2, 1, 2, 0, 1, 0, 0, 1, 1, 1, 2, 2, 2, 2, 0, 1, 2, 1, 1, 0, 1,\n",
       "       1, 1, 1, 1, 0, 1, 1, 0, 1, 1, 1, 2, 2, 0, 2, 2, 1, 2, 1, 2, 2, 1,\n",
       "       1, 2, 1, 2, 2, 2, 1, 1, 2, 1, 1, 1, 0, 1, 2, 1, 0, 2, 0, 1, 1, 2,\n",
       "       1, 1, 2, 1, 1, 1, 1, 1, 2, 1, 0, 2, 0, 0, 0, 2, 2, 2, 1, 2, 0, 2,\n",
       "       0, 1, 0, 1, 1, 2, 1, 0, 2, 0, 1, 0, 1, 0, 1, 1, 2, 1, 1, 1, 1, 1,\n",
       "       2, 2, 1, 2, 1, 0, 0, 1, 0, 1, 1, 1, 2, 1, 1, 2, 2, 1, 2, 0, 1, 2,\n",
       "       0, 1, 1, 2, 1, 2, 0, 1, 2, 0, 0, 1, 1, 1, 0, 1, 0, 2, 2, 1, 2, 2,\n",
       "       1, 1, 1, 0, 2, 2, 0, 2, 1, 0, 1, 1, 1, 0, 2, 0, 1, 0, 1, 1, 2, 1,\n",
       "       1, 2, 0, 2, 0, 0, 0, 0, 1, 2, 0, 1, 1, 2, 1, 1, 2, 1, 2, 1, 1, 1,\n",
       "       1, 2, 2, 1, 0, 2, 2, 2, 0, 2, 2, 1, 2, 1, 2, 1, 1, 0, 2, 1, 0, 0,\n",
       "       1, 2, 0, 2, 1, 0, 0, 0, 2, 1, 1, 1, 1, 0, 0, 1, 1, 1, 2, 0, 1, 1,\n",
       "       1, 1, 1, 1, 2, 0, 1, 1, 2, 2, 1, 1, 1, 2, 1, 1, 2, 2, 2, 2, 0, 2,\n",
       "       1, 2, 0, 1, 2, 1, 1, 1, 2, 1, 1, 0, 0, 2, 0, 1, 2, 1, 1, 1, 1, 0,\n",
       "       1, 2, 1, 2, 1, 1, 1, 1, 0, 2, 2, 0, 1, 1, 0, 1, 1, 2, 1, 1, 2, 1,\n",
       "       2, 1, 1, 1, 1, 2, 2, 2, 1, 1, 0, 1, 1, 1, 1, 1, 2, 1, 1, 1, 2, 1,\n",
       "       1, 2, 2, 0], dtype=int32)"
      ]
     },
     "execution_count": 36,
     "metadata": {},
     "output_type": "execute_result"
    }
   ],
   "source": [
    "cluster"
   ]
  },
  {
   "cell_type": "code",
   "execution_count": 37,
   "metadata": {},
   "outputs": [
    {
     "data": {
      "text/html": [
       "<div>\n",
       "<style scoped>\n",
       "    .dataframe tbody tr th:only-of-type {\n",
       "        vertical-align: middle;\n",
       "    }\n",
       "\n",
       "    .dataframe tbody tr th {\n",
       "        vertical-align: top;\n",
       "    }\n",
       "\n",
       "    .dataframe thead th {\n",
       "        text-align: right;\n",
       "    }\n",
       "</style>\n",
       "<table border=\"1\" class=\"dataframe\">\n",
       "  <thead>\n",
       "    <tr style=\"text-align: right;\">\n",
       "      <th></th>\n",
       "      <th>Cluster</th>\n",
       "    </tr>\n",
       "  </thead>\n",
       "  <tbody>\n",
       "    <tr>\n",
       "      <th>0</th>\n",
       "      <td>1</td>\n",
       "    </tr>\n",
       "    <tr>\n",
       "      <th>1</th>\n",
       "      <td>0</td>\n",
       "    </tr>\n",
       "    <tr>\n",
       "      <th>2</th>\n",
       "      <td>1</td>\n",
       "    </tr>\n",
       "    <tr>\n",
       "      <th>3</th>\n",
       "      <td>0</td>\n",
       "    </tr>\n",
       "    <tr>\n",
       "      <th>4</th>\n",
       "      <td>2</td>\n",
       "    </tr>\n",
       "    <tr>\n",
       "      <th>...</th>\n",
       "      <td>...</td>\n",
       "    </tr>\n",
       "    <tr>\n",
       "      <th>395</th>\n",
       "      <td>1</td>\n",
       "    </tr>\n",
       "    <tr>\n",
       "      <th>396</th>\n",
       "      <td>1</td>\n",
       "    </tr>\n",
       "    <tr>\n",
       "      <th>397</th>\n",
       "      <td>2</td>\n",
       "    </tr>\n",
       "    <tr>\n",
       "      <th>398</th>\n",
       "      <td>2</td>\n",
       "    </tr>\n",
       "    <tr>\n",
       "      <th>399</th>\n",
       "      <td>0</td>\n",
       "    </tr>\n",
       "  </tbody>\n",
       "</table>\n",
       "<p>400 rows × 1 columns</p>\n",
       "</div>"
      ],
      "text/plain": [
       "     Cluster\n",
       "0          1\n",
       "1          0\n",
       "2          1\n",
       "3          0\n",
       "4          2\n",
       "..       ...\n",
       "395        1\n",
       "396        1\n",
       "397        2\n",
       "398        2\n",
       "399        0\n",
       "\n",
       "[400 rows x 1 columns]"
      ]
     },
     "execution_count": 37,
     "metadata": {},
     "output_type": "execute_result"
    }
   ],
   "source": [
    "clusters = pd.DataFrame(cluster, columns=['Cluster'])\n",
    "clusters"
   ]
  },
  {
   "cell_type": "code",
   "execution_count": 38,
   "metadata": {},
   "outputs": [
    {
     "data": {
      "text/html": [
       "<div>\n",
       "<style scoped>\n",
       "    .dataframe tbody tr th:only-of-type {\n",
       "        vertical-align: middle;\n",
       "    }\n",
       "\n",
       "    .dataframe tbody tr th {\n",
       "        vertical-align: top;\n",
       "    }\n",
       "\n",
       "    .dataframe thead th {\n",
       "        text-align: right;\n",
       "    }\n",
       "</style>\n",
       "<table border=\"1\" class=\"dataframe\">\n",
       "  <thead>\n",
       "    <tr style=\"text-align: right;\">\n",
       "      <th></th>\n",
       "      <th>battery_power</th>\n",
       "      <th>blue</th>\n",
       "      <th>clock_speed</th>\n",
       "      <th>dual_sim</th>\n",
       "      <th>fc</th>\n",
       "      <th>four_g</th>\n",
       "      <th>int_memory</th>\n",
       "      <th>m_dep</th>\n",
       "      <th>mobile_wt</th>\n",
       "      <th>n_cores</th>\n",
       "      <th>pc</th>\n",
       "      <th>ram</th>\n",
       "      <th>talk_time</th>\n",
       "      <th>touch_screen</th>\n",
       "      <th>wifi</th>\n",
       "    </tr>\n",
       "  </thead>\n",
       "  <tbody>\n",
       "    <tr>\n",
       "      <th>0</th>\n",
       "      <td>3.27</td>\n",
       "      <td>-0.40</td>\n",
       "      <td>-0.40</td>\n",
       "      <td>-0.40</td>\n",
       "      <td>-0.39</td>\n",
       "      <td>-0.40</td>\n",
       "      <td>-0.32</td>\n",
       "      <td>-0.40</td>\n",
       "      <td>-0.00</td>\n",
       "      <td>-0.39</td>\n",
       "      <td>-0.38</td>\n",
       "      <td>1.42</td>\n",
       "      <td>-0.38</td>\n",
       "      <td>-0.40</td>\n",
       "      <td>-0.40</td>\n",
       "    </tr>\n",
       "    <tr>\n",
       "      <th>1</th>\n",
       "      <td>0.99</td>\n",
       "      <td>-0.37</td>\n",
       "      <td>-0.37</td>\n",
       "      <td>-0.37</td>\n",
       "      <td>-0.36</td>\n",
       "      <td>-0.37</td>\n",
       "      <td>-0.32</td>\n",
       "      <td>-0.37</td>\n",
       "      <td>-0.17</td>\n",
       "      <td>-0.36</td>\n",
       "      <td>-0.35</td>\n",
       "      <td>3.50</td>\n",
       "      <td>-0.35</td>\n",
       "      <td>-0.37</td>\n",
       "      <td>-0.37</td>\n",
       "    </tr>\n",
       "    <tr>\n",
       "      <th>2</th>\n",
       "      <td>2.12</td>\n",
       "      <td>-0.42</td>\n",
       "      <td>-0.41</td>\n",
       "      <td>-0.42</td>\n",
       "      <td>-0.41</td>\n",
       "      <td>-0.42</td>\n",
       "      <td>-0.35</td>\n",
       "      <td>-0.42</td>\n",
       "      <td>-0.13</td>\n",
       "      <td>-0.41</td>\n",
       "      <td>-0.40</td>\n",
       "      <td>2.87</td>\n",
       "      <td>-0.39</td>\n",
       "      <td>-0.42</td>\n",
       "      <td>-0.42</td>\n",
       "    </tr>\n",
       "  </tbody>\n",
       "</table>\n",
       "</div>"
      ],
      "text/plain": [
       "   battery_power  blue  clock_speed  dual_sim    fc  four_g  int_memory  \\\n",
       "0           3.27 -0.40        -0.40     -0.40 -0.39   -0.40       -0.32   \n",
       "1           0.99 -0.37        -0.37     -0.37 -0.36   -0.37       -0.32   \n",
       "2           2.12 -0.42        -0.41     -0.42 -0.41   -0.42       -0.35   \n",
       "\n",
       "   m_dep  mobile_wt  n_cores    pc  ram  talk_time  touch_screen  wifi  \n",
       "0  -0.40      -0.00    -0.39 -0.38 1.42      -0.38         -0.40 -0.40  \n",
       "1  -0.37      -0.17    -0.36 -0.35 3.50      -0.35         -0.37 -0.37  \n",
       "2  -0.42      -0.13    -0.41 -0.40 2.87      -0.39         -0.42 -0.42  "
      ]
     },
     "execution_count": 38,
     "metadata": {},
     "output_type": "execute_result"
    }
   ],
   "source": [
    "pd.options.display.float_format='{:,.2f}'.format\n",
    "\n",
    "centroids = pd.DataFrame(train_kmeans.cluster_centers_, columns=train_names)\n",
    "centroids"
   ]
  },
  {
   "cell_type": "code",
   "execution_count": 39,
   "metadata": {},
   "outputs": [],
   "source": [
    "def cluster_sizes(clusters):\n",
    "    #clusters is an array of cluster labels for each instance in the data\n",
    "    \n",
    "    size = {}\n",
    "    cluster_labels = np.unique(clusters)\n",
    "    n_clusters = cluster_labels.shape[0]\n",
    "\n",
    "    for c in cluster_labels:\n",
    "        size[c] = len(test[clusters == c])\n",
    "    return size"
   ]
  },
  {
   "cell_type": "code",
   "execution_count": 40,
   "metadata": {},
   "outputs": [
    {
     "name": "stdout",
     "output_type": "stream",
     "text": [
      "Size of Cluster 0 =  84\n",
      "Size of Cluster 1 =  196\n",
      "Size of Cluster 2 =  120\n"
     ]
    }
   ],
   "source": [
    "size = cluster_sizes(cluster)\n",
    "\n",
    "for c in size.keys():\n",
    "    print(\"Size of Cluster\", c, \"= \", size[c])"
   ]
  },
  {
   "cell_type": "code",
   "execution_count": 41,
   "metadata": {},
   "outputs": [],
   "source": [
    "testNP = test_target.values.flatten()\n"
   ]
  },
  {
   "cell_type": "code",
   "execution_count": 42,
   "metadata": {},
   "outputs": [
    {
     "name": "stdout",
     "output_type": "stream",
     "text": [
      "0.2588580244611112\n"
     ]
    }
   ],
   "source": [
    "print(completeness_score(testNP,cluster))"
   ]
  },
  {
   "cell_type": "code",
   "execution_count": 43,
   "metadata": {},
   "outputs": [
    {
     "name": "stdout",
     "output_type": "stream",
     "text": [
      "0.1942077481261714\n"
     ]
    }
   ],
   "source": [
    "print(homogeneity_score(testNP,cluster))"
   ]
  },
  {
   "cell_type": "code",
   "execution_count": 44,
   "metadata": {},
   "outputs": [
    {
     "name": "stdout",
     "output_type": "stream",
     "text": [
      "[0.67927028 0.55880108 0.73923122 0.6488529  0.59054712 0.48403924\n",
      " 0.65071227 0.6329922  0.62208829 0.74347376 0.73447713 0.69236747\n",
      " 0.72018499 0.63310019 0.53798031 0.68000124 0.62840735 0.66971554\n",
      " 0.55887048 0.73169623]\n",
      "\n",
      " Mean Silhouette Value:  0.542868530960254\n"
     ]
    }
   ],
   "source": [
    "phone_silhouettes = metrics.silhouette_samples(test, cluster)\n",
    "print(phone_silhouettes[:20])\n",
    "print(\"\\n Mean Silhouette Value: \", phone_silhouettes.mean())"
   ]
  },
  {
   "cell_type": "code",
   "execution_count": 45,
   "metadata": {},
   "outputs": [
    {
     "data": {
      "image/png": "[encoded data removed]",
      "text/plain": [
       "<Figure size 432x288 with 1 Axes>"
      ]
     },
     "metadata": {
      "needs_background": "light"
     },
     "output_type": "display_data"
    }
   ],
   "source": [
    "plot_silhouettes(test, cluster)"
   ]
  },
  {
   "cell_type": "code",
   "execution_count": 46,
   "metadata": {},
   "outputs": [
    {
     "data": {
      "text/plain": [
       "<matplotlib.collections.PathCollection at 0x7fa35a0d3370>"
      ]
     },
     "execution_count": 46,
     "metadata": {},
     "output_type": "execute_result"
    },
    {
     "data": {
      "image/png": "[encoded data removed]",
      "text/plain": [
       "<Figure size 432x288 with 1 Axes>"
      ]
     },
     "metadata": {
      "needs_background": "light"
     },
     "output_type": "display_data"
    }
   ],
   "source": [
    "plt.scatter(test.iloc[:, 0], test.iloc[:, 1], c=cluster, s=50, cmap='viridis')\n",
    "\n",
    "centers = train_kmeans.cluster_centers_\n",
    "plt.scatter(centers[:, 0], centers[:, 1], c='black', s=200, alpha=0.5)"
   ]
  },
  {
   "cell_type": "markdown",
   "metadata": {},
   "source": [
    "### 3 cluster testing set summary\n",
    "\n",
    "#### The completeness score for 3 clusters with the training set is 0.26, which is slightly higher than the completeness score for the training set. This shows that there is a slightly higher rate of points from the same classes being grouped in the same cluster. The homogeneity score is 0.19, which is about the same as the training set. This result is somewhat predictable because we have a smaller number of clusters than classes.\n",
    "\n",
    "#### The Mean Silhouette Value is 0.54, this is the same as the Mean Silhouette Value as the training set. Silhouette values show how similar points are to other points in their clusters and how dissimilar they are to points in different clusters. A mean value of 0.54 may indicate that the different clusters are close together."
   ]
  },
  {
   "cell_type": "markdown",
   "metadata": {},
   "source": [
    "## 4 Clusters\n",
    "\n",
    "#### Training Data"
   ]
  },
  {
   "cell_type": "code",
   "execution_count": 47,
   "metadata": {},
   "outputs": [
    {
     "data": {
      "text/plain": [
       "KMeans(max_iter=500, n_clusters=4, n_init=5)"
      ]
     },
     "execution_count": 47,
     "metadata": {},
     "output_type": "execute_result"
    }
   ],
   "source": [
    "train_kmeans = KMeans(n_clusters=4, max_iter=500, verbose=0, n_init=5) # initialization\n",
    "train_kmeans.fit(train)"
   ]
  },
  {
   "cell_type": "code",
   "execution_count": 48,
   "metadata": {},
   "outputs": [
    {
     "data": {
      "text/plain": [
       "array([2, 2, 0, ..., 3, 3, 2], dtype=int32)"
      ]
     },
     "execution_count": 48,
     "metadata": {},
     "output_type": "execute_result"
    }
   ],
   "source": [
    "cluster = train_kmeans.predict(train)\n",
    "cluster"
   ]
  },
  {
   "cell_type": "code",
   "execution_count": 49,
   "metadata": {},
   "outputs": [
    {
     "data": {
      "text/html": [
       "<div>\n",
       "<style scoped>\n",
       "    .dataframe tbody tr th:only-of-type {\n",
       "        vertical-align: middle;\n",
       "    }\n",
       "\n",
       "    .dataframe tbody tr th {\n",
       "        vertical-align: top;\n",
       "    }\n",
       "\n",
       "    .dataframe thead th {\n",
       "        text-align: right;\n",
       "    }\n",
       "</style>\n",
       "<table border=\"1\" class=\"dataframe\">\n",
       "  <thead>\n",
       "    <tr style=\"text-align: right;\">\n",
       "      <th></th>\n",
       "      <th>Cluster</th>\n",
       "    </tr>\n",
       "  </thead>\n",
       "  <tbody>\n",
       "    <tr>\n",
       "      <th>0</th>\n",
       "      <td>2</td>\n",
       "    </tr>\n",
       "    <tr>\n",
       "      <th>1</th>\n",
       "      <td>2</td>\n",
       "    </tr>\n",
       "    <tr>\n",
       "      <th>2</th>\n",
       "      <td>0</td>\n",
       "    </tr>\n",
       "    <tr>\n",
       "      <th>3</th>\n",
       "      <td>0</td>\n",
       "    </tr>\n",
       "    <tr>\n",
       "      <th>4</th>\n",
       "      <td>1</td>\n",
       "    </tr>\n",
       "    <tr>\n",
       "      <th>...</th>\n",
       "      <td>...</td>\n",
       "    </tr>\n",
       "    <tr>\n",
       "      <th>1595</th>\n",
       "      <td>0</td>\n",
       "    </tr>\n",
       "    <tr>\n",
       "      <th>1596</th>\n",
       "      <td>3</td>\n",
       "    </tr>\n",
       "    <tr>\n",
       "      <th>1597</th>\n",
       "      <td>3</td>\n",
       "    </tr>\n",
       "    <tr>\n",
       "      <th>1598</th>\n",
       "      <td>3</td>\n",
       "    </tr>\n",
       "    <tr>\n",
       "      <th>1599</th>\n",
       "      <td>2</td>\n",
       "    </tr>\n",
       "  </tbody>\n",
       "</table>\n",
       "<p>1600 rows × 1 columns</p>\n",
       "</div>"
      ],
      "text/plain": [
       "      Cluster\n",
       "0           2\n",
       "1           2\n",
       "2           0\n",
       "3           0\n",
       "4           1\n",
       "...       ...\n",
       "1595        0\n",
       "1596        3\n",
       "1597        3\n",
       "1598        3\n",
       "1599        2\n",
       "\n",
       "[1600 rows x 1 columns]"
      ]
     },
     "execution_count": 49,
     "metadata": {},
     "output_type": "execute_result"
    }
   ],
   "source": [
    "clusters = pd.DataFrame(cluster, columns=['Cluster'])\n",
    "clusters"
   ]
  },
  {
   "cell_type": "code",
   "execution_count": 50,
   "metadata": {},
   "outputs": [
    {
     "data": {
      "text/html": [
       "<div>\n",
       "<style scoped>\n",
       "    .dataframe tbody tr th:only-of-type {\n",
       "        vertical-align: middle;\n",
       "    }\n",
       "\n",
       "    .dataframe tbody tr th {\n",
       "        vertical-align: top;\n",
       "    }\n",
       "\n",
       "    .dataframe thead th {\n",
       "        text-align: right;\n",
       "    }\n",
       "</style>\n",
       "<table border=\"1\" class=\"dataframe\">\n",
       "  <thead>\n",
       "    <tr style=\"text-align: right;\">\n",
       "      <th></th>\n",
       "      <th>battery_power</th>\n",
       "      <th>blue</th>\n",
       "      <th>clock_speed</th>\n",
       "      <th>dual_sim</th>\n",
       "      <th>fc</th>\n",
       "      <th>four_g</th>\n",
       "      <th>int_memory</th>\n",
       "      <th>m_dep</th>\n",
       "      <th>mobile_wt</th>\n",
       "      <th>n_cores</th>\n",
       "      <th>pc</th>\n",
       "      <th>ram</th>\n",
       "      <th>talk_time</th>\n",
       "      <th>touch_screen</th>\n",
       "      <th>wifi</th>\n",
       "    </tr>\n",
       "  </thead>\n",
       "  <tbody>\n",
       "    <tr>\n",
       "      <th>0</th>\n",
       "      <td>0.83</td>\n",
       "      <td>-0.36</td>\n",
       "      <td>-0.36</td>\n",
       "      <td>-0.36</td>\n",
       "      <td>-0.35</td>\n",
       "      <td>-0.36</td>\n",
       "      <td>-0.31</td>\n",
       "      <td>-0.36</td>\n",
       "      <td>-0.17</td>\n",
       "      <td>-0.35</td>\n",
       "      <td>-0.35</td>\n",
       "      <td>3.56</td>\n",
       "      <td>-0.35</td>\n",
       "      <td>-0.36</td>\n",
       "      <td>-0.36</td>\n",
       "    </tr>\n",
       "    <tr>\n",
       "      <th>1</th>\n",
       "      <td>2.71</td>\n",
       "      <td>-0.43</td>\n",
       "      <td>-0.42</td>\n",
       "      <td>-0.43</td>\n",
       "      <td>-0.42</td>\n",
       "      <td>-0.43</td>\n",
       "      <td>-0.35</td>\n",
       "      <td>-0.43</td>\n",
       "      <td>-0.07</td>\n",
       "      <td>-0.42</td>\n",
       "      <td>-0.40</td>\n",
       "      <td>2.33</td>\n",
       "      <td>-0.40</td>\n",
       "      <td>-0.43</td>\n",
       "      <td>-0.43</td>\n",
       "    </tr>\n",
       "    <tr>\n",
       "      <th>2</th>\n",
       "      <td>3.43</td>\n",
       "      <td>-0.39</td>\n",
       "      <td>-0.39</td>\n",
       "      <td>-0.39</td>\n",
       "      <td>-0.38</td>\n",
       "      <td>-0.39</td>\n",
       "      <td>-0.30</td>\n",
       "      <td>-0.39</td>\n",
       "      <td>0.02</td>\n",
       "      <td>-0.38</td>\n",
       "      <td>-0.37</td>\n",
       "      <td>1.11</td>\n",
       "      <td>-0.37</td>\n",
       "      <td>-0.39</td>\n",
       "      <td>-0.39</td>\n",
       "    </tr>\n",
       "    <tr>\n",
       "      <th>3</th>\n",
       "      <td>1.75</td>\n",
       "      <td>-0.40</td>\n",
       "      <td>-0.40</td>\n",
       "      <td>-0.40</td>\n",
       "      <td>-0.40</td>\n",
       "      <td>-0.40</td>\n",
       "      <td>-0.35</td>\n",
       "      <td>-0.40</td>\n",
       "      <td>-0.16</td>\n",
       "      <td>-0.40</td>\n",
       "      <td>-0.39</td>\n",
       "      <td>3.15</td>\n",
       "      <td>-0.38</td>\n",
       "      <td>-0.40</td>\n",
       "      <td>-0.40</td>\n",
       "    </tr>\n",
       "  </tbody>\n",
       "</table>\n",
       "</div>"
      ],
      "text/plain": [
       "   battery_power  blue  clock_speed  dual_sim    fc  four_g  int_memory  \\\n",
       "0           0.83 -0.36        -0.36     -0.36 -0.35   -0.36       -0.31   \n",
       "1           2.71 -0.43        -0.42     -0.43 -0.42   -0.43       -0.35   \n",
       "2           3.43 -0.39        -0.39     -0.39 -0.38   -0.39       -0.30   \n",
       "3           1.75 -0.40        -0.40     -0.40 -0.40   -0.40       -0.35   \n",
       "\n",
       "   m_dep  mobile_wt  n_cores    pc  ram  talk_time  touch_screen  wifi  \n",
       "0  -0.36      -0.17    -0.35 -0.35 3.56      -0.35         -0.36 -0.36  \n",
       "1  -0.43      -0.07    -0.42 -0.40 2.33      -0.40         -0.43 -0.43  \n",
       "2  -0.39       0.02    -0.38 -0.37 1.11      -0.37         -0.39 -0.39  \n",
       "3  -0.40      -0.16    -0.40 -0.39 3.15      -0.38         -0.40 -0.40  "
      ]
     },
     "execution_count": 50,
     "metadata": {},
     "output_type": "execute_result"
    }
   ],
   "source": [
    "pd.options.display.float_format='{:,.2f}'.format\n",
    "\n",
    "centroids = pd.DataFrame(train_kmeans.cluster_centers_, columns=train_names)\n",
    "centroids"
   ]
  },
  {
   "cell_type": "code",
   "execution_count": 51,
   "metadata": {},
   "outputs": [],
   "source": [
    "def cluster_sizes(clusters):\n",
    "    #clusters is an array of cluster labels for each instance in the data\n",
    "    \n",
    "    size = {}\n",
    "    cluster_labels = np.unique(clusters)\n",
    "    n_clusters = cluster_labels.shape[0]\n",
    "\n",
    "    for c in cluster_labels:\n",
    "        size[c] = len(train[clusters == c])\n",
    "    return size"
   ]
  },
  {
   "cell_type": "code",
   "execution_count": 52,
   "metadata": {},
   "outputs": [
    {
     "name": "stdout",
     "output_type": "stream",
     "text": [
      "Size of Cluster 0 =  533\n",
      "Size of Cluster 1 =  304\n",
      "Size of Cluster 2 =  217\n",
      "Size of Cluster 3 =  546\n"
     ]
    }
   ],
   "source": [
    "size = cluster_sizes(cluster)\n",
    "\n",
    "for c in size.keys():\n",
    "    print(\"Size of Cluster\", c, \"= \", size[c])"
   ]
  },
  {
   "cell_type": "code",
   "execution_count": 53,
   "metadata": {},
   "outputs": [
    {
     "name": "stdout",
     "output_type": "stream",
     "text": [
      "0.22142082356159926\n"
     ]
    }
   ],
   "source": [
    "print(completeness_score(trainNP,cluster))"
   ]
  },
  {
   "cell_type": "code",
   "execution_count": 54,
   "metadata": {},
   "outputs": [
    {
     "name": "stdout",
     "output_type": "stream",
     "text": [
      "0.2107843341659365\n"
     ]
    }
   ],
   "source": [
    "print(homogeneity_score(trainNP,cluster))"
   ]
  },
  {
   "cell_type": "code",
   "execution_count": 55,
   "metadata": {},
   "outputs": [
    {
     "name": "stdout",
     "output_type": "stream",
     "text": [
      "[0.70740383 0.66155398 0.61453547 0.72827999 0.48154433 0.39048035\n",
      " 0.62811682 0.65609929 0.6936628  0.33072507 0.21787188 0.44284894\n",
      " 0.2311651  0.63694131 0.61124899 0.64372568 0.66766043 0.60990128\n",
      " 0.57495494 0.56002623]\n",
      "\n",
      " Mean Silhouette Value:  0.5203857883422165\n"
     ]
    }
   ],
   "source": [
    "phone_silhouettes = metrics.silhouette_samples(train, cluster)\n",
    "print(phone_silhouettes[:20])\n",
    "print(\"\\n Mean Silhouette Value: \", phone_silhouettes.mean())"
   ]
  },
  {
   "cell_type": "code",
   "execution_count": 56,
   "metadata": {},
   "outputs": [
    {
     "data": {
      "image/png": "[encoded data removed]",
      "text/plain": [
       "<Figure size 432x288 with 1 Axes>"
      ]
     },
     "metadata": {
      "needs_background": "light"
     },
     "output_type": "display_data"
    }
   ],
   "source": [
    "plot_silhouettes(train, cluster)"
   ]
  },
  {
   "cell_type": "code",
   "execution_count": 57,
   "metadata": {},
   "outputs": [
    {
     "data": {
      "text/plain": [
       "<matplotlib.collections.PathCollection at 0x7fa359ce4c70>"
      ]
     },
     "execution_count": 57,
     "metadata": {},
     "output_type": "execute_result"
    },
    {
     "data": {
      "image/png": "[encoded data removed]",
      "text/plain": [
       "<Figure size 432x288 with 1 Axes>"
      ]
     },
     "metadata": {
      "needs_background": "light"
     },
     "output_type": "display_data"
    }
   ],
   "source": [
    "plt.scatter(train.iloc[:, 0], train.iloc[:, 1], c=cluster, s=50, cmap='viridis')\n",
    "\n",
    "centers = train_kmeans.cluster_centers_\n",
    "plt.scatter(centers[:, 0], centers[:, 1], c='black', s=200, alpha=0.5)"
   ]
  },
  {
   "cell_type": "markdown",
   "metadata": {},
   "source": [
    "### 4 cluster training data summary\n",
    "\n",
    "#### The completeness score is 0.22, the homogeneity score is 0.21. The completeness score is slightly lower than the completeness score for 3 clusters showing that there are more instances of points from the same class belonging to different clusters. The homogeneity score is slightly higher for 3 clusters showing that the rate of clusters containing points from the same class is slightly higher\n",
    "\n",
    "#### The Mean Silhouette Value is 0.52, this is a little lower than the value for 3 clusters. This indicates that there is a bigger difference between the values of points within a cluster, or less of a difference between points in different clusters."
   ]
  },
  {
   "cell_type": "markdown",
   "metadata": {},
   "source": [
    "## 4 Clusters\n",
    "\n",
    "#### Testing Data"
   ]
  },
  {
   "cell_type": "code",
   "execution_count": 58,
   "metadata": {},
   "outputs": [
    {
     "data": {
      "text/plain": [
       "array([0, 2, 0, 2, 3, 3, 0, 2, 3, 0, 0, 0, 0, 3, 1, 0, 2, 3, 3, 0, 0, 2,\n",
       "       2, 3, 0, 0, 1, 1, 2, 3, 0, 3, 0, 2, 0, 3, 1, 1, 0, 1, 3, 0, 0, 1,\n",
       "       2, 3, 1, 0, 3, 3, 1, 2, 1, 3, 1, 3, 0, 1, 3, 0, 0, 0, 1, 0, 3, 0,\n",
       "       0, 1, 0, 3, 1, 0, 2, 2, 3, 0, 0, 1, 1, 1, 3, 2, 0, 3, 3, 0, 1, 0,\n",
       "       0, 0, 0, 0, 1, 3, 0, 1, 0, 3, 0, 3, 1, 1, 1, 1, 0, 3, 0, 1, 1, 3,\n",
       "       0, 1, 0, 3, 1, 1, 3, 0, 1, 3, 0, 0, 2, 0, 3, 0, 2, 3, 2, 3, 0, 3,\n",
       "       0, 0, 3, 3, 0, 0, 0, 0, 1, 3, 2, 3, 2, 1, 1, 3, 3, 1, 0, 3, 1, 3,\n",
       "       2, 0, 2, 0, 0, 3, 0, 2, 3, 2, 0, 2, 3, 2, 0, 0, 3, 0, 0, 0, 0, 3,\n",
       "       1, 1, 0, 3, 0, 1, 2, 3, 2, 3, 0, 3, 3, 0, 0, 3, 3, 0, 3, 1, 0, 3,\n",
       "       1, 3, 3, 1, 3, 1, 2, 0, 1, 1, 1, 0, 0, 0, 2, 3, 2, 3, 3, 0, 3, 3,\n",
       "       0, 0, 3, 2, 3, 3, 1, 3, 3, 2, 3, 0, 3, 2, 3, 2, 3, 1, 0, 3, 1, 0,\n",
       "       0, 1, 1, 1, 1, 1, 2, 1, 0, 1, 2, 0, 3, 1, 0, 0, 3, 0, 3, 3, 0, 3,\n",
       "       0, 1, 3, 0, 2, 1, 1, 3, 2, 3, 3, 0, 3, 3, 3, 0, 3, 2, 3, 3, 2, 2,\n",
       "       3, 3, 1, 1, 0, 2, 2, 2, 1, 0, 0, 0, 0, 1, 2, 3, 0, 0, 3, 2, 3, 0,\n",
       "       0, 0, 0, 3, 3, 2, 3, 3, 1, 3, 0, 0, 0, 1, 0, 0, 1, 1, 3, 1, 1, 1,\n",
       "       0, 1, 1, 3, 3, 3, 3, 0, 3, 0, 3, 1, 2, 3, 2, 3, 1, 3, 0, 0, 0, 2,\n",
       "       0, 3, 0, 3, 3, 3, 0, 3, 2, 1, 1, 2, 0, 3, 1, 3, 0, 1, 0, 3, 1, 0,\n",
       "       3, 3, 3, 0, 0, 3, 1, 3, 0, 0, 2, 0, 0, 0, 0, 3, 1, 0, 0, 3, 3, 0,\n",
       "       3, 1, 3, 2], dtype=int32)"
      ]
     },
     "execution_count": 58,
     "metadata": {},
     "output_type": "execute_result"
    }
   ],
   "source": [
    "cluster = train_kmeans.predict(test)\n",
    "cluster"
   ]
  },
  {
   "cell_type": "code",
   "execution_count": 59,
   "metadata": {},
   "outputs": [
    {
     "data": {
      "text/html": [
       "<div>\n",
       "<style scoped>\n",
       "    .dataframe tbody tr th:only-of-type {\n",
       "        vertical-align: middle;\n",
       "    }\n",
       "\n",
       "    .dataframe tbody tr th {\n",
       "        vertical-align: top;\n",
       "    }\n",
       "\n",
       "    .dataframe thead th {\n",
       "        text-align: right;\n",
       "    }\n",
       "</style>\n",
       "<table border=\"1\" class=\"dataframe\">\n",
       "  <thead>\n",
       "    <tr style=\"text-align: right;\">\n",
       "      <th></th>\n",
       "      <th>Cluster</th>\n",
       "    </tr>\n",
       "  </thead>\n",
       "  <tbody>\n",
       "    <tr>\n",
       "      <th>0</th>\n",
       "      <td>0</td>\n",
       "    </tr>\n",
       "    <tr>\n",
       "      <th>1</th>\n",
       "      <td>2</td>\n",
       "    </tr>\n",
       "    <tr>\n",
       "      <th>2</th>\n",
       "      <td>0</td>\n",
       "    </tr>\n",
       "    <tr>\n",
       "      <th>3</th>\n",
       "      <td>2</td>\n",
       "    </tr>\n",
       "    <tr>\n",
       "      <th>4</th>\n",
       "      <td>3</td>\n",
       "    </tr>\n",
       "    <tr>\n",
       "      <th>...</th>\n",
       "      <td>...</td>\n",
       "    </tr>\n",
       "    <tr>\n",
       "      <th>395</th>\n",
       "      <td>0</td>\n",
       "    </tr>\n",
       "    <tr>\n",
       "      <th>396</th>\n",
       "      <td>3</td>\n",
       "    </tr>\n",
       "    <tr>\n",
       "      <th>397</th>\n",
       "      <td>1</td>\n",
       "    </tr>\n",
       "    <tr>\n",
       "      <th>398</th>\n",
       "      <td>3</td>\n",
       "    </tr>\n",
       "    <tr>\n",
       "      <th>399</th>\n",
       "      <td>2</td>\n",
       "    </tr>\n",
       "  </tbody>\n",
       "</table>\n",
       "<p>400 rows × 1 columns</p>\n",
       "</div>"
      ],
      "text/plain": [
       "     Cluster\n",
       "0          0\n",
       "1          2\n",
       "2          0\n",
       "3          2\n",
       "4          3\n",
       "..       ...\n",
       "395        0\n",
       "396        3\n",
       "397        1\n",
       "398        3\n",
       "399        2\n",
       "\n",
       "[400 rows x 1 columns]"
      ]
     },
     "execution_count": 59,
     "metadata": {},
     "output_type": "execute_result"
    }
   ],
   "source": [
    "clusters = pd.DataFrame(cluster, columns=['Cluster'])\n",
    "clusters"
   ]
  },
  {
   "cell_type": "code",
   "execution_count": 60,
   "metadata": {
    "scrolled": true
   },
   "outputs": [
    {
     "data": {
      "text/html": [
       "<div>\n",
       "<style scoped>\n",
       "    .dataframe tbody tr th:only-of-type {\n",
       "        vertical-align: middle;\n",
       "    }\n",
       "\n",
       "    .dataframe tbody tr th {\n",
       "        vertical-align: top;\n",
       "    }\n",
       "\n",
       "    .dataframe thead th {\n",
       "        text-align: right;\n",
       "    }\n",
       "</style>\n",
       "<table border=\"1\" class=\"dataframe\">\n",
       "  <thead>\n",
       "    <tr style=\"text-align: right;\">\n",
       "      <th></th>\n",
       "      <th>battery_power</th>\n",
       "      <th>blue</th>\n",
       "      <th>clock_speed</th>\n",
       "      <th>dual_sim</th>\n",
       "      <th>fc</th>\n",
       "      <th>four_g</th>\n",
       "      <th>int_memory</th>\n",
       "      <th>m_dep</th>\n",
       "      <th>mobile_wt</th>\n",
       "      <th>n_cores</th>\n",
       "      <th>pc</th>\n",
       "      <th>ram</th>\n",
       "      <th>talk_time</th>\n",
       "      <th>touch_screen</th>\n",
       "      <th>wifi</th>\n",
       "    </tr>\n",
       "  </thead>\n",
       "  <tbody>\n",
       "    <tr>\n",
       "      <th>0</th>\n",
       "      <td>0.83</td>\n",
       "      <td>-0.36</td>\n",
       "      <td>-0.36</td>\n",
       "      <td>-0.36</td>\n",
       "      <td>-0.35</td>\n",
       "      <td>-0.36</td>\n",
       "      <td>-0.31</td>\n",
       "      <td>-0.36</td>\n",
       "      <td>-0.17</td>\n",
       "      <td>-0.35</td>\n",
       "      <td>-0.35</td>\n",
       "      <td>3.56</td>\n",
       "      <td>-0.35</td>\n",
       "      <td>-0.36</td>\n",
       "      <td>-0.36</td>\n",
       "    </tr>\n",
       "    <tr>\n",
       "      <th>1</th>\n",
       "      <td>2.71</td>\n",
       "      <td>-0.43</td>\n",
       "      <td>-0.42</td>\n",
       "      <td>-0.43</td>\n",
       "      <td>-0.42</td>\n",
       "      <td>-0.43</td>\n",
       "      <td>-0.35</td>\n",
       "      <td>-0.43</td>\n",
       "      <td>-0.07</td>\n",
       "      <td>-0.42</td>\n",
       "      <td>-0.40</td>\n",
       "      <td>2.33</td>\n",
       "      <td>-0.40</td>\n",
       "      <td>-0.43</td>\n",
       "      <td>-0.43</td>\n",
       "    </tr>\n",
       "    <tr>\n",
       "      <th>2</th>\n",
       "      <td>3.43</td>\n",
       "      <td>-0.39</td>\n",
       "      <td>-0.39</td>\n",
       "      <td>-0.39</td>\n",
       "      <td>-0.38</td>\n",
       "      <td>-0.39</td>\n",
       "      <td>-0.30</td>\n",
       "      <td>-0.39</td>\n",
       "      <td>0.02</td>\n",
       "      <td>-0.38</td>\n",
       "      <td>-0.37</td>\n",
       "      <td>1.11</td>\n",
       "      <td>-0.37</td>\n",
       "      <td>-0.39</td>\n",
       "      <td>-0.39</td>\n",
       "    </tr>\n",
       "    <tr>\n",
       "      <th>3</th>\n",
       "      <td>1.75</td>\n",
       "      <td>-0.40</td>\n",
       "      <td>-0.40</td>\n",
       "      <td>-0.40</td>\n",
       "      <td>-0.40</td>\n",
       "      <td>-0.40</td>\n",
       "      <td>-0.35</td>\n",
       "      <td>-0.40</td>\n",
       "      <td>-0.16</td>\n",
       "      <td>-0.40</td>\n",
       "      <td>-0.39</td>\n",
       "      <td>3.15</td>\n",
       "      <td>-0.38</td>\n",
       "      <td>-0.40</td>\n",
       "      <td>-0.40</td>\n",
       "    </tr>\n",
       "  </tbody>\n",
       "</table>\n",
       "</div>"
      ],
      "text/plain": [
       "   battery_power  blue  clock_speed  dual_sim    fc  four_g  int_memory  \\\n",
       "0           0.83 -0.36        -0.36     -0.36 -0.35   -0.36       -0.31   \n",
       "1           2.71 -0.43        -0.42     -0.43 -0.42   -0.43       -0.35   \n",
       "2           3.43 -0.39        -0.39     -0.39 -0.38   -0.39       -0.30   \n",
       "3           1.75 -0.40        -0.40     -0.40 -0.40   -0.40       -0.35   \n",
       "\n",
       "   m_dep  mobile_wt  n_cores    pc  ram  talk_time  touch_screen  wifi  \n",
       "0  -0.36      -0.17    -0.35 -0.35 3.56      -0.35         -0.36 -0.36  \n",
       "1  -0.43      -0.07    -0.42 -0.40 2.33      -0.40         -0.43 -0.43  \n",
       "2  -0.39       0.02    -0.38 -0.37 1.11      -0.37         -0.39 -0.39  \n",
       "3  -0.40      -0.16    -0.40 -0.39 3.15      -0.38         -0.40 -0.40  "
      ]
     },
     "execution_count": 60,
     "metadata": {},
     "output_type": "execute_result"
    }
   ],
   "source": [
    "pd.options.display.float_format='{:,.2f}'.format\n",
    "\n",
    "centroids = pd.DataFrame(train_kmeans.cluster_centers_, columns=train_names)\n",
    "centroids"
   ]
  },
  {
   "cell_type": "code",
   "execution_count": 61,
   "metadata": {},
   "outputs": [],
   "source": [
    "def cluster_sizes(clusters):\n",
    "    #clusters is an array of cluster labels for each instance in the data\n",
    "    \n",
    "    size = {}\n",
    "    cluster_labels = np.unique(clusters)\n",
    "    n_clusters = cluster_labels.shape[0]\n",
    "\n",
    "    for c in cluster_labels:\n",
    "        size[c] = len(test[clusters == c])\n",
    "    return size"
   ]
  },
  {
   "cell_type": "code",
   "execution_count": 62,
   "metadata": {},
   "outputs": [
    {
     "name": "stdout",
     "output_type": "stream",
     "text": [
      "Size of Cluster 0 =  136\n",
      "Size of Cluster 1 =  83\n",
      "Size of Cluster 2 =  53\n",
      "Size of Cluster 3 =  128\n"
     ]
    }
   ],
   "source": [
    "size = cluster_sizes(cluster)\n",
    "\n",
    "for c in size.keys():\n",
    "    print(\"Size of Cluster\", c, \"= \", size[c])"
   ]
  },
  {
   "cell_type": "code",
   "execution_count": 63,
   "metadata": {},
   "outputs": [
    {
     "name": "stdout",
     "output_type": "stream",
     "text": [
      "0.2232136801685609\n"
     ]
    }
   ],
   "source": [
    "print(completeness_score(testNP,cluster))"
   ]
  },
  {
   "cell_type": "code",
   "execution_count": 64,
   "metadata": {},
   "outputs": [
    {
     "name": "stdout",
     "output_type": "stream",
     "text": [
      "0.2137590949408374\n"
     ]
    }
   ],
   "source": [
    "print(homogeneity_score(testNP,cluster))"
   ]
  },
  {
   "cell_type": "code",
   "execution_count": 65,
   "metadata": {},
   "outputs": [
    {
     "name": "stdout",
     "output_type": "stream",
     "text": [
      "[ 0.32104869  0.01324671  0.67919285  0.46810944  0.45930338  0.63272058\n",
      "  0.64461145  0.23295663  0.41925314  0.71317146  0.61606467  0.69825418\n",
      "  0.70878468  0.4142629   0.58103714  0.2955153   0.66840792 -0.01579896\n",
      "  0.59023147  0.72227486]\n",
      "\n",
      " Mean Silhouette Value:  0.5260648533670266\n"
     ]
    }
   ],
   "source": [
    "phone_silhouettes = metrics.silhouette_samples(test, cluster)\n",
    "print(phone_silhouettes[:20])\n",
    "print(\"\\n Mean Silhouette Value: \", phone_silhouettes.mean())"
   ]
  },
  {
   "cell_type": "code",
   "execution_count": 66,
   "metadata": {},
   "outputs": [
    {
     "data": {
      "image/png": "[encoded data removed]",
      "text/plain": [
       "<Figure size 432x288 with 1 Axes>"
      ]
     },
     "metadata": {
      "needs_background": "light"
     },
     "output_type": "display_data"
    }
   ],
   "source": [
    "plot_silhouettes(test, cluster)"
   ]
  },
  {
   "cell_type": "code",
   "execution_count": 67,
   "metadata": {},
   "outputs": [
    {
     "data": {
      "text/plain": [
       "<matplotlib.collections.PathCollection at 0x7fa352d23580>"
      ]
     },
     "execution_count": 67,
     "metadata": {},
     "output_type": "execute_result"
    },
    {
     "data": {
      "image/png": "[encoded data removed]",
      "text/plain": [
       "<Figure size 432x288 with 1 Axes>"
      ]
     },
     "metadata": {
      "needs_background": "light"
     },
     "output_type": "display_data"
    }
   ],
   "source": [
    "plt.scatter(test.iloc[:, 0], test.iloc[:, 1], c=cluster, s=50, cmap='viridis')\n",
    "\n",
    "centers = train_kmeans.cluster_centers_\n",
    "plt.scatter(centers[:, 0], centers[:, 1], c='black', s=200, alpha=0.5)"
   ]
  },
  {
   "cell_type": "markdown",
   "metadata": {},
   "source": [
    "### 4 cluster testing data summary\n",
    "\n",
    "#### The completeness score is 0.22, the homogeneity score is 0.21. Thes scores are the same for the 4 cluster training data. The completeness score is slightly lower than the completeness score for 3 clusters showing that there are more instances of points from the same class belonging to different clusters. The homogeneity score is slightly higher for 3 clusters showing that the rate of clusters containing points from the same class is slightly higher\n",
    "\n",
    "#### The Mean Silhouette score is 0.52, this is the same as the score for the training data with 4 clusters, but lower than the Silhouette score with 3 clusters. This shows that there are points more closely located to points from other clusters. "
   ]
  },
  {
   "cell_type": "markdown",
   "metadata": {},
   "source": [
    "## 5 Clusters\n",
    "\n",
    "#### Training Data"
   ]
  },
  {
   "cell_type": "code",
   "execution_count": 68,
   "metadata": {},
   "outputs": [
    {
     "data": {
      "text/plain": [
       "KMeans(max_iter=500, n_clusters=5, n_init=5)"
      ]
     },
     "execution_count": 68,
     "metadata": {},
     "output_type": "execute_result"
    }
   ],
   "source": [
    "train_kmeans = KMeans(n_clusters=5, max_iter=500, verbose=0, n_init=5) # initialization\n",
    "train_kmeans.fit(train)"
   ]
  },
  {
   "cell_type": "code",
   "execution_count": 69,
   "metadata": {},
   "outputs": [
    {
     "data": {
      "text/plain": [
       "array([1, 1, 3, ..., 4, 0, 1], dtype=int32)"
      ]
     },
     "execution_count": 69,
     "metadata": {},
     "output_type": "execute_result"
    }
   ],
   "source": [
    "cluster = train_kmeans.predict(train)\n",
    "cluster"
   ]
  },
  {
   "cell_type": "code",
   "execution_count": 70,
   "metadata": {},
   "outputs": [
    {
     "data": {
      "text/html": [
       "<div>\n",
       "<style scoped>\n",
       "    .dataframe tbody tr th:only-of-type {\n",
       "        vertical-align: middle;\n",
       "    }\n",
       "\n",
       "    .dataframe tbody tr th {\n",
       "        vertical-align: top;\n",
       "    }\n",
       "\n",
       "    .dataframe thead th {\n",
       "        text-align: right;\n",
       "    }\n",
       "</style>\n",
       "<table border=\"1\" class=\"dataframe\">\n",
       "  <thead>\n",
       "    <tr style=\"text-align: right;\">\n",
       "      <th></th>\n",
       "      <th>Cluster</th>\n",
       "    </tr>\n",
       "  </thead>\n",
       "  <tbody>\n",
       "    <tr>\n",
       "      <th>0</th>\n",
       "      <td>1</td>\n",
       "    </tr>\n",
       "    <tr>\n",
       "      <th>1</th>\n",
       "      <td>1</td>\n",
       "    </tr>\n",
       "    <tr>\n",
       "      <th>2</th>\n",
       "      <td>3</td>\n",
       "    </tr>\n",
       "    <tr>\n",
       "      <th>3</th>\n",
       "      <td>3</td>\n",
       "    </tr>\n",
       "    <tr>\n",
       "      <th>4</th>\n",
       "      <td>4</td>\n",
       "    </tr>\n",
       "    <tr>\n",
       "      <th>...</th>\n",
       "      <td>...</td>\n",
       "    </tr>\n",
       "    <tr>\n",
       "      <th>1595</th>\n",
       "      <td>3</td>\n",
       "    </tr>\n",
       "    <tr>\n",
       "      <th>1596</th>\n",
       "      <td>4</td>\n",
       "    </tr>\n",
       "    <tr>\n",
       "      <th>1597</th>\n",
       "      <td>4</td>\n",
       "    </tr>\n",
       "    <tr>\n",
       "      <th>1598</th>\n",
       "      <td>0</td>\n",
       "    </tr>\n",
       "    <tr>\n",
       "      <th>1599</th>\n",
       "      <td>1</td>\n",
       "    </tr>\n",
       "  </tbody>\n",
       "</table>\n",
       "<p>1600 rows × 1 columns</p>\n",
       "</div>"
      ],
      "text/plain": [
       "      Cluster\n",
       "0           1\n",
       "1           1\n",
       "2           3\n",
       "3           3\n",
       "4           4\n",
       "...       ...\n",
       "1595        3\n",
       "1596        4\n",
       "1597        4\n",
       "1598        0\n",
       "1599        1\n",
       "\n",
       "[1600 rows x 1 columns]"
      ]
     },
     "execution_count": 70,
     "metadata": {},
     "output_type": "execute_result"
    }
   ],
   "source": [
    "clusters = pd.DataFrame(cluster, columns=['Cluster'])\n",
    "clusters"
   ]
  },
  {
   "cell_type": "code",
   "execution_count": 71,
   "metadata": {},
   "outputs": [
    {
     "data": {
      "text/html": [
       "<div>\n",
       "<style scoped>\n",
       "    .dataframe tbody tr th:only-of-type {\n",
       "        vertical-align: middle;\n",
       "    }\n",
       "\n",
       "    .dataframe tbody tr th {\n",
       "        vertical-align: top;\n",
       "    }\n",
       "\n",
       "    .dataframe thead th {\n",
       "        text-align: right;\n",
       "    }\n",
       "</style>\n",
       "<table border=\"1\" class=\"dataframe\">\n",
       "  <thead>\n",
       "    <tr style=\"text-align: right;\">\n",
       "      <th></th>\n",
       "      <th>battery_power</th>\n",
       "      <th>blue</th>\n",
       "      <th>clock_speed</th>\n",
       "      <th>dual_sim</th>\n",
       "      <th>fc</th>\n",
       "      <th>four_g</th>\n",
       "      <th>int_memory</th>\n",
       "      <th>m_dep</th>\n",
       "      <th>mobile_wt</th>\n",
       "      <th>n_cores</th>\n",
       "      <th>pc</th>\n",
       "      <th>ram</th>\n",
       "      <th>talk_time</th>\n",
       "      <th>touch_screen</th>\n",
       "      <th>wifi</th>\n",
       "    </tr>\n",
       "  </thead>\n",
       "  <tbody>\n",
       "    <tr>\n",
       "      <th>0</th>\n",
       "      <td>1.39</td>\n",
       "      <td>-0.39</td>\n",
       "      <td>-0.39</td>\n",
       "      <td>-0.39</td>\n",
       "      <td>-0.38</td>\n",
       "      <td>-0.39</td>\n",
       "      <td>-0.34</td>\n",
       "      <td>-0.39</td>\n",
       "      <td>-0.18</td>\n",
       "      <td>-0.38</td>\n",
       "      <td>-0.37</td>\n",
       "      <td>3.36</td>\n",
       "      <td>-0.37</td>\n",
       "      <td>-0.39</td>\n",
       "      <td>-0.39</td>\n",
       "    </tr>\n",
       "    <tr>\n",
       "      <th>1</th>\n",
       "      <td>3.49</td>\n",
       "      <td>-0.39</td>\n",
       "      <td>-0.38</td>\n",
       "      <td>-0.39</td>\n",
       "      <td>-0.38</td>\n",
       "      <td>-0.39</td>\n",
       "      <td>-0.30</td>\n",
       "      <td>-0.39</td>\n",
       "      <td>0.01</td>\n",
       "      <td>-0.38</td>\n",
       "      <td>-0.36</td>\n",
       "      <td>0.98</td>\n",
       "      <td>-0.36</td>\n",
       "      <td>-0.39</td>\n",
       "      <td>-0.39</td>\n",
       "    </tr>\n",
       "    <tr>\n",
       "      <th>2</th>\n",
       "      <td>2.88</td>\n",
       "      <td>-0.43</td>\n",
       "      <td>-0.42</td>\n",
       "      <td>-0.43</td>\n",
       "      <td>-0.42</td>\n",
       "      <td>-0.43</td>\n",
       "      <td>-0.34</td>\n",
       "      <td>-0.43</td>\n",
       "      <td>-0.04</td>\n",
       "      <td>-0.42</td>\n",
       "      <td>-0.40</td>\n",
       "      <td>2.11</td>\n",
       "      <td>-0.40</td>\n",
       "      <td>-0.43</td>\n",
       "      <td>-0.43</td>\n",
       "    </tr>\n",
       "    <tr>\n",
       "      <th>3</th>\n",
       "      <td>0.68</td>\n",
       "      <td>-0.35</td>\n",
       "      <td>-0.35</td>\n",
       "      <td>-0.35</td>\n",
       "      <td>-0.35</td>\n",
       "      <td>-0.35</td>\n",
       "      <td>-0.31</td>\n",
       "      <td>-0.35</td>\n",
       "      <td>-0.16</td>\n",
       "      <td>-0.35</td>\n",
       "      <td>-0.34</td>\n",
       "      <td>3.61</td>\n",
       "      <td>-0.34</td>\n",
       "      <td>-0.35</td>\n",
       "      <td>-0.35</td>\n",
       "    </tr>\n",
       "    <tr>\n",
       "      <th>4</th>\n",
       "      <td>2.09</td>\n",
       "      <td>-0.42</td>\n",
       "      <td>-0.41</td>\n",
       "      <td>-0.42</td>\n",
       "      <td>-0.41</td>\n",
       "      <td>-0.42</td>\n",
       "      <td>-0.35</td>\n",
       "      <td>-0.42</td>\n",
       "      <td>-0.13</td>\n",
       "      <td>-0.41</td>\n",
       "      <td>-0.40</td>\n",
       "      <td>2.92</td>\n",
       "      <td>-0.40</td>\n",
       "      <td>-0.42</td>\n",
       "      <td>-0.42</td>\n",
       "    </tr>\n",
       "  </tbody>\n",
       "</table>\n",
       "</div>"
      ],
      "text/plain": [
       "   battery_power  blue  clock_speed  dual_sim    fc  four_g  int_memory  \\\n",
       "0           1.39 -0.39        -0.39     -0.39 -0.38   -0.39       -0.34   \n",
       "1           3.49 -0.39        -0.38     -0.39 -0.38   -0.39       -0.30   \n",
       "2           2.88 -0.43        -0.42     -0.43 -0.42   -0.43       -0.34   \n",
       "3           0.68 -0.35        -0.35     -0.35 -0.35   -0.35       -0.31   \n",
       "4           2.09 -0.42        -0.41     -0.42 -0.41   -0.42       -0.35   \n",
       "\n",
       "   m_dep  mobile_wt  n_cores    pc  ram  talk_time  touch_screen  wifi  \n",
       "0  -0.39      -0.18    -0.38 -0.37 3.36      -0.37         -0.39 -0.39  \n",
       "1  -0.39       0.01    -0.38 -0.36 0.98      -0.36         -0.39 -0.39  \n",
       "2  -0.43      -0.04    -0.42 -0.40 2.11      -0.40         -0.43 -0.43  \n",
       "3  -0.35      -0.16    -0.35 -0.34 3.61      -0.34         -0.35 -0.35  \n",
       "4  -0.42      -0.13    -0.41 -0.40 2.92      -0.40         -0.42 -0.42  "
      ]
     },
     "execution_count": 71,
     "metadata": {},
     "output_type": "execute_result"
    }
   ],
   "source": [
    "pd.options.display.float_format='{:,.2f}'.format\n",
    "\n",
    "centroids = pd.DataFrame(train_kmeans.cluster_centers_, columns=train_names)\n",
    "centroids"
   ]
  },
  {
   "cell_type": "code",
   "execution_count": 72,
   "metadata": {},
   "outputs": [],
   "source": [
    "def cluster_sizes(clusters):\n",
    "    #clusters is an array of cluster labels for each instance in the data\n",
    "    \n",
    "    size = {}\n",
    "    cluster_labels = np.unique(clusters)\n",
    "    n_clusters = cluster_labels.shape[0]\n",
    "\n",
    "    for c in cluster_labels:\n",
    "        size[c] = len(train[clusters == c])\n",
    "    return size"
   ]
  },
  {
   "cell_type": "code",
   "execution_count": 73,
   "metadata": {},
   "outputs": [
    {
     "name": "stdout",
     "output_type": "stream",
     "text": [
      "Size of Cluster 0 =  441\n",
      "Size of Cluster 1 =  177\n",
      "Size of Cluster 2 =  259\n",
      "Size of Cluster 3 =  369\n",
      "Size of Cluster 4 =  354\n"
     ]
    }
   ],
   "source": [
    "size = cluster_sizes(cluster)\n",
    "\n",
    "for c in size.keys():\n",
    "    print(\"Size of Cluster\", c, \"= \", size[c])"
   ]
  },
  {
   "cell_type": "code",
   "execution_count": 74,
   "metadata": {},
   "outputs": [
    {
     "name": "stdout",
     "output_type": "stream",
     "text": [
      "0.19948708192327955\n"
     ]
    }
   ],
   "source": [
    "print(completeness_score(trainNP,cluster))"
   ]
  },
  {
   "cell_type": "code",
   "execution_count": 75,
   "metadata": {},
   "outputs": [
    {
     "name": "stdout",
     "output_type": "stream",
     "text": [
      "0.22530827203290152\n"
     ]
    }
   ],
   "source": [
    "print(homogeneity_score(trainNP,cluster))"
   ]
  },
  {
   "cell_type": "code",
   "execution_count": 76,
   "metadata": {},
   "outputs": [
    {
     "name": "stdout",
     "output_type": "stream",
     "text": [
      "[0.70887152 0.63119697 0.61519299 0.68435084 0.20286332 0.46738701\n",
      " 0.30282726 0.66859756 0.46628534 0.71897346 0.6789912  0.42774551\n",
      " 0.68174398 0.64326168 0.50174053 0.65817569 0.68324625 0.48514477\n",
      " 0.07786376 0.60624214]\n",
      "\n",
      " Mean Silhouette Value:  0.5075961018284387\n"
     ]
    }
   ],
   "source": [
    "phone_silhouettes = metrics.silhouette_samples(train, cluster)\n",
    "print(phone_silhouettes[:20])\n",
    "print(\"\\n Mean Silhouette Value: \", phone_silhouettes.mean())"
   ]
  },
  {
   "cell_type": "code",
   "execution_count": 77,
   "metadata": {},
   "outputs": [
    {
     "data": {
      "image/png": "[encoded data removed]",
      "text/plain": [
       "<Figure size 432x288 with 1 Axes>"
      ]
     },
     "metadata": {
      "needs_background": "light"
     },
     "output_type": "display_data"
    }
   ],
   "source": [
    "plot_silhouettes(train, cluster)"
   ]
  },
  {
   "cell_type": "code",
   "execution_count": 78,
   "metadata": {},
   "outputs": [
    {
     "data": {
      "text/plain": [
       "<matplotlib.collections.PathCollection at 0x7fa359e999d0>"
      ]
     },
     "execution_count": 78,
     "metadata": {},
     "output_type": "execute_result"
    },
    {
     "data": {
      "image/png": "[encoded data removed]",
      "text/plain": [
       "<Figure size 432x288 with 1 Axes>"
      ]
     },
     "metadata": {
      "needs_background": "light"
     },
     "output_type": "display_data"
    }
   ],
   "source": [
    "plt.scatter(train.iloc[:, 0], train.iloc[:, 1], c=cluster, s=50, cmap='viridis')\n",
    "\n",
    "centers = train_kmeans.cluster_centers_\n",
    "plt.scatter(centers[:, 0], centers[:, 1], c='black', s=200, alpha=0.5)"
   ]
  },
  {
   "cell_type": "markdown",
   "metadata": {},
   "source": [
    "### 5 Cluster training data summary \n",
    "\n",
    "#### The completeness score is 0.19 and the homogeneity score is 0.23. The completeness score is lower than the completeness score with 4 clusters. This is likely because there are more clusters than classes, and so more points from the same class are split into different clusters. The homogeneity score is slightly higher than the score with 4 clusters. This may be due to the extra cluster containing more points from the same class\n",
    "\n",
    "#### The Mean Silhouette Value is 0.51. This is slightly lower than the Mean Silhouette Value with 4 clusters."
   ]
  },
  {
   "cell_type": "markdown",
   "metadata": {},
   "source": [
    "## 5 Clusters\n",
    "\n",
    "#### Testing Data"
   ]
  },
  {
   "cell_type": "code",
   "execution_count": 79,
   "metadata": {},
   "outputs": [
    {
     "data": {
      "text/plain": [
       "array([0, 2, 3, 1, 4, 4, 3, 2, 4, 3, 3, 3, 3, 4, 2, 0, 1, 4, 4, 3, 3, 1,\n",
       "       1, 0, 3, 0, 2, 4, 1, 0, 0, 0, 0, 1, 3, 4, 2, 2, 3, 2, 0, 3, 3, 2,\n",
       "       1, 4, 2, 0, 4, 4, 2, 1, 2, 0, 4, 4, 3, 2, 4, 3, 3, 3, 2, 3, 0, 0,\n",
       "       0, 4, 3, 4, 2, 3, 1, 1, 0, 3, 3, 4, 2, 4, 4, 1, 3, 4, 0, 3, 2, 3,\n",
       "       3, 3, 3, 0, 2, 0, 3, 2, 0, 0, 0, 4, 2, 2, 4, 2, 3, 4, 0, 4, 4, 0,\n",
       "       3, 4, 3, 4, 2, 2, 0, 3, 2, 0, 0, 3, 1, 0, 4, 3, 1, 0, 1, 0, 3, 4,\n",
       "       0, 3, 4, 0, 3, 3, 3, 0, 2, 0, 1, 0, 2, 2, 2, 4, 4, 2, 0, 4, 2, 0,\n",
       "       1, 0, 1, 3, 3, 4, 0, 1, 4, 1, 3, 1, 0, 1, 3, 3, 4, 0, 0, 3, 0, 0,\n",
       "       4, 2, 3, 0, 3, 2, 1, 0, 2, 0, 0, 0, 0, 0, 3, 0, 4, 3, 0, 2, 3, 0,\n",
       "       2, 0, 0, 4, 0, 2, 1, 0, 4, 2, 2, 0, 3, 3, 1, 0, 2, 0, 0, 0, 4, 0,\n",
       "       0, 3, 0, 2, 4, 4, 2, 4, 0, 1, 0, 0, 0, 1, 4, 1, 0, 2, 0, 0, 2, 3,\n",
       "       3, 4, 2, 2, 2, 2, 1, 2, 0, 4, 1, 3, 0, 4, 3, 0, 4, 3, 0, 0, 3, 0,\n",
       "       3, 2, 4, 3, 2, 2, 2, 4, 1, 4, 4, 3, 0, 0, 4, 3, 0, 1, 4, 0, 1, 1,\n",
       "       0, 4, 2, 2, 3, 1, 1, 1, 2, 3, 3, 3, 3, 2, 1, 0, 0, 0, 4, 2, 0, 3,\n",
       "       3, 3, 3, 0, 4, 1, 0, 0, 4, 0, 3, 0, 3, 2, 3, 3, 2, 2, 4, 2, 2, 4,\n",
       "       3, 4, 2, 0, 4, 0, 0, 3, 4, 3, 0, 2, 1, 4, 1, 0, 2, 0, 0, 3, 3, 1,\n",
       "       3, 4, 0, 4, 0, 0, 3, 0, 1, 4, 4, 1, 3, 0, 2, 0, 3, 2, 3, 0, 4, 3,\n",
       "       0, 0, 0, 0, 3, 0, 2, 4, 3, 3, 1, 3, 3, 3, 3, 0, 4, 3, 0, 0, 0, 3,\n",
       "       0, 4, 4, 1], dtype=int32)"
      ]
     },
     "execution_count": 79,
     "metadata": {},
     "output_type": "execute_result"
    }
   ],
   "source": [
    "cluster = train_kmeans.predict(test)\n",
    "cluster"
   ]
  },
  {
   "cell_type": "code",
   "execution_count": 80,
   "metadata": {},
   "outputs": [
    {
     "data": {
      "text/html": [
       "<div>\n",
       "<style scoped>\n",
       "    .dataframe tbody tr th:only-of-type {\n",
       "        vertical-align: middle;\n",
       "    }\n",
       "\n",
       "    .dataframe tbody tr th {\n",
       "        vertical-align: top;\n",
       "    }\n",
       "\n",
       "    .dataframe thead th {\n",
       "        text-align: right;\n",
       "    }\n",
       "</style>\n",
       "<table border=\"1\" class=\"dataframe\">\n",
       "  <thead>\n",
       "    <tr style=\"text-align: right;\">\n",
       "      <th></th>\n",
       "      <th>Cluster</th>\n",
       "    </tr>\n",
       "  </thead>\n",
       "  <tbody>\n",
       "    <tr>\n",
       "      <th>0</th>\n",
       "      <td>0</td>\n",
       "    </tr>\n",
       "    <tr>\n",
       "      <th>1</th>\n",
       "      <td>2</td>\n",
       "    </tr>\n",
       "    <tr>\n",
       "      <th>2</th>\n",
       "      <td>3</td>\n",
       "    </tr>\n",
       "    <tr>\n",
       "      <th>3</th>\n",
       "      <td>1</td>\n",
       "    </tr>\n",
       "    <tr>\n",
       "      <th>4</th>\n",
       "      <td>4</td>\n",
       "    </tr>\n",
       "    <tr>\n",
       "      <th>...</th>\n",
       "      <td>...</td>\n",
       "    </tr>\n",
       "    <tr>\n",
       "      <th>395</th>\n",
       "      <td>3</td>\n",
       "    </tr>\n",
       "    <tr>\n",
       "      <th>396</th>\n",
       "      <td>0</td>\n",
       "    </tr>\n",
       "    <tr>\n",
       "      <th>397</th>\n",
       "      <td>4</td>\n",
       "    </tr>\n",
       "    <tr>\n",
       "      <th>398</th>\n",
       "      <td>4</td>\n",
       "    </tr>\n",
       "    <tr>\n",
       "      <th>399</th>\n",
       "      <td>1</td>\n",
       "    </tr>\n",
       "  </tbody>\n",
       "</table>\n",
       "<p>400 rows × 1 columns</p>\n",
       "</div>"
      ],
      "text/plain": [
       "     Cluster\n",
       "0          0\n",
       "1          2\n",
       "2          3\n",
       "3          1\n",
       "4          4\n",
       "..       ...\n",
       "395        3\n",
       "396        0\n",
       "397        4\n",
       "398        4\n",
       "399        1\n",
       "\n",
       "[400 rows x 1 columns]"
      ]
     },
     "execution_count": 80,
     "metadata": {},
     "output_type": "execute_result"
    }
   ],
   "source": [
    "clusters = pd.DataFrame(cluster, columns=['Cluster'])\n",
    "clusters"
   ]
  },
  {
   "cell_type": "code",
   "execution_count": 81,
   "metadata": {},
   "outputs": [
    {
     "data": {
      "text/html": [
       "<div>\n",
       "<style scoped>\n",
       "    .dataframe tbody tr th:only-of-type {\n",
       "        vertical-align: middle;\n",
       "    }\n",
       "\n",
       "    .dataframe tbody tr th {\n",
       "        vertical-align: top;\n",
       "    }\n",
       "\n",
       "    .dataframe thead th {\n",
       "        text-align: right;\n",
       "    }\n",
       "</style>\n",
       "<table border=\"1\" class=\"dataframe\">\n",
       "  <thead>\n",
       "    <tr style=\"text-align: right;\">\n",
       "      <th></th>\n",
       "      <th>battery_power</th>\n",
       "      <th>blue</th>\n",
       "      <th>clock_speed</th>\n",
       "      <th>dual_sim</th>\n",
       "      <th>fc</th>\n",
       "      <th>four_g</th>\n",
       "      <th>int_memory</th>\n",
       "      <th>m_dep</th>\n",
       "      <th>mobile_wt</th>\n",
       "      <th>n_cores</th>\n",
       "      <th>pc</th>\n",
       "      <th>ram</th>\n",
       "      <th>talk_time</th>\n",
       "      <th>touch_screen</th>\n",
       "      <th>wifi</th>\n",
       "    </tr>\n",
       "  </thead>\n",
       "  <tbody>\n",
       "    <tr>\n",
       "      <th>0</th>\n",
       "      <td>1.39</td>\n",
       "      <td>-0.39</td>\n",
       "      <td>-0.39</td>\n",
       "      <td>-0.39</td>\n",
       "      <td>-0.38</td>\n",
       "      <td>-0.39</td>\n",
       "      <td>-0.34</td>\n",
       "      <td>-0.39</td>\n",
       "      <td>-0.18</td>\n",
       "      <td>-0.38</td>\n",
       "      <td>-0.37</td>\n",
       "      <td>3.36</td>\n",
       "      <td>-0.37</td>\n",
       "      <td>-0.39</td>\n",
       "      <td>-0.39</td>\n",
       "    </tr>\n",
       "    <tr>\n",
       "      <th>1</th>\n",
       "      <td>3.49</td>\n",
       "      <td>-0.39</td>\n",
       "      <td>-0.38</td>\n",
       "      <td>-0.39</td>\n",
       "      <td>-0.38</td>\n",
       "      <td>-0.39</td>\n",
       "      <td>-0.30</td>\n",
       "      <td>-0.39</td>\n",
       "      <td>0.01</td>\n",
       "      <td>-0.38</td>\n",
       "      <td>-0.36</td>\n",
       "      <td>0.98</td>\n",
       "      <td>-0.36</td>\n",
       "      <td>-0.39</td>\n",
       "      <td>-0.39</td>\n",
       "    </tr>\n",
       "    <tr>\n",
       "      <th>2</th>\n",
       "      <td>2.88</td>\n",
       "      <td>-0.43</td>\n",
       "      <td>-0.42</td>\n",
       "      <td>-0.43</td>\n",
       "      <td>-0.42</td>\n",
       "      <td>-0.43</td>\n",
       "      <td>-0.34</td>\n",
       "      <td>-0.43</td>\n",
       "      <td>-0.04</td>\n",
       "      <td>-0.42</td>\n",
       "      <td>-0.40</td>\n",
       "      <td>2.11</td>\n",
       "      <td>-0.40</td>\n",
       "      <td>-0.43</td>\n",
       "      <td>-0.43</td>\n",
       "    </tr>\n",
       "    <tr>\n",
       "      <th>3</th>\n",
       "      <td>0.68</td>\n",
       "      <td>-0.35</td>\n",
       "      <td>-0.35</td>\n",
       "      <td>-0.35</td>\n",
       "      <td>-0.35</td>\n",
       "      <td>-0.35</td>\n",
       "      <td>-0.31</td>\n",
       "      <td>-0.35</td>\n",
       "      <td>-0.16</td>\n",
       "      <td>-0.35</td>\n",
       "      <td>-0.34</td>\n",
       "      <td>3.61</td>\n",
       "      <td>-0.34</td>\n",
       "      <td>-0.35</td>\n",
       "      <td>-0.35</td>\n",
       "    </tr>\n",
       "    <tr>\n",
       "      <th>4</th>\n",
       "      <td>2.09</td>\n",
       "      <td>-0.42</td>\n",
       "      <td>-0.41</td>\n",
       "      <td>-0.42</td>\n",
       "      <td>-0.41</td>\n",
       "      <td>-0.42</td>\n",
       "      <td>-0.35</td>\n",
       "      <td>-0.42</td>\n",
       "      <td>-0.13</td>\n",
       "      <td>-0.41</td>\n",
       "      <td>-0.40</td>\n",
       "      <td>2.92</td>\n",
       "      <td>-0.40</td>\n",
       "      <td>-0.42</td>\n",
       "      <td>-0.42</td>\n",
       "    </tr>\n",
       "  </tbody>\n",
       "</table>\n",
       "</div>"
      ],
      "text/plain": [
       "   battery_power  blue  clock_speed  dual_sim    fc  four_g  int_memory  \\\n",
       "0           1.39 -0.39        -0.39     -0.39 -0.38   -0.39       -0.34   \n",
       "1           3.49 -0.39        -0.38     -0.39 -0.38   -0.39       -0.30   \n",
       "2           2.88 -0.43        -0.42     -0.43 -0.42   -0.43       -0.34   \n",
       "3           0.68 -0.35        -0.35     -0.35 -0.35   -0.35       -0.31   \n",
       "4           2.09 -0.42        -0.41     -0.42 -0.41   -0.42       -0.35   \n",
       "\n",
       "   m_dep  mobile_wt  n_cores    pc  ram  talk_time  touch_screen  wifi  \n",
       "0  -0.39      -0.18    -0.38 -0.37 3.36      -0.37         -0.39 -0.39  \n",
       "1  -0.39       0.01    -0.38 -0.36 0.98      -0.36         -0.39 -0.39  \n",
       "2  -0.43      -0.04    -0.42 -0.40 2.11      -0.40         -0.43 -0.43  \n",
       "3  -0.35      -0.16    -0.35 -0.34 3.61      -0.34         -0.35 -0.35  \n",
       "4  -0.42      -0.13    -0.41 -0.40 2.92      -0.40         -0.42 -0.42  "
      ]
     },
     "execution_count": 81,
     "metadata": {},
     "output_type": "execute_result"
    }
   ],
   "source": [
    "pd.options.display.float_format='{:,.2f}'.format\n",
    "\n",
    "centroids = pd.DataFrame(train_kmeans.cluster_centers_, columns=train_names)\n",
    "centroids"
   ]
  },
  {
   "cell_type": "code",
   "execution_count": 82,
   "metadata": {},
   "outputs": [],
   "source": [
    "def cluster_sizes(clusters):\n",
    "    #clusters is an array of cluster labels for each instance in the data\n",
    "    \n",
    "    size = {}\n",
    "    cluster_labels = np.unique(clusters)\n",
    "    n_clusters = cluster_labels.shape[0]\n",
    "\n",
    "    for c in cluster_labels:\n",
    "        size[c] = len(test[clusters == c])\n",
    "    return size"
   ]
  },
  {
   "cell_type": "code",
   "execution_count": 83,
   "metadata": {},
   "outputs": [
    {
     "name": "stdout",
     "output_type": "stream",
     "text": [
      "Size of Cluster 0 =  116\n",
      "Size of Cluster 1 =  45\n",
      "Size of Cluster 2 =  68\n",
      "Size of Cluster 3 =  97\n",
      "Size of Cluster 4 =  74\n"
     ]
    }
   ],
   "source": [
    "size = cluster_sizes(cluster)\n",
    "\n",
    "for c in size.keys():\n",
    "    print(\"Size of Cluster\", c, \"= \", size[c])"
   ]
  },
  {
   "cell_type": "code",
   "execution_count": 84,
   "metadata": {},
   "outputs": [
    {
     "name": "stdout",
     "output_type": "stream",
     "text": [
      "0.21784679065867182\n"
     ]
    }
   ],
   "source": [
    "print(completeness_score(testNP,cluster))"
   ]
  },
  {
   "cell_type": "code",
   "execution_count": 85,
   "metadata": {},
   "outputs": [
    {
     "name": "stdout",
     "output_type": "stream",
     "text": [
      "0.24579362986601339\n"
     ]
    }
   ],
   "source": [
    "print(homogeneity_score(testNP,cluster))"
   ]
  },
  {
   "cell_type": "code",
   "execution_count": 86,
   "metadata": {},
   "outputs": [
    {
     "name": "stdout",
     "output_type": "stream",
     "text": [
      "[0.41193196 0.30581541 0.51121215 0.28848584 0.5839756  0.41885384\n",
      " 0.66349619 0.15680107 0.63341766 0.62476459 0.25975583 0.72779932\n",
      " 0.69110585 0.65126191 0.05406706 0.46924749 0.67658501 0.62229979\n",
      " 0.54970565 0.69850211]\n",
      "\n",
      " Mean Silhouette Value:  0.5228619166945079\n"
     ]
    }
   ],
   "source": [
    "phone_silhouettes = metrics.silhouette_samples(test, cluster)\n",
    "print(phone_silhouettes[:20])\n",
    "print(\"\\n Mean Silhouette Value: \", phone_silhouettes.mean())"
   ]
  },
  {
   "cell_type": "code",
   "execution_count": 87,
   "metadata": {},
   "outputs": [
    {
     "data": {
      "image/png": "[encoded data removed]",
      "text/plain": [
       "<Figure size 432x288 with 1 Axes>"
      ]
     },
     "metadata": {
      "needs_background": "light"
     },
     "output_type": "display_data"
    }
   ],
   "source": [
    "plot_silhouettes(test, cluster)"
   ]
  },
  {
   "cell_type": "code",
   "execution_count": 88,
   "metadata": {},
   "outputs": [
    {
     "data": {
      "text/plain": [
       "<matplotlib.collections.PathCollection at 0x7fa35a23ac40>"
      ]
     },
     "execution_count": 88,
     "metadata": {},
     "output_type": "execute_result"
    },
    {
     "data": {
      "image/png": "[encoded data removed]",
      "text/plain": [
       "<Figure size 432x288 with 1 Axes>"
      ]
     },
     "metadata": {
      "needs_background": "light"
     },
     "output_type": "display_data"
    }
   ],
   "source": [
    "plt.scatter(test.iloc[:, 0], test.iloc[:, 1], c=cluster, s=50, cmap='viridis')\n",
    "\n",
    "centers = train_kmeans.cluster_centers_\n",
    "plt.scatter(centers[:, 0], centers[:, 1], c='black', s=200, alpha=0.5)"
   ]
  },
  {
   "cell_type": "markdown",
   "metadata": {},
   "source": [
    "### 5 cluster testing data summary\n",
    "\n",
    "#### The completeness score is 0.22 the homogeneity score is 0.25. Both of these scores are higher than the scores from the training set with 5 clusters. The completeness score is the same as the completeness score with 4 clusters, and the homogeneity score is higher than the homogeneity score with 4 clusters. This shows that the rate of points of a class belonging to the same cluster is about the same and the rate of a cluster containing points from one class is higher with 5 clusters. \n",
    "\n",
    "#### The Mean Silhouette Value is 0.52. This is about the same as the Mean Silhouette Value for the kMeans cluster with 4 clusters. This shows that the distance between points of the same cluster and points from different clusters are about the same. "
   ]
  },
  {
   "cell_type": "markdown",
   "metadata": {},
   "source": [
    "## Clustering Summary \n",
    "\n",
    "#### For the 3 kMeans clustering methods I used, with 3, 4 and 5 as values of k, I concluded the following. The completeness and Mean Silhouette Value was highest with 3 clusters, however the homogeneity score was the lowest. When there were 5 clusters, the homogeneity score was the highest. I believe that the highest completeness score was seen with 3 neighbors because it is more likely that many points from one of the four classes would be clustered together. I think that the homogeneity score was highest with 5 neighbors because once we have more clusters than classes, it becomes more likely that clusters will contain points from certain classes. \n",
    "\n",
    "#### Overall, clustering using kMeans did not seem like the most effective method. It could due to points being highly concentrated, low variance among variables and due to a few outliers that appear near the bottom of the cluster graphs seen above. "
   ]
  },
  {
   "cell_type": "code",
   "execution_count": 89,
   "metadata": {},
   "outputs": [],
   "source": [
    "trainPCA = pd.read_csv('train_pca1.csv', header=None)\n",
    "testPCA = pd.read_csv('test_pca1.csv', header=None)"
   ]
  },
  {
   "cell_type": "code",
   "execution_count": 90,
   "metadata": {},
   "outputs": [
    {
     "data": {
      "text/html": [
       "<div>\n",
       "<style scoped>\n",
       "    .dataframe tbody tr th:only-of-type {\n",
       "        vertical-align: middle;\n",
       "    }\n",
       "\n",
       "    .dataframe tbody tr th {\n",
       "        vertical-align: top;\n",
       "    }\n",
       "\n",
       "    .dataframe thead th {\n",
       "        text-align: right;\n",
       "    }\n",
       "</style>\n",
       "<table border=\"1\" class=\"dataframe\">\n",
       "  <thead>\n",
       "    <tr style=\"text-align: right;\">\n",
       "      <th></th>\n",
       "      <th>0</th>\n",
       "    </tr>\n",
       "  </thead>\n",
       "  <tbody>\n",
       "    <tr>\n",
       "      <th>0</th>\n",
       "      <td>2.49</td>\n",
       "    </tr>\n",
       "    <tr>\n",
       "      <th>1</th>\n",
       "      <td>2.36</td>\n",
       "    </tr>\n",
       "    <tr>\n",
       "      <th>2</th>\n",
       "      <td>-1.78</td>\n",
       "    </tr>\n",
       "    <tr>\n",
       "      <th>3</th>\n",
       "      <td>-1.34</td>\n",
       "    </tr>\n",
       "    <tr>\n",
       "      <th>4</th>\n",
       "      <td>0.64</td>\n",
       "    </tr>\n",
       "    <tr>\n",
       "      <th>...</th>\n",
       "      <td>...</td>\n",
       "    </tr>\n",
       "    <tr>\n",
       "      <th>1595</th>\n",
       "      <td>-1.08</td>\n",
       "    </tr>\n",
       "    <tr>\n",
       "      <th>1596</th>\n",
       "      <td>0.04</td>\n",
       "    </tr>\n",
       "    <tr>\n",
       "      <th>1597</th>\n",
       "      <td>-0.21</td>\n",
       "    </tr>\n",
       "    <tr>\n",
       "      <th>1598</th>\n",
       "      <td>-0.44</td>\n",
       "    </tr>\n",
       "    <tr>\n",
       "      <th>1599</th>\n",
       "      <td>2.85</td>\n",
       "    </tr>\n",
       "  </tbody>\n",
       "</table>\n",
       "<p>1600 rows × 1 columns</p>\n",
       "</div>"
      ],
      "text/plain": [
       "         0\n",
       "0     2.49\n",
       "1     2.36\n",
       "2    -1.78\n",
       "3    -1.34\n",
       "4     0.64\n",
       "...    ...\n",
       "1595 -1.08\n",
       "1596  0.04\n",
       "1597 -0.21\n",
       "1598 -0.44\n",
       "1599  2.85\n",
       "\n",
       "[1600 rows x 1 columns]"
      ]
     },
     "execution_count": 90,
     "metadata": {},
     "output_type": "execute_result"
    }
   ],
   "source": [
    "trainPCA"
   ]
  },
  {
   "cell_type": "code",
   "execution_count": 91,
   "metadata": {},
   "outputs": [
    {
     "data": {
      "text/plain": [
       "KMeans(max_iter=500, n_clusters=4, n_init=5)"
      ]
     },
     "execution_count": 91,
     "metadata": {},
     "output_type": "execute_result"
    }
   ],
   "source": [
    "train_kmeansPCA = KMeans(n_clusters=4, max_iter=500, verbose=0, n_init=5) # initialization\n",
    "train_kmeansPCA.fit(trainPCA)"
   ]
  },
  {
   "cell_type": "code",
   "execution_count": 92,
   "metadata": {},
   "outputs": [
    {
     "data": {
      "text/plain": [
       "array([3, 3, 0, ..., 2, 2, 3], dtype=int32)"
      ]
     },
     "execution_count": 92,
     "metadata": {},
     "output_type": "execute_result"
    }
   ],
   "source": [
    "cluster = train_kmeansPCA.predict(trainPCA)\n",
    "cluster"
   ]
  },
  {
   "cell_type": "code",
   "execution_count": 93,
   "metadata": {},
   "outputs": [
    {
     "data": {
      "text/html": [
       "<div>\n",
       "<style scoped>\n",
       "    .dataframe tbody tr th:only-of-type {\n",
       "        vertical-align: middle;\n",
       "    }\n",
       "\n",
       "    .dataframe tbody tr th {\n",
       "        vertical-align: top;\n",
       "    }\n",
       "\n",
       "    .dataframe thead th {\n",
       "        text-align: right;\n",
       "    }\n",
       "</style>\n",
       "<table border=\"1\" class=\"dataframe\">\n",
       "  <thead>\n",
       "    <tr style=\"text-align: right;\">\n",
       "      <th></th>\n",
       "      <th>Cluster</th>\n",
       "    </tr>\n",
       "  </thead>\n",
       "  <tbody>\n",
       "    <tr>\n",
       "      <th>0</th>\n",
       "      <td>3</td>\n",
       "    </tr>\n",
       "    <tr>\n",
       "      <th>1</th>\n",
       "      <td>3</td>\n",
       "    </tr>\n",
       "    <tr>\n",
       "      <th>2</th>\n",
       "      <td>0</td>\n",
       "    </tr>\n",
       "    <tr>\n",
       "      <th>3</th>\n",
       "      <td>0</td>\n",
       "    </tr>\n",
       "    <tr>\n",
       "      <th>4</th>\n",
       "      <td>1</td>\n",
       "    </tr>\n",
       "    <tr>\n",
       "      <th>...</th>\n",
       "      <td>...</td>\n",
       "    </tr>\n",
       "    <tr>\n",
       "      <th>1595</th>\n",
       "      <td>0</td>\n",
       "    </tr>\n",
       "    <tr>\n",
       "      <th>1596</th>\n",
       "      <td>2</td>\n",
       "    </tr>\n",
       "    <tr>\n",
       "      <th>1597</th>\n",
       "      <td>2</td>\n",
       "    </tr>\n",
       "    <tr>\n",
       "      <th>1598</th>\n",
       "      <td>2</td>\n",
       "    </tr>\n",
       "    <tr>\n",
       "      <th>1599</th>\n",
       "      <td>3</td>\n",
       "    </tr>\n",
       "  </tbody>\n",
       "</table>\n",
       "<p>1600 rows × 1 columns</p>\n",
       "</div>"
      ],
      "text/plain": [
       "      Cluster\n",
       "0           3\n",
       "1           3\n",
       "2           0\n",
       "3           0\n",
       "4           1\n",
       "...       ...\n",
       "1595        0\n",
       "1596        2\n",
       "1597        2\n",
       "1598        2\n",
       "1599        3\n",
       "\n",
       "[1600 rows x 1 columns]"
      ]
     },
     "execution_count": 93,
     "metadata": {},
     "output_type": "execute_result"
    }
   ],
   "source": [
    "clusters = pd.DataFrame(cluster, columns=['Cluster'])\n",
    "clusters"
   ]
  },
  {
   "cell_type": "code",
   "execution_count": 94,
   "metadata": {},
   "outputs": [],
   "source": [
    "def cluster_sizes(clusters):\n",
    "    #clusters is an array of cluster labels for each instance in the data\n",
    "    \n",
    "    size = {}\n",
    "    cluster_labels = np.unique(clusters)\n",
    "    n_clusters = cluster_labels.shape[0]\n",
    "\n",
    "    for c in cluster_labels:\n",
    "        size[c] = len(trainPCA[clusters == c])\n",
    "    return size"
   ]
  },
  {
   "cell_type": "code",
   "execution_count": 95,
   "metadata": {},
   "outputs": [
    {
     "name": "stdout",
     "output_type": "stream",
     "text": [
      "Size of Cluster 0 =  596\n",
      "Size of Cluster 1 =  281\n",
      "Size of Cluster 2 =  504\n",
      "Size of Cluster 3 =  219\n"
     ]
    }
   ],
   "source": [
    "size = cluster_sizes(cluster)\n",
    "\n",
    "for c in size.keys():\n",
    "    print(\"Size of Cluster\", c, \"= \", size[c])"
   ]
  },
  {
   "cell_type": "code",
   "execution_count": 96,
   "metadata": {},
   "outputs": [
    {
     "name": "stdout",
     "output_type": "stream",
     "text": [
      "0.22250798679659026\n"
     ]
    }
   ],
   "source": [
    "print(completeness_score(trainNP,cluster))"
   ]
  },
  {
   "cell_type": "code",
   "execution_count": 97,
   "metadata": {},
   "outputs": [
    {
     "name": "stdout",
     "output_type": "stream",
     "text": [
      "0.21018895967157872\n"
     ]
    }
   ],
   "source": [
    "print(homogeneity_score(trainNP,cluster))"
   ]
  },
  {
   "cell_type": "code",
   "execution_count": 98,
   "metadata": {},
   "outputs": [
    {
     "data": {
      "text/plain": [
       "array([0, 3, 0, 3, 2, 2, 0, 3, 2, 0, 0, 0, 0, 2, 1, 0, 3, 2, 2, 0, 0, 3,\n",
       "       3, 2, 0, 0, 1, 2, 3, 2, 0, 2, 0, 3, 0, 2, 1, 1, 0, 1, 2, 0, 0, 1,\n",
       "       3, 2, 1, 0, 2, 2, 1, 3, 1, 2, 1, 2, 0, 1, 2, 0, 0, 0, 1, 0, 2, 0,\n",
       "       0, 1, 0, 2, 1, 0, 3, 3, 2, 0, 0, 1, 1, 1, 2, 3, 0, 2, 0, 0, 1, 0,\n",
       "       0, 0, 0, 0, 1, 2, 0, 1, 0, 0, 0, 2, 1, 1, 1, 1, 0, 2, 0, 1, 1, 2,\n",
       "       0, 1, 0, 2, 1, 1, 2, 0, 1, 2, 0, 0, 3, 0, 2, 0, 3, 2, 3, 2, 0, 2,\n",
       "       0, 0, 2, 2, 0, 0, 0, 0, 1, 2, 3, 2, 3, 1, 1, 2, 2, 1, 0, 2, 1, 2,\n",
       "       3, 0, 3, 0, 0, 2, 0, 3, 2, 3, 0, 3, 2, 3, 0, 0, 2, 0, 0, 0, 0, 0,\n",
       "       1, 1, 0, 2, 0, 1, 3, 0, 3, 0, 0, 2, 2, 0, 0, 2, 2, 0, 2, 1, 0, 2,\n",
       "       1, 0, 2, 1, 2, 1, 3, 0, 1, 1, 1, 0, 0, 0, 3, 2, 3, 2, 2, 0, 2, 2,\n",
       "       0, 0, 2, 3, 2, 2, 1, 2, 2, 3, 2, 0, 2, 3, 2, 3, 2, 1, 0, 0, 1, 0,\n",
       "       0, 1, 1, 1, 1, 1, 3, 1, 0, 1, 3, 0, 2, 2, 0, 0, 2, 0, 2, 0, 0, 2,\n",
       "       0, 1, 2, 0, 3, 1, 1, 2, 3, 2, 2, 0, 2, 2, 2, 0, 2, 3, 2, 2, 3, 3,\n",
       "       2, 2, 1, 1, 0, 3, 3, 3, 1, 0, 0, 0, 0, 1, 3, 2, 0, 0, 2, 3, 2, 0,\n",
       "       0, 0, 0, 2, 2, 3, 2, 2, 1, 2, 0, 0, 0, 1, 0, 0, 1, 1, 2, 1, 1, 2,\n",
       "       0, 2, 1, 2, 2, 2, 2, 0, 2, 0, 2, 1, 3, 2, 3, 2, 1, 2, 0, 0, 0, 3,\n",
       "       0, 2, 0, 2, 0, 0, 0, 2, 3, 2, 1, 3, 0, 0, 1, 2, 0, 1, 0, 0, 1, 0,\n",
       "       2, 2, 2, 0, 0, 2, 1, 2, 0, 0, 3, 0, 0, 0, 0, 0, 2, 0, 0, 2, 2, 0,\n",
       "       2, 1, 2, 3], dtype=int32)"
      ]
     },
     "execution_count": 98,
     "metadata": {},
     "output_type": "execute_result"
    }
   ],
   "source": [
    "cluster = train_kmeansPCA.predict(testPCA)\n",
    "cluster"
   ]
  },
  {
   "cell_type": "code",
   "execution_count": 99,
   "metadata": {},
   "outputs": [
    {
     "data": {
      "text/html": [
       "<div>\n",
       "<style scoped>\n",
       "    .dataframe tbody tr th:only-of-type {\n",
       "        vertical-align: middle;\n",
       "    }\n",
       "\n",
       "    .dataframe tbody tr th {\n",
       "        vertical-align: top;\n",
       "    }\n",
       "\n",
       "    .dataframe thead th {\n",
       "        text-align: right;\n",
       "    }\n",
       "</style>\n",
       "<table border=\"1\" class=\"dataframe\">\n",
       "  <thead>\n",
       "    <tr style=\"text-align: right;\">\n",
       "      <th></th>\n",
       "      <th>Cluster</th>\n",
       "    </tr>\n",
       "  </thead>\n",
       "  <tbody>\n",
       "    <tr>\n",
       "      <th>0</th>\n",
       "      <td>0</td>\n",
       "    </tr>\n",
       "    <tr>\n",
       "      <th>1</th>\n",
       "      <td>3</td>\n",
       "    </tr>\n",
       "    <tr>\n",
       "      <th>2</th>\n",
       "      <td>0</td>\n",
       "    </tr>\n",
       "    <tr>\n",
       "      <th>3</th>\n",
       "      <td>3</td>\n",
       "    </tr>\n",
       "    <tr>\n",
       "      <th>4</th>\n",
       "      <td>2</td>\n",
       "    </tr>\n",
       "    <tr>\n",
       "      <th>...</th>\n",
       "      <td>...</td>\n",
       "    </tr>\n",
       "    <tr>\n",
       "      <th>395</th>\n",
       "      <td>0</td>\n",
       "    </tr>\n",
       "    <tr>\n",
       "      <th>396</th>\n",
       "      <td>2</td>\n",
       "    </tr>\n",
       "    <tr>\n",
       "      <th>397</th>\n",
       "      <td>1</td>\n",
       "    </tr>\n",
       "    <tr>\n",
       "      <th>398</th>\n",
       "      <td>2</td>\n",
       "    </tr>\n",
       "    <tr>\n",
       "      <th>399</th>\n",
       "      <td>3</td>\n",
       "    </tr>\n",
       "  </tbody>\n",
       "</table>\n",
       "<p>400 rows × 1 columns</p>\n",
       "</div>"
      ],
      "text/plain": [
       "     Cluster\n",
       "0          0\n",
       "1          3\n",
       "2          0\n",
       "3          3\n",
       "4          2\n",
       "..       ...\n",
       "395        0\n",
       "396        2\n",
       "397        1\n",
       "398        2\n",
       "399        3\n",
       "\n",
       "[400 rows x 1 columns]"
      ]
     },
     "execution_count": 99,
     "metadata": {},
     "output_type": "execute_result"
    }
   ],
   "source": [
    "clusters = pd.DataFrame(cluster, columns=['Cluster'])\n",
    "clusters"
   ]
  },
  {
   "cell_type": "code",
   "execution_count": 100,
   "metadata": {},
   "outputs": [],
   "source": [
    "def cluster_sizes(clusters):\n",
    "    #clusters is an array of cluster labels for each instance in the data\n",
    "    \n",
    "    size = {}\n",
    "    cluster_labels = np.unique(clusters)\n",
    "    n_clusters = cluster_labels.shape[0]\n",
    "\n",
    "    for c in cluster_labels:\n",
    "        size[c] = len(testPCA[clusters == c])\n",
    "    return size"
   ]
  },
  {
   "cell_type": "code",
   "execution_count": 101,
   "metadata": {},
   "outputs": [
    {
     "name": "stdout",
     "output_type": "stream",
     "text": [
      "Size of Cluster 0 =  149\n",
      "Size of Cluster 1 =  77\n",
      "Size of Cluster 2 =  121\n",
      "Size of Cluster 3 =  53\n"
     ]
    }
   ],
   "source": [
    "size = cluster_sizes(cluster)\n",
    "\n",
    "for c in size.keys():\n",
    "    print(\"Size of Cluster\", c, \"= \", size[c])"
   ]
  },
  {
   "cell_type": "code",
   "execution_count": 102,
   "metadata": {},
   "outputs": [
    {
     "name": "stdout",
     "output_type": "stream",
     "text": [
      "0.21847235646242372\n"
     ]
    }
   ],
   "source": [
    "print(completeness_score(testNP,cluster))"
   ]
  },
  {
   "cell_type": "code",
   "execution_count": 103,
   "metadata": {},
   "outputs": [
    {
     "name": "stdout",
     "output_type": "stream",
     "text": [
      "0.2074796470501456\n"
     ]
    }
   ],
   "source": [
    "print(homogeneity_score(testNP,cluster))"
   ]
  },
  {
   "cell_type": "code",
   "execution_count": null,
   "metadata": {},
   "outputs": [],
   "source": []
  }
 ],
 "metadata": {
  "kernelspec": {
   "display_name": "Python 3",
   "language": "python",
   "name": "python3"
  },
  "language_info": {
   "codemirror_mode": {
    "name": "ipython",
    "version": 3
   },
   "file_extension": ".py",
   "mimetype": "text/x-python",
   "name": "python",
   "nbconvert_exporter": "python",
   "pygments_lexer": "ipython3",
   "version": "3.8.3"
  }
 },
 "nbformat": 4,
 "nbformat_minor": 4
}
