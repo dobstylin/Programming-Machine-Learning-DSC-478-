{
 "cells": [
  {
   "cell_type": "markdown",
   "metadata": {},
   "source": [
    "# Daniel O'Brien\n",
    "# DSC 478\n",
    "# Assignment 2\n",
    "### Part 1"
   ]
  },
  {
   "cell_type": "code",
   "execution_count": 1,
   "metadata": {},
   "outputs": [],
   "source": [
    "import numpy as np\n",
    "import pandas as pd\n",
    "import matplotlib.pyplot as plt\n",
    "%matplotlib inline"
   ]
  },
  {
   "cell_type": "markdown",
   "metadata": {},
   "source": [
    "#### Reading in and formatting the training and testing sets can be seen below"
   ]
  },
  {
   "cell_type": "code",
   "execution_count": 2,
   "metadata": {},
   "outputs": [
    {
     "data": {
      "text/plain": [
       "array([[0., 0., 1., ..., 0., 0., 0.],\n",
       "       [0., 0., 0., ..., 0., 0., 0.],\n",
       "       [0., 0., 0., ..., 0., 0., 0.],\n",
       "       ...,\n",
       "       [0., 0., 0., ..., 0., 0., 0.],\n",
       "       [0., 0., 0., ..., 0., 0., 0.],\n",
       "       [0., 0., 0., ..., 0., 0., 0.]])"
      ]
     },
     "execution_count": 2,
     "metadata": {},
     "output_type": "execute_result"
    }
   ],
   "source": [
    "#reading in the files\n",
    "testData = np.loadtxt('testMatrixModified.txt')\n",
    "testData"
   ]
  },
  {
   "cell_type": "code",
   "execution_count": 3,
   "metadata": {},
   "outputs": [
    {
     "data": {
      "text/plain": [
       "(5500, 200)"
      ]
     },
     "execution_count": 3,
     "metadata": {},
     "output_type": "execute_result"
    }
   ],
   "source": [
    "testData.shape"
   ]
  },
  {
   "cell_type": "code",
   "execution_count": 4,
   "metadata": {},
   "outputs": [
    {
     "data": {
      "text/plain": [
       "array([[2., 0., 0., ..., 0., 0., 0.],\n",
       "       [2., 0., 0., ..., 0., 0., 0.],\n",
       "       [2., 0., 0., ..., 0., 0., 0.],\n",
       "       ...,\n",
       "       [0., 0., 0., ..., 0., 0., 0.],\n",
       "       [0., 0., 0., ..., 0., 0., 0.],\n",
       "       [0., 0., 0., ..., 0., 0., 0.]])"
      ]
     },
     "execution_count": 4,
     "metadata": {},
     "output_type": "execute_result"
    }
   ],
   "source": [
    "trainData = np.loadtxt('trainMatrixModified.txt')\n",
    "trainData"
   ]
  },
  {
   "cell_type": "code",
   "execution_count": 5,
   "metadata": {},
   "outputs": [
    {
     "data": {
      "text/plain": [
       "(5500, 800)"
      ]
     },
     "execution_count": 5,
     "metadata": {},
     "output_type": "execute_result"
    }
   ],
   "source": [
    "trainData.shape"
   ]
  },
  {
   "cell_type": "code",
   "execution_count": 6,
   "metadata": {},
   "outputs": [
    {
     "data": {
      "text/plain": [
       "(800, 2)"
      ]
     },
     "execution_count": 6,
     "metadata": {},
     "output_type": "execute_result"
    }
   ],
   "source": [
    "TargetTrain = np.loadtxt('trainClasses.txt')\n",
    "TargetTrain.shape"
   ]
  },
  {
   "cell_type": "code",
   "execution_count": 7,
   "metadata": {},
   "outputs": [
    {
     "data": {
      "text/plain": [
       "array([0., 1., 0., 1., 0., 1., 1., 1., 1., 1., 1., 0., 0., 1., 1., 1., 0.,\n",
       "       0., 1., 0., 0., 1., 0., 1., 1., 0., 1., 1., 1., 1., 1., 0., 1., 1.,\n",
       "       1., 0., 1., 0., 0., 0., 0., 0., 1., 0., 0., 0., 0., 1., 0., 0., 0.,\n",
       "       0., 1., 0., 0., 0., 1., 1., 1., 0., 0., 1., 0., 1., 1., 1., 1., 1.,\n",
       "       1., 1., 0., 0., 0., 1., 0., 1., 0., 1., 1., 1., 1., 0., 0., 0., 1.,\n",
       "       1., 0., 0., 1., 1., 1., 1., 1., 0., 0., 1., 1., 0., 0., 1., 1., 1.,\n",
       "       0., 1., 0., 1., 0., 0., 1., 1., 1., 0., 1., 1., 0., 1., 1., 0., 1.,\n",
       "       0., 0., 0., 0., 0., 0., 0., 1., 0., 0., 1., 1., 1., 0., 0., 1., 1.,\n",
       "       0., 1., 1., 1., 0., 0., 1., 0., 1., 1., 1., 1., 0., 0., 1., 0., 1.,\n",
       "       0., 1., 0., 0., 1., 0., 0., 1., 1., 1., 0., 1., 1., 0., 1., 1., 1.,\n",
       "       1., 0., 1., 0., 1., 0., 1., 0., 1., 1., 0., 0., 1., 0., 0., 1., 1.,\n",
       "       0., 0., 0., 0., 0., 1., 1., 1., 1., 0., 0., 0., 0., 1., 1., 1., 1.,\n",
       "       1., 0., 1., 0., 1., 0., 0., 0., 0., 0., 0., 1., 1., 1., 0., 1., 1.,\n",
       "       1., 0., 1., 1., 1., 0., 0., 1., 0., 1., 1., 1., 0., 1., 1., 0., 0.,\n",
       "       1., 0., 0., 0., 1., 0., 0., 1., 1., 1., 1., 0., 1., 1., 1., 1., 1.,\n",
       "       0., 0., 1., 0., 1., 0., 0., 1., 0., 1., 1., 1., 1., 1., 0., 0., 0.,\n",
       "       0., 0., 0., 0., 0., 1., 0., 1., 1., 0., 0., 0., 0., 1., 0., 0., 1.,\n",
       "       0., 1., 1., 0., 0., 0., 1., 0., 1., 1., 1., 0., 1., 1., 1., 0., 1.,\n",
       "       0., 0., 1., 1., 0., 0., 1., 1., 0., 0., 1., 1., 1., 1., 1., 1., 1.,\n",
       "       0., 1., 0., 0., 0., 1., 0., 1., 0., 0., 0., 0., 0., 1., 0., 0., 0.,\n",
       "       0., 0., 0., 1., 1., 1., 1., 1., 1., 1., 0., 1., 0., 1., 1., 0., 1.,\n",
       "       0., 1., 0., 1., 0., 1., 1., 1., 0., 1., 0., 0., 0., 0., 1., 1., 1.,\n",
       "       1., 1., 0., 1., 0., 0., 0., 0., 0., 0., 0., 0., 1., 1., 1., 0., 1.,\n",
       "       1., 0., 0., 0., 0., 0., 1., 0., 0., 0., 1., 0., 0., 1., 1., 0., 0.,\n",
       "       0., 1., 0., 1., 0., 1., 1., 0., 1., 0., 1., 1., 0., 0., 0., 0., 0.,\n",
       "       0., 1., 1., 1., 1., 0., 0., 1., 0., 1., 0., 0., 1., 0., 0., 1., 1.,\n",
       "       0., 1., 0., 0., 1., 0., 1., 0., 0., 0., 1., 0., 0., 1., 0., 1., 0.,\n",
       "       1., 0., 0., 0., 1., 1., 1., 0., 0., 0., 0., 0., 1., 1., 1., 1., 1.,\n",
       "       0., 1., 1., 1., 0., 0., 0., 1., 1., 0., 0., 1., 0., 0., 1., 0., 1.,\n",
       "       0., 1., 1., 0., 1., 0., 0., 1., 1., 1., 0., 1., 1., 0., 0., 1., 1.,\n",
       "       1., 0., 1., 0., 1., 1., 0., 0., 0., 0., 0., 0., 1., 0., 0., 1., 1.,\n",
       "       1., 1., 0., 1., 1., 1., 1., 0., 0., 1., 1., 1., 1., 0., 1., 1., 1.,\n",
       "       0., 0., 1., 1., 1., 1., 0., 0., 1., 0., 0., 0., 1., 1., 1., 0., 0.,\n",
       "       0., 0., 0., 1., 0., 1., 0., 1., 1., 1., 1., 1., 1., 0., 0., 1., 1.,\n",
       "       1., 0., 1., 1., 0., 0., 0., 0., 1., 0., 0., 1., 1., 1., 1., 0., 0.,\n",
       "       0., 1., 0., 0., 1., 0., 1., 1., 0., 0., 1., 0., 1., 0., 0., 0., 0.,\n",
       "       0., 0., 1., 0., 1., 0., 1., 0., 1., 0., 1., 0., 0., 0., 0., 0., 1.,\n",
       "       1., 1., 1., 1., 0., 0., 1., 1., 0., 0., 1., 0., 0., 0., 1., 0., 0.,\n",
       "       1., 1., 0., 1., 1., 0., 1., 1., 0., 0., 0., 1., 0., 1., 0., 0., 0.,\n",
       "       0., 1., 1., 1., 1., 0., 0., 0., 1., 1., 0., 0., 1., 1., 0., 1., 1.,\n",
       "       1., 1., 0., 0., 1., 1., 0., 1., 0., 1., 0., 0., 1., 0., 1., 0., 0.,\n",
       "       1., 0., 1., 0., 1., 0., 1., 0., 1., 1., 0., 0., 0., 1., 0., 0., 0.,\n",
       "       1., 1., 0., 0., 1., 1., 0., 1., 0., 0., 1., 0., 0., 0., 0., 0., 1.,\n",
       "       1., 1., 0., 1., 1., 0., 0., 1., 0., 1., 0., 1., 1., 1., 1., 0., 1.,\n",
       "       0., 1., 0., 1., 0., 0., 0., 0., 1., 0., 1., 0., 0., 0., 1., 1., 0.,\n",
       "       1., 0., 0., 1., 1., 1., 0., 0., 0., 1., 0., 1., 1., 0., 0., 0., 0.,\n",
       "       0., 1., 0., 0., 1., 1., 1., 1., 0., 1., 1., 0., 1., 0., 1., 1., 1.,\n",
       "       1.])"
      ]
     },
     "execution_count": 7,
     "metadata": {},
     "output_type": "execute_result"
    }
   ],
   "source": [
    "TargetTrainLabel = TargetTrain[:, -1]\n",
    "TargetTrainLabel"
   ]
  },
  {
   "cell_type": "code",
   "execution_count": 8,
   "metadata": {},
   "outputs": [
    {
     "data": {
      "text/plain": [
       "(200, 2)"
      ]
     },
     "execution_count": 8,
     "metadata": {},
     "output_type": "execute_result"
    }
   ],
   "source": [
    "TargetTest = np.loadtxt('testClasses.txt')\n",
    "TargetTest.shape"
   ]
  },
  {
   "cell_type": "code",
   "execution_count": 9,
   "metadata": {},
   "outputs": [
    {
     "data": {
      "text/plain": [
       "array([24.,  0.,  1., ...,  1.,  1.,  1.])"
      ]
     },
     "execution_count": 9,
     "metadata": {},
     "output_type": "execute_result"
    }
   ],
   "source": [
    "termFreqsTest = testData.sum(axis=1)\n",
    "termFreqsTest"
   ]
  },
  {
   "cell_type": "code",
   "execution_count": 10,
   "metadata": {},
   "outputs": [
    {
     "data": {
      "text/plain": [
       "array([102.,  11.,  22., ...,   2.,   2.,   2.])"
      ]
     },
     "execution_count": 10,
     "metadata": {},
     "output_type": "execute_result"
    }
   ],
   "source": [
    "termFreqsTrain = trainData.sum(axis=1)\n",
    "termFreqsTrain"
   ]
  },
  {
   "cell_type": "code",
   "execution_count": 11,
   "metadata": {},
   "outputs": [
    {
     "data": {
      "text/plain": [
       "array([[2., 2., 2., ..., 0., 0., 0.],\n",
       "       [0., 0., 0., ..., 0., 0., 0.],\n",
       "       [0., 0., 0., ..., 0., 0., 0.],\n",
       "       ...,\n",
       "       [0., 0., 0., ..., 0., 0., 0.],\n",
       "       [0., 0., 0., ..., 0., 0., 0.],\n",
       "       [0., 0., 0., ..., 0., 0., 0.]])"
      ]
     },
     "execution_count": 11,
     "metadata": {},
     "output_type": "execute_result"
    }
   ],
   "source": [
    "#Transpose Training matrix so that the rows represent documents and columns represent the terms\n",
    "TrainD = trainData.T\n",
    "TrainD"
   ]
  },
  {
   "cell_type": "code",
   "execution_count": 12,
   "metadata": {},
   "outputs": [
    {
     "data": {
      "text/plain": [
       "(800, 5500)"
      ]
     },
     "execution_count": 12,
     "metadata": {},
     "output_type": "execute_result"
    }
   ],
   "source": [
    "TrainD.shape"
   ]
  },
  {
   "cell_type": "code",
   "execution_count": 13,
   "metadata": {},
   "outputs": [
    {
     "data": {
      "text/plain": [
       "(200, 5500)"
      ]
     },
     "execution_count": 13,
     "metadata": {},
     "output_type": "execute_result"
    }
   ],
   "source": [
    "TestD = testData.T\n",
    "TestD.shape"
   ]
  },
  {
   "cell_type": "code",
   "execution_count": 14,
   "metadata": {},
   "outputs": [
    {
     "name": "stdout",
     "output_type": "stream",
     "text": [
      "['rex\\n', 'subject\\n', 'librari\\n', 'widget\\n', 'time\\n', 'ago\\n', 'question\\n', 'function\\n', 'app\\n', 'xtappiniti\\n', 'have\\n', 'littl\\n', 'program\\n', 'model\\n', 'actual\\n', 'mean\\n', 'lib\\n', 'thing\\n', 'old\\n', 'static\\n', 'demo\\n', 'repres\\n', 'includ\\n', 'xlibh\\n', 'xmh\\n', 'void\\n', 'top\\n', 'member\\n', 'class\\n', 'displai\\n', 'null\\n', 'xtvacreatemanagedwidget\\n', 'xtrealizewidget\\n', 'return\\n', 'button\\n', 'xevent\\n', 'xtdispatchev\\n', 'outsid\\n', 'link\\n', 'printf\\n', 'screen\\n', 'awai\\n', 'unusu\\n', 'see\\n', 'miss\\n', 'pleas\\n', 'email\\n', 'univers\\n', 'boulder\\n', 'angelo\\n', 'rp16\\n', 'cheap\\n', 'watch\\n', 'team\\n', 'realli\\n', 'increas\\n', 'goaltend\\n', 'get\\n', 'night\\n', 'scott\\n', 'head\\n', 'start\\n', 'got\\n', 'minut\\n', 'kick\\n', 'mclean\\n', 'automat\\n', '10\\n', 'suspens\\n', 'glenn\\n', 'chest\\n', 'mind\\n', 'good\\n', 'rememb\\n', 'oh\\n', 'fun\\n', 'symasussexacuk\\n', 'wm\\n', 'look\\n', 'suggest\\n', 'x11r5\\n', 'twm\\n', 'grab\\n', 'run\\n', 'decwindow\\n', 'told\\n', 'r5\\n', 'xdm\\n', 'ok\\n', 'sun\\n', 'icon\\n', 'anybodi\\n', 'patch\\n', 'articl\\n', 'jbrown\\n', 'belfour\\n', 'hardli\\n', 'offens\\n', 'roenick\\n', 'tell\\n', 'bassen\\n', 'love\\n', 'bell\\n', 'resourc\\n', 'laboratori\\n', 'pine\\n', '635\\n', 'loui\\n', 'date\\n', 'command\\n', 'select\\n', 'interact\\n', 'window\\n', 'buffer\\n', '919\\n', 'institut\\n', 'po\\n', 'psuvmpsuedu\\n', 'boston\\n', 'hsdndevharvardedu\\n', 'gaussmedharvardedu\\n', 'shneyder\\n', 'sai\\n', 'ladi\\n', '30\\n', 'comeback\\n', 'format\\n', 'histori\\n', 'win\\n', 'two\\n', '125\\n', '14\\n', 'averag\\n', 'beat\\n', 'ranger\\n', 'act\\n', 'probabl\\n', 'record\\n', 'integr\\n', 'hope\\n', 'moog\\n', 'give\\n', 'tough\\n', 'hot\\n', 'harri\\n', 'dress\\n', 'pathet\\n', 'cover\\n', 'behind\\n', 'check\\n', 'gotta\\n', 'level\\n', 'care\\n', 'long\\n', 'vacat\\n', 'morn\\n', 'lost\\n', 'differ\\n', 'easili\\n', 'admit\\n', 'major\\n', 'brought\\n', 'brian\\n', 'stloui\\n', 'second\\n', 'chicago\\n', 'troubl\\n', 'bad\\n', 'divis\\n', '1st\\n', '1993\\n', 'natur\\n', 'semi\\n', 'wait\\n', '1992\\n', 'lead\\n', 'champion\\n', 'resembl\\n', '89\\n', 'superiorcarletonca\\n', 'zhivov\\n', 'truli\\n', 'impress\\n', 'drop\\n', 'decis\\n', 'king\\n', 'show\\n', 'zone\\n', 'five\\n', 'line\\n', 'suter\\n', 'great\\n', 'fact\\n', 'dahlquist\\n', 'pat\\n', 'dan\\n', 'recov\\n', 'crosscheck\\n', 'fleuri\\n', 'rub\\n', 'rychel\\n', 'physic\\n', 'take\\n', 'due\\n', 'blame\\n', 'went\\n', 'johansson\\n', 'insert\\n', 'paul\\n', 'makarov\\n', 'gretzki\\n', '2nd\\n', 'idea\\n', 'seri\\n', 'vlad\\n', 'ccdb\\n', 'hab\\n', 'roi\\n', 'rout\\n', 'canadian\\n', 'nord\\n', 'pull\\n', 'save\\n', 'dead\\n', 'jacqu\\n', 'player\\n', 'place\\n', 'adam\\n', 'upcom\\n', 'hei\\n', 'espn\\n', 'involv\\n', 'thursdai\\n', 'bill\\n', 'saturdai\\n', 'ny\\n', 'mee\\n', 'abc\\n', 'name\\n', 'tuesdai\\n', 'analyst\\n', 'smale\\n', 'bryan\\n', 'worst\\n', 'mvp\\n', 'disappoint\\n', 'admittedli\\n', 'opportun\\n', 'anywai\\n', 'term\\n', 'rose\\n', 'rais\\n', 'necessarili\\n', 'berth\\n', 'season\\n', 'pick\\n', 'savard\\n', 'offenc\\n', 'done\\n', 'oat\\n', 'weslei\\n', 'lafontain\\n', 'audett\\n', 'petit\\n', 'ruuttu\\n', 'detroit\\n', 'wing\\n', 'chaisson\\n', 'edmonton\\n', 'manson\\n', 'mellanbi\\n', 'whaler\\n', 'cassel\\n', 'angel\\n', 'donnelli\\n', 'minnesota\\n', 'star\\n', 'broten\\n', 'muller\\n', 'jersei\\n', 'maclean\\n', 'island\\n', 'final\\n', 'kovalev\\n', 'ottawa\\n', 'maciv\\n', 'philadelphia\\n', 'lindro\\n', 'fedyk\\n', 'eklund\\n', 'lemieux\\n', 'nordiqu\\n', 'ricci\\n', 'pearson\\n', 'jose\\n', 'kisio\\n', 'shanahan\\n', 'tampa\\n', 'bradlei\\n', 'toronto\\n', 'leaf\\n', 'potvin\\n', 'vancouv\\n', 'bure\\n', 'momesso\\n', 'capit\\n', 'bondra\\n', 'elynuik\\n', 'jet\\n', 'druce\\n', 'sit\\n', 'word\\n', 'freenetcarletonca\\n', 'choic\\n', 'sfuca\\n', 'kitssfuca\\n', 'doubl\\n', 'todai\\n', 'west\\n', 'total\\n', 'load\\n', 'seen\\n', 'except\\n', 'figur\\n', 'ontario\\n', 'half\\n', 'move\\n', 'doublehead\\n', 'desper\\n', 'nation\\n', 'end\\n', 'updat\\n', 'headlin\\n', 'system\\n', 'linden\\n', 'ic\\n', 'postscript\\n', 'edit\\n', 'local\\n', 'connect\\n', 'messag\\n', 'termin\\n', 'extens\\n', 'decstat\\n', 'view\\n', 'ftp\\n', 'ghostscript\\n', 'softwar\\n', '705\\n', 'everyth\\n', 'ed\\n', 'faq\\n', 'mail\\n', 'reader\\n', 'obtain\\n', 'us\\n', 'open\\n', '1990\\n', 'similarli\\n', 'need\\n', 'forum\\n', 'demand\\n', 'addit\\n', 'contributor\\n', 'relat\\n', 'serv\\n', 'improv\\n', 'avail\\n', 'announc\\n', 'procedur\\n', 'content\\n', 'establish\\n', 'group\\n', 'uunetuunet\\n', 'convent\\n', 'respect\\n', 'specif\\n', 'sourc\\n', 'moder\\n', 'polici\\n', 'archiv\\n', 'dec\\n', 'area\\n', 'publish\\n', 'carri\\n', 'abl\\n', 'follow\\n', 'strongli\\n', 'mechan\\n', 'arrang\\n', 'requir\\n', 'anonym\\n', 'explor\\n', 'unabl\\n', 'internet\\n', 'fulli\\n', 'request\\n', 'address\\n', 'inclus\\n', 'rel\\n', 'handl\\n', 'ensur\\n', 'process\\n', 'case\\n', 'somewher\\n', 'traffic\\n', 'befor\\n', 'respons\\n', 'sudden\\n', 'volum\\n', 'longer\\n', 'loos\\n', 'month\\n', 'known\\n', 'technic\\n', 'present\\n', 'implement\\n', 'environ\\n', 'bundl\\n', 'comment\\n', 'develop\\n', 'user\\n', 'followup\\n', 'sysv\\n', 'util\\n', 'packag\\n', 'custom\\n', 'public\\n', 'administr\\n', 'servic\\n', 'centr\\n', 'cec1wustledu\\n', 'charl\\n', 'numer\\n', 'wilson\\n', '269\\n', 'project\\n', '213\\n', '215\\n', '97\\n', '224\\n', 'pitt\\n', '133\\n', '132\\n', '875\\n', 'joe\\n', 'contact\\n', 'golchowi\\n', 'gerald\\n', 'tiebreak\\n', 'csissun11eevirginiaedu\\n', 'allen\\n', 'guru\\n', 'against\\n', 'decid\\n', 'breaker\\n', 'correct\\n', 'ragraca\\n', 'graca\\n', 'face\\n', 'murrai\\n', 'abil\\n', 'motiv\\n', 'campbel\\n', 'hold\\n', 'pure\\n', 'bowman\\n', 'fedorov\\n', 'russian\\n', 'coupl\\n', 'rank\\n', 'schietk\\n', 'juergen\\n', 'everybodi\\n', 'germani\\n', 'archi\\n', '16\\n', 'insitut\\n', 'mathemat\\n', 'nassestr\\n', 'tel\\n', '0228\\n', 'orunibonnd\\n', 'motif\\n', 'separ\\n', 'data\\n', '512\\n', 'engin\\n', 'uxacsouiucedu\\n', 'jason\\n', 'victori\\n', 'primari\\n', 'curti\\n', 'entir\\n', 'break\\n', 'constantli\\n', 'linesman\\n', 'clear\\n', 'redirect\\n', 'trip\\n', 'creas\\n', 'caus\\n', 'shame\\n', 'attack\\n', 'christ\\n', 'easi\\n', 'enhanc\\n', 'gonna\\n', 'mari\\n', 'entri\\n', 'syntax\\n', 'boot\\n', 'ip\\n', 'x11r3\\n', 'manual\\n', 'telnet\\n', 'xhost\\n', 'contain\\n', 'appreci\\n', 'visual\\n', 'pseudocolor\\n', '255\\n', 'aargh\\n', 'newscolumbiaedu\\n', 'cunixbcccolumbiaedu\\n', 'lock\\n', 'bit\\n', 'tippett\\n', 'friend\\n', 'funni\\n', 'ask\\n', '110\\n', 'nice\\n', 'preempt\\n', 'earlyseason\\n', 'basebal\\n', 'complain\\n', 'sure\\n', '122\\n', 'delai\\n', 'ballgam\\n', '91\\n', '12\\n', 'xputimag\\n', 'fly\\n', 'colour\\n', 'mailsasupennedu\\n', 'keller\\n', 'deal\\n', 'quaker\\n', 'leagu\\n', 'cow\\n', 'dish\\n', 'cadkeycom\\n', 'gallichio\\n', 'anna\\n', 'am2x\\n', 'trade\\n', 'greatest\\n', 'commit\\n', 'leader\\n', 'decemb\\n', 'read\\n', 'richard\\n', 'refus\\n', 'contract\\n', 'spring\\n', 'ulf\\n', 'posit\\n', 'acquir\\n', 'poulin\\n', 'roster\\n', 'foundat\\n', 'live\\n', 'holder\\n', 'coordin\\n', 'cstuberlind\\n', 'dope\\n', 'xsizehint\\n', 'usposit\\n', 'pposit\\n', 'xsetwmnormalhint\\n', 'size\\n', 'valu\\n', 'sorri\\n', 'tvtwm\\n', 'restor\\n', 'xmapwindow\\n', 'leav\\n', 'obviou\\n', 'pittedu\\n', 'guvaxaccgeorgetownedu\\n', 'iiikevin\\n', '1call\\n', '2call\\n', '3call\\n', 'ass\\n', 'bet\\n', 'pocwruedu\\n', 'cornel\\n', 'task\\n', 'nick\\n', 'knew\\n', 'clue\\n', 'rumor\\n', 'keenan\\n', 'monti\\n', 'brain\\n', 'assist\\n', 'watserv1uwaterlooca\\n', 'alex\\n', 'defenseman\\n', 'speed\\n', 'summari\\n', 'april\\n', 'jupitersuncsdunbca\\n', 'charli\\n', 'grave\\n', 'turcott\\n', '13\\n', '44\\n', '57\\n', '40\\n', '24\\n', '03\\n', 'sh\\n', '51\\n', '60\\n', '23\\n', '38\\n', 'zelepukin\\n', 'driver\\n', '07\\n', '45\\n', 'en\\n', 'dineen\\n', 'beranek\\n', 'mcgill\\n', '18\\n', '41\\n', '05\\n', '27\\n', '08\\n', 'smith\\n', '42\\n', '83\\n', 'otto\\n', '29\\n', 'wilkinson\\n', '34\\n', 'skrudland\\n', 'maynard\\n', 'burn\\n', 'lazi\\n', 'deserv\\n', 'credit\\n', 'regular\\n', 'cold\\n', 'six\\n', 'cordial\\n', 'timothi\\n', 'multi\\n', 'sun3eeamelincoat\\n', 'xpert\\n', 'definit\\n', 'mode\\n', 'singl\\n', 'upper\\n', 'cursor\\n', '43\\n', '3961\\n', 'gesmbh\\n', '3387\\n', '76\\n', 'wien\\n', 'europ\\n', 'client\\n', 'memori\\n', 'kei\\n', '000\\n', 'gadget\\n', 'lab\\n', 'mjr4u\\n', 'matthew\\n', 'central\\n', 'kinda\\n', 'switch\\n', 'lmarsha\\n', 'lauri\\n', 'cherri\\n', 'william\\n', 'ww1a\\n', 'usa\\n', 'altogeth\\n', 'steadi\\n', 'somehow\\n', 'mere\\n', 'sound\\n', 'quit\\n', 'ch\\n', 'talk\\n', 'annoi\\n', 'grape\\n', 'fill\\n', 'radio\\n', 'piss\\n', 'mondai\\n', 'high\\n', 'twowai\\n', 'fine\\n', 'audienc\\n', 'civic\\n', 'wale\\n', 'remark\\n', 'michigan\\n', 'wangr\\n', 'spew\\n', 'sooooo\\n', 'man\\n', 'ahv\\n', 'attend\\n', 'char\\n', 'garbag\\n', 'xfillrectangl\\n', 'rectangl\\n', 'cobra\\n', 'seicmuedu\\n', 'susan\\n', 'appar\\n', 'job\\n', 'import\\n', 'basketbal\\n', 'sec\\n', 'bore\\n', 'describ\\n', 'varieti\\n', 'rid\\n', 'xopendisplai\\n', 'note\\n', '5th\\n', 'pixmap\\n', 'serial\\n', 'stream\\n', 'furthermor\\n', 'twice\\n', 'greatli\\n', 'dbl\\n', 'lewi\\n', 'frequent\\n', 'xfaq\\n', '58\\n', 'consortium\\n', 'export\\n', 'xstuff\\n', 'complic\\n', '5b\\n', 'solari\\n', 'replac\\n', 'previous\\n', 'treat\\n', 'index\\n', 'overview\\n', 'version\\n', 'item\\n', 'larg\\n', 'queue\\n', 'extract\\n', 'path\\n', '90\\n', 'ship\\n', 'tape\\n', 'hp\\n', 'european\\n', 'logic\\n', '77\\n', '223\\n', '131\\n', 'virtual\\n', '144\\n', 'young\\n', 'ftpabl\\n', 'machin\\n', 'pub\\n', 'janet\\n', 'contrib\\n', 'prior\\n', 'built\\n', '386\\n', 'stephen\\n', 'disk\\n', 'bb\\n', 'svr4\\n', 'pacif\\n', '800\\n', 'ux\\n', 'diff\\n', 'uunet\\n', 'board\\n', 'osf\\n', 'intrins\\n', 'licens\\n', 'hardwar\\n', 'document\\n', 'independ\\n', 'vari\\n', 'diverg\\n', 'sun4\\n', 'notabl\\n', 'expert\\n', 'corp\\n', 'av\\n', 'danni\\n', 'si\\n', 'sale\\n', '81\\n', 'market\\n', 'vanilla\\n', '111\\n', 'appli\\n', '114\\n', 'api\\n', 'roadrunn\\n', 'intern\\n', 'amiga\\n', '1881\\n', 'drive\\n', 'milpita\\n', '95035\\n', 'ibm\\n', '6000\\n', '908\\n', '70\\n', 'nelson\\n', 'dougla\\n', 'kingdom\\n', '603\\n', 'vm\\n', 'road\\n', 'cb3\\n', 'intel\\n', '150\\n', 'monica\\n', 'corpor\\n', 'os\\n', 'xtbase\\n', 'recent\\n', 'mip\\n', 'jo\\n', 'parcplac\\n', 'solbourn\\n', '64\\n', 'xlib\\n', 'build\\n', 'freeli\\n', 'storag\\n', 'overal\\n', 'materi\\n', 'cisohiostateedu\\n', 'maintain\\n', 'modem\\n', 'account\\n', 'courtesi\\n', 'sponsor\\n', 'basi\\n', 'listserv\\n', 'peter\\n', 'plotter\\n', 'plot\\n', 'tool\\n', 'portion\\n', 'emul\\n', 'reilli\\n', 'asent\\n', 'jerri\\n', 'typic\\n', 'builder\\n', 'xaw\\n', 'segment\\n', 'zoom\\n', 'lee\\n', 'angl\\n', 'troff\\n', 'flavor\\n', 'commun\\n', 'complex\\n', 'associ\\n', 'motifbas\\n', 'packard\\n', '7th\\n', 'rich\\n', 'pex\\n', 'clock\\n', 'style\\n', '3d\\n', 'extra\\n', 'conveni\\n', 'bar\\n', 'xy\\n', 'graphic\\n', 'kl\\n', 'databas\\n', '2d\\n', 'republ\\n', '66\\n', 'expans\\n', 'wpiwpiedu\\n', 'ghostview\\n', '67\\n', 'purpos\\n', 'let\\n', 'resiz\\n', 'input\\n', 'xtaddeventhandl\\n', 'encapsul\\n', 'tutori\\n', '68\\n', 'manufactur\\n', 'survei\\n', '69\\n', 'wave\\n', 'trident\\n', 'pc\\n', 'video\\n', 'xfree86\\n', 'physicssuozau\\n', 'thoma\\n', 'mccoi\\n', 'xserversnonunixtxtz\\n', 'enabl\\n', 'white\\n', 'shape\\n', 'macx\\n', '604\\n', 'text\\n', 'bdf\\n', 'upgrad\\n', 'liken\\n', '68000\\n', '72\\n', 'dale\\n', 'pyramid\\n', 'fastest\\n', 'directli\\n', 'suno\\n', 'compani\\n', 'ti\\n', '5x\\n', 'highend\\n', 'tarz\\n', 'xsun\\n', 'split\\n', 'featur\\n', '75\\n', 'robertson\\n', 'written\\n', 'solctrcolumbiaedu\\n', 'overhead\\n', 'space\\n', 'approach\\n', 'shell\\n', 'minim\\n', 'larrymcrcimmcgilledu\\n', 'exec\\n', 'consol\\n', 'nd\\n', 'unknown\\n', 'bs\\n', '128\\n', 'tmp\\n', 'queri\\n', 'scratch\\n', '412\\n', 'chines\\n', 'ansi\\n', 'multibyt\\n', 'newlin\\n', 'misc\\n', 'socal\\n', 'convers\\n', 'extern\\n', 'exist\\n', 'xvt\\n', 'swap\\n', '0223\\n', 'aix\\n', 'wordprocessor\\n', 'customiz\\n', 'prepaimitedu\\n', 'gwm\\n', 'deriv\\n', 'region\\n', 'keymap\\n', 'lisp\\n', 'andrew\\n', 'embed\\n', 'spread\\n', 'fred\\n', 'remot\\n', 'interview\\n', 'newcastleacuk\\n', 'search\\n', 'navig\\n', 'tcl\\n', 'mountain\\n', 'framemak\\n', 'profession\\n', 'ma\\n', 'processor\\n', 'sam\\n', 'frontend\\n', 'keyboard\\n', '78\\n', 'xmail\\n', 'primarili\\n', 'jeff\\n', 'eosncsuedu\\n', 'mailbox\\n', 'ncsuedu\\n', 'x400\\n', 'zcode\\n', 'zcodecom\\n', '79\\n', 'width\\n', 'convert\\n', 'idraw\\n', 'scroll\\n', 'interviewsstanfordedu\\n', 'rewrit\\n', 'bitmap\\n', 'composit\\n', 'annot\\n', 'tgif\\n', 'light\\n', 'xpm\\n', 'commonli\\n', 'draft\\n', 'scienc\\n', 'letter\\n', 'annarborappliconslbcom\\n', 'fridai\\n', 'davidcraft\\n', 'xtaddcallback\\n', 'remain\\n', 'node\\n', 'eventloop\\n', 'pipe\\n', 'rumour\\n', 'scoop\\n', 'agreement\\n', 'report\\n', 'suppos\\n', 'supposedli\\n', 'proven\\n', 'focu\\n', 'certain\\n', 'normal\\n', 'map\\n', 'partial\\n', 'ugli\\n', 'ge\\n', 'geni\\n', 'acceler\\n', 'highli\\n', 'openlook\\n', 'page\\n', 'refer\\n', '1986\\n', '243\\n', 'micro\\n', 'guidelin\\n', 'revis\\n', '498\\n', 'que\\n', 'pack\\n', 'week\\n', 'fire\\n', 'locker\\n', 'workaround\\n', 'recommend\\n', 'wkuvx1bitnet\\n', 'threw\\n', 'explain\\n', 'btw\\n', 'injur\\n', 'injuri\\n', 'koz\\n', '324\\n', 'jessea\\n', 'jess\\n', 'gcc\\n', '09\\n', 'usr\\n', 'spool\\n', 'mandir\\n', 'ccoption\\n', 'chown\\n', 'smtp\\n', 'debug\\n', 'sprintf\\n', 'dumb\\n', '600\\n', 'ranlib\\n', 'tweak\\n', 'tue\\n', '02\\n', 'stath\\n', 'defin\\n', '1024\\n', '708\\n', 'mailastcamacuk\\n', 'richardson\\n', 'blurb\\n', 'remov\\n', 'type\\n', 'uudecod\\n', 'readm\\n', 'ps\\n', '337548\\n', 'astronomi\\n', '0ha\\n', 'tr\\n', '520\\n', 'ob\\n', 'th\\n', 'ld\\n', 'tm\\n', 'tx\\n', 'da\\n', 'jd\\n', 'ta\\n', 'ar\\n', 'fee\\n', 'az\\n', 'fp\\n', 'ub\\n', 'gif\\n', 'bu\\n', 'a4\\n', 'wc\\n', 'sd\\n', 'bo\\n', 'pd\\n', '165\\n', 'ht\\n', 'mc\\n', 'om\\n', 'ln\\n', '96\\n', '898\\n', '26\\n', 'bw\\n', 'ne\\n', 'sj\\n', 'dr\\n', 'fg\\n', 'r6\\n', 'huot\\n', 'le\\n', '348\\n', 'mn\\n', 'ow\\n', 'bj\\n', 'nc\\n', 'ct\\n', 'nh\\n', 'ly\\n', '47\\n', '605\\n', 'li\\n', '416\\n', 'de\\n', 'ab\\n', '4b\\n', 'cr\\n', 'sv\\n', 'ii\\n', 'vi\\n', 'gp\\n', 'gl\\n', '99\\n', '95\\n', '816\\n', 'o2\\n', 'y2\\n', 'nl\\n', 'rl\\n', '37\\n', 'bp\\n', 'tn\\n', 'rog\\n', 'ns\\n', 'ev\\n', 'im\\n', 'pa\\n', 'ist\\n', 'oz\\n', 'cs\\n', 'wa\\n', 'rp\\n', 'lu\\n', 'fn\\n', 'l8\\n', 'gmt\\n', 'buttonpressmask\\n', 'undefin\\n', 'structur\\n', 'catch\\n', 'vision\\n', '236\\n', 'casorg\\n', 'virden\\n', 'derrick\\n', 'db74\\n', 'excerpt\\n', 'keybo\\n', 'aodcgovau\\n', 'openwindowskeyboardcommand\\n', 'fals\\n', 'fall\\n', 'lrw509f\\n', '104\\n', 'suck\\n', 'univ\\n', 'boi\\n', 'bart\\n', 'edward\\n', '310\\n', 'bring\\n', 'stat\\n', 'pro\\n', 'came\\n', 'categori\\n', 'nyi\\n', 'igor\\n', 'bobbi\\n', '28\\n', 'kind\\n', 'rauser\\n', 'dean\\n', 'alon\\n', 'serg\\n', 'like\\n', 'stai\\n', 'crap\\n', 'weather\\n', '763\\n', 'vanbiesbrouck\\n', 'bee\\n', 'sharp\\n', 'tgvcom\\n', 'death\\n', 'wake\\n', 'consid\\n', 'crime\\n', 'earhart\\n', 'avoid\\n', 'gballent\\n', 'greg\\n', 'minu\\n', 'plugger\\n', 'jarvi\\n', 'role\\n', 'compar\\n', 'felix\\n', 'forward\\n', 'max\\n', 'kernel\\n', '411\\n', 'franti\\n', 'pasi\\n', 'helsinki\\n', 'mlindroo\\n', 'marcu\\n', 'inf\\n', 'foreign\\n', 'dozen\\n', 'turku\\n', 'finland\\n', 'spend\\n', 'expand\\n', 'ultim\\n', 'podein\\n', 'breton\\n', 'zubov\\n', 'pocklington\\n', 'regard\\n', 'andersson\\n', 'springfield\\n', 'chose\\n', 'mcnall\\n', 'absolut\\n', 'mill\\n', 'worth\\n', 'complaint\\n', 'convinc\\n', 'checker\\n', 'ref\\n', 'imagin\\n', 'cs902043\\n', 'shawn\\n', 'mainemaineedu\\n', 'nfl\\n', 'tsn\\n', 'imo\\n', 'ncaa\\n', 'junior\\n', 'prospect\\n', 'south\\n', 'dalla\\n', 'stand\\n', 'ssdkodakcom\\n', 'cockroft\\n', 'ramblerengsuncom\\n', 'miracl\\n', 'root\\n', 'clark\\n', 'slow\\n', 'disappear\\n', 'rochest\\n', 'colleg\\n', 'lake\\n', 'walsh\\n', 'indian\\n', 'novemb\\n', 'construct\\n', 'div\\n', 'winter\\n', 'enter\\n', 'potenti\\n', 'insid\\n', 'dept\\n', 'terri\\n', 'xcleararea\\n', 'xtdisplai\\n', 'true\\n', 'drawn\\n', 'alabama\\n', 'synopticscom\\n', 'nearest\\n', 'agallagh\\n', 'andrea\\n', 'cell\\n', 'throw\\n', 'stamber\\n', 'kevin\\n', 'magnusacsohiostateedu\\n', 'terribl\\n', 'taylor\\n', 'reduc\\n', 'purdu\\n', 'texacocom\\n', 'mwm\\n', 'dpscouk\\n', 'glxmdraw\\n', 'xmdrawingarea\\n', 'glxunlink\\n', 'glxwinset\\n', 'pont\\n', 'assum\\n', 'employ\\n', 'dir\\n', 'poster\\n', 'smarter\\n', 'sweet\\n', 'consider\\n', 'disclaim\\n', 'brad\\n', 'properli\\n', 'determin\\n', 'ignor\\n', 'insult\\n', 'knowledg\\n', 'devot\\n', 'mislead\\n', 'measur\\n', 'situat\\n', 'shorthand\\n', 'merit\\n', 'implic\\n', 'rate\\n', 'degre\\n', 'evalu\\n', 'recogn\\n', 'conclus\\n', 'cannuck\\n', 'bks2\\n', 'bryankstrous\\n', 'seven\\n', 'buf\\n', 'pit\\n', 'mon\\n', 'det\\n', 'lidstrom\\n', 'chiasson\\n', 'mironov\\n', '3rd\\n', 'drake\\n', 'powerplai\\n', 'leafspotvin\\n', 'att19\\n', '339\\n', 'carson\\n', 'ranheim\\n', 'granato\\n', 'kurri\\n', 'barn\\n', 'houslei\\n', 'att15\\n', 'smsbusinessuwoca\\n', 'smithw\\n', 'join\\n', 'njd\\n', 'school\\n', 'snyder\\n', 'card\\n', 'repeat\\n', 'rag\\n', 'incorrect\\n', 'rain\\n', 'dictat\\n', 'latter\\n', 'valid\\n', 'obscur\\n', 'plain\\n', 'recognis\\n', 'nchan\\n', 'nui\\n', 'rpc\\n', 'incom\\n', 'gregori\\n', 'gtd597a\\n', 'hrivnak\\n', 'colon\\n', 'butt\\n', 'aw\\n', 'digest\\n', 'thread\\n', 'rectifi\\n', 'crowd\\n', 'appendix\\n', 'jame\\n', 'jjm\\n', 'sullivan\\n', 'shown\\n', 'proclaim\\n', 'kdka\\n', 'sportscast\\n', 'sr\\n', 'mellon\\n', 'forb\\n', '152133890\\n', 'clinton\\n', 'studi\\n', 'der\\n', 'rep\\n', 'manipul\\n', 'quickli\\n', 'occasion\\n', 'pain\\n', 'piec\\n', 'xwd\\n', 'hostnam\\n', 'suppli\\n', '410\\n', 'stplistsca\\n', 'chhabra\\n', 'review\\n', 'somebodi\\n', 'will\\n', 'defenceman\\n', 'remind\\n', 'corson\\n', 'vincent\\n', 'carbonneau\\n', 'front\\n', '172\\n', 'yell\\n', 'sundin\\n', 'intermiss\\n', 'hunter\\n', 'valeri\\n', 'briefli\\n', 'lucki\\n', 'mtroyalabca\\n', 'stripe\\n', '198990\\n', 'alan\\n', 'forsberg\\n', 'spangcamosunbcca\\n', 'freenetvictoriabcca\\n', 'victoria\\n', 'glad\\n', 'juneau\\n', 'fin\\n', 'jai\\n', 'subroutin\\n', 'winopen\\n', 'opengl\\n', 'mileag\\n', 'land\\n', 'ioctl\\n', 'fatal\\n', 'houston\\n', 'soluvicca\\n', 'calcul\\n', 'divid\\n', 'sum\\n', 'ahead\\n', 'mine\\n', 'aim\\n', 'pictur\\n', 'stadium\\n', 'flow\\n', 'recal\\n', 'underachiev\\n', 'alberta\\n', 'golden\\n', 'xresourc\\n', 'tealcsnorg\\n', 'instanc\\n', 'nowher\\n', 'hammerl\\n', 'dollar\\n', 'fish\\n', 'exchang\\n', 'collector\\n', 'brook\\n', 'ubvmsccbuffaloedu\\n', 'freddyersysedmontonabca\\n', 'teh\\n', 'brief\\n', 'realiti\\n', 'rotten\\n', 'v212\\n', 'shoot\\n', 'truth\\n', 'playback\\n', 'worf\\n', 'ufsaericssons\\n', 'axelsson\\n', 'patrik\\n', 'hannu\\n', 'stein\\n', 'ga\\n', 'parent\\n', 'elitserien\\n', 'ts\\n', 'rsh\\n', 'uw\\n', 'hundr\\n', 'analysi\\n', 'hex\\n', 'ethernet\\n', 'packet\\n', 'stdout\\n', 'kingston\\n', 'chief\\n', 'cg2\\n', 'cg6\\n', 'mono\\n', 'xnew\\n', '233\\n', 'ross\\n', '290\\n', 'austin\\n', 'melbourn\\n', 'loser\\n', 'laugh\\n', 'waterloo\\n', 'longtim\\n', 'excus\\n', 'edg\\n', 'brunet\\n', 'ferraro\\n', '287\\n', 'bwtwo0\\n', 'bwtwo1\\n', 'lord\\n', 'rosecom\\n', 'jack\\n', 'row\\n', 'winner\\n', 'ari\\n', 'kbw\\n', 'weinrich\\n', 'xdefault\\n', 'yellow\\n', 'restart\\n', 'pwd\\n', 'begin\\n', 'tast\\n', 'shutout\\n', 'fourth\\n', 'hawerchuk\\n', 'smehlik\\n', 'colin\\n', 'meant\\n', 'tip\\n', 'novel\\n', 'aud\\n', 'lift\\n', 'faster\\n', 'spent\\n', 'cullen\\n', 'foligno\\n', 'mess\\n', 'magic\\n', 'nloraclecom\\n', 'expos\\n', 'xcreatesimplewindow\\n', 'defaultrootwindow\\n', 'argv\\n', 'mainwin\\n', 'exposuremask\\n', 'enterwindowmask\\n', 'newshubistsca\\n', 'ing\\n', 'drivel\\n', 'doubter\\n', 'sooner\\n', 'intens\\n', 'damn\\n', 'attitud\\n', 'escal\\n', 'struggl\\n', 'promot\\n', 'kerbero\\n', 'choos\\n', '240\\n', 'incompat\\n', 'queloz\\n', 'ronald\\n', 'investig\\n', 'purchas\\n', '995\\n', 'obvious\\n', 'french\\n', 'discov\\n', '4000\\n', 'illustr\\n', 'capricorntaiselcomtw\\n', 'internation\\n', 'greet\\n', 'clevelandfreenetedu\\n', 'dream\\n', '7000\\n', 'butcher\\n', 'msuinfoclmsuedu\\n', 'eulerlbsmsuedu\\n', 'yesterdai\\n', 'stick\\n', 'kirk\\n', 'medic\\n', 'ftmsuucp\\n', 'xvertext\\n', 'mppa3\\n', 'ucbvaxuwvaxastroatcftmsbrown\\n', 'rutger\\n', 'ftmsbrownastroatcuucp\\n', 'johnson\\n', 'skip\\n', 'began\\n', 'bunni\\n', 'nov\\n', 'heat\\n', 'stuck\\n', 'brave\\n', 'younger\\n', 'kid\\n', 'xdvi\\n', 'martinsvil\\n', 'chair\\n', 'cdkaupan\\n', 'pool\\n', '384\\n', 'unsign\\n', 'dpy\\n', 'staticcolor\\n', 'directcolor\\n', 'stderr\\n', 'popup\\n', 'achiev\\n', 'mile\\n', 'donut\\n', 'retir\\n', 'gerri\\n', 'manon\\n', 'atlanta\\n', 'beaupr\\n', 'irb\\n', 'wamslei\\n', 'casei\\n', 'nyr\\n', 'essensa\\n', 'tommi\\n', 'skin\\n', 'patton\\n', 'hornet\\n', 'mufti\\n', 'saad\\n', 'abofi\\n', 'makela\\n', 'prime\\n', 'behalf\\n', 'crucial\\n', 'slide\\n', 'dynasti\\n', 'galvint\\n', 'galvin\\n', 'oppon\\n', 'poor\\n', 'errei\\n', 'amour\\n', 'mcphee\\n', 'how\\n', 'ciccarelli\\n', 'gallant\\n', 'steen\\n', 'lefebvr\\n', 'felsner\\n', 'hedican\\n', 'gilhen\\n', 'chamber\\n', 'beer\\n', 'stern\\n', 'babych\\n', 'millen\\n', 'dirk\\n', 'bull\\n', 'wors\\n', 'polic\\n', 'skater\\n', 'inconsist\\n', 'opposit\\n', 'tonelli\\n', 'oddjobuchicagoedu\\n', 'keycod\\n', 'pageup\\n', 'properti\\n', 'xol\\n', 'notif\\n', 'commandlin\\n', 'append\\n', 'xtvasetvalu\\n', 'cancel\\n', 'yadalle\\n', 'porklington\\n', 'element\\n', 'satan\\n', 'selfish\\n', 'printer\\n', 'backup\\n', 'hype\\n', 'ac\\n', 'circl\\n', 'ronni\\n', 'heart\\n', 'air\\n', 'perman\\n', 'mediocr\\n', 'indigo\\n', 'ascii\\n', 'neil\\n', 'hugh\\n', 'exclud\\n', 'linux\\n', 'grow\\n', 'redistribut\\n', 'bui\\n', 'cscmuedu\\n', 'somewhat\\n', 'scan\\n', 'walker\\n', 'unbca\\n', 'columbiaedu\\n', 'arbortextcom\\n', 'capslock\\n', 'xgrabkei\\n', 'plenti\\n', 'nasa\\n', 'fortun\\n', 'admir\\n', 'futil\\n', 'lang\\n', 'tactic\\n', 'ball\\n', 'nhler\\n', 'geoff\\n', 'davi\\n', 'moepidoopend\\n', '10x20\\n', 'remap\\n', 'hospit\\n', '804\\n', 'sysadministr\\n', 'snakemailhutfi\\n', 'kortelainen\\n', 'rink\\n', 'ian\\n', 'presum\\n', 'irix\\n', 'wollongong\\n', 'ext\\n', 'dark\\n', 'ccuumanitobaca\\n', '1r23on4p6\\n', 'ching\\n', 'logistician\\n', 'borqu\\n', 'tiger\\n', 'pierr\\n', 'descartesuwaterlooca\\n', 'hour\\n', 'wessel\\n', 'hill\\n', '686\\n', 'kemppainen\\n', 'knife\\n', 'hillsid\\n', '353\\n', '176\\n', 'repo\\n', 'frank\\n', 'thin\\n', 'littlest\\n', '356\\n', 'muscl\\n', 'bandwaggon\\n', 'lau\\n', 'migod\\n', '316\\n', 'delawar\\n', 'wellsi\\n', '526\\n', 'fife\\n', '337\\n', 'glacial\\n', 'gaoler\\n', 'skateless\\n', 'artic\\n', '393\\n', 'neural\\n', 'youngbuc\\n', 'soft\\n', 'horvath\\n', 'loke\\n', 'milton\\n', 'hamster\\n', '87\\n', '253\\n', '288\\n', '876\\n', 'crusher\\n', '1149\\n', 'streak\\n', 'hoth\\n', '158\\n', '1146\\n', 'bemybabi\\n', 'skriko\\n', 'bozrah\\n', 'bergman\\n', '139\\n', 'lamp\\n', 'snell\\n', 'magician\\n', '183\\n', 'jam\\n', '489\\n', 'iowa\\n', '163\\n', '621\\n', 'benni\\n', 'bloom\\n', '1121\\n', 'phil\\n', 'karma\\n', 'exil\\n', 'bowl\\n', 'pumpkin\\n', '544\\n', '164\\n', '272\\n', 'plp\\n', '1063\\n', '151\\n', '1038\\n', 'kortelaisen\\n', '1641\\n', 'rocket\\n', 'cougarmania\\n', 'garryola\\n', 'dastardli\\n', 'namer\\n', '582\\n', '653\\n', 'fisher\\n', 'kodiak\\n', 'arsen\\n', '1020\\n', '105\\n', 'oranienburg\\n', '102\\n', '1018\\n', 'elli\\n', 'mombasa\\n', '1053\\n', '1049\\n', 'winger\\n', 'wormtown\\n', '726\\n', 'sock\\n', '434\\n', 'hurrican\\n', '107\\n', '109\\n', 'votenooct26\\n', 'bruce\\n', 'mule\\n', 'suke\\n', 'kanada\\n', 'bjoern\\n', '614\\n', 'folli\\n', '117\\n', '120\\n', 'schot\\n', '121\\n', 'dartmouth\\n', 'slime\\n', 'spud\\n', '126\\n', 'stormchas\\n', '137\\n', 'ojala\\n', 'nesbitt\\n', 'ay\\n', 'kokudo\\n', '403\\n', '129\\n', 'fuzzfac\\n', '171\\n', 'arctic\\n', '376\\n', '1000\\n', 'pftb\\n', '229\\n', 'boutch\\n', '135\\n', '147\\n', 'kiwi\\n', 'cluster\\n', '996\\n', '142\\n', 'hobb\\n', '140\\n', '975\\n', 'gold\\n', 'closet\\n', '480\\n', 'mckee\\n', 'rocker\\n', 'butter\\n', '947\\n', '145\\n', '468\\n', '1242\\n', '989\\n', 'wemblei\\n', '157\\n', 'wild\\n', 'einstein\\n', '994\\n', '156\\n', 'ferment\\n', '424\\n', 'fleishman\\n', 'furlei\\n', 'convex\\n', '161\\n', '932\\n', 'hubert\\n', '980\\n', 'danno\\n', '977\\n', 'ride\\n', '207\\n', 'sundog\\n', '488\\n', 'slap\\n', '930\\n', 'daryl\\n', '179\\n', 'dreamer\\n', 'joker\\n', '173\\n', '1136\\n', '174\\n', '175\\n', '969\\n', '177\\n', '928\\n', '178\\n', '185\\n', 'zeta\\n', '182\\n', '916\\n', 'bulldog\\n', '184\\n', '273\\n', 'cormack\\n', '1072\\n', '925\\n', 'chappel\\n', '187\\n', '903\\n', '192\\n', 'republican\\n', '660\\n', '924\\n', '191\\n', 'lehigh\\n', '933\\n', 'sod\\n', '193\\n', '238\\n', 'turtl\\n', '195\\n', '197\\n', '907\\n', '199\\n', 'umpir\\n', 'acadien\\n', 'kaufbeuren\\n', '203\\n', '926\\n', 'jayson\\n', 'killer\\n', 'outlaw\\n', '1649\\n', 'papercut\\n', '902\\n', 'dragon\\n', '211\\n', '396\\n', '559\\n', 'herd\\n', '1636\\n', 'ikea\\n', '214\\n', 'mckim\\n', '217\\n', '880\\n', 'creep\\n', '219\\n', 'euro\\n', 'frack\\n', 'todd\\n', 'ryan\\n', '858\\n', 'cafal\\n', '383\\n', 'vomit\\n', 'stryker\\n', '1054\\n', '850\\n', '228\\n', '231\\n', 'swillbelli\\n', '350\\n', '232\\n', '836\\n', '872\\n', '2016\\n', 'dayton\\n', 'zipper\\n', '239\\n', 'inmat\\n', 'widefield\\n', '320\\n', 'carolina\\n', '784\\n', 'sandi\\n', 'tech\\n', '250\\n', 'hole\\n', 'leo\\n', '249\\n', '276\\n', 'redlin\\n', 'phillip\\n', 'clamen\\n', 'spawn\\n', '257\\n', '4769\\n', '260\\n', 'pete\\n', 'rinaco\\n', 'brenz\\n', 'dinamo\\n', '5716\\n', 'telecom\\n', 'roman\\n', 'openwin\\n', 'crash\\n', 'umturne4\\n', 'flat\\n', 'reli\\n', 'battl\\n', 'woofer\\n', '701\\n', 'sel\\n', 'vezina\\n', 'rapidli\\n', 'slower\\n', 'pwrop\\n', 'inefficientor\\n', 'infodevcamacuk\\n', 'loop\\n', 'peterrclarkjr\\n', 'slot\\n', 'gripcisupennedu\\n', 'phoenix\\n', 'ali\\n', 'dear\\n', 'mandatori\\n', 'attach\\n', 'tear\\n', 'asshol\\n', 'advoc\\n', 'evan\\n', 'trophi\\n', 'dislik\\n', 'rant\\n', 'uniqu\\n', 'orr\\n', 'fame\\n', 'justifi\\n', 'hadn\\n', 'coliseum\\n', 'earl\\n', 'simon\\n', 'desir\\n', '818\\n', 'uim\\n', 'andr\\n', 'uniform\\n', '4th\\n', 'conflict\\n', 'tune\\n', 'matthia\\n', 'bright\\n', 'concept\\n', 'martz\\n', 'transport\\n', 'xsync\\n', 'dyoung\\n', 'invers\\n', 'rubberband\\n', 'drawindex\\n', 'green\\n', 'xsetfunct\\n', 'xdrawlin\\n', 'y1\\n', 'black\\n', 'eras\\n', 'disturb\\n', 'jc\\n', 'lurk\\n', 'idiot\\n', 'arm\\n', 'csdnewshoststanfordedu\\n', 'xenonstanfordedu\\n', 'compens\\n', 'mistak\\n', 'quarter\\n', 'stink\\n', 'taker\\n', 'bullet\\n', 'micha\\n', 'defeat\\n', 'sake\\n', 'ferguson\\n', '1993apr200320175783\\n', 'cub\\n', 'car\\n', 'rutgersrochesterferguson\\n', '2752527\\n', '4612018\\n', 'mgr\\n', 'border\\n', 'scalabl\\n', 'odincorpsgicom\\n', 'aluminum\\n', 'blade\\n', 'broke\\n', 'nhlpa\\n', 'excel\\n', 'shooter\\n', 'cunew\\n', 'impli\\n', 'favour\\n', 'tougher\\n', 'ranford\\n', 'ridicul\\n', 'lousi\\n', 'hammer\\n', 'foot\\n', 'statu\\n', 'sens\\n', 'teemu\\n', 'clone\\n', 'slash\\n', '1993apr23102811623\\n', 'carol\\n', 'jugular\\n', 'malarchuk\\n', 'incid\\n', 'cspurdueedu\\n', 'gordi\\n', '573\\n', 'michel\\n', '524\\n', 'mcdonald\\n', 'darryl\\n', '445\\n', 'phi\\n', 'larmer\\n', 'berni\\n', 'bellow\\n', 'kerr\\n', '330\\n', '284\\n', 'cgy\\n', '890\\n', '1229\\n', '666\\n', '1046\\n', '1021\\n', '986\\n', '750\\n', '270\\n', 'gore\\n', 'prentic\\n', '839\\n', 'kelli\\n', '823\\n', '817\\n', '796\\n', '430\\n', '751\\n', '313\\n', 'quinn\\n', '319\\n', '301\\n', '394\\n', 'nichola\\n', 'placement\\n', 'darren\\n', 'cant\\n', 'juggl\\n', 'marin\\n', 'artifici\\n', 'netnewsupennedu\\n', 'drill\\n', 'clean\\n', 'door\\n', 'imakefil\\n', 'oop\\n', 'ctypeh\\n', 'rand\\n', 'wcl\\n', 'cd\\n', 'd3e758\\n', 'pelkei\\n', 'mikkot\\n', 'mikko\\n', 'spot\\n', 'teppo\\n', 'hungri\\n', 'riihijarvi\\n', 'burk\\n', 'suhonen\\n', 'bori\\n', 'tappara\\n', 'tichonov\\n', 'sakari\\n', 'eliteserien\\n', 'marku\\n', 'har\\n', 'clinch\\n', 'hasek\\n', 'bergeron\\n', 'copp\\n', 'vtwm\\n', 'perfect\\n', 'own\\n', 'afraid\\n', 'meaningless\\n', 'istsistsca\\n', '1980\\n', 'stori\\n', 'reno\\n', 'philip\\n', 'owen\\n', 'skidmoreedu\\n', 'se05wg2waiicom\\n', 'libxmu\\n', 'utilo\\n', 'wgep\\n', 'ldrunpath\\n', 'lxmu\\n', 'lx11\\n', 'libxextso\\n', 'xtwindowofobject\\n', 'geophys\\n', 'litton\\n', 'wg2waiicom\\n', 'trend\\n', 'incred\\n', 'fold\\n', '1985\\n', 'lone\\n', 'bout\\n', 'georgeh\\n', 'redw\\n', 'accus\\n', 'german\\n', 'solv\\n', 'decnet\\n', 'xtsetarg\\n', 'terminolog\\n', 'accompani\\n', 'platter\\n', 'benjamin\\n', 'anticip\\n', 'trehguad\\n', 'pittsburg\\n', 'aaaaaaaaaaaaaaaaaaaaaaaaaaaaaaauuuuuuuuuuuuuuuuuuuuuuuuuuuuuuuugggggggggggggggg\\n', 'pensdevil\\n', 'mceachern\\n', 'ramsei\\n', 'oracom\\n', 'badmatch\\n', 'phoenixoulufi\\n', 'defend\\n', 'highest\\n', 'varvio\\n', 'gee\\n', 'polisciumnedu\\n', 'andolina\\n', 'exposur\\n', 'ousrvroulufi\\n', 'kylmaoja\\n', 'czech\\n', 'itali\\n', '10000\\n', 'wind\\n', 'lenarduzzi\\n', 'sick\\n', 'poppsuedu\\n', 'donat\\n', 'regist\\n', 'popul\\n', 'dsc\\n', 'motorola\\n', 'preced\\n', 'nooseecnpurdueedu\\n', 'quiet\\n', 'onlin\\n', 'xvision\\n', 'beg\\n', 'tk\\n', 'proprietari\\n', 'mich\\n', 'cleveland\\n', 'patti\\n', 'contractu\\n', 'fuck\\n', 'coll\\n', 'blood\\n', 'struct\\n', 'lanzo\\n', 'emb\\n', 'esc\\n', 'setenv\\n', 'shelltool\\n', 'alright\\n', 'chunk\\n', 'ada\\n', 'fuentezcom\\n', 'jadetuftsedu\\n', 'satisfi\\n', 'tuft\\n', 'wrap\\n', 'laurel\\n', 'sigmakpccom\\n', 'nkisseb\\n', 'kisseberth\\n', 'implementor\\n', 'mitshm\\n', 'elegantli\\n', 'kenneth\\n', 'kubota\\n', '2630\\n', '95051\\n', 'pan\\n', 'synthet\\n', 'ubvmsdccbuffaloedu\\n', 'xsetroot\\n', 'sheffieldhallamacuk\\n', 'assign\\n', 'alt\\n', 'cedex\\n', 'keypress\\n', 'copyleft\\n', 'pleasant\\n', 'eas\\n', '199293\\n', '727\\n', '602\\n', '730\\n', '344\\n', 'wont\\n', 'spectacular\\n', 'disabl\\n', 'devineni\\n', 'mr47\\n', 'satellit\\n', 'transpar\\n', 'auto\\n', 'imak\\n', 'vipunenhutfi\\n', 'xutilh\\n', 'common\\n', 'farenebt\\n', 'droopi\\n', 'fredericton\\n', 'plural\\n', 'cdi\\n', 'moncton\\n', 'farenel\\n', 'ecac\\n', 'tournament\\n', 'ahlnewsrequest\\n', 'breakawai\\n', 'jump\\n', 'strike\\n', 'sold\\n', '1400\\n', 'contrari\\n', 'portland\\n', 'maritim\\n', 'unoffici\\n', 'knight\\n', 'irzr17inftudresdend\\n', 'transform\\n', 'abpsoft\\n', 'andrebeck\\n', 'ick\\n', 'unsportsmanlik\\n', 'victim\\n', 'relationship\\n', 'child\\n', 'mmb\\n', 'burger\\n', 'eastern\\n', 'supplement\\n', 'telecast\\n', 'midwest\\n', 'toi\\n', 'progress\\n', 'switzerland\\n', 'andrei\\n', 'burt\\n', 'norwai\\n', 'kari\\n', 'global\\n', 'rgooch\\n', 'gooch\\n', 'digit\\n', 'j3david\\n', 'smart\\n', 'essa\\n', 'baun\\n', 'backstrom\\n', 'selk\\n', 'congeni\\n', 'imit\\n', 'flatteri\\n', 'asap\\n', 'stuart\\n', 'strictli\\n', 'ulfi\\n', 'weak\\n', 'reward\\n', 'oj\\n', 'timer\\n', 'dispatch\\n', 'cooki\\n', 'sambaoituncedu\\n', 'physicsuncedu\\n', 'bash\\n', 'blink\\n', 'tini\\n', 'talant\\n', 'linsemen\\n', 'cheapshot\\n', 'violenc\\n', 'trick\\n', 'stane\\n', 'eyesor\\n', 'tvtwmrc\\n', 'father\\n', 'xtermvt100transl\\n', 'robb\\n', 'teach\\n', 'theori\\n', 'surviv\\n', 'visit\\n', 'osforg\\n', 'xcreatecolormap\\n', 'xmndialogstyl\\n', 'drew\\n', 'siemen\\n', 'congruent\\n', 'undef\\n', 'vmshujiacil\\n', 'qualifi\\n', 'colleagu\\n', 'swartzjh\\n', 'fking\\n', 'favor\\n', 'xsetwindowattribut\\n', 'xnextev\\n', '1142\\n', 'garri\\n', 'royal\\n', 'mafaldainriafr\\n', 'simulog\\n', 'imagemagick\\n', 'higher\\n', 'seemingli\\n', 'yield\\n', 'venuslercnasagov\\n', 'contend\\n', 'horribl\\n', '2493\\n', 'gil\\n', 'examin\\n', 'confid\\n', 'significantli\\n', 'promis\\n', 'inferior\\n', 'reap\\n', 'lionbearcom\\n', 'moschetti\\n', 'guarante\\n', 'adobecom\\n', 'orgin\\n', 'listen\\n', 'landau\\n', 'flash\\n', 'launch\\n', 'successfulli\\n', 'log\\n', 'propuls\\n', 'overlai\\n', 'gothenburg\\n', 'powerhous\\n', 'personnel\\n', 'hmmmsound\\n', 'historyth\\n', 'britishlemieux\\n', 'etxmesa\\n', 'salmon\\n', 'standarddisclaim\\n', 'fancypseudograph\\n', 'mass\\n', 'admin\\n', 'getapplicationshellwidgetclass\\n', 'wariatorg\\n', '1993may132123212563\\n', 'analys\\n', 'mildli\\n', 'whack\\n', 'emu\\n', '68020\\n', 'dsysv\\n', 'suresh\\n', 'condit\\n', 'jordan\\n', 'leas\\n', 'reject\\n', 'jesu\\n', 'mre\\n', 'eisler\\n', 'xenophob\\n', 'engsuncom\\n', 'wallet\\n', 'fifth\\n', '795\\n', 'xbm\\n', 'shade\\n', 'subset\\n', 'reinvent\\n', 'arthur\\n', 'geometri\\n', 'compuserv\\n', '1428\\n', '1196\\n', '11150\\n', '944\\n', '936\\n', 'tooltalk\\n', 'trevor\\n', 'xcopyplan\\n', '720\\n', 'applecom\\n', 'rospach\\n', 'mcsore\\n', 'r3\\n', 'freak\\n', 'atmospher\\n', 'broadwai\\n', 'statement\\n', 'arrog\\n', 'fl\\n', 'telesoftcom\\n', 'ora\\n', 'semant\\n', 'obfusc\\n', 'suncom\\n', 'sed\\n', 'educ\\n', 'fit\\n', 'judg\\n', 'resort\\n', 'length\\n', '0444\\n', 'arg\\n', 'xusag\\n', 'beyond\\n', 'org\\n', 'rindex\\n', 'col\\n', 'algorithm\\n', 'chmod\\n', 'xall\\n', 'xthe\\n', 'feb\\n', 'pardon\\n', 'xwith\\n', 'safe\\n', 'perl\\n', 'exclus\\n', 'mysteri\\n', 'energi\\n', 'julia\\n', 'graduat\\n', 'offend\\n', 'grei\\n', 'lan\\n', 'pcnf\\n', 'ram\\n', 'badli\\n', 'fwiuvanl\\n', 'retain\\n', 'sheffield\\n', 'ou\\n', 'dal\\n', 'otherrealm\\n', 'alink\\n', 'medrautapplecom\\n', 'sticknot\\n', 'tbd\\n', 'ns1cclehighedu\\n', 'howard\\n', 'maximum\\n', 'triangl\\n', 'icccm\\n', 'germanborn\\n', 'spectat\\n', 'julian\\n', 'penni\\n', 'truck\\n', 'coohil\\n', 'rainout\\n', 'overnight\\n', 'winsock\\n', 'uil\\n', 'wsh\\n', 'alter\\n', 'bristol\\n', 'arc\\n', 'keyword\\n', 'chew\\n', 'blank\\n', 'calendar\\n', 'accomod\\n', 'essenti\\n', 'britain\\n', 'harder\\n', 'journal\\n', 'movi\\n', 'accumul\\n', 'derrel\\n', 'larocqu\\n', 'baddraw\\n', 'belov\\n', 'ui\\n', 'rootwindow\\n', 'whitepixel\\n', 'rw\\n', 'stephan\\n', 'metropolitan\\n', 'kielbasa\\n', 'grayscal\\n', 'zalapski\\n', 'quin\\n', 'uit\\n', '440\\n', 'darwin\\n', 'audio\\n', 'tex\\n', 'altsourc\\n', 'hack\\n', 'juli\\n', 'filemgr\\n', 'freewar\\n', 'sedonaintelcom\\n', 'soderstrom\\n', 'vuewm\\n', 'instant\\n', 'secur\\n', 'overlap\\n', 'ctwm\\n', 'leunggm\\n', 'leung\\n', 'cach\\n', 'newli\\n', 'fuer\\n', 'fulton\\n', 'cose\\n', 'csabuedu\\n', 'pera\\n', 'shortcut\\n', 'shear\\n', 'inexperienc\\n', 'pspmf3gpsemicom\\n', '']\n"
     ]
    }
   ],
   "source": [
    "words = open('modifiedterms.txt', 'r')\n",
    "wordList = []\n",
    "for line in words:\n",
    "    line = words.readline()\n",
    "    wordList.append(line)\n",
    "print(wordList)"
   ]
  },
  {
   "cell_type": "markdown",
   "metadata": {},
   "source": [
    "### Nearest Neighbor search function\n",
    "#### This is going to read in our training data (D), the number of neighbors (K), the type of measure (0 for Euclidean and 1 for Cosine) as well as the vector that we are finding neighbors for (x)\n",
    "\n",
    "#### The following computations were used for testing the functions. The Nearest Neighbor Classifier is located further down."
   ]
  },
  {
   "cell_type": "code",
   "execution_count": 15,
   "metadata": {},
   "outputs": [],
   "source": [
    "def knn_search(x, D, K, measure):\n",
    "    \"\"\" find K nearest neighbors of an instance x among the instances in D \"\"\"\n",
    "    if measure == 0:\n",
    "        # euclidean distances from the other points\n",
    "        dists = np.sqrt(((D - x)**2).sum(axis=1))\n",
    "    elif measure == 1:\n",
    "        # first find the vector norm for each instance in D as wel as the norm for vector x\n",
    "        D_norm = np.array([np.linalg.norm(D[i]) for i in range(len(D))])\n",
    "        x_norm = np.linalg.norm(x)\n",
    "        # Compute Cosine: divide the dot product o x and each instance in D by the product of the two norms\n",
    "        sims = np.dot(D,x)/(D_norm * x_norm)\n",
    "        # The distance measure will be the inverse of Cosine similarity\n",
    "        dists = 1 - sims\n",
    "    idx = np.argsort(dists) # sorting\n",
    "    # return the indexes of K nearest neighbors\n",
    "    return idx[:K], dists"
   ]
  },
  {
   "cell_type": "markdown",
   "metadata": {},
   "source": [
    "### Testing the search function with the first row of the testing data\n",
    "#### For the first row, we can see that documents, 685, 628, 667, 152 and 427 are considered the be the closest using the cosine distance, with the respective distances that follow after. \n",
    "#### For the first row, we can see that documents 685, 628, 703, 266, and 510 are considered the closest using Euclidean distance"
   ]
  },
  {
   "cell_type": "code",
   "execution_count": 16,
   "metadata": {},
   "outputs": [],
   "source": [
    "x = TestD[0]"
   ]
  },
  {
   "cell_type": "code",
   "execution_count": 17,
   "metadata": {},
   "outputs": [],
   "source": [
    "# Finding the k=5 nearest neighbors using inverse of Cosine similarity as a distance metric\n",
    "#x represents an array that will be tested.\n",
    "neigh_idx, distances = knn_search(x, TrainD, 5, 1)"
   ]
  },
  {
   "cell_type": "code",
   "execution_count": 18,
   "metadata": {},
   "outputs": [
    {
     "name": "stdout",
     "output_type": "stream",
     "text": [
      "[685 628 667 152 427] [0.92709494 0.79673989 0.9320382  0.89790716 0.94654139 0.75100253\n",
      " 0.87022016 0.83936495 0.8663802  0.83658124 0.85889206 0.91046232\n",
      " 0.967053   0.8674656  0.85682474 0.84202209 0.9559169  0.95930309\n",
      " 0.81201636 0.97654623 0.9759507  0.82749758 0.93546895 0.94852203\n",
      " 0.89320834 0.9601543  0.97054574 0.9028059  0.86947952 0.92402623\n",
      " 0.86401406 0.9456762  0.82902992 0.76739778 0.86165711 0.96686511\n",
      " 0.86091087 0.9020568  0.9759507  0.95663844 0.97550939 0.92957962\n",
      " 0.88366959 0.95588511 0.98953954 0.95998862 0.93637152 0.89704406\n",
      " 0.95616007 0.9879854  0.9022188  0.93387535 0.84695651 0.93428479\n",
      " 0.97550939 0.92957618 0.92167876 0.81023414 0.9721565  0.92547176\n",
      " 0.96103567 0.90908324 0.94943321 0.84305278 0.93303296 0.87675215\n",
      " 0.87719859 0.93699842 0.83269659 0.92941054 0.99204644 0.94604316\n",
      " 0.93386442 0.88537336 0.91715181 0.8866087  0.95714143 0.82100941\n",
      " 0.87927345 0.9552074  0.9611962  0.98981129 0.8936604  0.99198357\n",
      " 0.81932434 0.93692886 0.91198579 0.96313849 0.95791372 0.79272359\n",
      " 0.91124008 0.92785209 0.93255395 0.91221589 0.96943387 0.84563216\n",
      " 0.82991304 0.9630167  0.98031167 0.83385556 0.82956488 0.88383083\n",
      " 0.95758102 0.97036883 0.94105642 0.93207724 0.979464   0.96276425\n",
      " 0.84874128 0.78642557 0.89143389 0.97131407 0.96019764 0.7135654\n",
      " 0.96873067 0.79396219 0.75127513 0.98937885 0.77451681 0.95190139\n",
      " 0.94517513 0.96019764 0.99449305 0.92848777 0.94496627 0.94461852\n",
      " 0.84081102 0.98603173 0.9640063  0.90887906 0.87631548 0.854058\n",
      " 0.92270751 0.88235091 0.87461    0.8349688  0.96818576 0.86921291\n",
      " 0.77915273 0.88489176 0.98436534 0.94475501 0.91691029 0.98218046\n",
      " 0.79662346 0.84478277 0.94150658 0.80062667 0.92944672 0.9881813\n",
      " 0.92167876 0.95758102 0.65693825 0.96993837 0.98235264 0.87793764\n",
      " 0.96536504 0.97402378 0.9700974  0.96773447 0.8577224  0.8558015\n",
      " 0.91420338 0.93575512 0.86924429 0.91428286 0.96784909 0.85454516\n",
      " 0.94956846 0.87071402 0.94248205 0.98041557 0.95975782 0.98409288\n",
      " 0.77251054 0.93653322 0.85478853 0.92576678 0.85823406 0.86208059\n",
      " 0.95428795 0.92867903 0.79974953 0.93620858 0.98071766 0.88829275\n",
      " 0.90588072 0.94996679 0.98939525 0.94641516 0.9546007  0.89283031\n",
      " 0.95111925 0.8571381  0.68850104 0.92113242 0.9400105  0.91582744\n",
      " 0.94375984 0.94638022 0.84489279 0.81729542 0.72898652 0.78066338\n",
      " 0.76750148 0.95428795 0.97509253 0.95160171 0.83678246 0.9702114\n",
      " 0.95939581 0.98009882 0.95207573 0.98409288 0.94419413 0.83636806\n",
      " 0.96351827 0.93138765 0.99071883 0.78334338 0.93015867 0.89267399\n",
      " 0.94285994 0.84626331 0.90380279 0.8245884  0.97613932 0.96465085\n",
      " 0.97714398 0.96654506 0.88645908 0.73225097 0.8204442  0.95635123\n",
      " 0.9028059  0.85852247 0.87081772 0.96129933 0.81747862 0.95008572\n",
      " 0.95008572 0.96686511 0.94091641 0.92652816 0.9602322  0.95858139\n",
      " 0.8071766  0.91056611 0.92067833 0.93402034 0.87869788 0.92283914\n",
      " 0.78087726 0.76395452 0.75961243 0.94517513 0.97686237 0.82871555\n",
      " 0.97300472 0.75998272 0.94836532 0.97291792 0.88251814 0.86502362\n",
      " 0.84304895 0.87142429 0.82184027 0.78686914 0.91182336 0.91906474\n",
      " 0.94831062 0.98860068 0.95731672 0.9292881  0.94358746 0.93676069\n",
      " 0.93400988 0.89261856 0.96628881 0.94822338 0.85456348 0.9743541\n",
      " 0.9801258  0.85683593 0.84517147 0.91056611 0.95677296 0.95690536\n",
      " 0.96824772 0.93143193 0.83377844 0.8198271  0.93098523 0.89630827\n",
      " 0.9459874  0.94082672 0.96733085 0.86308582 0.78874866 0.9009306\n",
      " 0.95924516 0.88747183 0.83790165 0.84500142 0.99018191 0.77912413\n",
      " 0.97054574 0.96701017 0.8744368  0.96644413 0.93994237 0.90475387\n",
      " 0.86489161 0.89886643 0.98939525 0.94657345 0.82454861 0.7328109\n",
      " 0.84487409 0.82510205 0.92183976 0.85917673 0.8731737  0.9553171\n",
      " 0.94517513 0.90211004 0.95370348 0.96103567 0.92111008 0.90654401\n",
      " 0.84762988 0.91751443 0.91516203 0.99545253 0.84365091 0.94743562\n",
      " 0.85120012 0.96276425 0.98329034 0.92819042 0.92965607 0.94142524\n",
      " 0.98299457 0.81449271 0.89165715 0.87986    0.78324112 0.91809795\n",
      " 0.84389517 0.88979225 0.9461842  0.89852766 0.98299457 0.93586852\n",
      " 0.84833157 0.92622267 0.74158709 0.8879565  0.78215953 0.91408375\n",
      " 0.93471856 0.93770897 0.89289731 0.94777485 0.81562201 0.95693924\n",
      " 0.91182891 0.93579828 0.96250656 0.97793085 0.96658069 0.87503615\n",
      " 0.75457588 0.91995908 0.93597508 0.89123293 0.95111107 0.89544774\n",
      " 0.94804757 0.99109023 0.96913566 0.91038529 0.90823371 0.96818576\n",
      " 0.97216254 0.9427299  0.88592414 0.87774843 0.93994237 0.90547591\n",
      " 0.79113174 0.78149892 0.95875441 0.92907074 0.93838447 0.9204644\n",
      " 0.92480271 0.90808591 0.97879051 0.96793426 0.94905645 0.9889237\n",
      " 0.97953493 0.89836994 0.85917673 0.94173593 0.96374431 0.96316246\n",
      " 0.9320382  0.82729414 0.883359   0.91010068 0.88069661 0.88310702\n",
      " 0.87358304 0.98665985 0.70479772 0.91339596 0.79236323 0.72002498\n",
      " 0.96103567 0.91428286 0.9258492  0.97185548 0.98611513 0.94509226\n",
      " 0.86936914 0.67243379 0.73716182 0.92304223 0.89760686 0.96536504\n",
      " 0.88059291 0.85343751 0.77498919 0.95370348 0.97525022 0.85761705\n",
      " 0.91990625 0.97352895 0.91298635 0.87773903 0.94371096 0.84990036\n",
      " 0.96818576 0.95784046 0.80604837 0.90816021 0.72309453 0.89974206\n",
      " 0.94308896 0.97142997 0.88775264 0.86963653 0.927029   0.89225806\n",
      " 0.93987674 0.77634602 0.98434892 0.99140812 0.9801258  0.95882282\n",
      " 0.93618243 0.87264112 0.93637152 0.80050256 0.9467646  0.95428795\n",
      " 0.95124398 0.9319783  0.98292669 0.87802237 0.78021733 0.83238082\n",
      " 0.78442014 0.84154293 0.92713288 0.81323785 0.8137149  0.90712782\n",
      " 0.99353951 0.97033307 0.95834538 0.85570418 0.85612821 0.98603173\n",
      " 0.92347558 0.8705497  0.98061852 0.93217182 0.93938883 0.92570963\n",
      " 0.9096395  0.93241713 0.96392604 0.95500787 0.96786525 0.92883542\n",
      " 0.89848407 0.93215801 0.86570705 0.83692999 0.8577224  0.92167876\n",
      " 0.89493755 0.91644319 0.96201238 0.97263742 0.91176318 0.92077146\n",
      " 0.79850983 0.90812945 0.9072292  0.94558581 0.85453127 0.88783458\n",
      " 0.97555554 0.98924482 0.97071262 0.93819856 0.95665714 0.95565671\n",
      " 0.84079055 0.90479983 0.94155351 0.92125361 0.79031424 0.9102808\n",
      " 0.90449636 0.90407128 0.9416739  0.90789818 0.79290088 0.82717877\n",
      " 0.94048101 0.96627698 0.86048534 0.92000392 0.77206361 0.91751443\n",
      " 0.86356623 0.77292701 0.87274305 0.91001575 0.93366273 0.99584048\n",
      " 0.90770808 0.83568415 0.84022185 0.83158201 0.96201238 0.93428479\n",
      " 0.88356098 0.96549261 0.95731672 0.98979674 0.93098686 0.89183159\n",
      " 0.9029395  0.97402378 0.9915722  0.9640063  0.97244806 0.94821988\n",
      " 0.87011892 0.92340032 0.82318695 0.94820059 0.78864685 0.80470874\n",
      " 0.83802834 0.83313611 0.8601744  0.96677111 0.95081387 0.94344135\n",
      " 0.8726891  0.85167655 0.9329297  0.96903429 0.88249341 0.84829964\n",
      " 0.93637152 0.96247397 0.94343423 0.91871842 0.87020129 0.97888415\n",
      " 0.89994885 0.89837314 0.85445122 0.91092013 0.84905283 0.91014856\n",
      " 0.90559756 0.94693018 0.89795578 0.97784741 0.92971029 0.90042041\n",
      " 0.9759507  0.91318645 0.72730653 0.92133961 0.93665245 0.92494794\n",
      " 0.99185321 0.77153404 0.96182291 0.97402378 0.9514661  0.93094008\n",
      " 0.98167969 0.92126378 0.88473664 0.90455729 0.77845916 0.97154448\n",
      " 0.944313   0.97154448 0.91935418 0.90214934 0.96190663 0.95748644\n",
      " 0.93793512 0.91222305 0.86491804 0.97527942 0.57680202 0.81019776\n",
      " 0.83553569 0.79965293 0.80930071 0.97020324 0.93539507 0.92841237\n",
      " 0.9354697  0.91565011 0.99216788 0.88235091 0.9911092  0.90562372\n",
      " 0.96810429 0.76876019 0.92701313 0.93432945 0.86269714 0.85159009\n",
      " 0.93360379 0.83916414 0.76309448 0.95119919 0.95347025 0.85285351\n",
      " 0.9201469  0.94879945 0.97879051 0.81927901 0.98577224 0.88946473\n",
      " 0.91686627 0.95197135 0.98369156 0.95522596 0.88002099 0.89096801\n",
      " 0.79773286 0.65436091 0.93885382 0.94329858 0.94860215 0.7481351\n",
      " 0.89268752 0.9412467  0.92785209 0.85692532 0.93431182 0.9872743\n",
      " 0.88707066 0.77847408 0.92827525 0.77261597 0.97784741 0.97402378\n",
      " 0.98939525 0.45645871 0.91025859 0.87578549 0.92045714 0.85505566\n",
      " 0.94852203 0.91755005 0.88241119 0.8981129  0.9012254  0.93701102\n",
      " 0.95871239 0.81963022 0.97094825 0.86829491 0.98163204 0.96326408\n",
      " 0.92607039 0.77538572 0.94194403 0.84375159 0.91785599 0.98986885\n",
      " 0.9805935  0.95693924 0.70633011 0.97750394 0.91420338 0.99336627\n",
      " 0.83802316 0.75903817 0.91718227 0.9776346  0.83942889 0.82692535\n",
      " 0.9759507  0.77596323 0.96424388 0.97965516 0.913289   0.97271325\n",
      " 0.98577224 0.93485835 0.90270533 0.97702009 0.93285352 0.75940949\n",
      " 0.76009748 0.95528614 0.89092261 0.86804069 0.9400105  0.97810394\n",
      " 0.875364   0.98540263 0.83867237 0.92045752 0.85756081 0.89501837\n",
      " 0.97212386 0.82333752 0.94378728 0.89844591 0.95635123 0.86897501\n",
      " 0.93428479 0.98235264 0.95335927 0.93373022 0.87574417 0.98163204\n",
      " 0.83675743 0.96818576 0.87164651 0.93136786 0.93265082 0.95976694\n",
      " 0.94244588 0.76489013 0.98192713 0.81452319 0.94244588 0.97606347\n",
      " 0.79765133 0.94638022 0.84094064 0.97261866 0.92283914 0.905836\n",
      " 0.8361981  0.9200079  0.82835032 0.86764477 0.93587891 0.90481057\n",
      " 0.98658594 0.87574417 0.94909722 0.89138723 0.93977836 0.88218296\n",
      " 0.90549763 0.84029379 0.8032065  0.91582744 0.962383   0.97817561\n",
      " 0.76540287 0.98953954 0.83484957 0.94546131 0.90042041 0.72719516\n",
      " 0.95500787 0.85030212]\n"
     ]
    }
   ],
   "source": [
    "print(neigh_idx, distances)    "
   ]
  },
  {
   "cell_type": "code",
   "execution_count": 19,
   "metadata": {},
   "outputs": [
    {
     "data": {
      "text/plain": [
       "array([[0., 0., 0., ..., 0., 0., 0.],\n",
       "       [0., 0., 0., ..., 0., 0., 0.],\n",
       "       [0., 0., 0., ..., 0., 0., 0.],\n",
       "       [0., 0., 0., ..., 0., 0., 0.],\n",
       "       [0., 0., 0., ..., 0., 0., 0.]])"
      ]
     },
     "execution_count": 19,
     "metadata": {},
     "output_type": "execute_result"
    }
   ],
   "source": [
    "TrainD[neigh_idx]"
   ]
  },
  {
   "cell_type": "markdown",
   "metadata": {},
   "source": [
    "#### The following computations are used to test the classifier functionality. And they are used to rework the previous neighbor search function."
   ]
  },
  {
   "cell_type": "code",
   "execution_count": 20,
   "metadata": {},
   "outputs": [
    {
     "name": "stdout",
     "output_type": "stream",
     "text": [
      "[1. 1. 1. 1. 1.]\n"
     ]
    }
   ],
   "source": [
    "neigh_labels = TargetTrainLabel[neigh_idx]\n",
    "print(neigh_labels)"
   ]
  },
  {
   "cell_type": "code",
   "execution_count": 21,
   "metadata": {},
   "outputs": [
    {
     "name": "stdout",
     "output_type": "stream",
     "text": [
      "Counter({1.0: 5})\n"
     ]
    }
   ],
   "source": [
    "from collections import Counter\n",
    "print(Counter(neigh_labels))"
   ]
  },
  {
   "cell_type": "code",
   "execution_count": 22,
   "metadata": {},
   "outputs": [],
   "source": [
    "# Finding the k=5 nearest neighbors using inverse of Cosine similarity as a distance metric\n",
    "#x represents an array that will be tested.\n",
    "neigh_idx, distances = knn_search(x, TrainD, 5, 0)"
   ]
  },
  {
   "cell_type": "code",
   "execution_count": 23,
   "metadata": {},
   "outputs": [
    {
     "name": "stdout",
     "output_type": "stream",
     "text": [
      "[685 628 703 266 510] [ 30.28200786  17.3781472   17.32050808  16.4924225   16.91153453\n",
      "  26.45751311  20.39607805  16.85229955  17.4642492   22.93468988\n",
      "  18.97366596  20.22374842  46.62617291  20.78460969  16.91153453\n",
      "  18.24828759  17.60681686  17.97220076  19.72308292  20.51828453\n",
      "  16.46207763  20.0748599   16.43167673  17.02938637  18.68154169\n",
      "  21.9544984   16.82260384  17.40689519  16.97056275  54.69917732\n",
      "  18.52025918  19.77371993  16.09347694  24.63736999  18.38477631\n",
      "  17.2626765   19.10497317  26.34387974  15.87450787 219.98863607\n",
      "  16.43167673  20.59126028  17.80449381  30.98386677  16.79285562\n",
      "  23.04343724  16.79285562  16.673332    24.0208243   45.01110974\n",
      "  20.61552813  17.43559577  18.97366596  15.93737745  16.43167673\n",
      "  16.52271164  27.94637722  18.43908891  16.97056275  19.5192213\n",
      "  16.2788206   23.97915762  17.08800749  19.20937271  18.78829423\n",
      "  18.22086716  21.04756518  18.13835715  19.72308292  15.87450787\n",
      "  17.57839583  17.88854382  18.35755975  19.07878403  19.13112647\n",
      "  17.43559577  18.46618531  28.12472222  16.21727474  42.10700654\n",
      "  27.31300057  16.85229955  29.69848481  17.54992877  17.60681686\n",
      "  19.8242276   23.9582971   19.46792233  18.57417562  21.16601049\n",
      "  17.23368794  17.08800749  17.77638883  24.          19.77371993\n",
      "  26.17250466  22.56102835  17.63519209  18.30300522  17.8605711\n",
      "  19.74841766  16.03121954  16.58312395  20.02498439  34.19064199\n",
      "  16.61324773  21.84032967  17.60681686  17.94435844  15.96871942\n",
      "  18.24828759  18.97366596  16.24807681  17.23368794  22.27105745\n",
      "  27.16615541  21.74856317  23.74868417  26.68332813  15.8113883\n",
      "  17.29161647  16.24807681  27.87471973  18.35755975  21.9317122\n",
      "  16.43167673  15.74801575  18.05547009  17.          16.85229955\n",
      "  18.46618531  17.17556404  17.52141547  18.          17.60681686\n",
      "  26.66458325  16.64331698  18.84144368  16.37070554  16.34013464\n",
      "  22.44994432  17.2626765   20.02498439  17.1464282   17.52141547\n",
      "  19.07878403  67.29041537  20.88061302  20.          45.67274899\n",
      "  17.11724277  16.58312395  19.77371993  18.68154169  17.17556404\n",
      "  23.34523506  21.14237451  17.17556404  19.94993734  16.61324773\n",
      "  16.94107435  17.43559577  16.79285562  27.64054992  18.57417562\n",
      "  16.1245155   19.39071943  16.52271164  17.63519209  16.82260384\n",
      "  57.68882041  18.33030278  31.95309062  17.52141547  25.11971337\n",
      "  20.39607805  17.80449381  16.40121947  23.43074903  24.24871131\n",
      "  16.43167673  16.4924225   20.39607805  20.34698995  18.41195264\n",
      "  17.02938637  18.22086716  18.97366596  16.76305461  19.18332609\n",
      "  24.57641145  18.65475811  17.20465053  20.49390153  18.33030278\n",
      "  18.1934054   17.40689519  16.15549442  18.84144368  17.3781472\n",
      "  20.34698995  17.05872211  43.53159772  17.23368794  17.43559577\n",
      "  16.43167673  45.81484476  19.20937271  21.02379604  17.66352173\n",
      "  25.21904043  18.24828759  39.66106403  17.52141547  18.89444363\n",
      "  19.49358869  74.35724578  17.69180601  17.08800749  17.4642492\n",
      "  17.60681686  18.97366596  16.37070554  19.92485885  15.68438714\n",
      "  19.          17.4642492   17.8325545   16.55294536  22.84731932\n",
      "  18.84144368  31.09662361  18.97366596  16.52271164  15.93737745\n",
      "  17.54992877  18.94729532  20.09975124  16.40121947  18.30300522\n",
      "  16.2788206   17.2626765   31.28897569  16.70329309  17.34935157\n",
      "  17.20465053  16.88194302  16.43167673  38.20994635  17.88854382\n",
      "  19.5192213   17.17556404  19.26136028  20.59126028  25.61249695\n",
      "  17.29161647  18.97366596  16.55294536  17.05872211  19.49358869\n",
      "  18.76166304  19.36491673  16.82260384  18.84144368  19.6977156\n",
      "  16.34013464  15.62049935  19.59591794  17.57839583  17.66352173\n",
      "  22.71563338  47.16990566  17.74823935  21.14237451  20.88061302\n",
      "  17.63519209  24.79919354  17.20465053  17.20465053  17.52141547\n",
      "  19.46792233  40.02499219  16.85229955  18.35755975  15.96871942\n",
      "  16.43167673  17.69180601  21.09502311  35.25620513  16.30950643\n",
      "  28.72281323  16.1245155   17.66352173  18.24828759  17.34935157\n",
      "  17.4642492   26.15339366  18.46618531  17.3781472   19.28730152\n",
      "  16.673332    18.60107524  22.49444376  37.84177586  16.94107435\n",
      "  25.3179778   16.82260384  18.16590212  26.01922366  32.03123476\n",
      "  16.97056275  16.70329309  25.72936066  16.73320053  16.76305461\n",
      "  22.29349681  16.21727474  19.46792233  17.02938637  18.22086716\n",
      "  18.24828759  16.4924225   17.77638883  17.54992877  17.29161647\n",
      "  19.39071943  16.0623784   21.09502311  20.02498439  21.58703314\n",
      "  20.02498439  17.23368794  16.34013464  44.754888    25.25866188\n",
      "  20.83266666  22.64950331  17.60681686  17.34935157  17.88854382\n",
      "  18.          18.57417562  16.09347694  15.71623365  24.93992783\n",
      "  23.60084744  19.39071943  17.97220076  22.8035085   16.\n",
      "  24.8394847   20.22374842  17.29161647  17.1464282   17.52141547\n",
      "  17.74823935  20.76053949  26.13426869  20.4450483   24.91987159\n",
      "  17.94435844  28.28427125  24.22808288  18.05547009  20.174241\n",
      "  24.2899156   19.92485885  20.92844954  17.57839583  19.28730152\n",
      "  17.23368794  15.8113883   28.54820485  17.72004515  17.57839583\n",
      "  17.1464282   17.77638883  16.09347694  17.          17.20465053\n",
      "  17.52141547  21.14237451  22.8035085   17.40689519  22.11334439\n",
      "  17.60681686  16.94107435  21.81742423  16.97056275  16.1245155\n",
      "  18.92088793  18.94729532  76.5702292   18.89444363  22.09072203\n",
      "  17.05872211  18.49324201  19.54482029  15.93737745  17.3781472\n",
      "  16.61324773  16.673332    18.11077028  18.38477631  16.4924225\n",
      "  56.98245344  17.72004515  24.20743687  17.32050808  16.0623784\n",
      "  17.29161647  21.58703314  16.76305461  17.52141547  20.37154879\n",
      "  18.27566688  26.          19.20937271  26.2297541   16.43167673\n",
      "  18.1934054   21.16601049  30.61045573  16.94107435  16.30950643\n",
      " 293.89794147  20.32240143  22.71563338  18.24828759  19.74841766\n",
      "  29.58039892  21.14237451  15.87450787  19.39071943  20.\n",
      "  17.40689519  25.57342371  18.16590212  18.94729532  17.11724277\n",
      "  17.32050808  34.58323293  16.76305461  18.          16.64331698\n",
      "  17.80449381  18.97366596  16.58312395  18.57417562  20.76053949\n",
      "  16.73320053  19.          18.02775638  17.17556404  17.80449381\n",
      "  18.          16.2788206   24.59674775  28.80972058  61.16371473\n",
      "  16.85229955  18.70828693  19.72308292  18.78829423  15.96871942\n",
      "  18.33030278  17.40689519  16.43167673  18.43908891  18.68154169\n",
      "  19.13112647  18.02775638  19.05255888  16.79285562  24.91987159\n",
      "  24.06241883  22.627417    16.79285562  17.08800749  17.63519209\n",
      "  18.49324201  18.76166304  16.18641406  16.55294536  19.84943324\n",
      "  18.05547009  16.88194302  18.65475811  18.38477631  20.37154879\n",
      "  16.94107435  20.61552813  19.6977156   27.40437921  21.9317122\n",
      "  16.46207763  47.69696007  81.76184929  17.20465053 128.38613632\n",
      "  17.43559577  16.03121954  20.54263858  17.11724277  17.8605711\n",
      "  17.8605711   18.33030278  25.82634314  18.27566688  18.16590212\n",
      "  15.65247584  34.20526275  22.64950331  17.32050808  21.44761059\n",
      "  17.49285568  23.76972865  16.73320053  18.84144368  18.24828759\n",
      "  53.07541804  33.36165464  19.54482029  20.04993766  18.02775638\n",
      "  17.43559577  31.63858404  17.49285568  17.49285568  23.64318084\n",
      "  19.20937271  20.83266666  27.54995463  17.40689519  17.\n",
      "  18.05547009  18.08314132  16.24807681  21.9089023   17.23368794\n",
      "  17.1464282   17.77638883  17.08800749  17.80449381  17.8605711\n",
      "  21.88606863  19.10497317  33.37663854  20.          18.54723699\n",
      "  18.33030278  15.93737745  16.30950643  17.94435844  16.15549442\n",
      "  24.31049156  57.34108475  17.69180601  16.64331698  16.34013464\n",
      "  17.3781472   17.          17.          19.4422221   15.84297952\n",
      "  17.20465053  18.92088793  21.81742423  27.54995463  22.8035085\n",
      "  16.15549442  17.29161647  19.59591794  16.55294536  17.74823935\n",
      "  17.66352173  91.79324594  17.4642492   17.80449381  16.70329309\n",
      "  17.49285568  16.37070554  17.17556404  16.88194302  17.17556404\n",
      "  24.08318916  22.75961335  21.54065923  17.54992877  21.02379604\n",
      "  18.94729532  17.8605711   17.          23.10844002  19.31320792\n",
      "  17.97220076  20.97617696  16.61324773  18.46618531  17.02938637\n",
      "  17.43559577  17.02938637  17.97220076  16.79285562  21.07130751\n",
      "  16.64331698  17.49285568  22.27105745  16.30950643  16.34013464\n",
      "  18.46618531  20.19900988  20.78460969  18.62793601  20.02498439\n",
      "  15.84297952  23.68543856  16.91153453  16.79285562  19.02629759\n",
      "  21.3541565   18.65475811  36.37306696  17.11724277  20.61552813\n",
      "  29.25747768  22.84731932  18.57417562  15.32970972  17.11724277\n",
      "  18.54723699  29.73213749  17.23368794  18.734994    18.\n",
      "  17.49285568  36.98648402  30.85449724  17.63519209  18.\n",
      " 586.91737067  16.73320053  20.68816087  21.86321111  16.\n",
      "  16.70329309  21.61018278  18.08314132  16.673332    21.49418526\n",
      "  31.1608729   19.92485885  20.34698995  22.82542442  22.02271555\n",
      "  21.9544984   16.70329309  18.70828693  16.2788206   16.64331698\n",
      "  17.88854382  17.8605711   19.4422221   27.05549852  16.94107435\n",
      "  21.40093456  19.46792233  22.24859546  20.09975124  24.87971061\n",
      "  21.9089023   17.63519209  17.4642492   18.          18.30300522\n",
      "  19.10497317  17.4642492   16.43167673  18.57417562  17.29161647\n",
      "  18.81488772  20.59126028  16.61324773  16.34013464  16.76305461\n",
      "  13.34166406 212.58174898  18.16590212  32.38826948  17.60681686\n",
      "  17.02938637  18.734994    19.49358869  16.30950643  19.6977156\n",
      "  16.82260384  19.57038579  17.29161647  23.19482701  20.54263858\n",
      "  17.05872211  16.94107435  17.          15.39480432  20.59126028\n",
      "  26.90724809  15.87450787  24.41311123  16.91153453  24.2899156\n",
      "  17.20465053  15.90597372  16.79285562  18.35755975  31.06444913\n",
      "  16.91153453  23.21637353  27.36786437  16.70329309  30.85449724\n",
      "  18.734994    19.5192213   18.68154169  29.27456234  17.66352173\n",
      "  18.05547009  16.2788206   20.14944168  20.24845673  17.60681686\n",
      "  16.64331698  21.02379604  23.57965225  43.49712634  19.87460691\n",
      "  17.32050808  17.40689519  17.80449381  24.16609195  16.24807681\n",
      "  21.72556098  20.97617696  17.11724277  15.84297952  27.34958866\n",
      "  24.37211521  17.69180601  19.8242276   16.52271164  17.57839583\n",
      "  18.92088793  16.0623784   17.3781472   21.23676058  16.61324773\n",
      "  17.05872211  16.4924225   15.77973384  18.1934054   18.13835715\n",
      "  18.24828759  36.16628264  16.70329309  16.0623784   35.11409973\n",
      "  18.65475811  16.70329309  32.86335345  33.85262176  17.3781472\n",
      "  20.83266666  19.28730152  17.17556404  21.49418526  17.40689519\n",
      "  20.39607805  19.4422221   16.40121947  20.29778313 169.67910891\n",
      "  18.24828759  16.61324773  18.1934054   16.70329309  24.73863375\n",
      "  16.2788206   17.8605711   21.04756518  20.          16.15549442\n",
      "  25.19920634  16.64331698  26.62705391  16.79285562  18.30300522\n",
      "  16.85229955  17.02938637  16.82260384  15.71623365  19.18332609]\n"
     ]
    }
   ],
   "source": [
    "print(neigh_idx, distances) "
   ]
  },
  {
   "cell_type": "code",
   "execution_count": 24,
   "metadata": {},
   "outputs": [
    {
     "data": {
      "text/plain": [
       "array([[0., 0., 0., ..., 0., 0., 0.],\n",
       "       [0., 0., 0., ..., 0., 0., 0.],\n",
       "       [0., 0., 0., ..., 0., 0., 0.],\n",
       "       [0., 0., 0., ..., 0., 0., 0.],\n",
       "       [0., 0., 0., ..., 0., 0., 0.]])"
      ]
     },
     "execution_count": 24,
     "metadata": {},
     "output_type": "execute_result"
    }
   ],
   "source": [
    "TrainD[neigh_idx]"
   ]
  },
  {
   "cell_type": "code",
   "execution_count": 25,
   "metadata": {},
   "outputs": [
    {
     "name": "stdout",
     "output_type": "stream",
     "text": [
      "[1. 1. 1. 1. 1.]\n"
     ]
    }
   ],
   "source": [
    "neigh_labels = TargetTrainLabel[neigh_idx]\n",
    "print(neigh_labels)"
   ]
  },
  {
   "cell_type": "code",
   "execution_count": 26,
   "metadata": {},
   "outputs": [
    {
     "name": "stdout",
     "output_type": "stream",
     "text": [
      "[(1.0, 5)]\n"
     ]
    }
   ],
   "source": [
    "from collections import Counter\n",
    "print(Counter(neigh_labels).most_common(1))"
   ]
  },
  {
   "cell_type": "markdown",
   "metadata": {},
   "source": [
    "# KNN Classifier\n",
    "\n",
    "### The classifier below accepts a value to test (x), a training set (D), a number of neighbors (K), a type of measure (measure), and a set of corresponding training labels (TrainLabels). Using these inputs, the classifier is tested on the second row of the testing set and produces a value of 0, which indicates that the second row would fall into the Microsoft Windows class using 5 neighbors and the Euclidean Distance formula. When the classifier is run using 5 neighbors and the cosine distance formula, the same result is found."
   ]
  },
  {
   "cell_type": "code",
   "execution_count": 27,
   "metadata": {},
   "outputs": [],
   "source": [
    "def knn_Classify(x, D, K, measure, TrainLabels):\n",
    "    \"\"\" find K nearest neighbors of an instance x among the instances in D \"\"\"\n",
    "    if measure == 0:\n",
    "        # euclidean distances from the other points\n",
    "        dists = np.sqrt(((D - x)**2).sum(axis=1))\n",
    "    elif measure == 1:\n",
    "        # first find the vector norm for each instance in D as wel as the norm for vector x\n",
    "        D_norm = np.array([np.linalg.norm(D[i]) for i in range(len(D))])\n",
    "        x_norm = np.linalg.norm(x)\n",
    "        # Compute Cosine: divide the dot product o x and each instance in D by the product of the two norms\n",
    "        sims = np.dot(D,x)/(D_norm * x_norm)\n",
    "        # The distance measure will be the inverse of Cosine similarity\n",
    "        dists = 1 - sims\n",
    "    idx = np.argsort(dists) # sorting \n",
    "    # return the indexes of K nearest neighbors\n",
    "    neigh_idx = idx[:K]\n",
    "    neigh_label = TrainLabels[neigh_idx]\n",
    "    label = Counter(neigh_label).most_common(1)\n",
    "    label = label[0][0]\n",
    "    return label"
   ]
  },
  {
   "cell_type": "code",
   "execution_count": 28,
   "metadata": {},
   "outputs": [],
   "source": [
    "x = TestD[1]"
   ]
  },
  {
   "cell_type": "code",
   "execution_count": 29,
   "metadata": {},
   "outputs": [],
   "source": [
    "Label = knn_Classify(x, TrainD, 5, 0, TargetTrainLabel)"
   ]
  },
  {
   "cell_type": "code",
   "execution_count": 30,
   "metadata": {},
   "outputs": [
    {
     "name": "stdout",
     "output_type": "stream",
     "text": [
      "0.0\n"
     ]
    }
   ],
   "source": [
    "print(Label)"
   ]
  },
  {
   "cell_type": "code",
   "execution_count": 31,
   "metadata": {},
   "outputs": [
    {
     "name": "stdout",
     "output_type": "stream",
     "text": [
      "Microsoft Windows\n"
     ]
    },
    {
     "data": {
      "text/plain": [
       "0.0"
      ]
     },
     "execution_count": 31,
     "metadata": {},
     "output_type": "execute_result"
    }
   ],
   "source": [
    "Label2 = knn_Classify(x, TrainD, 5, 1, TargetTrainLabel)\n",
    "if Label2 == 0.0:\n",
    "    print('Microsoft Windows')\n",
    "else:\n",
    "    print('Hockey')\n",
    "Label2"
   ]
  },
  {
   "cell_type": "code",
   "execution_count": 32,
   "metadata": {},
   "outputs": [
    {
     "data": {
      "text/plain": [
       "1.0"
      ]
     },
     "execution_count": 32,
     "metadata": {},
     "output_type": "execute_result"
    }
   ],
   "source": [
    "TargetTest[0][1]"
   ]
  },
  {
   "cell_type": "code",
   "execution_count": 33,
   "metadata": {},
   "outputs": [
    {
     "name": "stdout",
     "output_type": "stream",
     "text": [
      "works\n"
     ]
    }
   ],
   "source": [
    "if Label2 == TargetTest[0][0]:\n",
    "    print('works')"
   ]
  },
  {
   "cell_type": "markdown",
   "metadata": {},
   "source": [
    "# Part b\n",
    "\n",
    "### This accuracy function runs each row of the test array through the KNN Classifier function. After returning the class label, the accuracy function tests to see if they match. If they do, a correct counter is increased by 1. Everytime the function runs, regardless of accuracy, a total counter is increaed by 1. At the end, a ratio is computed, the accurate classifications by the total classification. This ran with 97% accuracy, when using 5 neighbors and the cosine distance method."
   ]
  },
  {
   "cell_type": "code",
   "execution_count": 34,
   "metadata": {},
   "outputs": [],
   "source": [
    "def Accuracy(TestD, TargetTest, K, measure):\n",
    "    errors = 0\n",
    "    total = 0\n",
    "    correct = 0\n",
    "    for row in TestD:\n",
    "        rowNum = total\n",
    "        total += 1\n",
    "        Label = knn_Classify(row, TrainD, K, measure, TargetTrainLabel)\n",
    "        actual = TargetTest[rowNum][1]\n",
    "        if Label == actual:\n",
    "            correct += 1\n",
    "        else:\n",
    "            errors +=1\n",
    "    accuracy = correct/total\n",
    "    return accuracy\n",
    "            \n",
    "        \n",
    "    "
   ]
  },
  {
   "cell_type": "code",
   "execution_count": 35,
   "metadata": {},
   "outputs": [
    {
     "name": "stdout",
     "output_type": "stream",
     "text": [
      "0.97\n"
     ]
    }
   ],
   "source": [
    "accuracy = Accuracy(TestD, TargetTest, 5, 1)\n",
    "print(accuracy)"
   ]
  },
  {
   "cell_type": "markdown",
   "metadata": {},
   "source": [
    "# Part c"
   ]
  },
  {
   "cell_type": "code",
   "execution_count": 36,
   "metadata": {},
   "outputs": [],
   "source": [
    "CosineNeighbors = {}"
   ]
  },
  {
   "cell_type": "code",
   "execution_count": 37,
   "metadata": {},
   "outputs": [
    {
     "data": {
      "text/plain": [
       "{1: 0.985}"
      ]
     },
     "execution_count": 37,
     "metadata": {},
     "output_type": "execute_result"
    }
   ],
   "source": [
    "n = 1\n",
    "accuracy = Accuracy(TestD, TargetTest, n, 1)\n",
    "CosineNeighbors[n] = accuracy\n",
    "CosineNeighbors"
   ]
  },
  {
   "cell_type": "code",
   "execution_count": 38,
   "metadata": {},
   "outputs": [],
   "source": [
    "n = 2\n",
    "accuracy = Accuracy(TestD, TargetTest, n, 1)\n",
    "CosineNeighbors[n] = accuracy"
   ]
  },
  {
   "cell_type": "code",
   "execution_count": 39,
   "metadata": {},
   "outputs": [],
   "source": [
    "n = 3\n",
    "accuracy = Accuracy(TestD, TargetTest, n, 1)\n",
    "CosineNeighbors[n] = accuracy"
   ]
  },
  {
   "cell_type": "code",
   "execution_count": 40,
   "metadata": {},
   "outputs": [],
   "source": [
    "n = 4\n",
    "accuracy = Accuracy(TestD, TargetTest, n, 1)\n",
    "CosineNeighbors[n] = accuracy"
   ]
  },
  {
   "cell_type": "code",
   "execution_count": 41,
   "metadata": {},
   "outputs": [],
   "source": [
    "n = 5\n",
    "accuracy = Accuracy(TestD, TargetTest, n, 1)\n",
    "CosineNeighbors[n] = accuracy"
   ]
  },
  {
   "cell_type": "code",
   "execution_count": 42,
   "metadata": {},
   "outputs": [],
   "source": [
    "n = 6\n",
    "accuracy = Accuracy(TestD, TargetTest, n, 1)\n",
    "CosineNeighbors[n] = accuracy"
   ]
  },
  {
   "cell_type": "code",
   "execution_count": 43,
   "metadata": {},
   "outputs": [],
   "source": [
    "n = 7\n",
    "accuracy = Accuracy(TestD, TargetTest, n, 1)\n",
    "CosineNeighbors[n] = accuracy"
   ]
  },
  {
   "cell_type": "code",
   "execution_count": 44,
   "metadata": {},
   "outputs": [],
   "source": [
    "n = 8\n",
    "accuracy = Accuracy(TestD, TargetTest, n, 1)\n",
    "CosineNeighbors[n] = accuracy"
   ]
  },
  {
   "cell_type": "code",
   "execution_count": 45,
   "metadata": {},
   "outputs": [],
   "source": [
    "n = 9\n",
    "accuracy = Accuracy(TestD, TargetTest, n, 1)\n",
    "CosineNeighbors[n] = accuracy"
   ]
  },
  {
   "cell_type": "code",
   "execution_count": 46,
   "metadata": {},
   "outputs": [],
   "source": [
    "n = 10\n",
    "accuracy = Accuracy(TestD, TargetTest, n, 1)\n",
    "CosineNeighbors[n] = accuracy"
   ]
  },
  {
   "cell_type": "code",
   "execution_count": 47,
   "metadata": {},
   "outputs": [],
   "source": [
    "n = 11\n",
    "accuracy = Accuracy(TestD, TargetTest, n, 1)\n",
    "CosineNeighbors[n] = accuracy"
   ]
  },
  {
   "cell_type": "code",
   "execution_count": 48,
   "metadata": {},
   "outputs": [],
   "source": [
    "n = 12\n",
    "accuracy = Accuracy(TestD, TargetTest, n, 1)\n",
    "CosineNeighbors[n] = accuracy"
   ]
  },
  {
   "cell_type": "code",
   "execution_count": 49,
   "metadata": {},
   "outputs": [],
   "source": [
    "n = 13\n",
    "accuracy = Accuracy(TestD, TargetTest, n, 1)\n",
    "CosineNeighbors[n] = accuracy"
   ]
  },
  {
   "cell_type": "code",
   "execution_count": 50,
   "metadata": {},
   "outputs": [],
   "source": [
    "n = 14\n",
    "accuracy = Accuracy(TestD, TargetTest, n, 1)\n",
    "CosineNeighbors[n] = accuracy"
   ]
  },
  {
   "cell_type": "code",
   "execution_count": 51,
   "metadata": {},
   "outputs": [],
   "source": [
    "n = 15\n",
    "accuracy = Accuracy(TestD, TargetTest, n, 1)\n",
    "CosineNeighbors[n] = accuracy"
   ]
  },
  {
   "cell_type": "code",
   "execution_count": 52,
   "metadata": {},
   "outputs": [],
   "source": [
    "n = 16\n",
    "accuracy = Accuracy(TestD, TargetTest, n, 1)\n",
    "CosineNeighbors[n] = accuracy"
   ]
  },
  {
   "cell_type": "code",
   "execution_count": 53,
   "metadata": {},
   "outputs": [],
   "source": [
    "n = 17\n",
    "accuracy = Accuracy(TestD, TargetTest, n, 1)\n",
    "CosineNeighbors[n] = accuracy"
   ]
  },
  {
   "cell_type": "code",
   "execution_count": 54,
   "metadata": {},
   "outputs": [],
   "source": [
    "n = 18\n",
    "accuracy = Accuracy(TestD, TargetTest, n, 1)\n",
    "CosineNeighbors[n] = accuracy"
   ]
  },
  {
   "cell_type": "code",
   "execution_count": 55,
   "metadata": {},
   "outputs": [],
   "source": [
    "n = 19\n",
    "accuracy = Accuracy(TestD, TargetTest, n, 1)\n",
    "CosineNeighbors[n] = accuracy"
   ]
  },
  {
   "cell_type": "code",
   "execution_count": 56,
   "metadata": {},
   "outputs": [],
   "source": [
    "n = 20\n",
    "accuracy = Accuracy(TestD, TargetTest, n, 1)\n",
    "CosineNeighbors[n] = accuracy"
   ]
  },
  {
   "cell_type": "code",
   "execution_count": 57,
   "metadata": {},
   "outputs": [
    {
     "data": {
      "text/plain": [
       "{1: 0.985,\n",
       " 2: 0.985,\n",
       " 3: 0.97,\n",
       " 4: 0.985,\n",
       " 5: 0.97,\n",
       " 6: 0.985,\n",
       " 7: 0.98,\n",
       " 8: 0.98,\n",
       " 9: 0.975,\n",
       " 10: 0.985,\n",
       " 11: 0.98,\n",
       " 12: 0.975,\n",
       " 13: 0.98,\n",
       " 14: 0.98,\n",
       " 15: 0.985,\n",
       " 16: 0.98,\n",
       " 17: 0.975,\n",
       " 18: 0.975,\n",
       " 19: 0.975,\n",
       " 20: 0.975}"
      ]
     },
     "execution_count": 57,
     "metadata": {},
     "output_type": "execute_result"
    }
   ],
   "source": [
    "CosineNeighbors"
   ]
  },
  {
   "cell_type": "code",
   "execution_count": 58,
   "metadata": {},
   "outputs": [
    {
     "data": {
      "image/png": "[encoded data removed]",
      "text/plain": [
       "<Figure size 432x288 with 1 Axes>"
      ]
     },
     "metadata": {
      "needs_background": "light"
     },
     "output_type": "display_data"
    }
   ],
   "source": [
    "lists = sorted(CosineNeighbors.items())\n",
    "x, y = zip(*lists)\n",
    "plt.plot(x,y)\n",
    "plt.show()"
   ]
  },
  {
   "cell_type": "markdown",
   "metadata": {},
   "source": [
    "# Graph of Cosine Neighbors 1-20\n",
    "### I attempted to create a function, that can be seen below to iterate through 1 to 20 neighbors, but I got an error I was unable to fix, so I just manually computed the 20 neighbors and graphed them onthe plot shown above. The results show that there is a little more consistency with neighbors less than 7.5. There is also high accuracy around 11 and 16 neighbors. "
   ]
  },
  {
   "cell_type": "code",
   "execution_count": 59,
   "metadata": {},
   "outputs": [],
   "source": [
    "def cosineMethod(n):\n",
    "    Neighbors = {}\n",
    "    for i in range(n):\n",
    "        accurate = Accuracy(TestD, TargetTest, i, 1)\n",
    "        Neighbors[i] = accurate\n",
    "    return Neighbors"
   ]
  },
  {
   "cell_type": "markdown",
   "metadata": {},
   "source": [
    "# Euclidean distance with Neighbors 1-20"
   ]
  },
  {
   "cell_type": "code",
   "execution_count": 60,
   "metadata": {},
   "outputs": [
    {
     "data": {
      "text/plain": [
       "{1: 0.78}"
      ]
     },
     "execution_count": 60,
     "metadata": {},
     "output_type": "execute_result"
    }
   ],
   "source": [
    "EuclidNeighbors = {}\n",
    "n = 1\n",
    "accuracy = Accuracy(TestD, TargetTest, n, 0)\n",
    "EuclidNeighbors[n] = accuracy\n",
    "EuclidNeighbors"
   ]
  },
  {
   "cell_type": "code",
   "execution_count": 61,
   "metadata": {},
   "outputs": [
    {
     "data": {
      "text/plain": [
       "{1: 0.78, 2: 0.78}"
      ]
     },
     "execution_count": 61,
     "metadata": {},
     "output_type": "execute_result"
    }
   ],
   "source": [
    "n = 2\n",
    "accuracy = Accuracy(TestD, TargetTest, n, 0)\n",
    "EuclidNeighbors[n] = accuracy\n",
    "EuclidNeighbors"
   ]
  },
  {
   "cell_type": "code",
   "execution_count": 62,
   "metadata": {},
   "outputs": [],
   "source": [
    "n = 3\n",
    "accuracy = Accuracy(TestD, TargetTest, n, 0)\n",
    "EuclidNeighbors[n] = accuracy"
   ]
  },
  {
   "cell_type": "code",
   "execution_count": 63,
   "metadata": {},
   "outputs": [],
   "source": [
    "n = 4\n",
    "accuracy = Accuracy(TestD, TargetTest, n, 0)\n",
    "EuclidNeighbors[n] = accuracy"
   ]
  },
  {
   "cell_type": "code",
   "execution_count": 64,
   "metadata": {},
   "outputs": [],
   "source": [
    "n = 5\n",
    "accuracy = Accuracy(TestD, TargetTest, n, 0)\n",
    "EuclidNeighbors[n] = accuracy"
   ]
  },
  {
   "cell_type": "code",
   "execution_count": 65,
   "metadata": {},
   "outputs": [],
   "source": [
    "n = 6\n",
    "accuracy = Accuracy(TestD, TargetTest, n, 0)\n",
    "EuclidNeighbors[n] = accuracy"
   ]
  },
  {
   "cell_type": "code",
   "execution_count": 66,
   "metadata": {},
   "outputs": [],
   "source": [
    "n = 7\n",
    "accuracy = Accuracy(TestD, TargetTest, n, 0)\n",
    "EuclidNeighbors[n] = accuracy"
   ]
  },
  {
   "cell_type": "code",
   "execution_count": 67,
   "metadata": {},
   "outputs": [],
   "source": [
    "n = 8\n",
    "accuracy = Accuracy(TestD, TargetTest, n, 0)\n",
    "EuclidNeighbors[n] = accuracy"
   ]
  },
  {
   "cell_type": "code",
   "execution_count": 68,
   "metadata": {},
   "outputs": [],
   "source": [
    "n = 9\n",
    "accuracy = Accuracy(TestD, TargetTest, n, 0)\n",
    "EuclidNeighbors[n] = accuracy"
   ]
  },
  {
   "cell_type": "code",
   "execution_count": 69,
   "metadata": {},
   "outputs": [],
   "source": [
    "n = 10\n",
    "accuracy = Accuracy(TestD, TargetTest, n, 0)\n",
    "EuclidNeighbors[n] = accuracy"
   ]
  },
  {
   "cell_type": "code",
   "execution_count": 70,
   "metadata": {},
   "outputs": [],
   "source": [
    "n = 11\n",
    "accuracy = Accuracy(TestD, TargetTest, n, 0)\n",
    "EuclidNeighbors[n] = accuracy"
   ]
  },
  {
   "cell_type": "code",
   "execution_count": 71,
   "metadata": {},
   "outputs": [],
   "source": [
    "n = 12\n",
    "accuracy = Accuracy(TestD, TargetTest, n, 0)\n",
    "EuclidNeighbors[n] = accuracy"
   ]
  },
  {
   "cell_type": "code",
   "execution_count": 72,
   "metadata": {},
   "outputs": [],
   "source": [
    "n = 13\n",
    "accuracy = Accuracy(TestD, TargetTest, n, 0)\n",
    "EuclidNeighbors[n] = accuracy"
   ]
  },
  {
   "cell_type": "code",
   "execution_count": 73,
   "metadata": {},
   "outputs": [],
   "source": [
    "n = 14\n",
    "accuracy = Accuracy(TestD, TargetTest, n, 0)\n",
    "EuclidNeighbors[n] = accuracy"
   ]
  },
  {
   "cell_type": "code",
   "execution_count": 74,
   "metadata": {},
   "outputs": [],
   "source": [
    "n = 15\n",
    "accuracy = Accuracy(TestD, TargetTest, n, 0)\n",
    "EuclidNeighbors[n] = accuracy"
   ]
  },
  {
   "cell_type": "code",
   "execution_count": 75,
   "metadata": {},
   "outputs": [],
   "source": [
    "n = 16\n",
    "accuracy = Accuracy(TestD, TargetTest, n, 0)\n",
    "EuclidNeighbors[n] = accuracy"
   ]
  },
  {
   "cell_type": "code",
   "execution_count": 76,
   "metadata": {},
   "outputs": [],
   "source": [
    "n = 17\n",
    "accuracy = Accuracy(TestD, TargetTest, n, 0)\n",
    "EuclidNeighbors[n] = accuracy"
   ]
  },
  {
   "cell_type": "code",
   "execution_count": 77,
   "metadata": {},
   "outputs": [],
   "source": [
    "n = 18\n",
    "accuracy = Accuracy(TestD, TargetTest, n, 0)\n",
    "EuclidNeighbors[n] = accuracy"
   ]
  },
  {
   "cell_type": "code",
   "execution_count": 78,
   "metadata": {},
   "outputs": [],
   "source": [
    "n = 19\n",
    "accuracy = Accuracy(TestD, TargetTest, n, 0)\n",
    "EuclidNeighbors[n] = accuracy"
   ]
  },
  {
   "cell_type": "code",
   "execution_count": 79,
   "metadata": {},
   "outputs": [],
   "source": [
    "n = 20\n",
    "accuracy = Accuracy(TestD, TargetTest, n, 0)\n",
    "EuclidNeighbors[n] = accuracy"
   ]
  },
  {
   "cell_type": "code",
   "execution_count": 80,
   "metadata": {},
   "outputs": [
    {
     "data": {
      "text/plain": [
       "{1: 0.78,\n",
       " 2: 0.78,\n",
       " 3: 0.81,\n",
       " 4: 0.81,\n",
       " 5: 0.815,\n",
       " 6: 0.835,\n",
       " 7: 0.765,\n",
       " 8: 0.8,\n",
       " 9: 0.75,\n",
       " 10: 0.85,\n",
       " 11: 0.795,\n",
       " 12: 0.845,\n",
       " 13: 0.775,\n",
       " 14: 0.815,\n",
       " 15: 0.785,\n",
       " 16: 0.8,\n",
       " 17: 0.76,\n",
       " 18: 0.785,\n",
       " 19: 0.74,\n",
       " 20: 0.765}"
      ]
     },
     "execution_count": 80,
     "metadata": {},
     "output_type": "execute_result"
    }
   ],
   "source": [
    "EuclidNeighbors"
   ]
  },
  {
   "cell_type": "code",
   "execution_count": 81,
   "metadata": {},
   "outputs": [
    {
     "data": {
      "image/png": "[encoded data removed]",
      "text/plain": [
       "<Figure size 432x288 with 1 Axes>"
      ]
     },
     "metadata": {
      "needs_background": "light"
     },
     "output_type": "display_data"
    }
   ],
   "source": [
    "lists = sorted(EuclidNeighbors.items())\n",
    "x, y = zip(*lists)\n",
    "plt.plot(x,y)\n",
    "plt.show()"
   ]
  },
  {
   "cell_type": "markdown",
   "metadata": {},
   "source": [
    "## As can be seen above, there is less accuracy with Euclidean neighbors than cosine neighbors. The hgihest point of accuracy is around 85% eith about 11 neighbors. There is not a clear pattern where the strongest neighbors lie, but the highest result is between 10 and 13 neighbors with results trailing off on either side"
   ]
  },
  {
   "cell_type": "markdown",
   "metadata": {},
   "source": [
    "# Part D"
   ]
  },
  {
   "cell_type": "code",
   "execution_count": 82,
   "metadata": {},
   "outputs": [],
   "source": [
    "train = pd.read_table('trainMatrixModified.txt', header = None)\n",
    "train_lab = pd.read_table('trainClasses.txt', header = None, index_col = 0)\n",
    "test = pd.read_table('testMatrixModified.txt', header = None)\n",
    "test_lab = pd.read_table('testClasses.txt', header = None, index_col = 0)\n",
    "terms = pd.read_table('modifiedterms.txt', header = None)\n"
   ]
  },
  {
   "cell_type": "code",
   "execution_count": 83,
   "metadata": {},
   "outputs": [
    {
     "data": {
      "text/html": [
       "<div>\n",
       "<style scoped>\n",
       "    .dataframe tbody tr th:only-of-type {\n",
       "        vertical-align: middle;\n",
       "    }\n",
       "\n",
       "    .dataframe tbody tr th {\n",
       "        vertical-align: top;\n",
       "    }\n",
       "\n",
       "    .dataframe thead th {\n",
       "        text-align: right;\n",
       "    }\n",
       "</style>\n",
       "<table border=\"1\" class=\"dataframe\">\n",
       "  <thead>\n",
       "    <tr style=\"text-align: right;\">\n",
       "      <th></th>\n",
       "      <th>0</th>\n",
       "      <th>1</th>\n",
       "      <th>2</th>\n",
       "      <th>3</th>\n",
       "      <th>4</th>\n",
       "      <th>5</th>\n",
       "      <th>6</th>\n",
       "      <th>7</th>\n",
       "      <th>8</th>\n",
       "      <th>9</th>\n",
       "      <th>...</th>\n",
       "      <th>790</th>\n",
       "      <th>791</th>\n",
       "      <th>792</th>\n",
       "      <th>793</th>\n",
       "      <th>794</th>\n",
       "      <th>795</th>\n",
       "      <th>796</th>\n",
       "      <th>797</th>\n",
       "      <th>798</th>\n",
       "      <th>799</th>\n",
       "    </tr>\n",
       "  </thead>\n",
       "  <tbody>\n",
       "    <tr>\n",
       "      <th>0</th>\n",
       "      <td>2.0</td>\n",
       "      <td>0.0</td>\n",
       "      <td>0.0</td>\n",
       "      <td>2.0</td>\n",
       "      <td>2.0</td>\n",
       "      <td>0.0</td>\n",
       "      <td>0.0</td>\n",
       "      <td>0.0</td>\n",
       "      <td>0.0</td>\n",
       "      <td>0.0</td>\n",
       "      <td>...</td>\n",
       "      <td>0.0</td>\n",
       "      <td>0.0</td>\n",
       "      <td>0.0</td>\n",
       "      <td>0.0</td>\n",
       "      <td>0.0</td>\n",
       "      <td>0.0</td>\n",
       "      <td>0.0</td>\n",
       "      <td>0.0</td>\n",
       "      <td>0.0</td>\n",
       "      <td>0.0</td>\n",
       "    </tr>\n",
       "    <tr>\n",
       "      <th>1</th>\n",
       "      <td>2.0</td>\n",
       "      <td>0.0</td>\n",
       "      <td>0.0</td>\n",
       "      <td>0.0</td>\n",
       "      <td>0.0</td>\n",
       "      <td>0.0</td>\n",
       "      <td>0.0</td>\n",
       "      <td>0.0</td>\n",
       "      <td>0.0</td>\n",
       "      <td>0.0</td>\n",
       "      <td>...</td>\n",
       "      <td>0.0</td>\n",
       "      <td>0.0</td>\n",
       "      <td>3.0</td>\n",
       "      <td>0.0</td>\n",
       "      <td>0.0</td>\n",
       "      <td>0.0</td>\n",
       "      <td>0.0</td>\n",
       "      <td>0.0</td>\n",
       "      <td>0.0</td>\n",
       "      <td>0.0</td>\n",
       "    </tr>\n",
       "    <tr>\n",
       "      <th>2</th>\n",
       "      <td>2.0</td>\n",
       "      <td>0.0</td>\n",
       "      <td>0.0</td>\n",
       "      <td>0.0</td>\n",
       "      <td>0.0</td>\n",
       "      <td>0.0</td>\n",
       "      <td>0.0</td>\n",
       "      <td>0.0</td>\n",
       "      <td>0.0</td>\n",
       "      <td>0.0</td>\n",
       "      <td>...</td>\n",
       "      <td>0.0</td>\n",
       "      <td>0.0</td>\n",
       "      <td>0.0</td>\n",
       "      <td>0.0</td>\n",
       "      <td>0.0</td>\n",
       "      <td>0.0</td>\n",
       "      <td>0.0</td>\n",
       "      <td>0.0</td>\n",
       "      <td>0.0</td>\n",
       "      <td>0.0</td>\n",
       "    </tr>\n",
       "    <tr>\n",
       "      <th>3</th>\n",
       "      <td>1.0</td>\n",
       "      <td>1.0</td>\n",
       "      <td>1.0</td>\n",
       "      <td>1.0</td>\n",
       "      <td>1.0</td>\n",
       "      <td>1.0</td>\n",
       "      <td>2.0</td>\n",
       "      <td>1.0</td>\n",
       "      <td>1.0</td>\n",
       "      <td>1.0</td>\n",
       "      <td>...</td>\n",
       "      <td>1.0</td>\n",
       "      <td>1.0</td>\n",
       "      <td>1.0</td>\n",
       "      <td>1.0</td>\n",
       "      <td>1.0</td>\n",
       "      <td>1.0</td>\n",
       "      <td>1.0</td>\n",
       "      <td>1.0</td>\n",
       "      <td>1.0</td>\n",
       "      <td>1.0</td>\n",
       "    </tr>\n",
       "    <tr>\n",
       "      <th>4</th>\n",
       "      <td>8.0</td>\n",
       "      <td>1.0</td>\n",
       "      <td>0.0</td>\n",
       "      <td>0.0</td>\n",
       "      <td>0.0</td>\n",
       "      <td>0.0</td>\n",
       "      <td>0.0</td>\n",
       "      <td>0.0</td>\n",
       "      <td>0.0</td>\n",
       "      <td>0.0</td>\n",
       "      <td>...</td>\n",
       "      <td>0.0</td>\n",
       "      <td>0.0</td>\n",
       "      <td>2.0</td>\n",
       "      <td>0.0</td>\n",
       "      <td>0.0</td>\n",
       "      <td>0.0</td>\n",
       "      <td>0.0</td>\n",
       "      <td>0.0</td>\n",
       "      <td>0.0</td>\n",
       "      <td>1.0</td>\n",
       "    </tr>\n",
       "  </tbody>\n",
       "</table>\n",
       "<p>5 rows × 800 columns</p>\n",
       "</div>"
      ],
      "text/plain": [
       "   0    1    2    3    4    5    6    7    8    9    ...  790  791  792  793  \\\n",
       "0  2.0  0.0  0.0  2.0  2.0  0.0  0.0  0.0  0.0  0.0  ...  0.0  0.0  0.0  0.0   \n",
       "1  2.0  0.0  0.0  0.0  0.0  0.0  0.0  0.0  0.0  0.0  ...  0.0  0.0  3.0  0.0   \n",
       "2  2.0  0.0  0.0  0.0  0.0  0.0  0.0  0.0  0.0  0.0  ...  0.0  0.0  0.0  0.0   \n",
       "3  1.0  1.0  1.0  1.0  1.0  1.0  2.0  1.0  1.0  1.0  ...  1.0  1.0  1.0  1.0   \n",
       "4  8.0  1.0  0.0  0.0  0.0  0.0  0.0  0.0  0.0  0.0  ...  0.0  0.0  2.0  0.0   \n",
       "\n",
       "   794  795  796  797  798  799  \n",
       "0  0.0  0.0  0.0  0.0  0.0  0.0  \n",
       "1  0.0  0.0  0.0  0.0  0.0  0.0  \n",
       "2  0.0  0.0  0.0  0.0  0.0  0.0  \n",
       "3  1.0  1.0  1.0  1.0  1.0  1.0  \n",
       "4  0.0  0.0  0.0  0.0  0.0  1.0  \n",
       "\n",
       "[5 rows x 800 columns]"
      ]
     },
     "execution_count": 83,
     "metadata": {},
     "output_type": "execute_result"
    }
   ],
   "source": [
    "train.head()"
   ]
  },
  {
   "cell_type": "code",
   "execution_count": 84,
   "metadata": {},
   "outputs": [],
   "source": [
    "T_train = train.T"
   ]
  },
  {
   "cell_type": "code",
   "execution_count": 85,
   "metadata": {},
   "outputs": [
    {
     "data": {
      "text/plain": [
       "(800, 5500)"
      ]
     },
     "execution_count": 85,
     "metadata": {},
     "output_type": "execute_result"
    }
   ],
   "source": [
    "T_train.shape"
   ]
  },
  {
   "cell_type": "code",
   "execution_count": 86,
   "metadata": {},
   "outputs": [
    {
     "data": {
      "text/html": [
       "<div>\n",
       "<style scoped>\n",
       "    .dataframe tbody tr th:only-of-type {\n",
       "        vertical-align: middle;\n",
       "    }\n",
       "\n",
       "    .dataframe tbody tr th {\n",
       "        vertical-align: top;\n",
       "    }\n",
       "\n",
       "    .dataframe thead th {\n",
       "        text-align: right;\n",
       "    }\n",
       "</style>\n",
       "<table border=\"1\" class=\"dataframe\">\n",
       "  <thead>\n",
       "    <tr style=\"text-align: right;\">\n",
       "      <th></th>\n",
       "      <th>0</th>\n",
       "      <th>1</th>\n",
       "      <th>2</th>\n",
       "      <th>3</th>\n",
       "      <th>4</th>\n",
       "      <th>5</th>\n",
       "      <th>6</th>\n",
       "      <th>7</th>\n",
       "      <th>8</th>\n",
       "      <th>9</th>\n",
       "      <th>...</th>\n",
       "      <th>190</th>\n",
       "      <th>191</th>\n",
       "      <th>192</th>\n",
       "      <th>193</th>\n",
       "      <th>194</th>\n",
       "      <th>195</th>\n",
       "      <th>196</th>\n",
       "      <th>197</th>\n",
       "      <th>198</th>\n",
       "      <th>199</th>\n",
       "    </tr>\n",
       "  </thead>\n",
       "  <tbody>\n",
       "    <tr>\n",
       "      <th>0</th>\n",
       "      <td>0.0</td>\n",
       "      <td>0.0</td>\n",
       "      <td>1.0</td>\n",
       "      <td>0.0</td>\n",
       "      <td>0.0</td>\n",
       "      <td>0.0</td>\n",
       "      <td>0.0</td>\n",
       "      <td>0.0</td>\n",
       "      <td>0.0</td>\n",
       "      <td>0.0</td>\n",
       "      <td>...</td>\n",
       "      <td>0.0</td>\n",
       "      <td>0.0</td>\n",
       "      <td>0.0</td>\n",
       "      <td>0.0</td>\n",
       "      <td>0.0</td>\n",
       "      <td>0.0</td>\n",
       "      <td>0.0</td>\n",
       "      <td>0.0</td>\n",
       "      <td>0.0</td>\n",
       "      <td>0.0</td>\n",
       "    </tr>\n",
       "    <tr>\n",
       "      <th>1</th>\n",
       "      <td>0.0</td>\n",
       "      <td>0.0</td>\n",
       "      <td>0.0</td>\n",
       "      <td>0.0</td>\n",
       "      <td>0.0</td>\n",
       "      <td>0.0</td>\n",
       "      <td>0.0</td>\n",
       "      <td>0.0</td>\n",
       "      <td>0.0</td>\n",
       "      <td>0.0</td>\n",
       "      <td>...</td>\n",
       "      <td>0.0</td>\n",
       "      <td>0.0</td>\n",
       "      <td>0.0</td>\n",
       "      <td>0.0</td>\n",
       "      <td>0.0</td>\n",
       "      <td>0.0</td>\n",
       "      <td>0.0</td>\n",
       "      <td>0.0</td>\n",
       "      <td>0.0</td>\n",
       "      <td>0.0</td>\n",
       "    </tr>\n",
       "    <tr>\n",
       "      <th>2</th>\n",
       "      <td>0.0</td>\n",
       "      <td>0.0</td>\n",
       "      <td>0.0</td>\n",
       "      <td>0.0</td>\n",
       "      <td>0.0</td>\n",
       "      <td>0.0</td>\n",
       "      <td>0.0</td>\n",
       "      <td>0.0</td>\n",
       "      <td>0.0</td>\n",
       "      <td>0.0</td>\n",
       "      <td>...</td>\n",
       "      <td>0.0</td>\n",
       "      <td>0.0</td>\n",
       "      <td>0.0</td>\n",
       "      <td>0.0</td>\n",
       "      <td>0.0</td>\n",
       "      <td>0.0</td>\n",
       "      <td>0.0</td>\n",
       "      <td>0.0</td>\n",
       "      <td>0.0</td>\n",
       "      <td>0.0</td>\n",
       "    </tr>\n",
       "    <tr>\n",
       "      <th>3</th>\n",
       "      <td>1.0</td>\n",
       "      <td>1.0</td>\n",
       "      <td>1.0</td>\n",
       "      <td>1.0</td>\n",
       "      <td>1.0</td>\n",
       "      <td>1.0</td>\n",
       "      <td>2.0</td>\n",
       "      <td>1.0</td>\n",
       "      <td>1.0</td>\n",
       "      <td>1.0</td>\n",
       "      <td>...</td>\n",
       "      <td>1.0</td>\n",
       "      <td>2.0</td>\n",
       "      <td>1.0</td>\n",
       "      <td>1.0</td>\n",
       "      <td>1.0</td>\n",
       "      <td>1.0</td>\n",
       "      <td>1.0</td>\n",
       "      <td>1.0</td>\n",
       "      <td>1.0</td>\n",
       "      <td>1.0</td>\n",
       "    </tr>\n",
       "    <tr>\n",
       "      <th>4</th>\n",
       "      <td>0.0</td>\n",
       "      <td>0.0</td>\n",
       "      <td>0.0</td>\n",
       "      <td>0.0</td>\n",
       "      <td>0.0</td>\n",
       "      <td>0.0</td>\n",
       "      <td>0.0</td>\n",
       "      <td>0.0</td>\n",
       "      <td>2.0</td>\n",
       "      <td>0.0</td>\n",
       "      <td>...</td>\n",
       "      <td>0.0</td>\n",
       "      <td>0.0</td>\n",
       "      <td>0.0</td>\n",
       "      <td>0.0</td>\n",
       "      <td>0.0</td>\n",
       "      <td>0.0</td>\n",
       "      <td>0.0</td>\n",
       "      <td>0.0</td>\n",
       "      <td>0.0</td>\n",
       "      <td>0.0</td>\n",
       "    </tr>\n",
       "  </tbody>\n",
       "</table>\n",
       "<p>5 rows × 200 columns</p>\n",
       "</div>"
      ],
      "text/plain": [
       "   0    1    2    3    4    5    6    7    8    9    ...  190  191  192  193  \\\n",
       "0  0.0  0.0  1.0  0.0  0.0  0.0  0.0  0.0  0.0  0.0  ...  0.0  0.0  0.0  0.0   \n",
       "1  0.0  0.0  0.0  0.0  0.0  0.0  0.0  0.0  0.0  0.0  ...  0.0  0.0  0.0  0.0   \n",
       "2  0.0  0.0  0.0  0.0  0.0  0.0  0.0  0.0  0.0  0.0  ...  0.0  0.0  0.0  0.0   \n",
       "3  1.0  1.0  1.0  1.0  1.0  1.0  2.0  1.0  1.0  1.0  ...  1.0  2.0  1.0  1.0   \n",
       "4  0.0  0.0  0.0  0.0  0.0  0.0  0.0  0.0  2.0  0.0  ...  0.0  0.0  0.0  0.0   \n",
       "\n",
       "   194  195  196  197  198  199  \n",
       "0  0.0  0.0  0.0  0.0  0.0  0.0  \n",
       "1  0.0  0.0  0.0  0.0  0.0  0.0  \n",
       "2  0.0  0.0  0.0  0.0  0.0  0.0  \n",
       "3  1.0  1.0  1.0  1.0  1.0  1.0  \n",
       "4  0.0  0.0  0.0  0.0  0.0  0.0  \n",
       "\n",
       "[5 rows x 200 columns]"
      ]
     },
     "execution_count": 86,
     "metadata": {},
     "output_type": "execute_result"
    }
   ],
   "source": [
    "test.head()"
   ]
  },
  {
   "cell_type": "code",
   "execution_count": 87,
   "metadata": {},
   "outputs": [
    {
     "data": {
      "text/plain": [
       "(200, 5500)"
      ]
     },
     "execution_count": 87,
     "metadata": {},
     "output_type": "execute_result"
    }
   ],
   "source": [
    "T_test = test.T\n",
    "T_test.shape"
   ]
  },
  {
   "cell_type": "code",
   "execution_count": 88,
   "metadata": {},
   "outputs": [
    {
     "data": {
      "text/plain": [
       "(5500, 800)"
      ]
     },
     "execution_count": 88,
     "metadata": {},
     "output_type": "execute_result"
    }
   ],
   "source": [
    "train.shape"
   ]
  },
  {
   "cell_type": "code",
   "execution_count": 89,
   "metadata": {},
   "outputs": [],
   "source": [
    "NDocs = train.shape[1]"
   ]
  },
  {
   "cell_type": "code",
   "execution_count": 90,
   "metadata": {},
   "outputs": [],
   "source": [
    "Nterms = train.shape[0]"
   ]
  },
  {
   "cell_type": "code",
   "execution_count": 91,
   "metadata": {},
   "outputs": [
    {
     "data": {
      "text/plain": [
       "(5500, 200)"
      ]
     },
     "execution_count": 91,
     "metadata": {},
     "output_type": "execute_result"
    }
   ],
   "source": [
    "test.shape"
   ]
  },
  {
   "cell_type": "code",
   "execution_count": 92,
   "metadata": {},
   "outputs": [
    {
     "data": {
      "text/html": [
       "<div>\n",
       "<style scoped>\n",
       "    .dataframe tbody tr th:only-of-type {\n",
       "        vertical-align: middle;\n",
       "    }\n",
       "\n",
       "    .dataframe tbody tr th {\n",
       "        vertical-align: top;\n",
       "    }\n",
       "\n",
       "    .dataframe thead th {\n",
       "        text-align: right;\n",
       "    }\n",
       "</style>\n",
       "<table border=\"1\" class=\"dataframe\">\n",
       "  <thead>\n",
       "    <tr style=\"text-align: right;\">\n",
       "      <th></th>\n",
       "      <th>0</th>\n",
       "    </tr>\n",
       "  </thead>\n",
       "  <tbody>\n",
       "    <tr>\n",
       "      <th>0</th>\n",
       "      <td>50</td>\n",
       "    </tr>\n",
       "    <tr>\n",
       "      <th>1</th>\n",
       "      <td>7</td>\n",
       "    </tr>\n",
       "    <tr>\n",
       "      <th>2</th>\n",
       "      <td>10</td>\n",
       "    </tr>\n",
       "    <tr>\n",
       "      <th>3</th>\n",
       "      <td>800</td>\n",
       "    </tr>\n",
       "    <tr>\n",
       "      <th>4</th>\n",
       "      <td>108</td>\n",
       "    </tr>\n",
       "    <tr>\n",
       "      <th>...</th>\n",
       "      <td>...</td>\n",
       "    </tr>\n",
       "    <tr>\n",
       "      <th>5495</th>\n",
       "      <td>3</td>\n",
       "    </tr>\n",
       "    <tr>\n",
       "      <th>5496</th>\n",
       "      <td>3</td>\n",
       "    </tr>\n",
       "    <tr>\n",
       "      <th>5497</th>\n",
       "      <td>2</td>\n",
       "    </tr>\n",
       "    <tr>\n",
       "      <th>5498</th>\n",
       "      <td>2</td>\n",
       "    </tr>\n",
       "    <tr>\n",
       "      <th>5499</th>\n",
       "      <td>2</td>\n",
       "    </tr>\n",
       "  </tbody>\n",
       "</table>\n",
       "<p>5500 rows × 1 columns</p>\n",
       "</div>"
      ],
      "text/plain": [
       "        0\n",
       "0      50\n",
       "1       7\n",
       "2      10\n",
       "3     800\n",
       "4     108\n",
       "...   ...\n",
       "5495    3\n",
       "5496    3\n",
       "5497    2\n",
       "5498    2\n",
       "5499    2\n",
       "\n",
       "[5500 rows x 1 columns]"
      ]
     },
     "execution_count": 92,
     "metadata": {},
     "output_type": "execute_result"
    }
   ],
   "source": [
    "DF = pd.DataFrame([(train!=0).sum(1)]).T\n",
    "DF"
   ]
  },
  {
   "cell_type": "code",
   "execution_count": 93,
   "metadata": {},
   "outputs": [
    {
     "name": "stdout",
     "output_type": "stream",
     "text": [
      "[[800. 800. 800. ... 800. 800. 800.]\n",
      " [800. 800. 800. ... 800. 800. 800.]\n",
      " [800. 800. 800. ... 800. 800. 800.]\n",
      " ...\n",
      " [800. 800. 800. ... 800. 800. 800.]\n",
      " [800. 800. 800. ... 800. 800. 800.]\n",
      " [800. 800. 800. ... 800. 800. 800.]]\n"
     ]
    },
    {
     "data": {
      "text/plain": [
       "(5500, 800)"
      ]
     },
     "execution_count": 93,
     "metadata": {},
     "output_type": "execute_result"
    }
   ],
   "source": [
    "NMatrix = np.ones(np.shape(train), dtype=float)*NDocs\n",
    "np.set_printoptions(precision=2,suppress=True,linewidth=120)\n",
    "print(NMatrix)\n",
    "NMatrix.shape"
   ]
  },
  {
   "cell_type": "code",
   "execution_count": 94,
   "metadata": {},
   "outputs": [],
   "source": [
    "IDF = np.log2(np.divide(NMatrix, np.array(DF)))"
   ]
  },
  {
   "cell_type": "code",
   "execution_count": 95,
   "metadata": {},
   "outputs": [
    {
     "name": "stdout",
     "output_type": "stream",
     "text": [
      "[[4.   4.   4.   ... 4.   4.   4.  ]\n",
      " [6.84 6.84 6.84 ... 6.84 6.84 6.84]\n",
      " [6.32 6.32 6.32 ... 6.32 6.32 6.32]\n",
      " ...\n",
      " [8.64 8.64 8.64 ... 8.64 8.64 8.64]\n",
      " [8.64 8.64 8.64 ... 8.64 8.64 8.64]\n",
      " [8.64 8.64 8.64 ... 8.64 8.64 8.64]]\n"
     ]
    },
    {
     "data": {
      "text/plain": [
       "(5500, 800)"
      ]
     },
     "execution_count": 95,
     "metadata": {},
     "output_type": "execute_result"
    }
   ],
   "source": [
    "print(IDF)\n",
    "IDF.shape"
   ]
  },
  {
   "cell_type": "code",
   "execution_count": 96,
   "metadata": {},
   "outputs": [],
   "source": [
    "TD_tfidf = train * IDF"
   ]
  },
  {
   "cell_type": "code",
   "execution_count": 97,
   "metadata": {},
   "outputs": [
    {
     "data": {
      "text/html": [
       "<div>\n",
       "<style scoped>\n",
       "    .dataframe tbody tr th:only-of-type {\n",
       "        vertical-align: middle;\n",
       "    }\n",
       "\n",
       "    .dataframe tbody tr th {\n",
       "        vertical-align: top;\n",
       "    }\n",
       "\n",
       "    .dataframe thead th {\n",
       "        text-align: right;\n",
       "    }\n",
       "</style>\n",
       "<table border=\"1\" class=\"dataframe\">\n",
       "  <thead>\n",
       "    <tr style=\"text-align: right;\">\n",
       "      <th></th>\n",
       "      <th>0</th>\n",
       "      <th>1</th>\n",
       "      <th>2</th>\n",
       "      <th>3</th>\n",
       "      <th>4</th>\n",
       "      <th>5</th>\n",
       "      <th>6</th>\n",
       "      <th>7</th>\n",
       "      <th>8</th>\n",
       "      <th>9</th>\n",
       "      <th>...</th>\n",
       "      <th>790</th>\n",
       "      <th>791</th>\n",
       "      <th>792</th>\n",
       "      <th>793</th>\n",
       "      <th>794</th>\n",
       "      <th>795</th>\n",
       "      <th>796</th>\n",
       "      <th>797</th>\n",
       "      <th>798</th>\n",
       "      <th>799</th>\n",
       "    </tr>\n",
       "  </thead>\n",
       "  <tbody>\n",
       "    <tr>\n",
       "      <th>0</th>\n",
       "      <td>8.00</td>\n",
       "      <td>0.00</td>\n",
       "      <td>0.0</td>\n",
       "      <td>8.0</td>\n",
       "      <td>8.0</td>\n",
       "      <td>0.0</td>\n",
       "      <td>0.0</td>\n",
       "      <td>0.0</td>\n",
       "      <td>0.0</td>\n",
       "      <td>0.0</td>\n",
       "      <td>...</td>\n",
       "      <td>0.0</td>\n",
       "      <td>0.0</td>\n",
       "      <td>0.00</td>\n",
       "      <td>0.0</td>\n",
       "      <td>0.0</td>\n",
       "      <td>0.0</td>\n",
       "      <td>0.0</td>\n",
       "      <td>0.0</td>\n",
       "      <td>0.0</td>\n",
       "      <td>0.00</td>\n",
       "    </tr>\n",
       "    <tr>\n",
       "      <th>1</th>\n",
       "      <td>13.67</td>\n",
       "      <td>0.00</td>\n",
       "      <td>0.0</td>\n",
       "      <td>0.0</td>\n",
       "      <td>0.0</td>\n",
       "      <td>0.0</td>\n",
       "      <td>0.0</td>\n",
       "      <td>0.0</td>\n",
       "      <td>0.0</td>\n",
       "      <td>0.0</td>\n",
       "      <td>...</td>\n",
       "      <td>0.0</td>\n",
       "      <td>0.0</td>\n",
       "      <td>20.51</td>\n",
       "      <td>0.0</td>\n",
       "      <td>0.0</td>\n",
       "      <td>0.0</td>\n",
       "      <td>0.0</td>\n",
       "      <td>0.0</td>\n",
       "      <td>0.0</td>\n",
       "      <td>0.00</td>\n",
       "    </tr>\n",
       "    <tr>\n",
       "      <th>2</th>\n",
       "      <td>12.64</td>\n",
       "      <td>0.00</td>\n",
       "      <td>0.0</td>\n",
       "      <td>0.0</td>\n",
       "      <td>0.0</td>\n",
       "      <td>0.0</td>\n",
       "      <td>0.0</td>\n",
       "      <td>0.0</td>\n",
       "      <td>0.0</td>\n",
       "      <td>0.0</td>\n",
       "      <td>...</td>\n",
       "      <td>0.0</td>\n",
       "      <td>0.0</td>\n",
       "      <td>0.00</td>\n",
       "      <td>0.0</td>\n",
       "      <td>0.0</td>\n",
       "      <td>0.0</td>\n",
       "      <td>0.0</td>\n",
       "      <td>0.0</td>\n",
       "      <td>0.0</td>\n",
       "      <td>0.00</td>\n",
       "    </tr>\n",
       "    <tr>\n",
       "      <th>3</th>\n",
       "      <td>0.00</td>\n",
       "      <td>0.00</td>\n",
       "      <td>0.0</td>\n",
       "      <td>0.0</td>\n",
       "      <td>0.0</td>\n",
       "      <td>0.0</td>\n",
       "      <td>0.0</td>\n",
       "      <td>0.0</td>\n",
       "      <td>0.0</td>\n",
       "      <td>0.0</td>\n",
       "      <td>...</td>\n",
       "      <td>0.0</td>\n",
       "      <td>0.0</td>\n",
       "      <td>0.00</td>\n",
       "      <td>0.0</td>\n",
       "      <td>0.0</td>\n",
       "      <td>0.0</td>\n",
       "      <td>0.0</td>\n",
       "      <td>0.0</td>\n",
       "      <td>0.0</td>\n",
       "      <td>0.00</td>\n",
       "    </tr>\n",
       "    <tr>\n",
       "      <th>4</th>\n",
       "      <td>23.11</td>\n",
       "      <td>2.89</td>\n",
       "      <td>0.0</td>\n",
       "      <td>0.0</td>\n",
       "      <td>0.0</td>\n",
       "      <td>0.0</td>\n",
       "      <td>0.0</td>\n",
       "      <td>0.0</td>\n",
       "      <td>0.0</td>\n",
       "      <td>0.0</td>\n",
       "      <td>...</td>\n",
       "      <td>0.0</td>\n",
       "      <td>0.0</td>\n",
       "      <td>5.78</td>\n",
       "      <td>0.0</td>\n",
       "      <td>0.0</td>\n",
       "      <td>0.0</td>\n",
       "      <td>0.0</td>\n",
       "      <td>0.0</td>\n",
       "      <td>0.0</td>\n",
       "      <td>2.89</td>\n",
       "    </tr>\n",
       "    <tr>\n",
       "      <th>...</th>\n",
       "      <td>...</td>\n",
       "      <td>...</td>\n",
       "      <td>...</td>\n",
       "      <td>...</td>\n",
       "      <td>...</td>\n",
       "      <td>...</td>\n",
       "      <td>...</td>\n",
       "      <td>...</td>\n",
       "      <td>...</td>\n",
       "      <td>...</td>\n",
       "      <td>...</td>\n",
       "      <td>...</td>\n",
       "      <td>...</td>\n",
       "      <td>...</td>\n",
       "      <td>...</td>\n",
       "      <td>...</td>\n",
       "      <td>...</td>\n",
       "      <td>...</td>\n",
       "      <td>...</td>\n",
       "      <td>...</td>\n",
       "      <td>...</td>\n",
       "    </tr>\n",
       "    <tr>\n",
       "      <th>5495</th>\n",
       "      <td>0.00</td>\n",
       "      <td>0.00</td>\n",
       "      <td>0.0</td>\n",
       "      <td>0.0</td>\n",
       "      <td>0.0</td>\n",
       "      <td>0.0</td>\n",
       "      <td>0.0</td>\n",
       "      <td>0.0</td>\n",
       "      <td>0.0</td>\n",
       "      <td>0.0</td>\n",
       "      <td>...</td>\n",
       "      <td>0.0</td>\n",
       "      <td>0.0</td>\n",
       "      <td>0.00</td>\n",
       "      <td>0.0</td>\n",
       "      <td>0.0</td>\n",
       "      <td>0.0</td>\n",
       "      <td>0.0</td>\n",
       "      <td>0.0</td>\n",
       "      <td>0.0</td>\n",
       "      <td>0.00</td>\n",
       "    </tr>\n",
       "    <tr>\n",
       "      <th>5496</th>\n",
       "      <td>0.00</td>\n",
       "      <td>0.00</td>\n",
       "      <td>0.0</td>\n",
       "      <td>0.0</td>\n",
       "      <td>0.0</td>\n",
       "      <td>0.0</td>\n",
       "      <td>0.0</td>\n",
       "      <td>0.0</td>\n",
       "      <td>0.0</td>\n",
       "      <td>0.0</td>\n",
       "      <td>...</td>\n",
       "      <td>0.0</td>\n",
       "      <td>0.0</td>\n",
       "      <td>0.00</td>\n",
       "      <td>0.0</td>\n",
       "      <td>0.0</td>\n",
       "      <td>0.0</td>\n",
       "      <td>0.0</td>\n",
       "      <td>0.0</td>\n",
       "      <td>0.0</td>\n",
       "      <td>0.00</td>\n",
       "    </tr>\n",
       "    <tr>\n",
       "      <th>5497</th>\n",
       "      <td>0.00</td>\n",
       "      <td>0.00</td>\n",
       "      <td>0.0</td>\n",
       "      <td>0.0</td>\n",
       "      <td>0.0</td>\n",
       "      <td>0.0</td>\n",
       "      <td>0.0</td>\n",
       "      <td>0.0</td>\n",
       "      <td>0.0</td>\n",
       "      <td>0.0</td>\n",
       "      <td>...</td>\n",
       "      <td>0.0</td>\n",
       "      <td>0.0</td>\n",
       "      <td>0.00</td>\n",
       "      <td>0.0</td>\n",
       "      <td>0.0</td>\n",
       "      <td>0.0</td>\n",
       "      <td>0.0</td>\n",
       "      <td>0.0</td>\n",
       "      <td>0.0</td>\n",
       "      <td>0.00</td>\n",
       "    </tr>\n",
       "    <tr>\n",
       "      <th>5498</th>\n",
       "      <td>0.00</td>\n",
       "      <td>0.00</td>\n",
       "      <td>0.0</td>\n",
       "      <td>0.0</td>\n",
       "      <td>0.0</td>\n",
       "      <td>0.0</td>\n",
       "      <td>0.0</td>\n",
       "      <td>0.0</td>\n",
       "      <td>0.0</td>\n",
       "      <td>0.0</td>\n",
       "      <td>...</td>\n",
       "      <td>0.0</td>\n",
       "      <td>0.0</td>\n",
       "      <td>0.00</td>\n",
       "      <td>0.0</td>\n",
       "      <td>0.0</td>\n",
       "      <td>0.0</td>\n",
       "      <td>0.0</td>\n",
       "      <td>0.0</td>\n",
       "      <td>0.0</td>\n",
       "      <td>0.00</td>\n",
       "    </tr>\n",
       "    <tr>\n",
       "      <th>5499</th>\n",
       "      <td>0.00</td>\n",
       "      <td>0.00</td>\n",
       "      <td>0.0</td>\n",
       "      <td>0.0</td>\n",
       "      <td>0.0</td>\n",
       "      <td>0.0</td>\n",
       "      <td>0.0</td>\n",
       "      <td>0.0</td>\n",
       "      <td>0.0</td>\n",
       "      <td>0.0</td>\n",
       "      <td>...</td>\n",
       "      <td>0.0</td>\n",
       "      <td>0.0</td>\n",
       "      <td>0.00</td>\n",
       "      <td>0.0</td>\n",
       "      <td>0.0</td>\n",
       "      <td>0.0</td>\n",
       "      <td>0.0</td>\n",
       "      <td>0.0</td>\n",
       "      <td>0.0</td>\n",
       "      <td>0.00</td>\n",
       "    </tr>\n",
       "  </tbody>\n",
       "</table>\n",
       "<p>5500 rows × 800 columns</p>\n",
       "</div>"
      ],
      "text/plain": [
       "        0     1    2    3    4    5    6    7    8    9    ...  790  791  \\\n",
       "0      8.00  0.00  0.0  8.0  8.0  0.0  0.0  0.0  0.0  0.0  ...  0.0  0.0   \n",
       "1     13.67  0.00  0.0  0.0  0.0  0.0  0.0  0.0  0.0  0.0  ...  0.0  0.0   \n",
       "2     12.64  0.00  0.0  0.0  0.0  0.0  0.0  0.0  0.0  0.0  ...  0.0  0.0   \n",
       "3      0.00  0.00  0.0  0.0  0.0  0.0  0.0  0.0  0.0  0.0  ...  0.0  0.0   \n",
       "4     23.11  2.89  0.0  0.0  0.0  0.0  0.0  0.0  0.0  0.0  ...  0.0  0.0   \n",
       "...     ...   ...  ...  ...  ...  ...  ...  ...  ...  ...  ...  ...  ...   \n",
       "5495   0.00  0.00  0.0  0.0  0.0  0.0  0.0  0.0  0.0  0.0  ...  0.0  0.0   \n",
       "5496   0.00  0.00  0.0  0.0  0.0  0.0  0.0  0.0  0.0  0.0  ...  0.0  0.0   \n",
       "5497   0.00  0.00  0.0  0.0  0.0  0.0  0.0  0.0  0.0  0.0  ...  0.0  0.0   \n",
       "5498   0.00  0.00  0.0  0.0  0.0  0.0  0.0  0.0  0.0  0.0  ...  0.0  0.0   \n",
       "5499   0.00  0.00  0.0  0.0  0.0  0.0  0.0  0.0  0.0  0.0  ...  0.0  0.0   \n",
       "\n",
       "        792  793  794  795  796  797  798   799  \n",
       "0      0.00  0.0  0.0  0.0  0.0  0.0  0.0  0.00  \n",
       "1     20.51  0.0  0.0  0.0  0.0  0.0  0.0  0.00  \n",
       "2      0.00  0.0  0.0  0.0  0.0  0.0  0.0  0.00  \n",
       "3      0.00  0.0  0.0  0.0  0.0  0.0  0.0  0.00  \n",
       "4      5.78  0.0  0.0  0.0  0.0  0.0  0.0  2.89  \n",
       "...     ...  ...  ...  ...  ...  ...  ...   ...  \n",
       "5495   0.00  0.0  0.0  0.0  0.0  0.0  0.0  0.00  \n",
       "5496   0.00  0.0  0.0  0.0  0.0  0.0  0.0  0.00  \n",
       "5497   0.00  0.0  0.0  0.0  0.0  0.0  0.0  0.00  \n",
       "5498   0.00  0.0  0.0  0.0  0.0  0.0  0.0  0.00  \n",
       "5499   0.00  0.0  0.0  0.0  0.0  0.0  0.0  0.00  \n",
       "\n",
       "[5500 rows x 800 columns]"
      ]
     },
     "execution_count": 97,
     "metadata": {},
     "output_type": "execute_result"
    }
   ],
   "source": [
    "pd.set_option(\"display.precision\", 2)\n",
    "\n",
    "TD_tfidf"
   ]
  },
  {
   "cell_type": "code",
   "execution_count": 98,
   "metadata": {},
   "outputs": [
    {
     "data": {
      "text/plain": [
       "0       0.0\n",
       "1       0.0\n",
       "2       0.0\n",
       "3       1.0\n",
       "4       0.0\n",
       "       ... \n",
       "5495    0.0\n",
       "5496    0.0\n",
       "5497    0.0\n",
       "5498    0.0\n",
       "5499    0.0\n",
       "Name: 0, Length: 5500, dtype: float64"
      ]
     },
     "execution_count": 98,
     "metadata": {},
     "output_type": "execute_result"
    }
   ],
   "source": [
    "x = test[0]\n",
    "x"
   ]
  },
  {
   "cell_type": "code",
   "execution_count": 99,
   "metadata": {},
   "outputs": [
    {
     "name": "stdout",
     "output_type": "stream",
     "text": [
      "[0. 0. 0. ... 0. 0. 0.]\n"
     ]
    }
   ],
   "source": [
    "x_tfidf = x * IDF.T[0] \n",
    "x_tfidf = np.array(x_tfidf)\n",
    "print(x_tfidf)"
   ]
  },
  {
   "cell_type": "code",
   "execution_count": 100,
   "metadata": {},
   "outputs": [
    {
     "data": {
      "text/plain": [
       "(800, 5500)"
      ]
     },
     "execution_count": 100,
     "metadata": {},
     "output_type": "execute_result"
    }
   ],
   "source": [
    "DT_tfidf = TD_tfidf.T\n",
    "DT_array = np.array(DT_tfidf)\n",
    "DT_array.shape"
   ]
  },
  {
   "cell_type": "code",
   "execution_count": 101,
   "metadata": {},
   "outputs": [],
   "source": [
    "neigh_idx, distances = knn_search(x_tfidf, DT_array, 5, 1)"
   ]
  },
  {
   "cell_type": "code",
   "execution_count": 102,
   "metadata": {},
   "outputs": [
    {
     "data": {
      "text/plain": [
       "685    0.49\n",
       "628    0.62\n",
       "152    0.82\n",
       "194    0.82\n",
       "731    0.83\n",
       "       ... \n",
       "83     1.00\n",
       "70     1.00\n",
       "545    1.00\n",
       "739    1.00\n",
       "757    1.00\n",
       "Length: 800, dtype: float64"
      ]
     },
     "execution_count": 102,
     "metadata": {},
     "output_type": "execute_result"
    }
   ],
   "source": [
    "distances = pd.Series(distances, index=DT_tfidf.index)\n",
    "distances.sort_values()"
   ]
  },
  {
   "cell_type": "code",
   "execution_count": 103,
   "metadata": {},
   "outputs": [
    {
     "name": "stdout",
     "output_type": "stream",
     "text": [
      "Query: 0       0.0\n",
      "1       0.0\n",
      "2       0.0\n",
      "3       1.0\n",
      "4       0.0\n",
      "       ... \n",
      "5495    0.0\n",
      "5496    0.0\n",
      "5497    0.0\n",
      "5498    0.0\n",
      "5499    0.0\n",
      "Name: 0, Length: 5500, dtype: float64\n",
      "\n",
      "Neighbors:\n"
     ]
    },
    {
     "data": {
      "text/html": [
       "<div>\n",
       "<style scoped>\n",
       "    .dataframe tbody tr th:only-of-type {\n",
       "        vertical-align: middle;\n",
       "    }\n",
       "\n",
       "    .dataframe tbody tr th {\n",
       "        vertical-align: top;\n",
       "    }\n",
       "\n",
       "    .dataframe thead th {\n",
       "        text-align: right;\n",
       "    }\n",
       "</style>\n",
       "<table border=\"1\" class=\"dataframe\">\n",
       "  <thead>\n",
       "    <tr style=\"text-align: right;\">\n",
       "      <th></th>\n",
       "      <th>0</th>\n",
       "      <th>1</th>\n",
       "      <th>2</th>\n",
       "      <th>3</th>\n",
       "      <th>4</th>\n",
       "      <th>5</th>\n",
       "      <th>6</th>\n",
       "      <th>7</th>\n",
       "      <th>8</th>\n",
       "      <th>9</th>\n",
       "      <th>...</th>\n",
       "      <th>5490</th>\n",
       "      <th>5491</th>\n",
       "      <th>5492</th>\n",
       "      <th>5493</th>\n",
       "      <th>5494</th>\n",
       "      <th>5495</th>\n",
       "      <th>5496</th>\n",
       "      <th>5497</th>\n",
       "      <th>5498</th>\n",
       "      <th>5499</th>\n",
       "    </tr>\n",
       "  </thead>\n",
       "  <tbody>\n",
       "    <tr>\n",
       "      <th>685</th>\n",
       "      <td>0.0</td>\n",
       "      <td>0.0</td>\n",
       "      <td>0.0</td>\n",
       "      <td>0.0</td>\n",
       "      <td>0.00</td>\n",
       "      <td>0.0</td>\n",
       "      <td>0.0</td>\n",
       "      <td>0.0</td>\n",
       "      <td>0.0</td>\n",
       "      <td>0.00</td>\n",
       "      <td>...</td>\n",
       "      <td>0.0</td>\n",
       "      <td>0.0</td>\n",
       "      <td>0.0</td>\n",
       "      <td>0.0</td>\n",
       "      <td>0.0</td>\n",
       "      <td>0.0</td>\n",
       "      <td>0.0</td>\n",
       "      <td>0.0</td>\n",
       "      <td>0.0</td>\n",
       "      <td>0.0</td>\n",
       "    </tr>\n",
       "    <tr>\n",
       "      <th>628</th>\n",
       "      <td>0.0</td>\n",
       "      <td>0.0</td>\n",
       "      <td>0.0</td>\n",
       "      <td>0.0</td>\n",
       "      <td>0.00</td>\n",
       "      <td>0.0</td>\n",
       "      <td>0.0</td>\n",
       "      <td>0.0</td>\n",
       "      <td>0.0</td>\n",
       "      <td>0.00</td>\n",
       "      <td>...</td>\n",
       "      <td>0.0</td>\n",
       "      <td>0.0</td>\n",
       "      <td>0.0</td>\n",
       "      <td>0.0</td>\n",
       "      <td>0.0</td>\n",
       "      <td>0.0</td>\n",
       "      <td>0.0</td>\n",
       "      <td>0.0</td>\n",
       "      <td>0.0</td>\n",
       "      <td>0.0</td>\n",
       "    </tr>\n",
       "    <tr>\n",
       "      <th>152</th>\n",
       "      <td>0.0</td>\n",
       "      <td>0.0</td>\n",
       "      <td>0.0</td>\n",
       "      <td>0.0</td>\n",
       "      <td>0.00</td>\n",
       "      <td>0.0</td>\n",
       "      <td>0.0</td>\n",
       "      <td>0.0</td>\n",
       "      <td>0.0</td>\n",
       "      <td>2.01</td>\n",
       "      <td>...</td>\n",
       "      <td>0.0</td>\n",
       "      <td>0.0</td>\n",
       "      <td>0.0</td>\n",
       "      <td>0.0</td>\n",
       "      <td>0.0</td>\n",
       "      <td>0.0</td>\n",
       "      <td>0.0</td>\n",
       "      <td>0.0</td>\n",
       "      <td>0.0</td>\n",
       "      <td>0.0</td>\n",
       "    </tr>\n",
       "    <tr>\n",
       "      <th>194</th>\n",
       "      <td>0.0</td>\n",
       "      <td>0.0</td>\n",
       "      <td>0.0</td>\n",
       "      <td>0.0</td>\n",
       "      <td>2.89</td>\n",
       "      <td>0.0</td>\n",
       "      <td>0.0</td>\n",
       "      <td>0.0</td>\n",
       "      <td>0.0</td>\n",
       "      <td>0.00</td>\n",
       "      <td>...</td>\n",
       "      <td>0.0</td>\n",
       "      <td>0.0</td>\n",
       "      <td>0.0</td>\n",
       "      <td>0.0</td>\n",
       "      <td>0.0</td>\n",
       "      <td>0.0</td>\n",
       "      <td>0.0</td>\n",
       "      <td>0.0</td>\n",
       "      <td>0.0</td>\n",
       "      <td>0.0</td>\n",
       "    </tr>\n",
       "    <tr>\n",
       "      <th>731</th>\n",
       "      <td>0.0</td>\n",
       "      <td>0.0</td>\n",
       "      <td>0.0</td>\n",
       "      <td>0.0</td>\n",
       "      <td>0.00</td>\n",
       "      <td>0.0</td>\n",
       "      <td>0.0</td>\n",
       "      <td>0.0</td>\n",
       "      <td>0.0</td>\n",
       "      <td>0.00</td>\n",
       "      <td>...</td>\n",
       "      <td>0.0</td>\n",
       "      <td>0.0</td>\n",
       "      <td>0.0</td>\n",
       "      <td>0.0</td>\n",
       "      <td>0.0</td>\n",
       "      <td>0.0</td>\n",
       "      <td>0.0</td>\n",
       "      <td>0.0</td>\n",
       "      <td>0.0</td>\n",
       "      <td>0.0</td>\n",
       "    </tr>\n",
       "  </tbody>\n",
       "</table>\n",
       "<p>5 rows × 5500 columns</p>\n",
       "</div>"
      ],
      "text/plain": [
       "     0     1     2     3     4     5     6     7     8     9     ...  5490  \\\n",
       "685   0.0   0.0   0.0   0.0  0.00   0.0   0.0   0.0   0.0  0.00  ...   0.0   \n",
       "628   0.0   0.0   0.0   0.0  0.00   0.0   0.0   0.0   0.0  0.00  ...   0.0   \n",
       "152   0.0   0.0   0.0   0.0  0.00   0.0   0.0   0.0   0.0  2.01  ...   0.0   \n",
       "194   0.0   0.0   0.0   0.0  2.89   0.0   0.0   0.0   0.0  0.00  ...   0.0   \n",
       "731   0.0   0.0   0.0   0.0  0.00   0.0   0.0   0.0   0.0  0.00  ...   0.0   \n",
       "\n",
       "     5491  5492  5493  5494  5495  5496  5497  5498  5499  \n",
       "685   0.0   0.0   0.0   0.0   0.0   0.0   0.0   0.0   0.0  \n",
       "628   0.0   0.0   0.0   0.0   0.0   0.0   0.0   0.0   0.0  \n",
       "152   0.0   0.0   0.0   0.0   0.0   0.0   0.0   0.0   0.0  \n",
       "194   0.0   0.0   0.0   0.0   0.0   0.0   0.0   0.0   0.0  \n",
       "731   0.0   0.0   0.0   0.0   0.0   0.0   0.0   0.0   0.0  \n",
       "\n",
       "[5 rows x 5500 columns]"
      ]
     },
     "execution_count": 103,
     "metadata": {},
     "output_type": "execute_result"
    }
   ],
   "source": [
    "print(\"Query:\", x)\n",
    "print(\"\\nNeighbors:\")\n",
    "DT_tfidf.iloc[neigh_idx]"
   ]
  },
  {
   "cell_type": "code",
   "execution_count": 104,
   "metadata": {
    "scrolled": true
   },
   "outputs": [
    {
     "data": {
      "text/html": [
       "<div>\n",
       "<style scoped>\n",
       "    .dataframe tbody tr th:only-of-type {\n",
       "        vertical-align: middle;\n",
       "    }\n",
       "\n",
       "    .dataframe tbody tr th {\n",
       "        vertical-align: top;\n",
       "    }\n",
       "\n",
       "    .dataframe thead th {\n",
       "        text-align: right;\n",
       "    }\n",
       "</style>\n",
       "<table border=\"1\" class=\"dataframe\">\n",
       "  <thead>\n",
       "    <tr style=\"text-align: right;\">\n",
       "      <th></th>\n",
       "      <th>0</th>\n",
       "      <th>1</th>\n",
       "      <th>2</th>\n",
       "      <th>3</th>\n",
       "      <th>4</th>\n",
       "      <th>5</th>\n",
       "      <th>6</th>\n",
       "      <th>7</th>\n",
       "      <th>8</th>\n",
       "      <th>9</th>\n",
       "      <th>...</th>\n",
       "      <th>5491</th>\n",
       "      <th>5492</th>\n",
       "      <th>5493</th>\n",
       "      <th>5494</th>\n",
       "      <th>5495</th>\n",
       "      <th>5496</th>\n",
       "      <th>5497</th>\n",
       "      <th>5498</th>\n",
       "      <th>5499</th>\n",
       "      <th>Category</th>\n",
       "    </tr>\n",
       "  </thead>\n",
       "  <tbody>\n",
       "    <tr>\n",
       "      <th>0</th>\n",
       "      <td>8.0</td>\n",
       "      <td>13.67</td>\n",
       "      <td>12.64</td>\n",
       "      <td>0.0</td>\n",
       "      <td>23.11</td>\n",
       "      <td>27.86</td>\n",
       "      <td>7.89</td>\n",
       "      <td>32.71</td>\n",
       "      <td>9.78</td>\n",
       "      <td>8.03</td>\n",
       "      <td>...</td>\n",
       "      <td>0.0</td>\n",
       "      <td>0.0</td>\n",
       "      <td>0.0</td>\n",
       "      <td>0.0</td>\n",
       "      <td>0.0</td>\n",
       "      <td>0.0</td>\n",
       "      <td>0.0</td>\n",
       "      <td>0.0</td>\n",
       "      <td>0.0</td>\n",
       "      <td>0</td>\n",
       "    </tr>\n",
       "    <tr>\n",
       "      <th>1</th>\n",
       "      <td>0.0</td>\n",
       "      <td>0.00</td>\n",
       "      <td>0.00</td>\n",
       "      <td>0.0</td>\n",
       "      <td>2.89</td>\n",
       "      <td>0.00</td>\n",
       "      <td>0.00</td>\n",
       "      <td>0.00</td>\n",
       "      <td>0.00</td>\n",
       "      <td>0.00</td>\n",
       "      <td>...</td>\n",
       "      <td>0.0</td>\n",
       "      <td>0.0</td>\n",
       "      <td>0.0</td>\n",
       "      <td>0.0</td>\n",
       "      <td>0.0</td>\n",
       "      <td>0.0</td>\n",
       "      <td>0.0</td>\n",
       "      <td>0.0</td>\n",
       "      <td>0.0</td>\n",
       "      <td>1</td>\n",
       "    </tr>\n",
       "    <tr>\n",
       "      <th>2</th>\n",
       "      <td>0.0</td>\n",
       "      <td>0.00</td>\n",
       "      <td>0.00</td>\n",
       "      <td>0.0</td>\n",
       "      <td>0.00</td>\n",
       "      <td>0.00</td>\n",
       "      <td>0.00</td>\n",
       "      <td>8.18</td>\n",
       "      <td>0.00</td>\n",
       "      <td>2.01</td>\n",
       "      <td>...</td>\n",
       "      <td>0.0</td>\n",
       "      <td>0.0</td>\n",
       "      <td>0.0</td>\n",
       "      <td>0.0</td>\n",
       "      <td>0.0</td>\n",
       "      <td>0.0</td>\n",
       "      <td>0.0</td>\n",
       "      <td>0.0</td>\n",
       "      <td>0.0</td>\n",
       "      <td>0</td>\n",
       "    </tr>\n",
       "    <tr>\n",
       "      <th>3</th>\n",
       "      <td>8.0</td>\n",
       "      <td>0.00</td>\n",
       "      <td>0.00</td>\n",
       "      <td>0.0</td>\n",
       "      <td>0.00</td>\n",
       "      <td>0.00</td>\n",
       "      <td>0.00</td>\n",
       "      <td>0.00</td>\n",
       "      <td>0.00</td>\n",
       "      <td>0.00</td>\n",
       "      <td>...</td>\n",
       "      <td>0.0</td>\n",
       "      <td>0.0</td>\n",
       "      <td>0.0</td>\n",
       "      <td>0.0</td>\n",
       "      <td>0.0</td>\n",
       "      <td>0.0</td>\n",
       "      <td>0.0</td>\n",
       "      <td>0.0</td>\n",
       "      <td>0.0</td>\n",
       "      <td>1</td>\n",
       "    </tr>\n",
       "    <tr>\n",
       "      <th>4</th>\n",
       "      <td>8.0</td>\n",
       "      <td>0.00</td>\n",
       "      <td>0.00</td>\n",
       "      <td>0.0</td>\n",
       "      <td>0.00</td>\n",
       "      <td>0.00</td>\n",
       "      <td>0.00</td>\n",
       "      <td>0.00</td>\n",
       "      <td>0.00</td>\n",
       "      <td>0.00</td>\n",
       "      <td>...</td>\n",
       "      <td>0.0</td>\n",
       "      <td>0.0</td>\n",
       "      <td>0.0</td>\n",
       "      <td>0.0</td>\n",
       "      <td>0.0</td>\n",
       "      <td>0.0</td>\n",
       "      <td>0.0</td>\n",
       "      <td>0.0</td>\n",
       "      <td>0.0</td>\n",
       "      <td>0</td>\n",
       "    </tr>\n",
       "    <tr>\n",
       "      <th>...</th>\n",
       "      <td>...</td>\n",
       "      <td>...</td>\n",
       "      <td>...</td>\n",
       "      <td>...</td>\n",
       "      <td>...</td>\n",
       "      <td>...</td>\n",
       "      <td>...</td>\n",
       "      <td>...</td>\n",
       "      <td>...</td>\n",
       "      <td>...</td>\n",
       "      <td>...</td>\n",
       "      <td>...</td>\n",
       "      <td>...</td>\n",
       "      <td>...</td>\n",
       "      <td>...</td>\n",
       "      <td>...</td>\n",
       "      <td>...</td>\n",
       "      <td>...</td>\n",
       "      <td>...</td>\n",
       "      <td>...</td>\n",
       "      <td>...</td>\n",
       "    </tr>\n",
       "    <tr>\n",
       "      <th>795</th>\n",
       "      <td>0.0</td>\n",
       "      <td>0.00</td>\n",
       "      <td>0.00</td>\n",
       "      <td>0.0</td>\n",
       "      <td>0.00</td>\n",
       "      <td>0.00</td>\n",
       "      <td>0.00</td>\n",
       "      <td>0.00</td>\n",
       "      <td>0.00</td>\n",
       "      <td>0.00</td>\n",
       "      <td>...</td>\n",
       "      <td>0.0</td>\n",
       "      <td>0.0</td>\n",
       "      <td>0.0</td>\n",
       "      <td>0.0</td>\n",
       "      <td>0.0</td>\n",
       "      <td>0.0</td>\n",
       "      <td>0.0</td>\n",
       "      <td>0.0</td>\n",
       "      <td>0.0</td>\n",
       "      <td>0</td>\n",
       "    </tr>\n",
       "    <tr>\n",
       "      <th>796</th>\n",
       "      <td>0.0</td>\n",
       "      <td>0.00</td>\n",
       "      <td>0.00</td>\n",
       "      <td>0.0</td>\n",
       "      <td>0.00</td>\n",
       "      <td>0.00</td>\n",
       "      <td>0.00</td>\n",
       "      <td>0.00</td>\n",
       "      <td>0.00</td>\n",
       "      <td>0.00</td>\n",
       "      <td>...</td>\n",
       "      <td>0.0</td>\n",
       "      <td>0.0</td>\n",
       "      <td>0.0</td>\n",
       "      <td>0.0</td>\n",
       "      <td>0.0</td>\n",
       "      <td>0.0</td>\n",
       "      <td>0.0</td>\n",
       "      <td>0.0</td>\n",
       "      <td>0.0</td>\n",
       "      <td>1</td>\n",
       "    </tr>\n",
       "    <tr>\n",
       "      <th>797</th>\n",
       "      <td>0.0</td>\n",
       "      <td>0.00</td>\n",
       "      <td>0.00</td>\n",
       "      <td>0.0</td>\n",
       "      <td>0.00</td>\n",
       "      <td>0.00</td>\n",
       "      <td>0.00</td>\n",
       "      <td>0.00</td>\n",
       "      <td>0.00</td>\n",
       "      <td>0.00</td>\n",
       "      <td>...</td>\n",
       "      <td>0.0</td>\n",
       "      <td>0.0</td>\n",
       "      <td>0.0</td>\n",
       "      <td>0.0</td>\n",
       "      <td>0.0</td>\n",
       "      <td>0.0</td>\n",
       "      <td>0.0</td>\n",
       "      <td>0.0</td>\n",
       "      <td>0.0</td>\n",
       "      <td>1</td>\n",
       "    </tr>\n",
       "    <tr>\n",
       "      <th>798</th>\n",
       "      <td>0.0</td>\n",
       "      <td>0.00</td>\n",
       "      <td>0.00</td>\n",
       "      <td>0.0</td>\n",
       "      <td>0.00</td>\n",
       "      <td>0.00</td>\n",
       "      <td>0.00</td>\n",
       "      <td>0.00</td>\n",
       "      <td>0.00</td>\n",
       "      <td>0.00</td>\n",
       "      <td>...</td>\n",
       "      <td>0.0</td>\n",
       "      <td>0.0</td>\n",
       "      <td>0.0</td>\n",
       "      <td>0.0</td>\n",
       "      <td>0.0</td>\n",
       "      <td>0.0</td>\n",
       "      <td>0.0</td>\n",
       "      <td>0.0</td>\n",
       "      <td>0.0</td>\n",
       "      <td>1</td>\n",
       "    </tr>\n",
       "    <tr>\n",
       "      <th>799</th>\n",
       "      <td>0.0</td>\n",
       "      <td>0.00</td>\n",
       "      <td>0.00</td>\n",
       "      <td>0.0</td>\n",
       "      <td>2.89</td>\n",
       "      <td>0.00</td>\n",
       "      <td>0.00</td>\n",
       "      <td>0.00</td>\n",
       "      <td>0.00</td>\n",
       "      <td>0.00</td>\n",
       "      <td>...</td>\n",
       "      <td>0.0</td>\n",
       "      <td>0.0</td>\n",
       "      <td>0.0</td>\n",
       "      <td>0.0</td>\n",
       "      <td>0.0</td>\n",
       "      <td>0.0</td>\n",
       "      <td>0.0</td>\n",
       "      <td>0.0</td>\n",
       "      <td>0.0</td>\n",
       "      <td>1</td>\n",
       "    </tr>\n",
       "  </tbody>\n",
       "</table>\n",
       "<p>800 rows × 5501 columns</p>\n",
       "</div>"
      ],
      "text/plain": [
       "       0      1      2    3      4      5     6      7     8     9  ...  5491  \\\n",
       "0    8.0  13.67  12.64  0.0  23.11  27.86  7.89  32.71  9.78  8.03  ...   0.0   \n",
       "1    0.0   0.00   0.00  0.0   2.89   0.00  0.00   0.00  0.00  0.00  ...   0.0   \n",
       "2    0.0   0.00   0.00  0.0   0.00   0.00  0.00   8.18  0.00  2.01  ...   0.0   \n",
       "3    8.0   0.00   0.00  0.0   0.00   0.00  0.00   0.00  0.00  0.00  ...   0.0   \n",
       "4    8.0   0.00   0.00  0.0   0.00   0.00  0.00   0.00  0.00  0.00  ...   0.0   \n",
       "..   ...    ...    ...  ...    ...    ...   ...    ...   ...   ...  ...   ...   \n",
       "795  0.0   0.00   0.00  0.0   0.00   0.00  0.00   0.00  0.00  0.00  ...   0.0   \n",
       "796  0.0   0.00   0.00  0.0   0.00   0.00  0.00   0.00  0.00  0.00  ...   0.0   \n",
       "797  0.0   0.00   0.00  0.0   0.00   0.00  0.00   0.00  0.00  0.00  ...   0.0   \n",
       "798  0.0   0.00   0.00  0.0   0.00   0.00  0.00   0.00  0.00  0.00  ...   0.0   \n",
       "799  0.0   0.00   0.00  0.0   2.89   0.00  0.00   0.00  0.00  0.00  ...   0.0   \n",
       "\n",
       "     5492  5493  5494  5495  5496  5497  5498  5499  Category  \n",
       "0     0.0   0.0   0.0   0.0   0.0   0.0   0.0   0.0         0  \n",
       "1     0.0   0.0   0.0   0.0   0.0   0.0   0.0   0.0         1  \n",
       "2     0.0   0.0   0.0   0.0   0.0   0.0   0.0   0.0         0  \n",
       "3     0.0   0.0   0.0   0.0   0.0   0.0   0.0   0.0         1  \n",
       "4     0.0   0.0   0.0   0.0   0.0   0.0   0.0   0.0         0  \n",
       "..    ...   ...   ...   ...   ...   ...   ...   ...       ...  \n",
       "795   0.0   0.0   0.0   0.0   0.0   0.0   0.0   0.0         0  \n",
       "796   0.0   0.0   0.0   0.0   0.0   0.0   0.0   0.0         1  \n",
       "797   0.0   0.0   0.0   0.0   0.0   0.0   0.0   0.0         1  \n",
       "798   0.0   0.0   0.0   0.0   0.0   0.0   0.0   0.0         1  \n",
       "799   0.0   0.0   0.0   0.0   0.0   0.0   0.0   0.0         1  \n",
       "\n",
       "[800 rows x 5501 columns]"
      ]
     },
     "execution_count": 104,
     "metadata": {},
     "output_type": "execute_result"
    }
   ],
   "source": [
    "cat_labels = np.array(train_lab)\n",
    "DT_tfidf[\"Category\"] = cat_labels\n",
    "DT_tfidf\n"
   ]
  },
  {
   "cell_type": "code",
   "execution_count": 105,
   "metadata": {},
   "outputs": [],
   "source": [
    "def knn_search(x, D, K, measure):\n",
    "    \"\"\" find K nearest neighbors of an instance x among the instances in D \"\"\"\n",
    "    if measure == 0:\n",
    "        # euclidean distances from the other points\n",
    "        dists = np.sqrt(((D - x)**2).sum(axis=1))\n",
    "    elif measure == 1:\n",
    "        # first find the vector norm for each instance in D as wel as the norm for vector x\n",
    "        D_norm = np.array([np.linalg.norm(D[i]) for i in range(len(D))])\n",
    "        x_norm = np.linalg.norm(x)\n",
    "        # Compute Cosine: divide the dot product o x and each instance in D by the product of the two norms\n",
    "        sims = np.dot(D,x)/(D_norm * x_norm)\n",
    "        # The distance measure will be the inverse of Cosine similarity\n",
    "        dists = 1 - sims\n",
    "    idx = np.argsort(dists) # sorting\n",
    "    # return the indexes of K nearest neighbors\n",
    "    return idx[:K], dists"
   ]
  },
  {
   "cell_type": "code",
   "execution_count": 106,
   "metadata": {},
   "outputs": [],
   "source": [
    "train_lab = np.array(train_lab)"
   ]
  },
  {
   "cell_type": "code",
   "execution_count": 107,
   "metadata": {},
   "outputs": [],
   "source": [
    "neigh_idx, distances = knn_search(x_tfidf, DT_array, 5, 1)"
   ]
  },
  {
   "cell_type": "code",
   "execution_count": 108,
   "metadata": {},
   "outputs": [
    {
     "data": {
      "text/plain": [
       "array([[1],\n",
       "       [1],\n",
       "       [1],\n",
       "       [1],\n",
       "       [1]])"
      ]
     },
     "execution_count": 108,
     "metadata": {},
     "output_type": "execute_result"
    }
   ],
   "source": [
    "train_lab[neigh_idx]"
   ]
  },
  {
   "cell_type": "code",
   "execution_count": 109,
   "metadata": {},
   "outputs": [],
   "source": [
    "neigh_idx, distances = knn_search(x_tfidf, DT_array, 5, 1)"
   ]
  },
  {
   "cell_type": "code",
   "execution_count": 110,
   "metadata": {},
   "outputs": [
    {
     "data": {
      "text/plain": [
       "array([1., 1., 1., 1., 1.])"
      ]
     },
     "execution_count": 110,
     "metadata": {},
     "output_type": "execute_result"
    }
   ],
   "source": [
    "label = TargetTrainLabel[neigh_idx]\n",
    "label"
   ]
  },
  {
   "cell_type": "code",
   "execution_count": 111,
   "metadata": {},
   "outputs": [
    {
     "data": {
      "text/plain": [
       "1.0"
      ]
     },
     "execution_count": 111,
     "metadata": {},
     "output_type": "execute_result"
    }
   ],
   "source": [
    "label = Counter(label).most_common(1)\n",
    "label = label[0][0]\n",
    "label"
   ]
  },
  {
   "cell_type": "code",
   "execution_count": 112,
   "metadata": {},
   "outputs": [],
   "source": [
    "def knn_Classify(x, D, K, measure, TrainLabels):\n",
    "    \"\"\" find K nearest neighbors of an instance x among the instances in D \"\"\"\n",
    "    if measure == 0:\n",
    "        # euclidean distances from the other points\n",
    "        dists = np.sqrt(((D - x)**2).sum(axis=1))\n",
    "    elif measure == 1:\n",
    "        # first find the vector norm for each instance in D as wel as the norm for vector x\n",
    "        D_norm = np.array([np.linalg.norm(D[i]) for i in range(len(D))])\n",
    "        x_norm = np.linalg.norm(x)\n",
    "        # Compute Cosine: divide the dot product o x and each instance in D by the product of the two norms\n",
    "        sims = np.dot(D,x)/(D_norm * x_norm)\n",
    "        # The distance measure will be the inverse of Cosine similarity\n",
    "        dists = 1 - sims\n",
    "    idx = np.argsort(dists) # sorting \n",
    "    # return the indexes of K nearest neighbors\n",
    "    neigh_idx = idx[:K]\n",
    "    neigh_label = TrainLabels[neigh_idx]\n",
    "    label = Counter(neigh_label).most_common(1)\n",
    "    label = label[0][0]\n",
    "    return label"
   ]
  },
  {
   "cell_type": "code",
   "execution_count": 113,
   "metadata": {},
   "outputs": [],
   "source": [
    "label = knn_Classify(x_tfidf, DT_array, 5, 1, TargetTrainLabel)"
   ]
  },
  {
   "cell_type": "code",
   "execution_count": 114,
   "metadata": {},
   "outputs": [
    {
     "data": {
      "text/plain": [
       "1.0"
      ]
     },
     "execution_count": 114,
     "metadata": {},
     "output_type": "execute_result"
    }
   ],
   "source": [
    "label"
   ]
  },
  {
   "cell_type": "code",
   "execution_count": 115,
   "metadata": {},
   "outputs": [],
   "source": [
    "def Accuracy(TestD, TargetTest, K, measure):\n",
    "    errors = 0\n",
    "    total = 0\n",
    "    correct = 0\n",
    "    for row in TestD:\n",
    "        x_tfidf = row * IDF.T[0] \n",
    "        x_tfidf = np.array(x_tfidf)\n",
    "        rowNum = total\n",
    "        total += 1\n",
    "        Label = knn_Classify(x_tfidf, DT_array, K, measure, TargetTrainLabel)\n",
    "        actual = TargetTest[rowNum][1]\n",
    "        if Label == actual:\n",
    "            correct += 1\n",
    "        else:\n",
    "            errors +=1\n",
    "    accuracy = correct/total\n",
    "    return accuracy"
   ]
  },
  {
   "cell_type": "code",
   "execution_count": 116,
   "metadata": {},
   "outputs": [
    {
     "name": "stderr",
     "output_type": "stream",
     "text": [
      "<ipython-input-112-6a0e66cca844>:11: RuntimeWarning: invalid value encountered in true_divide\n",
      "  sims = np.dot(D,x)/(D_norm * x_norm)\n"
     ]
    },
    {
     "data": {
      "text/plain": [
       "0.505"
      ]
     },
     "execution_count": 116,
     "metadata": {},
     "output_type": "execute_result"
    }
   ],
   "source": [
    "accurate = Accuracy(test, TargetTest, 5, 1)\n",
    "accurate"
   ]
  },
  {
   "cell_type": "markdown",
   "metadata": {},
   "source": [
    "## Cosine Accuracy \n",
    "\n",
    "#### According to my KNN Classification, this model appears to be less accurate than the first KNN Classification. There was not much variation in the level of accuracy, however, the degree of accuracy seemed to decrease as more neighbors were added. The peak was at 1-2 neighbors at just over 51%."
   ]
  },
  {
   "cell_type": "code",
   "execution_count": 117,
   "metadata": {},
   "outputs": [
    {
     "data": {
      "text/plain": [
       "{1: 0.51375}"
      ]
     },
     "execution_count": 117,
     "metadata": {},
     "output_type": "execute_result"
    }
   ],
   "source": [
    "CosineAccuracy = {}\n",
    "n = 1\n",
    "accuracy = Accuracy(DT_array, T_test, n, 1)\n",
    "CosineAccuracy[n] = accuracy\n",
    "CosineAccuracy"
   ]
  },
  {
   "cell_type": "code",
   "execution_count": 118,
   "metadata": {},
   "outputs": [
    {
     "data": {
      "text/plain": [
       "{1: 0.51375, 2: 0.51375}"
      ]
     },
     "execution_count": 118,
     "metadata": {},
     "output_type": "execute_result"
    }
   ],
   "source": [
    "n = 2\n",
    "accuracy = Accuracy(DT_array, T_test, n, 1)\n",
    "CosineAccuracy[n] = accuracy\n",
    "CosineAccuracy"
   ]
  },
  {
   "cell_type": "code",
   "execution_count": 119,
   "metadata": {},
   "outputs": [],
   "source": [
    "n = 3\n",
    "accuracy = Accuracy(DT_array, T_test, n, 1)\n",
    "CosineAccuracy[n] = accuracy"
   ]
  },
  {
   "cell_type": "code",
   "execution_count": 120,
   "metadata": {},
   "outputs": [],
   "source": [
    "n = 4\n",
    "accuracy = Accuracy(DT_array, T_test, n, 1)\n",
    "CosineAccuracy[n] = accuracy"
   ]
  },
  {
   "cell_type": "code",
   "execution_count": 121,
   "metadata": {},
   "outputs": [],
   "source": [
    "n = 5\n",
    "accuracy = Accuracy(DT_array, T_test, n, 1)\n",
    "CosineAccuracy[n] = accuracy"
   ]
  },
  {
   "cell_type": "code",
   "execution_count": 122,
   "metadata": {},
   "outputs": [],
   "source": [
    "n = 6\n",
    "accuracy = Accuracy(DT_array, T_test, n, 1)\n",
    "CosineAccuracy[n] = accuracy"
   ]
  },
  {
   "cell_type": "code",
   "execution_count": 123,
   "metadata": {},
   "outputs": [],
   "source": [
    "n = 7\n",
    "accuracy = Accuracy(DT_array, T_test, n, 1)\n",
    "CosineAccuracy[n] = accuracy"
   ]
  },
  {
   "cell_type": "code",
   "execution_count": 124,
   "metadata": {},
   "outputs": [],
   "source": [
    "n = 8\n",
    "accuracy = Accuracy(DT_array, T_test, n, 1)\n",
    "CosineAccuracy[n] = accuracy"
   ]
  },
  {
   "cell_type": "code",
   "execution_count": 125,
   "metadata": {},
   "outputs": [],
   "source": [
    "n = 9\n",
    "accuracy = Accuracy(DT_array, T_test, n, 1)\n",
    "CosineAccuracy[n] = accuracy"
   ]
  },
  {
   "cell_type": "code",
   "execution_count": 126,
   "metadata": {},
   "outputs": [],
   "source": [
    "n = 10\n",
    "accuracy = Accuracy(DT_array, T_test, n, 1)\n",
    "CosineAccuracy[n] = accuracy"
   ]
  },
  {
   "cell_type": "code",
   "execution_count": 127,
   "metadata": {},
   "outputs": [],
   "source": [
    "n = 11\n",
    "accuracy = Accuracy(DT_array, T_test, n, 1)\n",
    "CosineAccuracy[n] = accuracy"
   ]
  },
  {
   "cell_type": "code",
   "execution_count": 128,
   "metadata": {},
   "outputs": [],
   "source": [
    "n = 12\n",
    "accuracy = Accuracy(DT_array, T_test, n, 1)\n",
    "CosineAccuracy[n] = accuracy"
   ]
  },
  {
   "cell_type": "code",
   "execution_count": 129,
   "metadata": {},
   "outputs": [],
   "source": [
    "n = 13\n",
    "accuracy = Accuracy(DT_array, T_test, n, 1)\n",
    "CosineAccuracy[n] = accuracy"
   ]
  },
  {
   "cell_type": "code",
   "execution_count": 130,
   "metadata": {},
   "outputs": [],
   "source": [
    "n = 14\n",
    "accuracy = Accuracy(DT_array, T_test, n, 1)\n",
    "CosineAccuracy[n] = accuracy"
   ]
  },
  {
   "cell_type": "code",
   "execution_count": 131,
   "metadata": {},
   "outputs": [],
   "source": [
    "n = 15\n",
    "accuracy = Accuracy(DT_array, T_test, n, 1)\n",
    "CosineAccuracy[n] = accuracy"
   ]
  },
  {
   "cell_type": "code",
   "execution_count": 132,
   "metadata": {},
   "outputs": [],
   "source": [
    "n = 16\n",
    "accuracy = Accuracy(DT_array, T_test, n, 1)\n",
    "CosineAccuracy[n] = accuracy"
   ]
  },
  {
   "cell_type": "code",
   "execution_count": 133,
   "metadata": {},
   "outputs": [],
   "source": [
    "n = 17\n",
    "accuracy = Accuracy(DT_array, T_test, n, 1)\n",
    "CosineAccuracy[n] = accuracy"
   ]
  },
  {
   "cell_type": "code",
   "execution_count": 134,
   "metadata": {},
   "outputs": [],
   "source": [
    "n = 18\n",
    "accuracy = Accuracy(DT_array, T_test, n, 1)\n",
    "CosineAccuracy[n] = accuracy"
   ]
  },
  {
   "cell_type": "code",
   "execution_count": 135,
   "metadata": {},
   "outputs": [],
   "source": [
    "n = 19\n",
    "accuracy = Accuracy(DT_array, T_test, n, 1)\n",
    "CosineAccuracy[n] = accuracy"
   ]
  },
  {
   "cell_type": "code",
   "execution_count": 136,
   "metadata": {},
   "outputs": [],
   "source": [
    "n = 20\n",
    "accuracy = Accuracy(DT_array, T_test, n, 1)\n",
    "CosineAccuracy[n] = accuracy"
   ]
  },
  {
   "cell_type": "code",
   "execution_count": 137,
   "metadata": {},
   "outputs": [
    {
     "data": {
      "text/plain": [
       "{1: 0.51375,\n",
       " 2: 0.51375,\n",
       " 3: 0.50875,\n",
       " 4: 0.51125,\n",
       " 5: 0.5075,\n",
       " 6: 0.51,\n",
       " 7: 0.5075,\n",
       " 8: 0.51,\n",
       " 9: 0.5075,\n",
       " 10: 0.5075,\n",
       " 11: 0.505,\n",
       " 12: 0.50875,\n",
       " 13: 0.50625,\n",
       " 14: 0.51,\n",
       " 15: 0.5025,\n",
       " 16: 0.5075,\n",
       " 17: 0.505,\n",
       " 18: 0.50875,\n",
       " 19: 0.505,\n",
       " 20: 0.5075}"
      ]
     },
     "execution_count": 137,
     "metadata": {},
     "output_type": "execute_result"
    }
   ],
   "source": [
    "CosineAccuracy"
   ]
  },
  {
   "cell_type": "code",
   "execution_count": 138,
   "metadata": {},
   "outputs": [
    {
     "data": {
      "image/png": "[encoded data removed]",
      "text/plain": [
       "<Figure size 432x288 with 1 Axes>"
      ]
     },
     "metadata": {
      "needs_background": "light"
     },
     "output_type": "display_data"
    }
   ],
   "source": [
    "lists = sorted(CosineAccuracy.items())\n",
    "x, y = zip(*lists)\n",
    "plt.plot(x,y)\n",
    "plt.show()"
   ]
  },
  {
   "cell_type": "markdown",
   "metadata": {},
   "source": [
    "## Euclidean Accuracy\n",
    "\n",
    "#### According to my classifier, this method also appears less accurate than the original method. The level of accuracy increases as we increase the number of neighbors, which is the opposite of what I saw with the Cosine distance classifier. The accuracy peaked with 17 neighbors at just over 55%."
   ]
  },
  {
   "cell_type": "code",
   "execution_count": 139,
   "metadata": {},
   "outputs": [
    {
     "data": {
      "text/plain": [
       "{1: 0.51375}"
      ]
     },
     "execution_count": 139,
     "metadata": {},
     "output_type": "execute_result"
    }
   ],
   "source": [
    "EuclidAccuracy = {}\n",
    "n = 1\n",
    "accuracy = Accuracy(DT_array, T_test, n, 0)\n",
    "EuclidAccuracy[n] = accuracy\n",
    "EuclidAccuracy"
   ]
  },
  {
   "cell_type": "code",
   "execution_count": 140,
   "metadata": {},
   "outputs": [
    {
     "data": {
      "text/plain": [
       "{1: 0.51375, 2: 0.51375}"
      ]
     },
     "execution_count": 140,
     "metadata": {},
     "output_type": "execute_result"
    }
   ],
   "source": [
    "n = 2\n",
    "accuracy = Accuracy(DT_array, T_test, n, 0)\n",
    "EuclidAccuracy[n] = accuracy\n",
    "EuclidAccuracy"
   ]
  },
  {
   "cell_type": "code",
   "execution_count": 141,
   "metadata": {},
   "outputs": [
    {
     "data": {
      "text/plain": [
       "{1: 0.51375, 2: 0.51375, 3: 0.51125}"
      ]
     },
     "execution_count": 141,
     "metadata": {},
     "output_type": "execute_result"
    }
   ],
   "source": [
    "n = 3\n",
    "accuracy = Accuracy(DT_array, T_test, n, 0)\n",
    "EuclidAccuracy[n] = accuracy\n",
    "EuclidAccuracy"
   ]
  },
  {
   "cell_type": "code",
   "execution_count": 142,
   "metadata": {},
   "outputs": [],
   "source": [
    "n = 4\n",
    "accuracy = Accuracy(DT_array, T_test, n, 0)\n",
    "EuclidAccuracy[n] = accuracy"
   ]
  },
  {
   "cell_type": "code",
   "execution_count": 143,
   "metadata": {},
   "outputs": [],
   "source": [
    "n = 5\n",
    "accuracy = Accuracy(DT_array, T_test, n, 0)\n",
    "EuclidAccuracy[n] = accuracy"
   ]
  },
  {
   "cell_type": "code",
   "execution_count": 144,
   "metadata": {},
   "outputs": [],
   "source": [
    "n = 6\n",
    "accuracy = Accuracy(DT_array, T_test, n, 0)\n",
    "EuclidAccuracy[n] = accuracy"
   ]
  },
  {
   "cell_type": "code",
   "execution_count": 145,
   "metadata": {},
   "outputs": [],
   "source": [
    "n = 7\n",
    "accuracy = Accuracy(DT_array, T_test, n, 0)\n",
    "EuclidAccuracy[n] = accuracy"
   ]
  },
  {
   "cell_type": "code",
   "execution_count": 146,
   "metadata": {},
   "outputs": [],
   "source": [
    "n = 8\n",
    "accuracy = Accuracy(DT_array, T_test, n, 0)\n",
    "EuclidAccuracy[n] = accuracy"
   ]
  },
  {
   "cell_type": "code",
   "execution_count": 147,
   "metadata": {},
   "outputs": [],
   "source": [
    "n = 9\n",
    "accuracy = Accuracy(DT_array, T_test, n, 0)\n",
    "EuclidAccuracy[n] = accuracy"
   ]
  },
  {
   "cell_type": "code",
   "execution_count": 148,
   "metadata": {},
   "outputs": [],
   "source": [
    "n = 10\n",
    "accuracy = Accuracy(DT_array, T_test, n, 0)\n",
    "EuclidAccuracy[n] = accuracy"
   ]
  },
  {
   "cell_type": "code",
   "execution_count": 149,
   "metadata": {},
   "outputs": [],
   "source": [
    "n = 11\n",
    "accuracy = Accuracy(DT_array, T_test, n, 0)\n",
    "EuclidAccuracy[n] = accuracy"
   ]
  },
  {
   "cell_type": "code",
   "execution_count": 150,
   "metadata": {},
   "outputs": [],
   "source": [
    "n = 12\n",
    "accuracy = Accuracy(DT_array, T_test, n, 0)\n",
    "EuclidAccuracy[n] = accuracy"
   ]
  },
  {
   "cell_type": "code",
   "execution_count": 151,
   "metadata": {},
   "outputs": [],
   "source": [
    "n = 13\n",
    "accuracy = Accuracy(DT_array, T_test, n, 0)\n",
    "EuclidAccuracy[n] = accuracy"
   ]
  },
  {
   "cell_type": "code",
   "execution_count": 152,
   "metadata": {},
   "outputs": [],
   "source": [
    "n = 14\n",
    "accuracy = Accuracy(DT_array, T_test, n, 0)\n",
    "EuclidAccuracy[n] = accuracy"
   ]
  },
  {
   "cell_type": "code",
   "execution_count": 153,
   "metadata": {},
   "outputs": [],
   "source": [
    "n = 15\n",
    "accuracy = Accuracy(DT_array, T_test, n, 0)\n",
    "EuclidAccuracy[n] = accuracy"
   ]
  },
  {
   "cell_type": "code",
   "execution_count": 154,
   "metadata": {},
   "outputs": [],
   "source": [
    "n = 16\n",
    "accuracy = Accuracy(DT_array, T_test, n, 0)\n",
    "EuclidAccuracy[n] = accuracy"
   ]
  },
  {
   "cell_type": "code",
   "execution_count": 155,
   "metadata": {},
   "outputs": [],
   "source": [
    "n = 17\n",
    "accuracy = Accuracy(DT_array, T_test, n, 0)\n",
    "EuclidAccuracy[n] = accuracy"
   ]
  },
  {
   "cell_type": "code",
   "execution_count": 156,
   "metadata": {},
   "outputs": [],
   "source": [
    "n = 18\n",
    "accuracy = Accuracy(DT_array, T_test, n, 0)\n",
    "EuclidAccuracy[n] = accuracy"
   ]
  },
  {
   "cell_type": "code",
   "execution_count": 157,
   "metadata": {},
   "outputs": [],
   "source": [
    "n = 19\n",
    "accuracy = Accuracy(DT_array, T_test, n, 0)\n",
    "EuclidAccuracy[n] = accuracy"
   ]
  },
  {
   "cell_type": "code",
   "execution_count": 158,
   "metadata": {},
   "outputs": [],
   "source": [
    "n = 20\n",
    "accuracy = Accuracy(DT_array, T_test, n, 0)\n",
    "EuclidAccuracy[n] = accuracy"
   ]
  },
  {
   "cell_type": "code",
   "execution_count": 159,
   "metadata": {},
   "outputs": [
    {
     "data": {
      "text/plain": [
       "{1: 0.51375,\n",
       " 2: 0.51375,\n",
       " 3: 0.51125,\n",
       " 4: 0.51375,\n",
       " 5: 0.51,\n",
       " 6: 0.515,\n",
       " 7: 0.5175,\n",
       " 8: 0.51875,\n",
       " 9: 0.52625,\n",
       " 10: 0.52625,\n",
       " 11: 0.5325,\n",
       " 12: 0.53125,\n",
       " 13: 0.54,\n",
       " 14: 0.535,\n",
       " 15: 0.5425,\n",
       " 16: 0.53625,\n",
       " 17: 0.5525,\n",
       " 18: 0.5425,\n",
       " 19: 0.55,\n",
       " 20: 0.54625}"
      ]
     },
     "execution_count": 159,
     "metadata": {},
     "output_type": "execute_result"
    }
   ],
   "source": [
    "EuclidAccuracy"
   ]
  },
  {
   "cell_type": "code",
   "execution_count": 160,
   "metadata": {},
   "outputs": [
    {
     "data": {
      "image/png": "[encoded data removed]",
      "text/plain": [
       "<Figure size 432x288 with 1 Axes>"
      ]
     },
     "metadata": {
      "needs_background": "light"
     },
     "output_type": "display_data"
    }
   ],
   "source": [
    "lists = sorted(EuclidAccuracy.items())\n",
    "x, y = zip(*lists)\n",
    "plt.plot(x,y)\n",
    "plt.show()"
   ]
  },
  {
   "cell_type": "markdown",
   "metadata": {},
   "source": [
    "# Part e"
   ]
  },
  {
   "cell_type": "code",
   "execution_count": 161,
   "metadata": {},
   "outputs": [
    {
     "data": {
      "text/plain": [
       "(800, 5500)"
      ]
     },
     "execution_count": 161,
     "metadata": {},
     "output_type": "execute_result"
    }
   ],
   "source": [
    "DT_array.shape"
   ]
  },
  {
   "cell_type": "code",
   "execution_count": 162,
   "metadata": {},
   "outputs": [
    {
     "data": {
      "text/html": [
       "<div>\n",
       "<style scoped>\n",
       "    .dataframe tbody tr th:only-of-type {\n",
       "        vertical-align: middle;\n",
       "    }\n",
       "\n",
       "    .dataframe tbody tr th {\n",
       "        vertical-align: top;\n",
       "    }\n",
       "\n",
       "    .dataframe thead th {\n",
       "        text-align: right;\n",
       "    }\n",
       "</style>\n",
       "<table border=\"1\" class=\"dataframe\">\n",
       "  <thead>\n",
       "    <tr style=\"text-align: right;\">\n",
       "      <th></th>\n",
       "      <th>0</th>\n",
       "      <th>1</th>\n",
       "      <th>2</th>\n",
       "      <th>3</th>\n",
       "      <th>4</th>\n",
       "      <th>5</th>\n",
       "      <th>6</th>\n",
       "      <th>7</th>\n",
       "      <th>8</th>\n",
       "      <th>9</th>\n",
       "      <th>...</th>\n",
       "      <th>5491</th>\n",
       "      <th>5492</th>\n",
       "      <th>5493</th>\n",
       "      <th>5494</th>\n",
       "      <th>5495</th>\n",
       "      <th>5496</th>\n",
       "      <th>5497</th>\n",
       "      <th>5498</th>\n",
       "      <th>5499</th>\n",
       "      <th>Category</th>\n",
       "    </tr>\n",
       "  </thead>\n",
       "  <tbody>\n",
       "    <tr>\n",
       "      <th>0</th>\n",
       "      <td>8.0</td>\n",
       "      <td>13.67</td>\n",
       "      <td>12.64</td>\n",
       "      <td>0.0</td>\n",
       "      <td>23.11</td>\n",
       "      <td>27.86</td>\n",
       "      <td>7.89</td>\n",
       "      <td>32.71</td>\n",
       "      <td>9.78</td>\n",
       "      <td>8.03</td>\n",
       "      <td>...</td>\n",
       "      <td>0.0</td>\n",
       "      <td>0.0</td>\n",
       "      <td>0.0</td>\n",
       "      <td>0.0</td>\n",
       "      <td>0.0</td>\n",
       "      <td>0.0</td>\n",
       "      <td>0.0</td>\n",
       "      <td>0.0</td>\n",
       "      <td>0.0</td>\n",
       "      <td>0</td>\n",
       "    </tr>\n",
       "    <tr>\n",
       "      <th>1</th>\n",
       "      <td>0.0</td>\n",
       "      <td>0.00</td>\n",
       "      <td>0.00</td>\n",
       "      <td>0.0</td>\n",
       "      <td>2.89</td>\n",
       "      <td>0.00</td>\n",
       "      <td>0.00</td>\n",
       "      <td>0.00</td>\n",
       "      <td>0.00</td>\n",
       "      <td>0.00</td>\n",
       "      <td>...</td>\n",
       "      <td>0.0</td>\n",
       "      <td>0.0</td>\n",
       "      <td>0.0</td>\n",
       "      <td>0.0</td>\n",
       "      <td>0.0</td>\n",
       "      <td>0.0</td>\n",
       "      <td>0.0</td>\n",
       "      <td>0.0</td>\n",
       "      <td>0.0</td>\n",
       "      <td>1</td>\n",
       "    </tr>\n",
       "    <tr>\n",
       "      <th>2</th>\n",
       "      <td>0.0</td>\n",
       "      <td>0.00</td>\n",
       "      <td>0.00</td>\n",
       "      <td>0.0</td>\n",
       "      <td>0.00</td>\n",
       "      <td>0.00</td>\n",
       "      <td>0.00</td>\n",
       "      <td>8.18</td>\n",
       "      <td>0.00</td>\n",
       "      <td>2.01</td>\n",
       "      <td>...</td>\n",
       "      <td>0.0</td>\n",
       "      <td>0.0</td>\n",
       "      <td>0.0</td>\n",
       "      <td>0.0</td>\n",
       "      <td>0.0</td>\n",
       "      <td>0.0</td>\n",
       "      <td>0.0</td>\n",
       "      <td>0.0</td>\n",
       "      <td>0.0</td>\n",
       "      <td>0</td>\n",
       "    </tr>\n",
       "    <tr>\n",
       "      <th>3</th>\n",
       "      <td>8.0</td>\n",
       "      <td>0.00</td>\n",
       "      <td>0.00</td>\n",
       "      <td>0.0</td>\n",
       "      <td>0.00</td>\n",
       "      <td>0.00</td>\n",
       "      <td>0.00</td>\n",
       "      <td>0.00</td>\n",
       "      <td>0.00</td>\n",
       "      <td>0.00</td>\n",
       "      <td>...</td>\n",
       "      <td>0.0</td>\n",
       "      <td>0.0</td>\n",
       "      <td>0.0</td>\n",
       "      <td>0.0</td>\n",
       "      <td>0.0</td>\n",
       "      <td>0.0</td>\n",
       "      <td>0.0</td>\n",
       "      <td>0.0</td>\n",
       "      <td>0.0</td>\n",
       "      <td>1</td>\n",
       "    </tr>\n",
       "    <tr>\n",
       "      <th>4</th>\n",
       "      <td>8.0</td>\n",
       "      <td>0.00</td>\n",
       "      <td>0.00</td>\n",
       "      <td>0.0</td>\n",
       "      <td>0.00</td>\n",
       "      <td>0.00</td>\n",
       "      <td>0.00</td>\n",
       "      <td>0.00</td>\n",
       "      <td>0.00</td>\n",
       "      <td>0.00</td>\n",
       "      <td>...</td>\n",
       "      <td>0.0</td>\n",
       "      <td>0.0</td>\n",
       "      <td>0.0</td>\n",
       "      <td>0.0</td>\n",
       "      <td>0.0</td>\n",
       "      <td>0.0</td>\n",
       "      <td>0.0</td>\n",
       "      <td>0.0</td>\n",
       "      <td>0.0</td>\n",
       "      <td>0</td>\n",
       "    </tr>\n",
       "    <tr>\n",
       "      <th>...</th>\n",
       "      <td>...</td>\n",
       "      <td>...</td>\n",
       "      <td>...</td>\n",
       "      <td>...</td>\n",
       "      <td>...</td>\n",
       "      <td>...</td>\n",
       "      <td>...</td>\n",
       "      <td>...</td>\n",
       "      <td>...</td>\n",
       "      <td>...</td>\n",
       "      <td>...</td>\n",
       "      <td>...</td>\n",
       "      <td>...</td>\n",
       "      <td>...</td>\n",
       "      <td>...</td>\n",
       "      <td>...</td>\n",
       "      <td>...</td>\n",
       "      <td>...</td>\n",
       "      <td>...</td>\n",
       "      <td>...</td>\n",
       "      <td>...</td>\n",
       "    </tr>\n",
       "    <tr>\n",
       "      <th>795</th>\n",
       "      <td>0.0</td>\n",
       "      <td>0.00</td>\n",
       "      <td>0.00</td>\n",
       "      <td>0.0</td>\n",
       "      <td>0.00</td>\n",
       "      <td>0.00</td>\n",
       "      <td>0.00</td>\n",
       "      <td>0.00</td>\n",
       "      <td>0.00</td>\n",
       "      <td>0.00</td>\n",
       "      <td>...</td>\n",
       "      <td>0.0</td>\n",
       "      <td>0.0</td>\n",
       "      <td>0.0</td>\n",
       "      <td>0.0</td>\n",
       "      <td>0.0</td>\n",
       "      <td>0.0</td>\n",
       "      <td>0.0</td>\n",
       "      <td>0.0</td>\n",
       "      <td>0.0</td>\n",
       "      <td>0</td>\n",
       "    </tr>\n",
       "    <tr>\n",
       "      <th>796</th>\n",
       "      <td>0.0</td>\n",
       "      <td>0.00</td>\n",
       "      <td>0.00</td>\n",
       "      <td>0.0</td>\n",
       "      <td>0.00</td>\n",
       "      <td>0.00</td>\n",
       "      <td>0.00</td>\n",
       "      <td>0.00</td>\n",
       "      <td>0.00</td>\n",
       "      <td>0.00</td>\n",
       "      <td>...</td>\n",
       "      <td>0.0</td>\n",
       "      <td>0.0</td>\n",
       "      <td>0.0</td>\n",
       "      <td>0.0</td>\n",
       "      <td>0.0</td>\n",
       "      <td>0.0</td>\n",
       "      <td>0.0</td>\n",
       "      <td>0.0</td>\n",
       "      <td>0.0</td>\n",
       "      <td>1</td>\n",
       "    </tr>\n",
       "    <tr>\n",
       "      <th>797</th>\n",
       "      <td>0.0</td>\n",
       "      <td>0.00</td>\n",
       "      <td>0.00</td>\n",
       "      <td>0.0</td>\n",
       "      <td>0.00</td>\n",
       "      <td>0.00</td>\n",
       "      <td>0.00</td>\n",
       "      <td>0.00</td>\n",
       "      <td>0.00</td>\n",
       "      <td>0.00</td>\n",
       "      <td>...</td>\n",
       "      <td>0.0</td>\n",
       "      <td>0.0</td>\n",
       "      <td>0.0</td>\n",
       "      <td>0.0</td>\n",
       "      <td>0.0</td>\n",
       "      <td>0.0</td>\n",
       "      <td>0.0</td>\n",
       "      <td>0.0</td>\n",
       "      <td>0.0</td>\n",
       "      <td>1</td>\n",
       "    </tr>\n",
       "    <tr>\n",
       "      <th>798</th>\n",
       "      <td>0.0</td>\n",
       "      <td>0.00</td>\n",
       "      <td>0.00</td>\n",
       "      <td>0.0</td>\n",
       "      <td>0.00</td>\n",
       "      <td>0.00</td>\n",
       "      <td>0.00</td>\n",
       "      <td>0.00</td>\n",
       "      <td>0.00</td>\n",
       "      <td>0.00</td>\n",
       "      <td>...</td>\n",
       "      <td>0.0</td>\n",
       "      <td>0.0</td>\n",
       "      <td>0.0</td>\n",
       "      <td>0.0</td>\n",
       "      <td>0.0</td>\n",
       "      <td>0.0</td>\n",
       "      <td>0.0</td>\n",
       "      <td>0.0</td>\n",
       "      <td>0.0</td>\n",
       "      <td>1</td>\n",
       "    </tr>\n",
       "    <tr>\n",
       "      <th>799</th>\n",
       "      <td>0.0</td>\n",
       "      <td>0.00</td>\n",
       "      <td>0.00</td>\n",
       "      <td>0.0</td>\n",
       "      <td>2.89</td>\n",
       "      <td>0.00</td>\n",
       "      <td>0.00</td>\n",
       "      <td>0.00</td>\n",
       "      <td>0.00</td>\n",
       "      <td>0.00</td>\n",
       "      <td>...</td>\n",
       "      <td>0.0</td>\n",
       "      <td>0.0</td>\n",
       "      <td>0.0</td>\n",
       "      <td>0.0</td>\n",
       "      <td>0.0</td>\n",
       "      <td>0.0</td>\n",
       "      <td>0.0</td>\n",
       "      <td>0.0</td>\n",
       "      <td>0.0</td>\n",
       "      <td>1</td>\n",
       "    </tr>\n",
       "  </tbody>\n",
       "</table>\n",
       "<p>800 rows × 5501 columns</p>\n",
       "</div>"
      ],
      "text/plain": [
       "       0      1      2    3      4      5     6      7     8     9  ...  5491  \\\n",
       "0    8.0  13.67  12.64  0.0  23.11  27.86  7.89  32.71  9.78  8.03  ...   0.0   \n",
       "1    0.0   0.00   0.00  0.0   2.89   0.00  0.00   0.00  0.00  0.00  ...   0.0   \n",
       "2    0.0   0.00   0.00  0.0   0.00   0.00  0.00   8.18  0.00  2.01  ...   0.0   \n",
       "3    8.0   0.00   0.00  0.0   0.00   0.00  0.00   0.00  0.00  0.00  ...   0.0   \n",
       "4    8.0   0.00   0.00  0.0   0.00   0.00  0.00   0.00  0.00  0.00  ...   0.0   \n",
       "..   ...    ...    ...  ...    ...    ...   ...    ...   ...   ...  ...   ...   \n",
       "795  0.0   0.00   0.00  0.0   0.00   0.00  0.00   0.00  0.00  0.00  ...   0.0   \n",
       "796  0.0   0.00   0.00  0.0   0.00   0.00  0.00   0.00  0.00  0.00  ...   0.0   \n",
       "797  0.0   0.00   0.00  0.0   0.00   0.00  0.00   0.00  0.00  0.00  ...   0.0   \n",
       "798  0.0   0.00   0.00  0.0   0.00   0.00  0.00   0.00  0.00  0.00  ...   0.0   \n",
       "799  0.0   0.00   0.00  0.0   2.89   0.00  0.00   0.00  0.00  0.00  ...   0.0   \n",
       "\n",
       "     5492  5493  5494  5495  5496  5497  5498  5499  Category  \n",
       "0     0.0   0.0   0.0   0.0   0.0   0.0   0.0   0.0         0  \n",
       "1     0.0   0.0   0.0   0.0   0.0   0.0   0.0   0.0         1  \n",
       "2     0.0   0.0   0.0   0.0   0.0   0.0   0.0   0.0         0  \n",
       "3     0.0   0.0   0.0   0.0   0.0   0.0   0.0   0.0         1  \n",
       "4     0.0   0.0   0.0   0.0   0.0   0.0   0.0   0.0         0  \n",
       "..    ...   ...   ...   ...   ...   ...   ...   ...       ...  \n",
       "795   0.0   0.0   0.0   0.0   0.0   0.0   0.0   0.0         0  \n",
       "796   0.0   0.0   0.0   0.0   0.0   0.0   0.0   0.0         1  \n",
       "797   0.0   0.0   0.0   0.0   0.0   0.0   0.0   0.0         1  \n",
       "798   0.0   0.0   0.0   0.0   0.0   0.0   0.0   0.0         1  \n",
       "799   0.0   0.0   0.0   0.0   0.0   0.0   0.0   0.0         1  \n",
       "\n",
       "[800 rows x 5501 columns]"
      ]
     },
     "execution_count": 162,
     "metadata": {},
     "output_type": "execute_result"
    }
   ],
   "source": [
    "DT_tfidf\n"
   ]
  },
  {
   "cell_type": "code",
   "execution_count": 163,
   "metadata": {},
   "outputs": [
    {
     "data": {
      "text/html": [
       "<div>\n",
       "<style scoped>\n",
       "    .dataframe tbody tr th:only-of-type {\n",
       "        vertical-align: middle;\n",
       "    }\n",
       "\n",
       "    .dataframe tbody tr th {\n",
       "        vertical-align: top;\n",
       "    }\n",
       "\n",
       "    .dataframe thead th {\n",
       "        text-align: right;\n",
       "    }\n",
       "</style>\n",
       "<table border=\"1\" class=\"dataframe\">\n",
       "  <thead>\n",
       "    <tr style=\"text-align: right;\">\n",
       "      <th></th>\n",
       "      <th>0</th>\n",
       "      <th>1</th>\n",
       "      <th>2</th>\n",
       "      <th>3</th>\n",
       "      <th>4</th>\n",
       "      <th>5</th>\n",
       "      <th>6</th>\n",
       "      <th>7</th>\n",
       "      <th>8</th>\n",
       "      <th>9</th>\n",
       "      <th>...</th>\n",
       "      <th>5491</th>\n",
       "      <th>5492</th>\n",
       "      <th>5493</th>\n",
       "      <th>5494</th>\n",
       "      <th>5495</th>\n",
       "      <th>5496</th>\n",
       "      <th>5497</th>\n",
       "      <th>5498</th>\n",
       "      <th>5499</th>\n",
       "      <th>Category</th>\n",
       "    </tr>\n",
       "  </thead>\n",
       "  <tbody>\n",
       "    <tr>\n",
       "      <th>0</th>\n",
       "      <td>8.0</td>\n",
       "      <td>13.67</td>\n",
       "      <td>12.64</td>\n",
       "      <td>0.0</td>\n",
       "      <td>23.11</td>\n",
       "      <td>27.86</td>\n",
       "      <td>7.89</td>\n",
       "      <td>32.71</td>\n",
       "      <td>9.78</td>\n",
       "      <td>8.03</td>\n",
       "      <td>...</td>\n",
       "      <td>0.0</td>\n",
       "      <td>0.0</td>\n",
       "      <td>0.0</td>\n",
       "      <td>0.00</td>\n",
       "      <td>0.0</td>\n",
       "      <td>0.00</td>\n",
       "      <td>0.0</td>\n",
       "      <td>0.0</td>\n",
       "      <td>0.0</td>\n",
       "      <td>0</td>\n",
       "    </tr>\n",
       "    <tr>\n",
       "      <th>2</th>\n",
       "      <td>0.0</td>\n",
       "      <td>0.00</td>\n",
       "      <td>0.00</td>\n",
       "      <td>0.0</td>\n",
       "      <td>0.00</td>\n",
       "      <td>0.00</td>\n",
       "      <td>0.00</td>\n",
       "      <td>8.18</td>\n",
       "      <td>0.00</td>\n",
       "      <td>2.01</td>\n",
       "      <td>...</td>\n",
       "      <td>0.0</td>\n",
       "      <td>0.0</td>\n",
       "      <td>0.0</td>\n",
       "      <td>0.00</td>\n",
       "      <td>0.0</td>\n",
       "      <td>0.00</td>\n",
       "      <td>0.0</td>\n",
       "      <td>0.0</td>\n",
       "      <td>0.0</td>\n",
       "      <td>0</td>\n",
       "    </tr>\n",
       "    <tr>\n",
       "      <th>4</th>\n",
       "      <td>8.0</td>\n",
       "      <td>0.00</td>\n",
       "      <td>0.00</td>\n",
       "      <td>0.0</td>\n",
       "      <td>0.00</td>\n",
       "      <td>0.00</td>\n",
       "      <td>0.00</td>\n",
       "      <td>0.00</td>\n",
       "      <td>0.00</td>\n",
       "      <td>0.00</td>\n",
       "      <td>...</td>\n",
       "      <td>0.0</td>\n",
       "      <td>0.0</td>\n",
       "      <td>0.0</td>\n",
       "      <td>0.00</td>\n",
       "      <td>0.0</td>\n",
       "      <td>0.00</td>\n",
       "      <td>0.0</td>\n",
       "      <td>0.0</td>\n",
       "      <td>0.0</td>\n",
       "      <td>0</td>\n",
       "    </tr>\n",
       "    <tr>\n",
       "      <th>11</th>\n",
       "      <td>0.0</td>\n",
       "      <td>0.00</td>\n",
       "      <td>0.00</td>\n",
       "      <td>0.0</td>\n",
       "      <td>0.00</td>\n",
       "      <td>0.00</td>\n",
       "      <td>0.00</td>\n",
       "      <td>0.00</td>\n",
       "      <td>0.00</td>\n",
       "      <td>0.00</td>\n",
       "      <td>...</td>\n",
       "      <td>0.0</td>\n",
       "      <td>0.0</td>\n",
       "      <td>0.0</td>\n",
       "      <td>0.00</td>\n",
       "      <td>0.0</td>\n",
       "      <td>0.00</td>\n",
       "      <td>0.0</td>\n",
       "      <td>0.0</td>\n",
       "      <td>0.0</td>\n",
       "      <td>0</td>\n",
       "    </tr>\n",
       "    <tr>\n",
       "      <th>12</th>\n",
       "      <td>0.0</td>\n",
       "      <td>0.00</td>\n",
       "      <td>0.00</td>\n",
       "      <td>0.0</td>\n",
       "      <td>0.00</td>\n",
       "      <td>0.00</td>\n",
       "      <td>3.94</td>\n",
       "      <td>0.00</td>\n",
       "      <td>0.00</td>\n",
       "      <td>0.00</td>\n",
       "      <td>...</td>\n",
       "      <td>0.0</td>\n",
       "      <td>0.0</td>\n",
       "      <td>0.0</td>\n",
       "      <td>0.00</td>\n",
       "      <td>0.0</td>\n",
       "      <td>0.00</td>\n",
       "      <td>0.0</td>\n",
       "      <td>0.0</td>\n",
       "      <td>0.0</td>\n",
       "      <td>0</td>\n",
       "    </tr>\n",
       "    <tr>\n",
       "      <th>...</th>\n",
       "      <td>...</td>\n",
       "      <td>...</td>\n",
       "      <td>...</td>\n",
       "      <td>...</td>\n",
       "      <td>...</td>\n",
       "      <td>...</td>\n",
       "      <td>...</td>\n",
       "      <td>...</td>\n",
       "      <td>...</td>\n",
       "      <td>...</td>\n",
       "      <td>...</td>\n",
       "      <td>...</td>\n",
       "      <td>...</td>\n",
       "      <td>...</td>\n",
       "      <td>...</td>\n",
       "      <td>...</td>\n",
       "      <td>...</td>\n",
       "      <td>...</td>\n",
       "      <td>...</td>\n",
       "      <td>...</td>\n",
       "      <td>...</td>\n",
       "    </tr>\n",
       "    <tr>\n",
       "      <th>784</th>\n",
       "      <td>0.0</td>\n",
       "      <td>0.00</td>\n",
       "      <td>0.00</td>\n",
       "      <td>0.0</td>\n",
       "      <td>0.00</td>\n",
       "      <td>4.64</td>\n",
       "      <td>0.00</td>\n",
       "      <td>0.00</td>\n",
       "      <td>0.00</td>\n",
       "      <td>0.00</td>\n",
       "      <td>...</td>\n",
       "      <td>0.0</td>\n",
       "      <td>0.0</td>\n",
       "      <td>0.0</td>\n",
       "      <td>0.00</td>\n",
       "      <td>0.0</td>\n",
       "      <td>8.06</td>\n",
       "      <td>0.0</td>\n",
       "      <td>0.0</td>\n",
       "      <td>0.0</td>\n",
       "      <td>0</td>\n",
       "    </tr>\n",
       "    <tr>\n",
       "      <th>785</th>\n",
       "      <td>0.0</td>\n",
       "      <td>0.00</td>\n",
       "      <td>0.00</td>\n",
       "      <td>0.0</td>\n",
       "      <td>0.00</td>\n",
       "      <td>0.00</td>\n",
       "      <td>0.00</td>\n",
       "      <td>0.00</td>\n",
       "      <td>0.00</td>\n",
       "      <td>0.00</td>\n",
       "      <td>...</td>\n",
       "      <td>0.0</td>\n",
       "      <td>0.0</td>\n",
       "      <td>0.0</td>\n",
       "      <td>8.06</td>\n",
       "      <td>0.0</td>\n",
       "      <td>0.00</td>\n",
       "      <td>0.0</td>\n",
       "      <td>0.0</td>\n",
       "      <td>0.0</td>\n",
       "      <td>0</td>\n",
       "    </tr>\n",
       "    <tr>\n",
       "      <th>790</th>\n",
       "      <td>0.0</td>\n",
       "      <td>0.00</td>\n",
       "      <td>0.00</td>\n",
       "      <td>0.0</td>\n",
       "      <td>0.00</td>\n",
       "      <td>0.00</td>\n",
       "      <td>7.89</td>\n",
       "      <td>8.18</td>\n",
       "      <td>0.00</td>\n",
       "      <td>0.00</td>\n",
       "      <td>...</td>\n",
       "      <td>0.0</td>\n",
       "      <td>0.0</td>\n",
       "      <td>0.0</td>\n",
       "      <td>0.00</td>\n",
       "      <td>0.0</td>\n",
       "      <td>0.00</td>\n",
       "      <td>0.0</td>\n",
       "      <td>0.0</td>\n",
       "      <td>0.0</td>\n",
       "      <td>0</td>\n",
       "    </tr>\n",
       "    <tr>\n",
       "      <th>793</th>\n",
       "      <td>0.0</td>\n",
       "      <td>0.00</td>\n",
       "      <td>0.00</td>\n",
       "      <td>0.0</td>\n",
       "      <td>0.00</td>\n",
       "      <td>0.00</td>\n",
       "      <td>0.00</td>\n",
       "      <td>0.00</td>\n",
       "      <td>0.00</td>\n",
       "      <td>0.00</td>\n",
       "      <td>...</td>\n",
       "      <td>0.0</td>\n",
       "      <td>0.0</td>\n",
       "      <td>0.0</td>\n",
       "      <td>0.00</td>\n",
       "      <td>0.0</td>\n",
       "      <td>0.00</td>\n",
       "      <td>0.0</td>\n",
       "      <td>0.0</td>\n",
       "      <td>0.0</td>\n",
       "      <td>0</td>\n",
       "    </tr>\n",
       "    <tr>\n",
       "      <th>795</th>\n",
       "      <td>0.0</td>\n",
       "      <td>0.00</td>\n",
       "      <td>0.00</td>\n",
       "      <td>0.0</td>\n",
       "      <td>0.00</td>\n",
       "      <td>0.00</td>\n",
       "      <td>0.00</td>\n",
       "      <td>0.00</td>\n",
       "      <td>0.00</td>\n",
       "      <td>0.00</td>\n",
       "      <td>...</td>\n",
       "      <td>0.0</td>\n",
       "      <td>0.0</td>\n",
       "      <td>0.0</td>\n",
       "      <td>0.00</td>\n",
       "      <td>0.0</td>\n",
       "      <td>0.00</td>\n",
       "      <td>0.0</td>\n",
       "      <td>0.0</td>\n",
       "      <td>0.0</td>\n",
       "      <td>0</td>\n",
       "    </tr>\n",
       "  </tbody>\n",
       "</table>\n",
       "<p>401 rows × 5501 columns</p>\n",
       "</div>"
      ],
      "text/plain": [
       "       0      1      2    3      4      5     6      7     8     9  ...  5491  \\\n",
       "0    8.0  13.67  12.64  0.0  23.11  27.86  7.89  32.71  9.78  8.03  ...   0.0   \n",
       "2    0.0   0.00   0.00  0.0   0.00   0.00  0.00   8.18  0.00  2.01  ...   0.0   \n",
       "4    8.0   0.00   0.00  0.0   0.00   0.00  0.00   0.00  0.00  0.00  ...   0.0   \n",
       "11   0.0   0.00   0.00  0.0   0.00   0.00  0.00   0.00  0.00  0.00  ...   0.0   \n",
       "12   0.0   0.00   0.00  0.0   0.00   0.00  3.94   0.00  0.00  0.00  ...   0.0   \n",
       "..   ...    ...    ...  ...    ...    ...   ...    ...   ...   ...  ...   ...   \n",
       "784  0.0   0.00   0.00  0.0   0.00   4.64  0.00   0.00  0.00  0.00  ...   0.0   \n",
       "785  0.0   0.00   0.00  0.0   0.00   0.00  0.00   0.00  0.00  0.00  ...   0.0   \n",
       "790  0.0   0.00   0.00  0.0   0.00   0.00  7.89   8.18  0.00  0.00  ...   0.0   \n",
       "793  0.0   0.00   0.00  0.0   0.00   0.00  0.00   0.00  0.00  0.00  ...   0.0   \n",
       "795  0.0   0.00   0.00  0.0   0.00   0.00  0.00   0.00  0.00  0.00  ...   0.0   \n",
       "\n",
       "     5492  5493  5494  5495  5496  5497  5498  5499  Category  \n",
       "0     0.0   0.0  0.00   0.0  0.00   0.0   0.0   0.0         0  \n",
       "2     0.0   0.0  0.00   0.0  0.00   0.0   0.0   0.0         0  \n",
       "4     0.0   0.0  0.00   0.0  0.00   0.0   0.0   0.0         0  \n",
       "11    0.0   0.0  0.00   0.0  0.00   0.0   0.0   0.0         0  \n",
       "12    0.0   0.0  0.00   0.0  0.00   0.0   0.0   0.0         0  \n",
       "..    ...   ...   ...   ...   ...   ...   ...   ...       ...  \n",
       "784   0.0   0.0  0.00   0.0  8.06   0.0   0.0   0.0         0  \n",
       "785   0.0   0.0  8.06   0.0  0.00   0.0   0.0   0.0         0  \n",
       "790   0.0   0.0  0.00   0.0  0.00   0.0   0.0   0.0         0  \n",
       "793   0.0   0.0  0.00   0.0  0.00   0.0   0.0   0.0         0  \n",
       "795   0.0   0.0  0.00   0.0  0.00   0.0   0.0   0.0         0  \n",
       "\n",
       "[401 rows x 5501 columns]"
      ]
     },
     "execution_count": 163,
     "metadata": {},
     "output_type": "execute_result"
    }
   ],
   "source": [
    "CatZero = DT_tfidf[(DT_tfidf.Category==0)]\n",
    "CatZero\n"
   ]
  },
  {
   "cell_type": "code",
   "execution_count": 164,
   "metadata": {},
   "outputs": [
    {
     "data": {
      "text/html": [
       "<div>\n",
       "<style scoped>\n",
       "    .dataframe tbody tr th:only-of-type {\n",
       "        vertical-align: middle;\n",
       "    }\n",
       "\n",
       "    .dataframe tbody tr th {\n",
       "        vertical-align: top;\n",
       "    }\n",
       "\n",
       "    .dataframe thead th {\n",
       "        text-align: right;\n",
       "    }\n",
       "</style>\n",
       "<table border=\"1\" class=\"dataframe\">\n",
       "  <thead>\n",
       "    <tr style=\"text-align: right;\">\n",
       "      <th></th>\n",
       "      <th>0</th>\n",
       "      <th>1</th>\n",
       "      <th>2</th>\n",
       "      <th>3</th>\n",
       "      <th>4</th>\n",
       "      <th>5</th>\n",
       "      <th>6</th>\n",
       "      <th>7</th>\n",
       "      <th>8</th>\n",
       "      <th>9</th>\n",
       "      <th>...</th>\n",
       "      <th>5491</th>\n",
       "      <th>5492</th>\n",
       "      <th>5493</th>\n",
       "      <th>5494</th>\n",
       "      <th>5495</th>\n",
       "      <th>5496</th>\n",
       "      <th>5497</th>\n",
       "      <th>5498</th>\n",
       "      <th>5499</th>\n",
       "      <th>Category</th>\n",
       "    </tr>\n",
       "  </thead>\n",
       "  <tbody>\n",
       "    <tr>\n",
       "      <th>1</th>\n",
       "      <td>0.0</td>\n",
       "      <td>0.0</td>\n",
       "      <td>0.0</td>\n",
       "      <td>0.0</td>\n",
       "      <td>2.89</td>\n",
       "      <td>0.0</td>\n",
       "      <td>0.0</td>\n",
       "      <td>0.0</td>\n",
       "      <td>0.0</td>\n",
       "      <td>0.00</td>\n",
       "      <td>...</td>\n",
       "      <td>0.0</td>\n",
       "      <td>0.0</td>\n",
       "      <td>0.0</td>\n",
       "      <td>0.0</td>\n",
       "      <td>0.0</td>\n",
       "      <td>0.0</td>\n",
       "      <td>0.0</td>\n",
       "      <td>0.0</td>\n",
       "      <td>0.0</td>\n",
       "      <td>1</td>\n",
       "    </tr>\n",
       "    <tr>\n",
       "      <th>3</th>\n",
       "      <td>8.0</td>\n",
       "      <td>0.0</td>\n",
       "      <td>0.0</td>\n",
       "      <td>0.0</td>\n",
       "      <td>0.00</td>\n",
       "      <td>0.0</td>\n",
       "      <td>0.0</td>\n",
       "      <td>0.0</td>\n",
       "      <td>0.0</td>\n",
       "      <td>0.00</td>\n",
       "      <td>...</td>\n",
       "      <td>0.0</td>\n",
       "      <td>0.0</td>\n",
       "      <td>0.0</td>\n",
       "      <td>0.0</td>\n",
       "      <td>0.0</td>\n",
       "      <td>0.0</td>\n",
       "      <td>0.0</td>\n",
       "      <td>0.0</td>\n",
       "      <td>0.0</td>\n",
       "      <td>1</td>\n",
       "    </tr>\n",
       "    <tr>\n",
       "      <th>5</th>\n",
       "      <td>0.0</td>\n",
       "      <td>0.0</td>\n",
       "      <td>0.0</td>\n",
       "      <td>0.0</td>\n",
       "      <td>0.00</td>\n",
       "      <td>0.0</td>\n",
       "      <td>0.0</td>\n",
       "      <td>0.0</td>\n",
       "      <td>0.0</td>\n",
       "      <td>0.00</td>\n",
       "      <td>...</td>\n",
       "      <td>0.0</td>\n",
       "      <td>0.0</td>\n",
       "      <td>0.0</td>\n",
       "      <td>0.0</td>\n",
       "      <td>0.0</td>\n",
       "      <td>0.0</td>\n",
       "      <td>0.0</td>\n",
       "      <td>0.0</td>\n",
       "      <td>0.0</td>\n",
       "      <td>1</td>\n",
       "    </tr>\n",
       "    <tr>\n",
       "      <th>6</th>\n",
       "      <td>0.0</td>\n",
       "      <td>0.0</td>\n",
       "      <td>0.0</td>\n",
       "      <td>0.0</td>\n",
       "      <td>0.00</td>\n",
       "      <td>0.0</td>\n",
       "      <td>0.0</td>\n",
       "      <td>0.0</td>\n",
       "      <td>0.0</td>\n",
       "      <td>0.00</td>\n",
       "      <td>...</td>\n",
       "      <td>0.0</td>\n",
       "      <td>0.0</td>\n",
       "      <td>0.0</td>\n",
       "      <td>0.0</td>\n",
       "      <td>0.0</td>\n",
       "      <td>0.0</td>\n",
       "      <td>0.0</td>\n",
       "      <td>0.0</td>\n",
       "      <td>0.0</td>\n",
       "      <td>1</td>\n",
       "    </tr>\n",
       "    <tr>\n",
       "      <th>7</th>\n",
       "      <td>0.0</td>\n",
       "      <td>0.0</td>\n",
       "      <td>0.0</td>\n",
       "      <td>0.0</td>\n",
       "      <td>0.00</td>\n",
       "      <td>0.0</td>\n",
       "      <td>0.0</td>\n",
       "      <td>0.0</td>\n",
       "      <td>0.0</td>\n",
       "      <td>4.01</td>\n",
       "      <td>...</td>\n",
       "      <td>0.0</td>\n",
       "      <td>0.0</td>\n",
       "      <td>0.0</td>\n",
       "      <td>0.0</td>\n",
       "      <td>0.0</td>\n",
       "      <td>0.0</td>\n",
       "      <td>0.0</td>\n",
       "      <td>0.0</td>\n",
       "      <td>0.0</td>\n",
       "      <td>1</td>\n",
       "    </tr>\n",
       "    <tr>\n",
       "      <th>...</th>\n",
       "      <td>...</td>\n",
       "      <td>...</td>\n",
       "      <td>...</td>\n",
       "      <td>...</td>\n",
       "      <td>...</td>\n",
       "      <td>...</td>\n",
       "      <td>...</td>\n",
       "      <td>...</td>\n",
       "      <td>...</td>\n",
       "      <td>...</td>\n",
       "      <td>...</td>\n",
       "      <td>...</td>\n",
       "      <td>...</td>\n",
       "      <td>...</td>\n",
       "      <td>...</td>\n",
       "      <td>...</td>\n",
       "      <td>...</td>\n",
       "      <td>...</td>\n",
       "      <td>...</td>\n",
       "      <td>...</td>\n",
       "      <td>...</td>\n",
       "    </tr>\n",
       "    <tr>\n",
       "      <th>794</th>\n",
       "      <td>0.0</td>\n",
       "      <td>0.0</td>\n",
       "      <td>0.0</td>\n",
       "      <td>0.0</td>\n",
       "      <td>0.00</td>\n",
       "      <td>0.0</td>\n",
       "      <td>0.0</td>\n",
       "      <td>0.0</td>\n",
       "      <td>0.0</td>\n",
       "      <td>2.01</td>\n",
       "      <td>...</td>\n",
       "      <td>0.0</td>\n",
       "      <td>0.0</td>\n",
       "      <td>0.0</td>\n",
       "      <td>0.0</td>\n",
       "      <td>0.0</td>\n",
       "      <td>0.0</td>\n",
       "      <td>0.0</td>\n",
       "      <td>0.0</td>\n",
       "      <td>0.0</td>\n",
       "      <td>1</td>\n",
       "    </tr>\n",
       "    <tr>\n",
       "      <th>796</th>\n",
       "      <td>0.0</td>\n",
       "      <td>0.0</td>\n",
       "      <td>0.0</td>\n",
       "      <td>0.0</td>\n",
       "      <td>0.00</td>\n",
       "      <td>0.0</td>\n",
       "      <td>0.0</td>\n",
       "      <td>0.0</td>\n",
       "      <td>0.0</td>\n",
       "      <td>0.00</td>\n",
       "      <td>...</td>\n",
       "      <td>0.0</td>\n",
       "      <td>0.0</td>\n",
       "      <td>0.0</td>\n",
       "      <td>0.0</td>\n",
       "      <td>0.0</td>\n",
       "      <td>0.0</td>\n",
       "      <td>0.0</td>\n",
       "      <td>0.0</td>\n",
       "      <td>0.0</td>\n",
       "      <td>1</td>\n",
       "    </tr>\n",
       "    <tr>\n",
       "      <th>797</th>\n",
       "      <td>0.0</td>\n",
       "      <td>0.0</td>\n",
       "      <td>0.0</td>\n",
       "      <td>0.0</td>\n",
       "      <td>0.00</td>\n",
       "      <td>0.0</td>\n",
       "      <td>0.0</td>\n",
       "      <td>0.0</td>\n",
       "      <td>0.0</td>\n",
       "      <td>0.00</td>\n",
       "      <td>...</td>\n",
       "      <td>0.0</td>\n",
       "      <td>0.0</td>\n",
       "      <td>0.0</td>\n",
       "      <td>0.0</td>\n",
       "      <td>0.0</td>\n",
       "      <td>0.0</td>\n",
       "      <td>0.0</td>\n",
       "      <td>0.0</td>\n",
       "      <td>0.0</td>\n",
       "      <td>1</td>\n",
       "    </tr>\n",
       "    <tr>\n",
       "      <th>798</th>\n",
       "      <td>0.0</td>\n",
       "      <td>0.0</td>\n",
       "      <td>0.0</td>\n",
       "      <td>0.0</td>\n",
       "      <td>0.00</td>\n",
       "      <td>0.0</td>\n",
       "      <td>0.0</td>\n",
       "      <td>0.0</td>\n",
       "      <td>0.0</td>\n",
       "      <td>0.00</td>\n",
       "      <td>...</td>\n",
       "      <td>0.0</td>\n",
       "      <td>0.0</td>\n",
       "      <td>0.0</td>\n",
       "      <td>0.0</td>\n",
       "      <td>0.0</td>\n",
       "      <td>0.0</td>\n",
       "      <td>0.0</td>\n",
       "      <td>0.0</td>\n",
       "      <td>0.0</td>\n",
       "      <td>1</td>\n",
       "    </tr>\n",
       "    <tr>\n",
       "      <th>799</th>\n",
       "      <td>0.0</td>\n",
       "      <td>0.0</td>\n",
       "      <td>0.0</td>\n",
       "      <td>0.0</td>\n",
       "      <td>2.89</td>\n",
       "      <td>0.0</td>\n",
       "      <td>0.0</td>\n",
       "      <td>0.0</td>\n",
       "      <td>0.0</td>\n",
       "      <td>0.00</td>\n",
       "      <td>...</td>\n",
       "      <td>0.0</td>\n",
       "      <td>0.0</td>\n",
       "      <td>0.0</td>\n",
       "      <td>0.0</td>\n",
       "      <td>0.0</td>\n",
       "      <td>0.0</td>\n",
       "      <td>0.0</td>\n",
       "      <td>0.0</td>\n",
       "      <td>0.0</td>\n",
       "      <td>1</td>\n",
       "    </tr>\n",
       "  </tbody>\n",
       "</table>\n",
       "<p>399 rows × 5501 columns</p>\n",
       "</div>"
      ],
      "text/plain": [
       "       0    1    2    3     4    5    6    7    8     9  ...  5491  5492  \\\n",
       "1    0.0  0.0  0.0  0.0  2.89  0.0  0.0  0.0  0.0  0.00  ...   0.0   0.0   \n",
       "3    8.0  0.0  0.0  0.0  0.00  0.0  0.0  0.0  0.0  0.00  ...   0.0   0.0   \n",
       "5    0.0  0.0  0.0  0.0  0.00  0.0  0.0  0.0  0.0  0.00  ...   0.0   0.0   \n",
       "6    0.0  0.0  0.0  0.0  0.00  0.0  0.0  0.0  0.0  0.00  ...   0.0   0.0   \n",
       "7    0.0  0.0  0.0  0.0  0.00  0.0  0.0  0.0  0.0  4.01  ...   0.0   0.0   \n",
       "..   ...  ...  ...  ...   ...  ...  ...  ...  ...   ...  ...   ...   ...   \n",
       "794  0.0  0.0  0.0  0.0  0.00  0.0  0.0  0.0  0.0  2.01  ...   0.0   0.0   \n",
       "796  0.0  0.0  0.0  0.0  0.00  0.0  0.0  0.0  0.0  0.00  ...   0.0   0.0   \n",
       "797  0.0  0.0  0.0  0.0  0.00  0.0  0.0  0.0  0.0  0.00  ...   0.0   0.0   \n",
       "798  0.0  0.0  0.0  0.0  0.00  0.0  0.0  0.0  0.0  0.00  ...   0.0   0.0   \n",
       "799  0.0  0.0  0.0  0.0  2.89  0.0  0.0  0.0  0.0  0.00  ...   0.0   0.0   \n",
       "\n",
       "     5493  5494  5495  5496  5497  5498  5499  Category  \n",
       "1     0.0   0.0   0.0   0.0   0.0   0.0   0.0         1  \n",
       "3     0.0   0.0   0.0   0.0   0.0   0.0   0.0         1  \n",
       "5     0.0   0.0   0.0   0.0   0.0   0.0   0.0         1  \n",
       "6     0.0   0.0   0.0   0.0   0.0   0.0   0.0         1  \n",
       "7     0.0   0.0   0.0   0.0   0.0   0.0   0.0         1  \n",
       "..    ...   ...   ...   ...   ...   ...   ...       ...  \n",
       "794   0.0   0.0   0.0   0.0   0.0   0.0   0.0         1  \n",
       "796   0.0   0.0   0.0   0.0   0.0   0.0   0.0         1  \n",
       "797   0.0   0.0   0.0   0.0   0.0   0.0   0.0         1  \n",
       "798   0.0   0.0   0.0   0.0   0.0   0.0   0.0         1  \n",
       "799   0.0   0.0   0.0   0.0   0.0   0.0   0.0         1  \n",
       "\n",
       "[399 rows x 5501 columns]"
      ]
     },
     "execution_count": 164,
     "metadata": {},
     "output_type": "execute_result"
    }
   ],
   "source": [
    "CatOne = DT_tfidf[(DT_tfidf.Category==1)]\n",
    "CatOne"
   ]
  },
  {
   "cell_type": "code",
   "execution_count": 165,
   "metadata": {},
   "outputs": [],
   "source": [
    "def groupedAvg(myArray, N=2):\n",
    "    result = np.cumsum(myArray, 0)[N-1::N]/float(N)\n",
    "    result[1:] = result[1:] - result[:-1]\n",
    "    return result"
   ]
  },
  {
   "cell_type": "code",
   "execution_count": 166,
   "metadata": {},
   "outputs": [
    {
     "data": {
      "text/html": [
       "<div>\n",
       "<style scoped>\n",
       "    .dataframe tbody tr th:only-of-type {\n",
       "        vertical-align: middle;\n",
       "    }\n",
       "\n",
       "    .dataframe tbody tr th {\n",
       "        vertical-align: top;\n",
       "    }\n",
       "\n",
       "    .dataframe thead th {\n",
       "        text-align: right;\n",
       "    }\n",
       "</style>\n",
       "<table border=\"1\" class=\"dataframe\">\n",
       "  <thead>\n",
       "    <tr style=\"text-align: right;\">\n",
       "      <th></th>\n",
       "      <th>0</th>\n",
       "      <th>1</th>\n",
       "      <th>2</th>\n",
       "      <th>3</th>\n",
       "      <th>4</th>\n",
       "      <th>5</th>\n",
       "      <th>6</th>\n",
       "      <th>7</th>\n",
       "      <th>8</th>\n",
       "      <th>9</th>\n",
       "      <th>...</th>\n",
       "      <th>5491</th>\n",
       "      <th>5492</th>\n",
       "      <th>5493</th>\n",
       "      <th>5494</th>\n",
       "      <th>5495</th>\n",
       "      <th>5496</th>\n",
       "      <th>5497</th>\n",
       "      <th>5498</th>\n",
       "      <th>5499</th>\n",
       "      <th>Category</th>\n",
       "    </tr>\n",
       "  </thead>\n",
       "  <tbody>\n",
       "    <tr>\n",
       "      <th>795</th>\n",
       "      <td>0.57</td>\n",
       "      <td>0.07</td>\n",
       "      <td>0.08</td>\n",
       "      <td>0.0</td>\n",
       "      <td>1.13</td>\n",
       "      <td>0.97</td>\n",
       "      <td>0.97</td>\n",
       "      <td>2.67</td>\n",
       "      <td>0.66</td>\n",
       "      <td>0.63</td>\n",
       "      <td>...</td>\n",
       "      <td>0.0</td>\n",
       "      <td>0.02</td>\n",
       "      <td>0.04</td>\n",
       "      <td>0.06</td>\n",
       "      <td>0.04</td>\n",
       "      <td>0.06</td>\n",
       "      <td>0.02</td>\n",
       "      <td>0.04</td>\n",
       "      <td>0.04</td>\n",
       "      <td>0.0</td>\n",
       "    </tr>\n",
       "  </tbody>\n",
       "</table>\n",
       "<p>1 rows × 5501 columns</p>\n",
       "</div>"
      ],
      "text/plain": [
       "        0     1     2    3     4     5     6     7     8     9  ...  5491  \\\n",
       "795  0.57  0.07  0.08  0.0  1.13  0.97  0.97  2.67  0.66  0.63  ...   0.0   \n",
       "\n",
       "     5492  5493  5494  5495  5496  5497  5498  5499  Category  \n",
       "795  0.02  0.04  0.06  0.04  0.06  0.02  0.04  0.04       0.0  \n",
       "\n",
       "[1 rows x 5501 columns]"
      ]
     },
     "execution_count": 166,
     "metadata": {},
     "output_type": "execute_result"
    }
   ],
   "source": [
    "resultZero = groupedAvg(CatZero, N=401)\n",
    "resultZero"
   ]
  },
  {
   "cell_type": "code",
   "execution_count": 167,
   "metadata": {},
   "outputs": [
    {
     "data": {
      "text/html": [
       "<div>\n",
       "<style scoped>\n",
       "    .dataframe tbody tr th:only-of-type {\n",
       "        vertical-align: middle;\n",
       "    }\n",
       "\n",
       "    .dataframe tbody tr th {\n",
       "        vertical-align: top;\n",
       "    }\n",
       "\n",
       "    .dataframe thead th {\n",
       "        text-align: right;\n",
       "    }\n",
       "</style>\n",
       "<table border=\"1\" class=\"dataframe\">\n",
       "  <thead>\n",
       "    <tr style=\"text-align: right;\">\n",
       "      <th></th>\n",
       "      <th>0</th>\n",
       "      <th>1</th>\n",
       "      <th>2</th>\n",
       "      <th>3</th>\n",
       "      <th>4</th>\n",
       "      <th>5</th>\n",
       "      <th>6</th>\n",
       "      <th>7</th>\n",
       "      <th>8</th>\n",
       "      <th>9</th>\n",
       "      <th>...</th>\n",
       "      <th>5491</th>\n",
       "      <th>5492</th>\n",
       "      <th>5493</th>\n",
       "      <th>5494</th>\n",
       "      <th>5495</th>\n",
       "      <th>5496</th>\n",
       "      <th>5497</th>\n",
       "      <th>5498</th>\n",
       "      <th>5499</th>\n",
       "      <th>Category</th>\n",
       "    </tr>\n",
       "  </thead>\n",
       "  <tbody>\n",
       "    <tr>\n",
       "      <th>799</th>\n",
       "      <td>0.45</td>\n",
       "      <td>0.12</td>\n",
       "      <td>0.27</td>\n",
       "      <td>0.0</td>\n",
       "      <td>0.47</td>\n",
       "      <td>0.0</td>\n",
       "      <td>0.09</td>\n",
       "      <td>0.0</td>\n",
       "      <td>0.01</td>\n",
       "      <td>0.97</td>\n",
       "      <td>...</td>\n",
       "      <td>0.04</td>\n",
       "      <td>0.0</td>\n",
       "      <td>0.0</td>\n",
       "      <td>0.0</td>\n",
       "      <td>0.02</td>\n",
       "      <td>0.0</td>\n",
       "      <td>0.02</td>\n",
       "      <td>0.0</td>\n",
       "      <td>0.0</td>\n",
       "      <td>1.0</td>\n",
       "    </tr>\n",
       "  </tbody>\n",
       "</table>\n",
       "<p>1 rows × 5501 columns</p>\n",
       "</div>"
      ],
      "text/plain": [
       "        0     1     2    3     4    5     6    7     8     9  ...  5491  5492  \\\n",
       "799  0.45  0.12  0.27  0.0  0.47  0.0  0.09  0.0  0.01  0.97  ...  0.04   0.0   \n",
       "\n",
       "     5493  5494  5495  5496  5497  5498  5499  Category  \n",
       "799   0.0   0.0  0.02   0.0  0.02   0.0   0.0       1.0  \n",
       "\n",
       "[1 rows x 5501 columns]"
      ]
     },
     "execution_count": 167,
     "metadata": {},
     "output_type": "execute_result"
    }
   ],
   "source": [
    "resultOne = groupedAvg(CatOne, N=399)\n",
    "resultOne"
   ]
  },
  {
   "cell_type": "code",
   "execution_count": 168,
   "metadata": {},
   "outputs": [
    {
     "data": {
      "text/plain": [
       "array([[0.57, 0.07, 0.08, ..., 0.04, 0.04, 0.  ],\n",
       "       [0.45, 0.12, 0.27, ..., 0.  , 0.  , 1.  ]])"
      ]
     },
     "execution_count": 168,
     "metadata": {},
     "output_type": "execute_result"
    }
   ],
   "source": [
    "ClassVectors = np.concatenate((resultZero, resultOne))\n",
    "ClassVectors"
   ]
  },
  {
   "cell_type": "code",
   "execution_count": 169,
   "metadata": {},
   "outputs": [
    {
     "data": {
      "text/plain": [
       "array([[0.57, 0.07, 0.08, ..., 0.02, 0.04, 0.04],\n",
       "       [0.45, 0.12, 0.27, ..., 0.02, 0.  , 0.  ]])"
      ]
     },
     "execution_count": 169,
     "metadata": {},
     "output_type": "execute_result"
    }
   ],
   "source": [
    "Vectors = np.delete(ClassVectors, -1, 1)\n",
    "Vectors\n"
   ]
  },
  {
   "cell_type": "code",
   "execution_count": 170,
   "metadata": {},
   "outputs": [],
   "source": [
    "def knn_search(x, D, K, measure):\n",
    "    \"\"\" find K nearest neighbors of an instance x among the instances in D \"\"\"\n",
    "    if measure == 0:\n",
    "        # euclidean distances from the other points\n",
    "        dists = np.sqrt(((D - x)**2).sum(axis=1))\n",
    "    elif measure == 1:\n",
    "        # first find the vector norm for each instance in D as wel as the norm for vector x\n",
    "        D_norm = np.array([np.linalg.norm(D[i]) for i in range(len(D))])\n",
    "        x_norm = np.linalg.norm(x)\n",
    "        # Compute Cosine: divide the dot product o x and each instance in D by the product of the two norms\n",
    "        sims = np.dot(D,x)/(D_norm * x_norm)\n",
    "        # The distance measure will be the inverse of Cosine similarity\n",
    "        dists = 1 - sims\n",
    "    idx = np.argsort(dists) # sorting\n",
    "    # return the indexes of K nearest neighbors\n",
    "    neigh_idx = idx[:K]\n",
    "    Class = neigh_idx[0]\n",
    "    dist1 = dists[0]\n",
    "    dist2 = dists[1]\n",
    "    return Class, dist1, dist2"
   ]
  },
  {
   "cell_type": "code",
   "execution_count": 171,
   "metadata": {},
   "outputs": [],
   "source": [
    "x = test[0]\n",
    "x_tfidf = x * IDF.T[0] \n",
    "x_tfidf = np.array(x_tfidf)"
   ]
  },
  {
   "cell_type": "code",
   "execution_count": 172,
   "metadata": {},
   "outputs": [
    {
     "name": "stdout",
     "output_type": "stream",
     "text": [
      "The predicted Class is 1, the distance to Class 0 or microsft is 0.9341110863934807, and the distance to Class 1 or Hockey is 0.7573582544838914\n"
     ]
    }
   ],
   "source": [
    "Class, dist1, dist2 = knn_search(x_tfidf, Vectors, 1, 1)\n",
    "print('The predicted Class is {}, the distance to Class 0 or microsft is {}, and the distance to Class 1 or Hockey is {}'.format(Class, dist1, dist2))"
   ]
  },
  {
   "cell_type": "code",
   "execution_count": 173,
   "metadata": {},
   "outputs": [],
   "source": [
    "def Accuracy(TestD, TargetTest, K, measure):\n",
    "    errors = 0\n",
    "    total = 0\n",
    "    correct = 0\n",
    "    for row in TestD:\n",
    "        x_tfidf = row * IDF.T[0] \n",
    "        x_tfidf = np.array(x_tfidf)\n",
    "        rowNum = total\n",
    "        total += 1\n",
    "        Class, dist1, dist2 = knn_search(x_tfidf, Vectors, K, measure)\n",
    "        actual = TargetTest[rowNum][1]\n",
    "        if Class == actual:\n",
    "            correct += 1\n",
    "        else:\n",
    "            errors +=1\n",
    "    accuracy = correct/total\n",
    "    return accuracy\n"
   ]
  },
  {
   "cell_type": "code",
   "execution_count": 174,
   "metadata": {
    "scrolled": true
   },
   "outputs": [
    {
     "data": {
      "text/plain": [
       "0.51"
      ]
     },
     "execution_count": 174,
     "metadata": {},
     "output_type": "execute_result"
    }
   ],
   "source": [
    "accuracy = Accuracy(DT_array, T_test, 1, 1)\n",
    "accuracy"
   ]
  },
  {
   "cell_type": "markdown",
   "metadata": {},
   "source": [
    "### Accuracy analysis\n",
    "#### The accuracy of this model is 51%. This is less accurate than the previous model according the Euclidean distance measure which saw a peak of about 55% and about the same level of accuracy according to the Cosine distance measure, which peaked around 51.4%. "
   ]
  }
 ],
 "metadata": {
  "kernelspec": {
   "display_name": "Python 3",
   "language": "python",
   "name": "python3"
  },
  "language_info": {
   "codemirror_mode": {
    "name": "ipython",
    "version": 3
   },
   "file_extension": ".py",
   "mimetype": "text/x-python",
   "name": "python",
   "nbconvert_exporter": "python",
   "pygments_lexer": "ipython3",
   "version": "3.8.3"
  }
 },
 "nbformat": 4,
 "nbformat_minor": 4
}
