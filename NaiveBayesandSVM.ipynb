{
 "cells": [
  {
   "cell_type": "markdown",
   "metadata": {},
   "source": [
    "# Naives Bayes Classifier and Support Vector Machine Analysis"
   ]
  },
  {
   "cell_type": "markdown",
   "metadata": {},
   "source": [
    "##### Load Packages for analysis"
   ]
  },
  {
   "cell_type": "code",
   "execution_count": 1,
   "metadata": {},
   "outputs": [],
   "source": [
    "import numpy as np\n",
    "import pandas as pd\n",
    "import matplotlib.pyplot as plt\n",
    "from sklearn import naive_bayes\n",
    "from sklearn.metrics import classification_report\n",
    "from sklearn.discriminant_analysis import LinearDiscriminantAnalysis\n",
    "from sklearn import preprocessing\n",
    "from sklearn.svm import SVC\n",
    "from sklearn.model_selection import GridSearchCV\n",
    "from sklearn.metrics import confusion_matrix, accuracy_score\n",
    "import seaborn as sns; sns.set()"
   ]
  },
  {
   "cell_type": "code",
   "execution_count": 2,
   "metadata": {},
   "outputs": [],
   "source": [
    "train_data_norm = pd.read_csv('../data/train_data_z.csv')\n",
    "test_data_norm = pd.read_csv('../data/test_data_z.csv')\n",
    "train_target = pd.read_csv('../data/train_target.csv', index_col=0)\n",
    "test_target = pd.read_csv('../data/test_target.csv',index_col=0)\n",
    "train_PCA1 = pd.read_csv('../data/train_pca1.csv', header = None, delimiter = ' ')\n",
    "test_PCA1 = pd.read_csv('../data/test_pca1.csv', header = None, delimiter = ' ')\n",
    "train_PCA2 = pd.read_csv('../data/train_pca2.csv', header = None, delimiter = ' ')\n",
    "test_PCA2 = pd.read_csv('../data/test_pca2.csv',header = None, delimiter = ' ')\n",
    "train_target_ravel = np.array(train_target).ravel()\n",
    "test_target_ravel = np.array(test_target).ravel()\n",
    "cats = train_target['price_range'].unique()"
   ]
  },
  {
   "cell_type": "code",
   "execution_count": 3,
   "metadata": {},
   "outputs": [
    {
     "data": {
      "text/plain": [
       "(1600, 1)"
      ]
     },
     "execution_count": 3,
     "metadata": {},
     "output_type": "execute_result"
    }
   ],
   "source": [
    "train_target.shape"
   ]
  },
  {
   "cell_type": "markdown",
   "metadata": {},
   "source": [
    "# Naives Bayes"
   ]
  },
  {
   "cell_type": "markdown",
   "metadata": {},
   "source": [
    "##### Gaussian - Full Normalized Data"
   ]
  },
  {
   "cell_type": "code",
   "execution_count": 4,
   "metadata": {},
   "outputs": [
    {
     "name": "stdout",
     "output_type": "stream",
     "text": [
      "Training Score: 0.5375 \n",
      "Testing Score: 0.555\n"
     ]
    }
   ],
   "source": [
    "nbclf = naive_bayes.GaussianNB()\n",
    "nbclf = nbclf.fit(train_data_norm,train_target_ravel)\n",
    "nbclfPred = nbclf.predict(test_data_norm)\n",
    "trainScore = nbclf.score(train_data_norm, train_target)\n",
    "testScore = nbclf.score(test_data_norm, test_target)\n",
    "print(\"Training Score: {} \\nTesting Score: {}\".format(trainScore, testScore))"
   ]
  },
  {
   "cell_type": "code",
   "execution_count": 5,
   "metadata": {},
   "outputs": [
    {
     "name": "stdout",
     "output_type": "stream",
     "text": [
      "[[55  6  0  0]\n",
      " [39 71 42 12]\n",
      " [ 0  3  5  4]\n",
      " [ 0 26 46 91]]\n"
     ]
    },
    {
     "data": {
      "text/plain": [
       "Text(39.5, 0.5, 'True label')"
      ]
     },
     "execution_count": 5,
     "metadata": {},
     "output_type": "execute_result"
    },
    {
     "data": {
      "image/png": "[encoded data removed]",
      "text/plain": [
       "<Figure size 504x504 with 2 Axes>"
      ]
     },
     "metadata": {},
     "output_type": "display_data"
    }
   ],
   "source": [
    "cm = confusion_matrix(nbclfPred, test_target)\n",
    "print(cm)\n",
    "fig, ax = plt.subplots(figsize=(7,7))\n",
    "ax = sns.heatmap(cm.T, square=True, linecolor='grey', linewidths=1, annot=True, \n",
    "            fmt='d', cbar=True, cmap='Reds', ax=ax, annot_kws={\"fontsize\":12, \"weight\":\"bold\"},\n",
    "            xticklabels= cats,\n",
    "            yticklabels= cats)\n",
    "bottom, top = ax.get_ylim()\n",
    "ax.set_ylim(bottom + 0.5, top - 0.5)\n",
    "plt.xlabel('Predicted label')\n",
    "plt.ylabel('True label')"
   ]
  },
  {
   "cell_type": "markdown",
   "metadata": {},
   "source": [
    "##### Gaussian - PCA1"
   ]
  },
  {
   "cell_type": "code",
   "execution_count": 6,
   "metadata": {},
   "outputs": [
    {
     "name": "stdout",
     "output_type": "stream",
     "text": [
      "Training Score: 0.464375 \n",
      "Testing Score: 0.4825\n"
     ]
    }
   ],
   "source": [
    "nbclf = naive_bayes.GaussianNB()\n",
    "nbclf = nbclf.fit(train_PCA1,train_target_ravel)\n",
    "nbclfPred = nbclf.predict(test_PCA1)\n",
    "trainScore = nbclf.score(train_PCA1, train_target)\n",
    "testScore = nbclf.score(test_PCA1, test_target)\n",
    "print(\"Training Score: {} \\nTesting Score: {}\".format(trainScore, testScore))"
   ]
  },
  {
   "cell_type": "code",
   "execution_count": 7,
   "metadata": {},
   "outputs": [
    {
     "name": "stdout",
     "output_type": "stream",
     "text": [
      "[[69 34  7  0]\n",
      " [ 9 16 19  2]\n",
      " [ 6 18 14 11]\n",
      " [10 38 53 94]]\n"
     ]
    },
    {
     "data": {
      "text/plain": [
       "Text(39.5, 0.5, 'True label')"
      ]
     },
     "execution_count": 7,
     "metadata": {},
     "output_type": "execute_result"
    },
    {
     "data": {
      "image/png": "[encoded data removed]",
      "text/plain": [
       "<Figure size 504x504 with 2 Axes>"
      ]
     },
     "metadata": {},
     "output_type": "display_data"
    }
   ],
   "source": [
    "cm = confusion_matrix(nbclfPred, test_target)\n",
    "print(cm)\n",
    "fig, ax = plt.subplots(figsize=(7,7))\n",
    "ax = sns.heatmap(cm.T, square=True, linecolor='grey', linewidths=1, annot=True, \n",
    "            fmt='d', cbar=True, cmap='Reds', ax=ax, annot_kws={\"fontsize\":12, \"weight\":\"bold\"},\n",
    "            xticklabels= cats,\n",
    "            yticklabels= cats)\n",
    "bottom, top = ax.get_ylim()\n",
    "ax.set_ylim(bottom + 0.5, top - 0.5)\n",
    "plt.xlabel('Predicted label')\n",
    "plt.ylabel('True label')"
   ]
  },
  {
   "cell_type": "markdown",
   "metadata": {},
   "source": [
    "##### Gaussian - PCA2"
   ]
  },
  {
   "cell_type": "code",
   "execution_count": 8,
   "metadata": {},
   "outputs": [
    {
     "name": "stdout",
     "output_type": "stream",
     "text": [
      "Training Score: 0.471875 \n",
      "Testing Score: 0.5\n"
     ]
    }
   ],
   "source": [
    "nbclf = naive_bayes.GaussianNB()\n",
    "nbclf = nbclf.fit(train_PCA2,train_target_ravel)\n",
    "nbclfPred = nbclf.predict(test_PCA2)\n",
    "trainScore = nbclf.score(train_PCA2, train_target)\n",
    "testScore = nbclf.score(test_PCA2, test_target)\n",
    "print(\"Training Score: {} \\nTesting Score: {}\".format(trainScore, testScore))"
   ]
  },
  {
   "cell_type": "code",
   "execution_count": 9,
   "metadata": {},
   "outputs": [
    {
     "name": "stdout",
     "output_type": "stream",
     "text": [
      "[[56 15  2  0]\n",
      " [26 46 34  7]\n",
      " [ 2  7  8 10]\n",
      " [10 38 49 90]]\n"
     ]
    },
    {
     "data": {
      "text/plain": [
       "Text(39.5, 0.5, 'True label')"
      ]
     },
     "execution_count": 9,
     "metadata": {},
     "output_type": "execute_result"
    },
    {
     "data": {
      "image/png": "[encoded data removed]",
      "text/plain": [
       "<Figure size 504x504 with 2 Axes>"
      ]
     },
     "metadata": {},
     "output_type": "display_data"
    }
   ],
   "source": [
    "cm = confusion_matrix(nbclfPred, test_target)\n",
    "print(cm)\n",
    "fig, ax = plt.subplots(figsize=(7,7))\n",
    "ax = sns.heatmap(cm.T, square=True, linecolor='grey', linewidths=1, annot=True, \n",
    "            fmt='d', cbar=True, cmap='Reds', ax=ax, annot_kws={\"fontsize\":12, \"weight\":\"bold\"},\n",
    "            xticklabels= cats,\n",
    "            yticklabels= cats)\n",
    "bottom, top = ax.get_ylim()\n",
    "ax.set_ylim(bottom + 0.5, top - 0.5)\n",
    "plt.xlabel('Predicted label')\n",
    "plt.ylabel('True label')"
   ]
  },
  {
   "cell_type": "markdown",
   "metadata": {},
   "source": [
    "##### Multinomial - Full Data"
   ]
  },
  {
   "cell_type": "markdown",
   "metadata": {},
   "source": [
    "Normalize to a 0,1 range for Multinomial Naive Bayes because it doesn't accept negatives"
   ]
  },
  {
   "cell_type": "code",
   "execution_count": 10,
   "metadata": {},
   "outputs": [],
   "source": [
    "min_max_scaler = preprocessing.MinMaxScaler()\n",
    "min_max_scaler.fit(train_data_norm)\n",
    "train_data_0_1 = min_max_scaler.fit_transform(train_data_norm)\n",
    "test_data_0_1 = min_max_scaler.fit_transform(test_data_norm)"
   ]
  },
  {
   "cell_type": "code",
   "execution_count": 11,
   "metadata": {},
   "outputs": [
    {
     "name": "stdout",
     "output_type": "stream",
     "text": [
      "Training Score: 0.515 \n",
      "Testing Score: 0.47\n"
     ]
    }
   ],
   "source": [
    "nbmclf = naive_bayes.MultinomialNB()\n",
    "nbmclf = nbmclf.fit(train_data_0_1,train_target_ravel)\n",
    "nbmclfPred = nbmclf.predict(test_data_0_1)\n",
    "trainScore = nbmclf.score(train_data_0_1, train_target)\n",
    "testScore = nbmclf.score(test_data_0_1, test_target)\n",
    "print(\"Training Score: {} \\nTesting Score: {}\".format(trainScore, testScore))"
   ]
  },
  {
   "cell_type": "code",
   "execution_count": 12,
   "metadata": {},
   "outputs": [
    {
     "name": "stdout",
     "output_type": "stream",
     "text": [
      "[[83 41 13  0]\n",
      " [11 33 22  9]\n",
      " [ 0 25 35 61]\n",
      " [ 0  7 23 37]]\n"
     ]
    },
    {
     "data": {
      "text/plain": [
       "Text(39.5, 0.5, 'True label')"
      ]
     },
     "execution_count": 12,
     "metadata": {},
     "output_type": "execute_result"
    },
    {
     "data": {
      "image/png": "[encoded data removed]",
      "text/plain": [
       "<Figure size 504x504 with 2 Axes>"
      ]
     },
     "metadata": {},
     "output_type": "display_data"
    }
   ],
   "source": [
    "cm = confusion_matrix(nbmclfPred, test_target)\n",
    "print(cm)\n",
    "fig, ax = plt.subplots(figsize=(7,7))\n",
    "ax = sns.heatmap(cm.T, square=True, linecolor='grey', linewidths=1, annot=True, \n",
    "            fmt='d', cbar=True, cmap='Reds', ax=ax, annot_kws={\"fontsize\":12, \"weight\":\"bold\"},\n",
    "            xticklabels= cats,\n",
    "            yticklabels= cats)\n",
    "bottom, top = ax.get_ylim()\n",
    "ax.set_ylim(bottom + 0.5, top - 0.5)\n",
    "plt.xlabel('Predicted label')\n",
    "plt.ylabel('True label')"
   ]
  },
  {
   "cell_type": "markdown",
   "metadata": {},
   "source": [
    "##### Multinomial - PCA1"
   ]
  },
  {
   "cell_type": "code",
   "execution_count": 13,
   "metadata": {},
   "outputs": [],
   "source": [
    "min_max_scaler = preprocessing.MinMaxScaler()\n",
    "min_max_scaler.fit(train_PCA1)\n",
    "train_dataPCA_0_1 = min_max_scaler.fit_transform(train_PCA1)\n",
    "test_dataPCA_0_1 = min_max_scaler.fit_transform(test_PCA1)"
   ]
  },
  {
   "cell_type": "code",
   "execution_count": 14,
   "metadata": {},
   "outputs": [
    {
     "name": "stdout",
     "output_type": "stream",
     "text": [
      "Training Score: 0.254375 \n",
      "Testing Score: 0.2325\n"
     ]
    }
   ],
   "source": [
    "nbmclf = naive_bayes.MultinomialNB()\n",
    "nbmclf = nbmclf.fit(train_dataPCA_0_1,train_target_ravel)\n",
    "nbmclfPred = nbmclf.predict(test_dataPCA_0_1)\n",
    "trainScore = nbmclf.score(train_dataPCA_0_1, train_target)\n",
    "testScore = nbmclf.score(test_dataPCA_0_1, test_target)\n",
    "print(\"Training Score: {} \\nTesting Score: {}\".format(trainScore, testScore))"
   ]
  },
  {
   "cell_type": "code",
   "execution_count": 15,
   "metadata": {},
   "outputs": [
    {
     "name": "stdout",
     "output_type": "stream",
     "text": [
      "[[  0   0   0   0]\n",
      " [  0   0   0   0]\n",
      " [ 94 106  93 107]\n",
      " [  0   0   0   0]]\n"
     ]
    },
    {
     "data": {
      "text/plain": [
       "Text(39.5, 0.5, 'True label')"
      ]
     },
     "execution_count": 15,
     "metadata": {},
     "output_type": "execute_result"
    },
    {
     "data": {
      "image/png": "[encoded data removed]",
      "text/plain": [
       "<Figure size 504x504 with 2 Axes>"
      ]
     },
     "metadata": {},
     "output_type": "display_data"
    }
   ],
   "source": [
    "cm = confusion_matrix(nbmclfPred, test_target)\n",
    "print(cm)\n",
    "fig, ax = plt.subplots(figsize=(7,7))\n",
    "ax = sns.heatmap(cm.T, square=True, linecolor='grey', linewidths=1, annot=True, \n",
    "            fmt='d', cbar=True, cmap='Reds', ax=ax, annot_kws={\"fontsize\":12, \"weight\":\"bold\"},\n",
    "            xticklabels= cats,\n",
    "            yticklabels= cats)\n",
    "bottom, top = ax.get_ylim()\n",
    "ax.set_ylim(bottom + 0.5, top - 0.5)\n",
    "plt.xlabel('Predicted label')\n",
    "plt.ylabel('True label')"
   ]
  },
  {
   "cell_type": "markdown",
   "metadata": {},
   "source": [
    "##### Multinomial - PCA2"
   ]
  },
  {
   "cell_type": "code",
   "execution_count": 16,
   "metadata": {},
   "outputs": [],
   "source": [
    "min_max_scaler = preprocessing.MinMaxScaler()\n",
    "min_max_scaler.fit(train_PCA2)\n",
    "train_dataPCA_0_1 = min_max_scaler.fit_transform(train_PCA2)\n",
    "test_dataPCA_0_1 = min_max_scaler.fit_transform(test_PCA2)"
   ]
  },
  {
   "cell_type": "code",
   "execution_count": 17,
   "metadata": {},
   "outputs": [
    {
     "name": "stdout",
     "output_type": "stream",
     "text": [
      "Training Score: 0.31875 \n",
      "Testing Score: 0.2975\n"
     ]
    }
   ],
   "source": [
    "nbmclf = naive_bayes.MultinomialNB()\n",
    "nbmclf = nbmclf.fit(train_dataPCA_0_1,train_target_ravel)\n",
    "nbmclfPred = nbmclf.predict(test_dataPCA_0_1)\n",
    "trainScore = nbmclf.score(train_dataPCA_0_1, train_target)\n",
    "testScore = nbmclf.score(test_dataPCA_0_1, test_target)\n",
    "print(\"Training Score: {} \\nTesting Score: {}\".format(trainScore, testScore))"
   ]
  },
  {
   "cell_type": "code",
   "execution_count": 18,
   "metadata": {},
   "outputs": [
    {
     "name": "stdout",
     "output_type": "stream",
     "text": [
      "[[65 72 44 32]\n",
      " [ 0  0  0  0]\n",
      " [28 19 16 37]\n",
      " [ 1 15 33 38]]\n"
     ]
    },
    {
     "data": {
      "text/plain": [
       "Text(39.5, 0.5, 'True label')"
      ]
     },
     "execution_count": 18,
     "metadata": {},
     "output_type": "execute_result"
    },
    {
     "data": {
      "image/png": "[encoded data removed]",
      "text/plain": [
       "<Figure size 504x504 with 2 Axes>"
      ]
     },
     "metadata": {},
     "output_type": "display_data"
    }
   ],
   "source": [
    "cm = confusion_matrix(nbmclfPred, test_target)\n",
    "print(cm)\n",
    "fig, ax = plt.subplots(figsize=(7,7))\n",
    "ax = sns.heatmap(cm.T, square=True, linecolor='grey', linewidths=1, annot=True, \n",
    "            fmt='d', cbar=True, cmap='Reds', ax=ax, annot_kws={\"fontsize\":12, \"weight\":\"bold\"},\n",
    "            xticklabels= cats,\n",
    "            yticklabels= cats)\n",
    "bottom, top = ax.get_ylim()\n",
    "ax.set_ylim(bottom + 0.5, top - 0.5)\n",
    "plt.xlabel('Predicted label')\n",
    "plt.ylabel('True label')"
   ]
  },
  {
   "cell_type": "markdown",
   "metadata": {},
   "source": [
    "# Support Vector Machines"
   ]
  },
  {
   "cell_type": "code",
   "execution_count": 19,
   "metadata": {},
   "outputs": [],
   "source": [
    "cats = train_target['price_range'].unique()"
   ]
  },
  {
   "cell_type": "code",
   "execution_count": 20,
   "metadata": {},
   "outputs": [],
   "source": [
    "#param_grid = {'C': [5], 'gamma': [.01]}\n",
    "param_grid = {'C': [1,5,10,50,100],'gamma': [.0001,.0005,.001,.005,.01]}"
   ]
  },
  {
   "cell_type": "markdown",
   "metadata": {},
   "source": [
    "##### Linear SVM with PCA1"
   ]
  },
  {
   "cell_type": "code",
   "execution_count": 21,
   "metadata": {},
   "outputs": [
    {
     "name": "stdout",
     "output_type": "stream",
     "text": [
      "{'C': 1, 'gamma': 0.0001}\n"
     ]
    }
   ],
   "source": [
    "model = SVC(kernel = 'linear').fit(train_PCA1, train_target_ravel)\n",
    "grid = GridSearchCV(model, param_grid, cv=5)\n",
    "grid.fit(train_PCA1, train_target_ravel)\n",
    "print(grid.best_params_)"
   ]
  },
  {
   "cell_type": "code",
   "execution_count": 22,
   "metadata": {},
   "outputs": [],
   "source": [
    "finalModel = grid.best_estimator_\n",
    "linearPred = finalModel.predict(test_PCA1)"
   ]
  },
  {
   "cell_type": "code",
   "execution_count": 23,
   "metadata": {},
   "outputs": [
    {
     "name": "stdout",
     "output_type": "stream",
     "text": [
      "0.44\n"
     ]
    }
   ],
   "source": [
    "acc = accuracy_score(linearPred, test_target)\n",
    "print(acc)"
   ]
  },
  {
   "cell_type": "code",
   "execution_count": 24,
   "metadata": {},
   "outputs": [
    {
     "name": "stdout",
     "output_type": "stream",
     "text": [
      "[[69 36  8  0]\n",
      " [10 18 23  4]\n",
      " [ 9 22 15 29]\n",
      " [ 6 30 47 74]]\n"
     ]
    },
    {
     "data": {
      "text/plain": [
       "Text(39.5, 0.5, 'True label')"
      ]
     },
     "execution_count": 24,
     "metadata": {},
     "output_type": "execute_result"
    },
    {
     "data": {
      "image/png": "[encoded data removed]",
      "text/plain": [
       "<Figure size 504x504 with 2 Axes>"
      ]
     },
     "metadata": {},
     "output_type": "display_data"
    }
   ],
   "source": [
    "cm = confusion_matrix(linearPred, test_target)\n",
    "print(cm)\n",
    "fig, ax = plt.subplots(figsize=(7,7))\n",
    "ax = sns.heatmap(cm.T, square=True, linecolor='grey', linewidths=1, annot=True, \n",
    "            fmt='d', cbar=True, cmap='Reds', ax=ax, annot_kws={\"fontsize\":12, \"weight\":\"bold\"},\n",
    "            xticklabels= cats,\n",
    "            yticklabels= cats)\n",
    "bottom, top = ax.get_ylim()\n",
    "ax.set_ylim(bottom + 0.5, top - 0.5)\n",
    "plt.xlabel('Predicted label')\n",
    "plt.ylabel('True label')"
   ]
  },
  {
   "cell_type": "markdown",
   "metadata": {},
   "source": [
    "##### Linear SVM with PCA2"
   ]
  },
  {
   "cell_type": "code",
   "execution_count": 25,
   "metadata": {},
   "outputs": [
    {
     "name": "stdout",
     "output_type": "stream",
     "text": [
      "{'C': 100, 'gamma': 0.0001}\n"
     ]
    }
   ],
   "source": [
    "model = SVC(kernel = 'linear').fit(train_PCA2, train_target_ravel)\n",
    "grid = GridSearchCV(model, param_grid, cv=5)\n",
    "grid.fit(train_PCA2, train_target_ravel)\n",
    "print(grid.best_params_)"
   ]
  },
  {
   "cell_type": "code",
   "execution_count": 26,
   "metadata": {},
   "outputs": [],
   "source": [
    "finalModel = grid.best_estimator_\n",
    "linearPred = finalModel.predict(test_PCA2)"
   ]
  },
  {
   "cell_type": "code",
   "execution_count": 27,
   "metadata": {},
   "outputs": [
    {
     "name": "stdout",
     "output_type": "stream",
     "text": [
      "0.495\n"
     ]
    }
   ],
   "source": [
    "acc = accuracy_score(linearPred, test_target)\n",
    "print(acc)"
   ]
  },
  {
   "cell_type": "code",
   "execution_count": 28,
   "metadata": {
    "scrolled": true
   },
   "outputs": [
    {
     "name": "stdout",
     "output_type": "stream",
     "text": [
      "[[59 24  2  0]\n",
      " [16 21 16  1]\n",
      " [ 9 19 31 19]\n",
      " [10 42 44 87]]\n"
     ]
    },
    {
     "data": {
      "text/plain": [
       "Text(39.5, 0.5, 'True label')"
      ]
     },
     "execution_count": 28,
     "metadata": {},
     "output_type": "execute_result"
    },
    {
     "data": {
      "image/png": "[encoded data removed]",
      "text/plain": [
       "<Figure size 504x504 with 2 Axes>"
      ]
     },
     "metadata": {},
     "output_type": "display_data"
    }
   ],
   "source": [
    "cm = confusion_matrix(linearPred, test_target)\n",
    "print(cm)\n",
    "fig, ax = plt.subplots(figsize=(7,7))\n",
    "ax = sns.heatmap(cm.T, square=True, linecolor='grey', linewidths=1, annot=True, \n",
    "            fmt='d', cbar=True, cmap='Reds', ax=ax, annot_kws={\"fontsize\":12, \"weight\":\"bold\"},\n",
    "            xticklabels= cats,\n",
    "            yticklabels= cats)\n",
    "bottom, top = ax.get_ylim()\n",
    "ax.set_ylim(bottom + 0.5, top - 0.5)\n",
    "plt.xlabel('Predicted label')\n",
    "plt.ylabel('True label')"
   ]
  },
  {
   "cell_type": "markdown",
   "metadata": {},
   "source": [
    "##### RBF SVM with PCA1"
   ]
  },
  {
   "cell_type": "code",
   "execution_count": 29,
   "metadata": {},
   "outputs": [
    {
     "name": "stdout",
     "output_type": "stream",
     "text": [
      "{'C': 100, 'gamma': 0.005}\n"
     ]
    }
   ],
   "source": [
    "model = SVC(kernel = 'rbf').fit(train_PCA1, train_target_ravel)\n",
    "grid = GridSearchCV(model, param_grid, cv=5)\n",
    "grid.fit(train_PCA1, train_target_ravel)\n",
    "print(grid.best_params_)"
   ]
  },
  {
   "cell_type": "code",
   "execution_count": 30,
   "metadata": {},
   "outputs": [],
   "source": [
    "finalModel = grid.best_estimator_\n",
    "rbfPred = finalModel.predict(test_PCA1)"
   ]
  },
  {
   "cell_type": "code",
   "execution_count": 31,
   "metadata": {},
   "outputs": [
    {
     "name": "stdout",
     "output_type": "stream",
     "text": [
      "0.49\n"
     ]
    }
   ],
   "source": [
    "acc = accuracy_score(rbfPred, test_target)\n",
    "print(acc)"
   ]
  },
  {
   "cell_type": "code",
   "execution_count": 32,
   "metadata": {},
   "outputs": [
    {
     "data": {
      "text/plain": [
       "Text(39.5, 0.5, 'True label')"
      ]
     },
     "execution_count": 32,
     "metadata": {},
     "output_type": "execute_result"
    },
    {
     "data": {
      "image/png": "[encoded data removed]",
      "text/plain": [
       "<Figure size 504x504 with 2 Axes>"
      ]
     },
     "metadata": {},
     "output_type": "display_data"
    }
   ],
   "source": [
    "cm = confusion_matrix(rbfPred, test_target)\n",
    "cm\n",
    "fig, ax = plt.subplots(figsize=(7,7))\n",
    "ax = sns.heatmap(cm.T, square=True, linecolor='grey', linewidths=1, annot=True, \n",
    "            fmt='d', cbar=True, cmap='Reds', ax=ax, annot_kws={\"fontsize\":12, \"weight\":\"bold\"},\n",
    "            xticklabels= cats,\n",
    "            yticklabels= cats)\n",
    "bottom, top = ax.get_ylim()\n",
    "ax.set_ylim(bottom + 0.5, top - 0.5)\n",
    "plt.xlabel('Predicted label')\n",
    "plt.ylabel('True label')"
   ]
  },
  {
   "cell_type": "markdown",
   "metadata": {},
   "source": [
    "##### RBF SVM with PCA2"
   ]
  },
  {
   "cell_type": "code",
   "execution_count": 33,
   "metadata": {},
   "outputs": [
    {
     "name": "stdout",
     "output_type": "stream",
     "text": [
      "{'C': 10, 'gamma': 0.01}\n"
     ]
    }
   ],
   "source": [
    "model = SVC(kernel = 'rbf').fit(train_PCA2, train_target_ravel)\n",
    "grid = GridSearchCV(model, param_grid, cv=5)\n",
    "grid.fit(train_PCA2, train_target_ravel)\n",
    "print(grid.best_params_)"
   ]
  },
  {
   "cell_type": "code",
   "execution_count": 34,
   "metadata": {},
   "outputs": [],
   "source": [
    "finalModel = grid.best_estimator_\n",
    "rbfPred = finalModel.predict(test_PCA2)"
   ]
  },
  {
   "cell_type": "code",
   "execution_count": 35,
   "metadata": {},
   "outputs": [
    {
     "name": "stdout",
     "output_type": "stream",
     "text": [
      "0.4975\n"
     ]
    }
   ],
   "source": [
    "acc = accuracy_score(rbfPred, test_target)\n",
    "print(acc)"
   ]
  },
  {
   "cell_type": "code",
   "execution_count": 36,
   "metadata": {},
   "outputs": [
    {
     "data": {
      "text/plain": [
       "Text(39.5, 0.5, 'True label')"
      ]
     },
     "execution_count": 36,
     "metadata": {},
     "output_type": "execute_result"
    },
    {
     "data": {
      "image/png": "[encoded data removed]",
      "text/plain": [
       "<Figure size 504x504 with 2 Axes>"
      ]
     },
     "metadata": {},
     "output_type": "display_data"
    }
   ],
   "source": [
    "cm = confusion_matrix(rbfPred, test_target)\n",
    "cm\n",
    "fig, ax = plt.subplots(figsize=(7,7))\n",
    "ax = sns.heatmap(cm.T, square=True, linecolor='grey', linewidths=1, annot=True, \n",
    "            fmt='d', cbar=True, cmap='Reds', ax=ax, annot_kws={\"fontsize\":12, \"weight\":\"bold\"},\n",
    "            xticklabels= cats,\n",
    "            yticklabels= cats)\n",
    "bottom, top = ax.get_ylim()\n",
    "ax.set_ylim(bottom + 0.5, top - 0.5)\n",
    "plt.xlabel('Predicted label')\n",
    "plt.ylabel('True label')"
   ]
  },
  {
   "cell_type": "markdown",
   "metadata": {},
   "source": [
    "### Summary Comparison of Naive Bayes and SVM"
   ]
  },
  {
   "cell_type": "markdown",
   "metadata": {},
   "source": [
    "##### Naive Bayes\n",
    "Naives Bayes was performed using the normalized data at the first and second principal components. Multinomial Naive Bayes performed very poorly as did the multinomial and gaussian models when using the principal components. The model when using the full normalized data set and the gaussian distribution model resulted in a 53.75% training score and a 55.5% test score. While this is not ideal for a final model, this was the most promising model of the Naive Bayes models that were run. \n",
    "\tDue to Naive Bayes assumptions that predictors are independent and normally distributed, it struggled to classify test instances accurately. It specifically struggled to classify the third price range category. Of the 53 group 3 records in the test set, only 5 were categorized correctly. This could be a result of being the most expensive price category. Our data pre-processing showed that among the different components in each of the phones, there was not a significant amount of variance between each price category.\n",
    "\n",
    "##### Support Vector Machines\n",
    "The normalized data and the 2 principal components were used to fit a support vector machine model. Linear and Radial Basis Function(RBF) kernels were used as well as grid search to determine the best selection of C for linear kernels and the best combination of C and Gamma for the RBF kernels. The final model selected used the RBF kernel with a C equal to 10 and Gamma equal to .01. It resulted in a 49.75% accuracy. "
   ]
  }
 ],
 "metadata": {
  "kernelspec": {
   "display_name": "Python 3",
   "language": "python",
   "name": "python3"
  },
  "language_info": {
   "codemirror_mode": {
    "name": "ipython",
    "version": 3
   },
   "file_extension": ".py",
   "mimetype": "text/x-python",
   "name": "python",
   "nbconvert_exporter": "python",
   "pygments_lexer": "ipython3",
   "version": "3.8.3"
  }
 },
 "nbformat": 4,
 "nbformat_minor": 5
}
